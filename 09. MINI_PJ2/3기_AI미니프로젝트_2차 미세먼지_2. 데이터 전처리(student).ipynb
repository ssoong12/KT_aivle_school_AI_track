{
 "cells": [
  {
   "cell_type": "code",
   "execution_count": null,
   "id": "1cc7de55",
   "metadata": {},
   "outputs": [],
   "source": [
    "# 필요한 라이브러리 설치 및 임포트\n",
    "!pip install pandas\n",
    "\n",
    "import pandas as pd\n",
    "import datetime"
   ]
  },
  {
   "cell_type": "markdown",
   "id": "74c09d16",
   "metadata": {},
   "source": [
    "---"
   ]
  },
  {
   "cell_type": "markdown",
   "id": "523282a7-ca7a-43ae-8517-f6065875c0f6",
   "metadata": {},
   "source": [
    "# [Step 2] 데이터 전처리"
   ]
  },
  {
   "cell_type": "markdown",
   "id": "a9675ead-bf03-4ccf-a0b5-c7d0695f152d",
   "metadata": {},
   "source": [
    "#### **<span style=\"color:blue\">[2-0] air_21, air_22, weather_21, weather_22 데이터 로딩</span>**"
   ]
  },
  {
   "cell_type": "code",
   "execution_count": null,
   "id": "b55356f6-4a76-4ad6-a73c-257bdff69195",
   "metadata": {},
   "outputs": [],
   "source": [
    "# 데이터 로딩\n",
    "\n"
   ]
  },
  {
   "cell_type": "markdown",
   "id": "d70c511d-40a7-40e0-a174-6832252ce2f2",
   "metadata": {
    "tags": []
   },
   "source": [
    "#### **<span style=\"color:blue\">[2-1] air_21, air_22 의 '측정일시'를 활용하여 'time' 변수 생성</span>**"
   ]
  },
  {
   "cell_type": "markdown",
   "id": "c260e7e5",
   "metadata": {},
   "source": [
    "* air_21, air_22 의 '측정일시'를 활용하여 'time'변수 생성\n",
    "* time 변수를 to_datetime으로 데이터 타입 변경\n",
    "* 참고: 미세먼지 데이터는 1시-24시, 날씨 데이터는 0시-23시로 구성되어 있습니다. [2-5]에서 미세먼지와 날씨 데이터를 time 기준으로 합치려면 날씨 기준이 동일해야 합니다. 미세먼지 데이터에서 time 변수 생성 시 이를 미리 고려(예:측정일시 값 -1)하세요."
   ]
  },
  {
   "cell_type": "code",
   "execution_count": null,
   "id": "89146858",
   "metadata": {
    "tags": []
   },
   "outputs": [],
   "source": [
    "# 아래에 필요한 코드를 작성하고 결과를 확인합니다.\n",
    "\n"
   ]
  },
  {
   "cell_type": "markdown",
   "id": "5b72e3b6-998b-4b4c-b009-4ac6a852e8b5",
   "metadata": {},
   "source": [
    "---"
   ]
  },
  {
   "cell_type": "markdown",
   "id": "05f59d95-1d33-467b-ac90-e3c80c2b32d4",
   "metadata": {
    "tags": []
   },
   "source": [
    "#### **<span style=\"color:blue\">[2-2] weather_21, weather_22 의 '일시'를 활용하여 'time' 변수 생성</span>**"
   ]
  },
  {
   "cell_type": "markdown",
   "id": "romantic-johnson",
   "metadata": {},
   "source": [
    "* weather_21, weather_22 의 '일시'를 활용하여 'time'변수 생성\n",
    "* time 변수를 to_datetime으로 데이터 타입 변경"
   ]
  },
  {
   "cell_type": "code",
   "execution_count": null,
   "id": "8ee1bae8",
   "metadata": {},
   "outputs": [],
   "source": [
    "# 아래에 필요한 코드를 작성하고 결과를 확인합니다.\n",
    "\n"
   ]
  },
  {
   "cell_type": "markdown",
   "id": "ef9eb7b0",
   "metadata": {},
   "source": [
    "---"
   ]
  },
  {
   "cell_type": "markdown",
   "id": "4711af88-7642-493a-8df2-116bfbe87420",
   "metadata": {
    "tags": []
   },
   "source": [
    "#### **<span style=\"color:blue\">[2-3] 'time' 기준으로 데이터 합치기</span>**"
   ]
  },
  {
   "cell_type": "markdown",
   "id": "lyric-response",
   "metadata": {},
   "source": [
    "* 미세먼지 데이터와 날씨 데이터를 'time' 기준으로 합쳐보세요.\n",
    "* df_21에는 'time' 기준으로 21년도 미세먼지, 날씨 데이터를 합쳐보세요.\n",
    "* df_22에는 'time' 기준으로 22년도 미세먼지, 날씨 데이터를 합쳐보세요."
   ]
  },
  {
   "cell_type": "code",
   "execution_count": null,
   "id": "8e77f9fa",
   "metadata": {
    "tags": []
   },
   "outputs": [],
   "source": [
    "# 아래에 필요한 코드를 작성하고 결과를 확인합니다.\n",
    "\n"
   ]
  },
  {
   "cell_type": "markdown",
   "id": "87ee6f70-17e3-4611-a776-920c2c714ab7",
   "metadata": {},
   "source": [
    "---"
   ]
  },
  {
   "cell_type": "markdown",
   "id": "1a56911f-dc08-40e1-b456-6b5a6fdd4ce3",
   "metadata": {
    "tags": []
   },
   "source": [
    "#### **<span style=\"color:blue\">[2-4] 사용하지 않을 변수 제거</span>**"
   ]
  },
  {
   "cell_type": "markdown",
   "id": "8a3e52e4",
   "metadata": {},
   "source": [
    "* 머신러닝에 사용하지 않을 변수들을 제거해줍니다.\n",
    "* df_21, df_22에 사용할 변수들만 넣어보세요."
   ]
  },
  {
   "cell_type": "code",
   "execution_count": null,
   "id": "ddf39400",
   "metadata": {},
   "outputs": [],
   "source": [
    "# df_21, df_22에 사용할 변수들만 할당\n",
    "\n"
   ]
  },
  {
   "cell_type": "code",
   "execution_count": null,
   "id": "351bed8d",
   "metadata": {
    "tags": []
   },
   "outputs": [],
   "source": [
    "# time 변수를 index로 세팅\n",
    "\n"
   ]
  },
  {
   "cell_type": "markdown",
   "id": "72e4fb4a-b197-4a34-9963-4b25b18caed8",
   "metadata": {},
   "source": [
    "---"
   ]
  },
  {
   "cell_type": "markdown",
   "id": "d227338e-eb0d-44e3-b847-c2f95287dab8",
   "metadata": {
    "tags": []
   },
   "source": [
    "#### **<span style=\"color:blue\">[2-5] 변수들의 결측치 처리</span>**"
   ]
  },
  {
   "cell_type": "code",
   "execution_count": null,
   "id": "e38d021e",
   "metadata": {},
   "outputs": [],
   "source": [
    "# df_21, df_22의 결측치 확인\n",
    "\n"
   ]
  },
  {
   "cell_type": "code",
   "execution_count": null,
   "id": "d5ceccfc",
   "metadata": {},
   "outputs": [],
   "source": [
    "# df_21, df_22의 변수 중 '강수량(mm)'의 결측치를 처리\n",
    "\n"
   ]
  },
  {
   "cell_type": "code",
   "execution_count": null,
   "id": "e3bd1706",
   "metadata": {},
   "outputs": [],
   "source": [
    "# df_21, df_22의 남은 결측치를 처리\n",
    "\n"
   ]
  },
  {
   "cell_type": "code",
   "execution_count": null,
   "id": "f37251a9",
   "metadata": {},
   "outputs": [],
   "source": [
    "# df_21, df_22의 결측치 재확인\n",
    "\n"
   ]
  },
  {
   "cell_type": "markdown",
   "id": "a8a1db4e-ea4f-4413-8014-1a5b739447c6",
   "metadata": {},
   "source": [
    "---"
   ]
  },
  {
   "cell_type": "markdown",
   "id": "93af2c25-f60b-48d0-8e19-9b271ec48250",
   "metadata": {
    "tags": []
   },
   "source": [
    "#### **<span style=\"color:blue\">[2-6] 전일 같은 시간 변수 추가</span>**"
   ]
  },
  {
   "cell_type": "markdown",
   "id": "2f787390-85b9-4bdd-9ac8-551bdcd18a9b",
   "metadata": {},
   "source": [
    "* 모델링에 유용한 변수로 전일 같은 시간(24시간 전) 미세먼지 농도 변수를 추가합니다. \n",
    "* 시계열 데이터 처리를 위한 shift 연산을 참고하세요."
   ]
  },
  {
   "cell_type": "code",
   "execution_count": null,
   "id": "c095d7b0",
   "metadata": {},
   "outputs": [],
   "source": [
    "# df_21, df_22의 index(time)를 month, day, hour 로 쪼개기 (year는 필요 없음)\n",
    "\n"
   ]
  },
  {
   "cell_type": "code",
   "execution_count": null,
   "id": "4573f5f8",
   "metadata": {},
   "outputs": [],
   "source": [
    "# df_21, df_22에 전일 같은 시간 미세먼지 농도 변수(PM10_lag1) 추가\n",
    "# 전일 같은 시간은 24시간 전 입니다.\n",
    "\n"
   ]
  },
  {
   "cell_type": "markdown",
   "id": "f5a1aef0-31d8-4c20-81ad-b2825081a975",
   "metadata": {},
   "source": [
    "---"
   ]
  },
  {
   "cell_type": "markdown",
   "id": "ff52b9e7-869c-41c9-8aea-817ec00d5200",
   "metadata": {
    "tags": []
   },
   "source": [
    "#### **<span style=\"color:blue\">[2-7] t+1 시점의 미세먼지 농도 데이터 생성</span>**"
   ]
  },
  {
   "cell_type": "markdown",
   "id": "6deef340",
   "metadata": {},
   "source": [
    "* t+1 시점은 1시간 후 입니다.\n",
    "* t+1 시점의 미세먼지 농도 변수를 생성하세요.\n",
    "* t+1 시점의 미세먼지 농도는 머신러닝 모델을 통해 예측하려는 y값(target) 입니다."
   ]
  },
  {
   "cell_type": "code",
   "execution_count": null,
   "id": "b5003c89",
   "metadata": {},
   "outputs": [],
   "source": [
    "# df_21, df_22에 t+1 시점 변수(PM10_1) 추가\n",
    "\n"
   ]
  },
  {
   "cell_type": "code",
   "execution_count": null,
   "id": "b14b9b60",
   "metadata": {},
   "outputs": [],
   "source": [
    "# 결측치가 있다면 처리\n"
   ]
  },
  {
   "cell_type": "markdown",
   "id": "27c6c592",
   "metadata": {},
   "source": [
    "---"
   ]
  },
  {
   "cell_type": "markdown",
   "id": "54279875-b095-4100-97b2-7fddd9488107",
   "metadata": {
    "tags": []
   },
   "source": [
    "#### **<span style=\"color:blue\">[2-8] train, test 데이터 분리</span>**"
   ]
  },
  {
   "cell_type": "markdown",
   "id": "dependent-motion",
   "metadata": {},
   "source": [
    "* 21년도 데이터(df_21)를 train 데이터로 저장하세요. y 값을 제외하고 train_x로 저장한 후 y 값은 train_y로 저장하세요.\n",
    "* 22년도 데이터(df_22)를 test 데이터로 저장하세요. y 값을 제외하고 test_x로 저장한 후 y 값은 test_y로 저장하세요.\n",
    "* 각각의 데이터프레임을 csv 파일로 저장하세요. (train_x.csv / train_y.csv / test_x.csv / test_y.csv)\n",
    "* y값은 'PM10_1' 즉, t+1 시점의 미세먼지 농도입니다."
   ]
  },
  {
   "cell_type": "code",
   "execution_count": null,
   "id": "92652b6b",
   "metadata": {},
   "outputs": [],
   "source": [
    "# 아래에 필요한 코드를 작성하고 결과를 확인합니다.\n",
    "\n"
   ]
  },
  {
   "cell_type": "code",
   "execution_count": null,
   "id": "02ad0ed1",
   "metadata": {},
   "outputs": [],
   "source": [
    "# 각각의 데이터프레임을 csv 파일로 저장 (train_x.csv / train_y.csv / test_x.csv / test_y.csv)\n",
    "\n"
   ]
  }
 ],
 "metadata": {
  "kernelspec": {
   "display_name": "Python 3 (ipykernel)",
   "language": "python",
   "name": "python3"
  },
  "language_info": {
   "codemirror_mode": {
    "name": "ipython",
    "version": 3
   },
   "file_extension": ".py",
   "mimetype": "text/x-python",
   "name": "python",
   "nbconvert_exporter": "python",
   "pygments_lexer": "ipython3",
   "version": "3.9.12"
  },
  "vscode": {
   "interpreter": {
    "hash": "f08154012ddadd8e950e6e9e035c7a7b32c136e7647e9b7c77e02eb723a8bedb"
   }
  }
 },
 "nbformat": 4,
 "nbformat_minor": 5
}
