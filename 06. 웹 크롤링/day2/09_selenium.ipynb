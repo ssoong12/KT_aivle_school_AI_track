{
 "cells": [
  {
   "cell_type": "markdown",
   "id": "03fff3b4",
   "metadata": {},
   "source": [
    "### selenium\n",
    "- `https://www.selenium.dev`\n",
    "- 자동화를 목적으로 만들어진 다양한 브라우져와 언어를 지원하는 라이브러리\n",
    "- 크롬 브라우져 설치\n",
    "    - 크롬 브라우져 드라이버 다운로드 (크롬 브라우져와 같은 버전)\n",
    "    - 다운로드한 드라이버 압축 해제\n",
    "    - chromedriver, chromedriver.exe 생성\n",
    "    - windows : 주피터 노트북 파일과 동일한 디렉토리에 chromedriver.exe 파일 업로드\n",
    "    - mac : sudo cp ~/Download/chromedirver /usr/local/bin"
   ]
  },
  {
   "cell_type": "code",
   "execution_count": 1,
   "id": "a6e6bc99",
   "metadata": {},
   "outputs": [],
   "source": [
    "import pandas as pd \n",
    "from selenium import webdriver \n",
    "from selenium.webdriver.common.by import By"
   ]
  },
  {
   "cell_type": "code",
   "execution_count": 3,
   "id": "95bcb564",
   "metadata": {},
   "outputs": [],
   "source": [
    "driver = webdriver.Chrome()"
   ]
  },
  {
   "cell_type": "code",
   "execution_count": 4,
   "id": "6812fbdc",
   "metadata": {},
   "outputs": [],
   "source": [
    "# 페이지 이동부터\n",
    "driver.get('https://daum.net')"
   ]
  },
  {
   "cell_type": "code",
   "execution_count": 5,
   "id": "49a11daa",
   "metadata": {},
   "outputs": [],
   "source": [
    "# 검색창에 검색어 입력\n",
    "\n",
    "# 엘리먼트 선택. 똑같은 창 일반 크롬 브라우저 개발자 도구로 요소 찾아서\n",
    "# 엘리먼트를 선택한 후에 파이썬이란 문자열을 입력해 준다 > 검색창에 파이썬이 입력됨\n",
    "\n",
    "driver.find_element(By.CSS_SELECTOR, '#q').send_keys('파이썬')"
   ]
  },
  {
   "cell_type": "code",
   "execution_count": 6,
   "id": "ee678202",
   "metadata": {},
   "outputs": [],
   "source": [
    "# 검색 아이콘 클릭\n",
    "selector = '.inner_search > .ico_pctop.btn_search'\n",
    "driver.find_element(By.CSS_SELECTOR, selector).click()\n",
    "\n",
    "# .click()으로 클릭 이벤트가 발생됨"
   ]
  },
  {
   "cell_type": "code",
   "execution_count": 8,
   "id": "158bde56",
   "metadata": {},
   "outputs": [
    {
     "data": {
      "text/plain": [
       "20"
      ]
     },
     "execution_count": 8,
     "metadata": {},
     "output_type": "execute_result"
    }
   ],
   "source": [
    "# 엘리먼트 20개 선택(연관검색어)\n",
    "selector = '#netizen_lists_top > .wsn'\n",
    "elements = driver.find_elements(By.CSS_SELECTOR, selector) #여긴 엘리먼트 여러개를 불러오는거라 s 붙어야함 파인드 엘리먼츠스하고 뷰숲이 셀렉트랑 같은거라고 생각하셈\n",
    "# .wsn >> class 이름\n",
    "len(elements)"
   ]
  },
  {
   "cell_type": "code",
   "execution_count": 10,
   "id": "7d8a782c",
   "metadata": {},
   "outputs": [],
   "source": [
    "# 펼치는 이벤트 추가\n",
    "selector = '#netizen_more_btn_top' \n",
    "driver.find_element(By.CSS_SELECTOR, selector).click()"
   ]
  },
  {
   "cell_type": "code",
   "execution_count": 11,
   "id": "d50bfd02",
   "metadata": {},
   "outputs": [
    {
     "data": {
      "text/plain": [
       "['파이썬 프로그래밍',\n",
       " '파이썬 강좌',\n",
       " '파이썬 기초',\n",
       " '파이썬 뱀',\n",
       " '파이썬 책',\n",
       " '파이썬 코딩',\n",
       " '파이썬 자격증',\n",
       " '파이썬 다운로드',\n",
       " '파이썬 맵',\n",
       " '파이썬 설치',\n",
       " '파이썬 엑셀',\n",
       " 'python',\n",
       " '파이썬 활용',\n",
       " '파이썬 주식',\n",
       " '파이썬 학원',\n",
       " '파일썬',\n",
       " '파이썬 강의',\n",
       " '자바',\n",
       " '파이썬 코드',\n",
       " '파이썬 나무위키']"
      ]
     },
     "execution_count": 11,
     "metadata": {},
     "output_type": "execute_result"
    }
   ],
   "source": [
    "# 텍스트 가져오기\n",
    "keywords = [element.text for element in elements] # element.text를 for문만큼 출력하겠다\n",
    "keywords\n",
    "# 밑에 점점점 왜그러냐면 셀레니움은 이 화면에 있는 데이터를 가져온 것. html 코드 안에 존재한다 해도 화면에 존재하지 않으면 데이터를 가져오지 못한다.\n",
    "# 클릭 이벤트를 줘서 얘를 펼친 다음에 가져와야 모든 데이터가 가져와짐 >> 화면에 있어야지만 클릭 이벤트를 발생시킬 수 있다? 강사님이 말 잘못하신듯 ㅇㅇ 셀레니움 말하시는듯\n",
    "# 셀레니움이 애초에 테스트용으로 만들어짐 보이지 않는 것은 클릭되면 안 되잖아 그 용도로 만들어진 거임\n",
    "# 아래에 보이지 않는 엘리멘트를 추가하려면 스크롤을 내리는 이벤트를 추가해 줘야 함"
   ]
  },
  {
   "attachments": {
    "image.png": {
     "image/png": "[encoded data removed]"
    }
   },
   "cell_type": "markdown",
   "id": "5ec041e3",
   "metadata": {},
   "source": [
    "![image.png](attachment:image.png)"
   ]
  },
  {
   "cell_type": "code",
   "execution_count": 12,
   "id": "ba5d4a0f",
   "metadata": {},
   "outputs": [],
   "source": [
    "# 자바스크립트 코드 실행해서 스크롤 내리기 이벤트\n",
    "driver.execute_script('window.scrollTo(200, 300);') # 이런식으로 스크롤을 맞춰서 화면을 조정할 수 있음\n",
    "# 셀레니움 버전은 웬만하면 웹을 내가 건들지마셈 위험함 스크롤이나 클릭 되긴한데 그럼 코드에서 에러나니까 위험하다는 말임"
   ]
  },
  {
   "cell_type": "code",
   "execution_count": 13,
   "id": "03454d7b",
   "metadata": {},
   "outputs": [],
   "source": [
    "# 브라우저 종료\n",
    "driver.quit()"
   ]
  },
  {
   "cell_type": "code",
   "execution_count": null,
   "id": "5e9348e5",
   "metadata": {},
   "outputs": [],
   "source": []
  },
  {
   "cell_type": "code",
   "execution_count": null,
   "id": "6effd082",
   "metadata": {},
   "outputs": [],
   "source": []
  },
  {
   "cell_type": "code",
   "execution_count": null,
   "id": "a0a32c2a",
   "metadata": {},
   "outputs": [],
   "source": []
  },
  {
   "cell_type": "markdown",
   "id": "c4c13a78",
   "metadata": {},
   "source": [
    "#### 텍스트 데이터 가져오기\n",
    "- TED 사이트 : `https://www.ted.com`"
   ]
  },
  {
   "cell_type": "code",
   "execution_count": 14,
   "id": "016eacc4",
   "metadata": {},
   "outputs": [],
   "source": [
    "driver = webdriver.Chrome() \n",
    "driver.get('https://www.ted.com/talks')"
   ]
  },
  {
   "cell_type": "code",
   "execution_count": 15,
   "id": "d377c9f8",
   "metadata": {},
   "outputs": [
    {
     "data": {
      "text/plain": [
       "'4200+ talks to stir your curiosity'"
      ]
     },
     "execution_count": 15,
     "metadata": {},
     "output_type": "execute_result"
    }
   ],
   "source": [
    "selector = '.talks-header__title'\n",
    "driver.find_element(By.CSS_SELECTOR, selector).text"
   ]
  },
  {
   "cell_type": "code",
   "execution_count": null,
   "metadata": {},
   "outputs": [],
   "source": [
    "# 여태 css 셀렉터를 이용했는데 xpath를 이용해서 엘리먼트를 선택할 수 있다.\n",
    "# 이것도 할 줄 알아야 하는 게 회사 가면 스크래피 scrapy를 이용해서 파이썬 크롤링에 많이 사용한다. 진짜 크롤링을 전문적으로 하고 싶으면 스크래피 프레임워크를 공부해 보는 것을 추천함\n",
    "# 이것도 크롬 브라우저 개발자도구에서 지원해주는데 값복사 > css selector 아니고 xpath 선택하셈\n",
    "# 조금 더 멀티태스킹을 추가해서 디비에 저장한다던가, 디비를 만들 때 모델이란 개념을 사용한다던가 그럼 xpath를 써야 함\n",
    "# xpath의 의미 \n",
    "# xpath를 이용한 엘리먼트 선택 \n",
    "# # //*[@id=\"shoji\"]/div[2]/div/div[2]/header/div/div[1]\n",
    "# // : 최상위 엘리먼트 (도큐먼트에서 최상위 엘리먼트로 이동한 다음에)\n",
    "# * : 모든 하위 엘리먼트 (css 셀렉터에서 공백을 쓰는 경우처럼)\n",
    "# [@id=\"shoji\"] : 속성값으로 엘리먼트 선택 아이디 값이 shoji인 것을 선택\n",
    "# / : 한단계 하위 엘리먼트 (부등호 표시로 하위 엘리먼트를 표시하는 것처럼 의미함)\n",
    "# div[2] : 태그 n번째 [div 태그를 가진 엘리먼트 2번째를 의미]"
   ]
  },
  {
   "cell_type": "code",
   "execution_count": 16,
   "id": "39e30c91",
   "metadata": {},
   "outputs": [
    {
     "data": {
      "text/plain": [
       "'4200+ talks to stir your curiosity'"
      ]
     },
     "execution_count": 16,
     "metadata": {},
     "output_type": "execute_result"
    }
   ],
   "source": [
    "selector = '//*[@id=\"shoji\"]/div[2]/div/div[2]/header/div/div[1]' \n",
    "driver.find_element(By.XPATH, selector).text"
   ]
  },
  {
   "cell_type": "markdown",
   "id": "152eda00",
   "metadata": {},
   "source": [
    "#### Headless\n",
    "- 브라우져를 화면에 띄우지 않고 메모리상에서만 올려서 크롤링하는 방법 \n",
    "- window가 지원되지 않는 환경에서 사용이 가능\n",
    "- chrome version 60.0.0.0 이상부터 지원 합니다."
   ]
  },
  {
   "cell_type": "code",
   "execution_count": 17,
   "id": "ec5daf36",
   "metadata": {},
   "outputs": [],
   "source": [
    "# 헤드리스는 브라우저를 띄우지 않고 수집하는 방법\n",
    "# 일단 꺼 \n",
    "driver.quit()"
   ]
  },
  {
   "cell_type": "code",
   "execution_count": 19,
   "id": "45bfe34b",
   "metadata": {},
   "outputs": [
    {
     "data": {
      "text/plain": [
       "'4200+ talks to stir your curiosity'"
      ]
     },
     "execution_count": 19,
     "metadata": {},
     "output_type": "execute_result"
    }
   ],
   "source": [
    "# 옵션만 추가해 주면 셀레니움을 썼는데 화면에 띄워지지 않음\n",
    "options = webdriver.ChromeOptions()\n",
    "options.add_argument('headless')\n",
    "driver = webdriver.Chrome(options=options)\n",
    "driver.get('https://www.ted.com/talks')\n",
    "selector = '.talks-header__title'\n",
    "driver.find_element(By.CSS_SELECTOR, selector).text"
   ]
  },
  {
   "cell_type": "code",
   "execution_count": 20,
   "id": "1030c0dc",
   "metadata": {},
   "outputs": [],
   "source": [
    "driver.quit()"
   ]
  },
  {
   "cell_type": "code",
   "execution_count": null,
   "id": "dfe77b82",
   "metadata": {},
   "outputs": [],
   "source": []
  },
  {
   "cell_type": "code",
   "execution_count": null,
   "id": "9174bf7c",
   "metadata": {},
   "outputs": [],
   "source": []
  }
 ],
 "metadata": {
  "kernelspec": {
   "display_name": "base",
   "language": "python",
   "name": "python3"
  },
  "language_info": {
   "codemirror_mode": {
    "name": "ipython",
    "version": 3
   },
   "file_extension": ".py",
   "mimetype": "text/x-python",
   "name": "python",
   "nbconvert_exporter": "python",
   "pygments_lexer": "ipython3",
   "version": "3.9.13"
  },
  "toc": {
   "base_numbering": 1,
   "nav_menu": {},
   "number_sections": false,
   "sideBar": true,
   "skip_h1_title": false,
   "title_cell": "Table of Contents",
   "title_sidebar": "Contents",
   "toc_cell": false,
   "toc_position": {},
   "toc_section_display": true,
   "toc_window_display": false
  },
  "vscode": {
   "interpreter": {
    "hash": "f08154012ddadd8e950e6e9e035c7a7b32c136e7647e9b7c77e02eb723a8bedb"
   }
  }
 },
 "nbformat": 4,
 "nbformat_minor": 5
}
