{
 "cells": [
  {
   "attachments": {},
   "cell_type": "markdown",
   "id": "8022becf",
   "metadata": {},
   "source": [
    "- summary \n",
    "- web : server-client : url \n",
    "- requests : 동적페이지 : URL 변화 없이 페이지의 데이터 수정 : json(str) > response.json() > DataFrame \n",
    "- requests : 정적페이지 : URL 변화 있이 페이지의 데이터 수정 : html(str) > BeautifulSoup > css-selector > DataFrame \n",
    "- selenium : 웹브라우져를 python 코드로 컨트롤해서 데이터 수집 \n",
    "- requests(동적페이지,API) > requests(정적페이지) > selenium \n",
    "- 웹크롤링 절차 \n",
    "- 1. 웹서비스분석(개발자도구), API문서 : URL \n",
    "- 2. request(URL) > response(data) : data(json(str), html(str)) \n",
    "- 3. data(json(str), html(str)) > response.json(), BeautifulSoup(css-selector) > DataFrame \n",
    "- request 할때 401,403,500 등등의 에러가 발생하는 경우 > headers 수정해서 데이터 요청(user-agent, refere) \n",
    "- API 이용 : request token 수집후 크롤링"
   ]
  },
  {
   "cell_type": "markdown",
   "id": "democratic-utility",
   "metadata": {},
   "source": [
    "### Zigbang 원룸 매물 데이터 수집"
   ]
  },
  {
   "attachments": {},
   "cell_type": "markdown",
   "id": "06b320b1",
   "metadata": {},
   "source": [
    "##### 동 이름 입력하면 > 해당 동의 매물 데이터가 나오겠금"
   ]
  },
  {
   "cell_type": "code",
   "execution_count": 1,
   "id": "9affefe3",
   "metadata": {},
   "outputs": [],
   "source": [
    "import pandas as pd\n",
    "import requests"
   ]
  },
  {
   "attachments": {},
   "cell_type": "markdown",
   "id": "whole-answer",
   "metadata": {},
   "source": [
    "#### Process\n",
    "    - 동이름으로 위도 경도 구하기(직빵엔 매물 데이터가 없음...)\n",
    "    - 위도 경도로 geohash 알아내기\n",
    "    - geohash로 매물 아이디 가져오기\n",
    "    - 매물 아이디로 매물 정보 가져오기"
   ]
  },
  {
   "cell_type": "markdown",
   "id": "b98f0c6c",
   "metadata": {},
   "source": [
    "#### 1. 동이름으로 위도 경도 구하기"
   ]
  },
  {
   "attachments": {},
   "cell_type": "markdown",
   "id": "696a543d",
   "metadata": {},
   "source": [
    "- address url은 https://meyerweb.com/eric/tools/dencoder/ 에서 decode 해가지고 가져왔음"
   ]
  },
  {
   "cell_type": "code",
   "execution_count": 7,
   "id": "4e8d14a3",
   "metadata": {},
   "outputs": [],
   "source": [
    "# 1. URL\n",
    "address = '상인'\n",
    "url = f'https://apis.zigbang.com/v2/search?leaseYn=N&q={address}&serviceType=원룸'\n",
    "# 2. request > response : json(str)\n",
    "response = requests.get(url)\n",
    "# 3. json(str) > lat, lng(위도값, 경도값)"
   ]
  },
  {
   "cell_type": "code",
   "execution_count": 8,
   "id": "d6d6c2ee",
   "metadata": {},
   "outputs": [
    {
     "data": {
      "text/plain": [
       "'{\"success\":true,\"code\":\"200\",\"items\":[{\"id\":2865,\"type\":\"address\",\"name\":\"상인동\",\"hint\":\"\",\"description\":\"대구시 달서구 상인동\",\"lat\":35.81401062011719,\"lng\":128.5452880859375,\"zoom\":5,\"polygon\":[],\"_score\":null,\"_source\":{\"name_length\":3,\"local1\":\"대구시\",\"local2\":\"달서구\",\"local3\":\"상인동\",\"web_level\":15,\"web_lat\":35.81401062011719,\"web_lng\":128.5452880859375,\"app_level\":15,\"app_lat\":35.81401062011719,\"app_lng\":128.5452880859375,\"법정동코드\":\"2729011500\"},\"zoom_level\":{\"google\":15,\"daum\":4},\"zoom_level_v2\":{\"app\":5,\"web\":4}},{\"id\":2862,\"type\":\"address\",\"name\":\"상인1동\",\"hint\":\"\",\"description\":\"대구시 달서구 상인1동\",\"lat\":35.81401062011719,\"lng\":128.5452880859375,\"zoom\":5,\"polygon\":[],\"_score\":null,\"_source\":{\"name_length\":4,\"local1\":\"대구시\",\"local2\":\"달서구\",\"local3\":\"상인1동\",\"web_level\":15,\"web_lat\":35.81401062011719,\"web_lng\":128.5452880859375,\"app_level\":15,\"app_lat\":35.81401062011719,\"app_lng\":128.5452880859375,\"법정동코드\":null},\"zoom_level\":{\"google\":15,\"daum\":4},\"zoom_level_v2\":{\"app\":5,\"web\":4}},{\"id\":2863,\"type\":\"address\",\"name\":\"상인2동\",\"hint\":\"\",\"description\":\"대구시 달서구 상인2동\",\"lat\":35.81257247924805,\"lng\":128.53623962402344,\"zoom\":5,\"polygon\":[],\"_score\":null,\"_source\":{\"name_length\":4,\"local1\":\"대구시\",\"local2\":\"달서구\",\"local3\":\"상인2동\",\"web_level\":15,\"web_lat\":35.81257247924805,\"web_lng\":128.53623962402344,\"app_level\":15,\"app_lat\":35.81257247924805,\"app_lng\":128.53623962402344,\"법정동코드\":null},\"zoom_level\":{\"google\":15,\"daum\":4},\"zoom_level_v2\":{\"app\":5,\"web\":4}},{\"id\":2864,\"type\":\"address\",\"name\":\"상인3동\",\"hint\":\"\",\"description\":\"대구시 달서구 상인3동\",\"lat\":35.81015396118164,\"lng\":128.5501251220703,\"zoom\":5,\"polygon\":[],\"_score\":null,\"_source\":{\"name_length\":4,\"local1\":\"대구시\",\"local2\":\"달서구\",\"local3\":\"상인3동\",\"web_level\":15,\"web_lat\":35.81015396118164,\"web_lng\":128.5501251220703,\"app_level\":15,\"app_lat\":35.81015396118164,\"app_lng\":128.5501251220703,\"법정동코드\":null},\"zoom_level\":{\"google\":15,\"daum\":4},\"zoom_level_v2\":{\"app\":5,\"web\":4}},{\"id\":516,\"type\":\"subway\",\"name\":\"상인역\",\"hint\":\"대구1호선\",\"description\":\"대구광역시 달서구 상인동\",\"lat\":35.8191413879395,\"lng\":128.538192749023,\"zoom\":3,\"polygon\":[],\"_score\":null,\"_source\":{\"name_length\":3,\"local1\":\"대구광역시\",\"local2\":\"달서구\",\"local3\":\"상인동\",\"suggestions\":[],\"suggestions_insensitive\":[],\"distance\":1000},\"zoom_level\":{\"google\":14,\"daum\":4},\"zoom_level_v2\":{\"app\":6,\"web\":4}},{\"id\":596,\"type\":\"school\",\"name\":\"상인중학교\",\"hint\":\"\",\"description\":\"대구광역시 달서구 상인동\",\"lat\":35.81124627879085,\"lng\":128.5504553851122,\"zoom\":3,\"polygon\":[],\"_score\":null,\"_source\":{\"name_length\":5,\"school_code\":\"D100000385\",\"gender\":\"both\",\"stage\":\"middle\",\"sullib\":\"public\",\"foundation_date\":\"1997-11-03\",\"address\":\"대구광역시 달서구 상인동 1561\",\"local1\":\"대구광역시\",\"local2\":\"달서구\",\"local3\":\"상인동\",\"suggestions_insensitive\":[\"상인중학교\"],\"distance\":1000},\"zoom_level\":{\"google\":15,\"daum\":4},\"zoom_level_v2\":{\"app\":4,\"web\":4}},{\"id\":491,\"type\":\"school\",\"name\":\"상인고등학교\",\"hint\":\"\",\"description\":\"대구광역시 달서구 상인동\",\"lat\":35.810507207972144,\"lng\":128.55143963876748,\"zoom\":3,\"polygon\":[],\"_score\":null,\"_source\":{\"name_length\":6,\"school_code\":\"D100000320\",\"gender\":\"both\",\"stage\":\"high\",\"sullib\":\"public\",\"foundation_date\":\"2001-03-01\",\"address\":\"대구광역시 달서구 상인동 1562\",\"local1\":\"대구광역시\",\"local2\":\"달서구\",\"local3\":\"상인동\",\"suggestions_insensitive\":[\"상인고등학교\"],\"distance\":1000},\"zoom_level\":{\"google\":15,\"daum\":4},\"zoom_level_v2\":{\"app\":4,\"web\":4}},{\"id\":1748,\"type\":\"school\",\"name\":\"상인천중학교\",\"hint\":\"\",\"description\":\"인천광역시 남동구 간석동\",\"lat\":37.46164144867133,\"lng\":126.71709081921902,\"zoom\":3,\"polygon\":[],\"_score\":null,\"_source\":{\"name_length\":6,\"school_code\":\"E100000627\",\"gender\":\"male\",\"stage\":\"middle\",\"sullib\":\"public\",\"foundation_date\":\"1960-04-06\",\"address\":\"인천광역시 남동구 간석동  11-1\",\"local1\":\"인천광역시\",\"local2\":\"남동구\",\"local3\":\"간석동\",\"suggestions_insensitive\":[\"상인천중학교\"],\"distance\":1000},\"zoom_level\":{\"google\":15,\"daum\":4},\"zoom_level_v2\":{\"app\":4,\"web\":4}},{\"id\":8060,\"type\":\"school\",\"name\":\"상인초등학교\",\"hint\":\"\",\"description\":\"경기도 부천시 상동\",\"lat\":37.512774919738554,\"lng\":126.75646864540528,\"zoom\":3,\"polygon\":[],\"_score\":null,\"_source\":{\"name_length\":6,\"school_code\":\"J100001990\",\"gender\":\"both\",\"stage\":\"elementary\",\"sullib\":\"public\",\"foundation_date\":\"2002-04-01\",\"address\":\"경기도 부천시 상동 500-3\",\"local1\":\"경기도\",\"local2\":\"부천시\",\"local3\":\"상동\",\"suggestions_insensitive\":[\"상인초등학교\"],\"distance\":1000},\"zoom_level\":{\"google\":15,\"daum\":4},\"zoom_level_v2\":{\"app\":4,\"web\":4}},{\"id\":3460,\"type\":\"school\",\"name\":\"상인천초등학교\",\"hint\":\"\",\"description\":\"인천광역시 남동구 간석동\",\"lat\":37.46161276497849,\"lng\":126.707008613867,\"zoom\":3,\"polygon\":[],\"_score\":null,\"_source\":{\"name_length\":7,\"school_code\":\"E100000639\",\"gender\":\"both\",\"stage\":\"elementary\",\"sullib\":\"public\",\"foundation_date\":\"1987-09-01\",\"address\":\"인천광역시 남동구 간석동 304번지\",\"local1\":\"인천광역시\",\"local2\":\"남동구\",\"local3\":\"간석동\",\"suggestions_insensitive\":[\"상인천초등학교\"],\"distance\":1000},\"zoom_level\":{\"google\":15,\"daum\":4},\"zoom_level_v2\":{\"app\":4,\"web\":4}},{\"id\":5658,\"type\":\"school\",\"name\":\"대구상인초등학교\",\"hint\":\"\",\"description\":\"대구광역시 달서구 상인동\",\"lat\":35.81351950086339,\"lng\":128.54228308942564,\"zoom\":3,\"polygon\":[],\"_score\":null,\"_source\":{\"name_length\":8,\"school_code\":\"D100000428\",\"gender\":\"both\",\"stage\":\"elementary\",\"sullib\":\"public\",\"foundation_date\":\"1978-02-03\",\"address\":\"대구광역시 달서구 상인동 481\",\"local1\":\"대구광역시\",\"local2\":\"달서구\",\"local3\":\"상인동\",\"suggestions_insensitive\":[\"대구상인초등학교\"],\"distance\":1000},\"zoom_level\":{\"google\":15,\"daum\":4},\"zoom_level_v2\":{\"app\":4,\"web\":4}},{\"id\":2305,\"type\":\"school\",\"name\":\"상인천여자중학교\",\"hint\":\"\",\"description\":\"인천광역시 남동구 간석동\",\"lat\":37.45517270625216,\"lng\":126.69900419576344,\"zoom\":3,\"polygon\":[],\"_score\":null,\"_source\":{\"name_length\":8,\"school_code\":\"E100000626\",\"gender\":\"female\",\"stage\":\"middle\",\"sullib\":\"public\",\"foundation_date\":\"1961-02-28\",\"address\":\"인천광역시 남동구 간석동 505-11\",\"local1\":\"인천광역시\",\"local2\":\"남동구\",\"local3\":\"간석동\",\"suggestions_insensitive\":[\"상인천여자중학교\"],\"distance\":1000},\"zoom_level\":{\"google\":15,\"daum\":4},\"zoom_level_v2\":{\"app\":4,\"web\":4}}],\"next\":null,\"limit\":0}'"
      ]
     },
     "execution_count": 8,
     "metadata": {},
     "output_type": "execute_result"
    }
   ],
   "source": [
    "response.text"
   ]
  },
  {
   "cell_type": "code",
   "execution_count": 10,
   "id": "4be13f22",
   "metadata": {},
   "outputs": [
    {
     "data": {
      "text/plain": [
       "(35.81401062011719, 128.5452880859375)"
      ]
     },
     "execution_count": 10,
     "metadata": {},
     "output_type": "execute_result"
    }
   ],
   "source": [
    "# list > dict > items만 가져오기\n",
    "data = response.json()['items'][0]\n",
    "lat, lng = data['lat'], data['lng']\n",
    "lat, lng"
   ]
  },
  {
   "cell_type": "code",
   "execution_count": null,
   "id": "2c7b3669",
   "metadata": {},
   "outputs": [],
   "source": []
  },
  {
   "cell_type": "code",
   "execution_count": null,
   "id": "4636b734",
   "metadata": {},
   "outputs": [],
   "source": []
  },
  {
   "cell_type": "markdown",
   "id": "8dfada31",
   "metadata": {},
   "source": [
    "#### 2. 위도 경도로 geohash 알아내기"
   ]
  },
  {
   "cell_type": "code",
   "execution_count": null,
   "id": "1d270ab4",
   "metadata": {},
   "outputs": [],
   "source": []
  },
  {
   "cell_type": "markdown",
   "id": "13e8b3f9",
   "metadata": {},
   "source": [
    "#### 3. geohash로 매물 아이디 가져오기"
   ]
  },
  {
   "cell_type": "code",
   "execution_count": null,
   "id": "2ceb8ea4",
   "metadata": {},
   "outputs": [],
   "source": []
  },
  {
   "cell_type": "markdown",
   "id": "85225aae",
   "metadata": {},
   "source": [
    "#### 4. 매물 아이디로 매물 정보 가져오기"
   ]
  },
  {
   "cell_type": "code",
   "execution_count": null,
   "id": "0212d892",
   "metadata": {},
   "outputs": [],
   "source": []
  }
 ],
 "metadata": {
  "kernelspec": {
   "display_name": "base",
   "language": "python",
   "name": "python3"
  },
  "language_info": {
   "codemirror_mode": {
    "name": "ipython",
    "version": 3
   },
   "file_extension": ".py",
   "mimetype": "text/x-python",
   "name": "python",
   "nbconvert_exporter": "python",
   "pygments_lexer": "ipython3",
   "version": "3.9.13"
  },
  "toc": {
   "base_numbering": 1,
   "nav_menu": {},
   "number_sections": false,
   "sideBar": true,
   "skip_h1_title": false,
   "title_cell": "Table of Contents",
   "title_sidebar": "Contents",
   "toc_cell": false,
   "toc_position": {},
   "toc_section_display": true,
   "toc_window_display": false
  },
  "vscode": {
   "interpreter": {
    "hash": "f08154012ddadd8e950e6e9e035c7a7b32c136e7647e9b7c77e02eb723a8bedb"
   }
  }
 },
 "nbformat": 4,
 "nbformat_minor": 5
}
