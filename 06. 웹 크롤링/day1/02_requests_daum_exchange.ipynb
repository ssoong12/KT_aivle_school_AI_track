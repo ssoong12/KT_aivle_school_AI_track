{
 "cells": [
  {
   "attachments": {},
   "cell_type": "markdown",
   "id": "ce44dd79",
   "metadata": {},
   "source": [
    "### Daum Exchange\n",
    "- `https://finance.daum.net`\n",
    "- 어떤 내용을 살펴볼 것이냐?\n",
    "  - 서버에서 어뷰징을 막는 경우 해결 방법 >> 완벽한 해결 방법은 아니지만 이런 방법으로 해결해서 데이터를 크롤링할 수 있다."
   ]
  },
  {
   "attachments": {},
   "cell_type": "markdown",
   "id": "6ca31af5",
   "metadata": {},
   "source": [
    "다음에서 제공해주는 환율데이터"
   ]
  },
  {
   "cell_type": "code",
   "execution_count": 1,
   "id": "bcf5c3fb",
   "metadata": {},
   "outputs": [],
   "source": [
    "import warnings\n",
    "warnings.filterwarnings('ignore')\n",
    "import pandas as pd\n",
    "import requests"
   ]
  },
  {
   "attachments": {},
   "cell_type": "markdown",
   "id": "d83a6808",
   "metadata": {},
   "source": [
    "# 크롤링"
   ]
  },
  {
   "attachments": {},
   "cell_type": "markdown",
   "id": "b2e01527",
   "metadata": {},
   "source": [
    "## 동적 데이터를 크롤링하는 전체 절차\n",
    "- 1. 웹 서비스 분석 : URL\n",
    "\n",
    "- 2. request(URL) > response : json(str)\n",
    "\n",
    "- 3. json(str) > list, dict > DataFrame"
   ]
  },
  {
   "cell_type": "code",
   "execution_count": 11,
   "id": "6320c8d3",
   "metadata": {},
   "outputs": [
    {
     "data": {
      "text/plain": [
       "<Response [403]>"
      ]
     },
     "execution_count": 11,
     "metadata": {},
     "output_type": "execute_result"
    }
   ],
   "source": [
    "# - 1. 웹 서비스 분석 : URL\n",
    "url = 'https://finance.daum.net/api/exchanges/summaries'\n",
    "\n",
    "# - 2. request(URL) > response : json(str)\n",
    "response = requests.get(url)\n",
    "response\n",
    "# - 3. json(str) > list, dict > DataFrame\n"
   ]
  },
  {
   "cell_type": "code",
   "execution_count": 12,
   "id": "94d61a08",
   "metadata": {},
   "outputs": [
    {
     "data": {
      "text/plain": [
       "'<html>\\r\\n<head><title>403 Forbidden</title></head>\\r\\n<body bgcolor=\"white\">\\r\\n<center><h1>403 Forbidden</h1></center>\\r\\n<hr><center>nginx</center>\\r\\n</body>\\r\\n</html>\\r\\n'"
      ]
     },
     "execution_count": 12,
     "metadata": {},
     "output_type": "execute_result"
    }
   ],
   "source": [
    "# 403 에러는 200번대가 나오지 않으면 정상적으로 리퀘, 리스폰이 응답하지 않은 거임\n",
    "# 나는 정상적으로 요청했는데 서버 개발자가 막아놨구나 어뷰징을 막았구나 \n",
    "# 유저 에이전트를 확인해서 막는 방법? 정상적인 유저 에이전트가 아닌, 파이썬이란 유저 에이전트가 들어간 경우 막아놓는 그런...\n",
    "# 그래서 유저 에이전트를 추가해서 요청해야해. >> 데이터를 요청할 때 헤더 정보를 출력\n",
    "response.text"
   ]
  },
  {
   "cell_type": "code",
   "execution_count": 13,
   "id": "ed77b50e",
   "metadata": {},
   "outputs": [
    {
     "data": {
      "text/html": [
       "<div>\n",
       "<style scoped>\n",
       "    .dataframe tbody tr th:only-of-type {\n",
       "        vertical-align: middle;\n",
       "    }\n",
       "\n",
       "    .dataframe tbody tr th {\n",
       "        vertical-align: top;\n",
       "    }\n",
       "\n",
       "    .dataframe thead th {\n",
       "        text-align: right;\n",
       "    }\n",
       "</style>\n",
       "<table border=\"1\" class=\"dataframe\">\n",
       "  <thead>\n",
       "    <tr style=\"text-align: right;\">\n",
       "      <th></th>\n",
       "      <th>symbolCode</th>\n",
       "      <th>date</th>\n",
       "      <th>currencyCode</th>\n",
       "      <th>currencyName</th>\n",
       "      <th>currencyUnit</th>\n",
       "      <th>country</th>\n",
       "      <th>region</th>\n",
       "      <th>name</th>\n",
       "      <th>recurrenceCount</th>\n",
       "      <th>basePrice</th>\n",
       "      <th>...</th>\n",
       "      <th>changeRate</th>\n",
       "      <th>cashBuyingPrice</th>\n",
       "      <th>cashSellingPrice</th>\n",
       "      <th>ttBuyingPrice</th>\n",
       "      <th>ttSellingPrice</th>\n",
       "      <th>tcBuyingPrice</th>\n",
       "      <th>fcSellingPrice</th>\n",
       "      <th>exchangeCommission</th>\n",
       "      <th>usDollarRate</th>\n",
       "      <th>chartImageUrl</th>\n",
       "    </tr>\n",
       "  </thead>\n",
       "  <tbody>\n",
       "    <tr>\n",
       "      <th>40</th>\n",
       "      <td>FRX.KRWQAR</td>\n",
       "      <td>2023-02-16 15:06:51</td>\n",
       "      <td>QAR</td>\n",
       "      <td>리얄</td>\n",
       "      <td>1</td>\n",
       "      <td>카타르</td>\n",
       "      <td>{'korName': '중동', 'engName': 'Middle East'}</td>\n",
       "      <td>카타르 (KRW/QAR)</td>\n",
       "      <td>521</td>\n",
       "      <td>351.84</td>\n",
       "      <td>...</td>\n",
       "      <td>0.002806</td>\n",
       "      <td>0.0</td>\n",
       "      <td>0.0</td>\n",
       "      <td>0.00</td>\n",
       "      <td>0.00</td>\n",
       "      <td>None</td>\n",
       "      <td>None</td>\n",
       "      <td>3.355</td>\n",
       "      <td>0.2741</td>\n",
       "      <td>{'day': 'https://t1.daumcdn.net/finance/chart/...</td>\n",
       "    </tr>\n",
       "    <tr>\n",
       "      <th>41</th>\n",
       "      <td>FRX.KRWTRY</td>\n",
       "      <td>2023-02-16 15:06:51</td>\n",
       "      <td>TRY</td>\n",
       "      <td>리라</td>\n",
       "      <td>1</td>\n",
       "      <td>터키</td>\n",
       "      <td>{'korName': '중동', 'engName': 'Middle East'}</td>\n",
       "      <td>터키 (KRW/TRY)</td>\n",
       "      <td>521</td>\n",
       "      <td>68.08</td>\n",
       "      <td>...</td>\n",
       "      <td>0.002783</td>\n",
       "      <td>0.0</td>\n",
       "      <td>0.0</td>\n",
       "      <td>67.34</td>\n",
       "      <td>68.82</td>\n",
       "      <td>None</td>\n",
       "      <td>None</td>\n",
       "      <td>26.400</td>\n",
       "      <td>0.0530</td>\n",
       "      <td>{'day': 'https://t1.daumcdn.net/finance/chart/...</td>\n",
       "    </tr>\n",
       "  </tbody>\n",
       "</table>\n",
       "<p>2 rows × 22 columns</p>\n",
       "</div>"
      ],
      "text/plain": [
       "    symbolCode                 date currencyCode currencyName  currencyUnit  \\\n",
       "40  FRX.KRWQAR  2023-02-16 15:06:51          QAR           리얄             1   \n",
       "41  FRX.KRWTRY  2023-02-16 15:06:51          TRY           리라             1   \n",
       "\n",
       "   country                                       region           name  \\\n",
       "40     카타르  {'korName': '중동', 'engName': 'Middle East'}  카타르 (KRW/QAR)   \n",
       "41      터키  {'korName': '중동', 'engName': 'Middle East'}   터키 (KRW/TRY)   \n",
       "\n",
       "    recurrenceCount  basePrice  ... changeRate  cashBuyingPrice  \\\n",
       "40              521     351.84  ...   0.002806              0.0   \n",
       "41              521      68.08  ...   0.002783              0.0   \n",
       "\n",
       "    cashSellingPrice  ttBuyingPrice  ttSellingPrice  tcBuyingPrice  \\\n",
       "40               0.0           0.00            0.00           None   \n",
       "41               0.0          67.34           68.82           None   \n",
       "\n",
       "    fcSellingPrice exchangeCommission usDollarRate  \\\n",
       "40            None              3.355       0.2741   \n",
       "41            None             26.400       0.0530   \n",
       "\n",
       "                                        chartImageUrl  \n",
       "40  {'day': 'https://t1.daumcdn.net/finance/chart/...  \n",
       "41  {'day': 'https://t1.daumcdn.net/finance/chart/...  \n",
       "\n",
       "[2 rows x 22 columns]"
      ]
     },
     "execution_count": 13,
     "metadata": {},
     "output_type": "execute_result"
    }
   ],
   "source": [
    "# - 1. 웹 서비스 분석 : URL\n",
    "url = 'https://finance.daum.net/api/exchanges/summaries'\n",
    "headers = {\n",
    "  'user-agent' : 'Mozilla/5.0 (Windows NT 10.0; Win64; x64) AppleWebKit/537.36 (KHTML, like Gecko) Chrome/109.0.0.0 Safari/537.36', # 서버쪽에선 유저에이전트만 막아놨다면 이것만 해도 실행됨. 근데 유저에이전트와 레퍼러까지 추가해야 200번이 나옴.\n",
    "  'referer' : 'https://finance.daum.net/exchanges', # 어 유저에이전트 추가해봤는데 안되네? 아 그럼 레퍼러 추가해보자. 아 다음 서버 개발자들은 유저에이전트와 레퍼러를 막아놨구나 그래서 직접 해봐야 안다. 코드 알려달라 해도 안 알려주잖아? \n",
    "}\n",
    "# - 2. request(URL) > response : json(str)\n",
    "response = requests.get(url, headers=headers)\n",
    "# - 3. json(str) > list, dict > DataFrame\n",
    "df = pd.DataFrame(response.json()['data'])\n",
    "df.tail(2)"
   ]
  },
  {
   "cell_type": "code",
   "execution_count": 19,
   "id": "c1edc59e",
   "metadata": {},
   "outputs": [
    {
     "data": {
      "text/plain": [
       "'{\"data\":[{\"symbolCode\":\"FRX.KRWUSD\",\"date\":\"2023-02-16 15:06:51\",\"currencyCode\":\"USD\",\"currencyName\":\"달러\",\"currencyUnit\":1,\"country\":\"미국\",\"region\":{\"korName\":\"아메리카\",\"engName\":\"America\"},\"name\":\"미국 (KRW/USD)\",\"recurrenceCount\":521,\"basePrice\":1283.4,\"change\":\"FALL\",\"changePrice\":3.6,\"changeRate\":0.0027972028,\"cashBuyingPrice\":1305.85,\"cashSellingPrice\":1260.95,\"ttBuyingPrice\":1270.9,\"ttSellingPrice\":1295.9,\"tcBuyingPrice\":null,\"fcSellingPrice\":null,\"exchangeCommission\":6.4139,\"usDollarRate\":1.0,\"chartImageUrl\":{\"day\":\"https://t1.daumcdn.net/finance/chart/kr/daumforex/d/FRX.KRWUSD.png\",\"month\":\"https://t1.daumcdn.net/finance/chart/kr/daumforex/m/FRX.KRWUSD.png\",\"month3\":\"https://t1.daumcdn.net/finance/chart/kr/daumforex/m3/FRX.KRWUSD.png\",\"year\":\"https://t1.daumcdn.net/finance/chart/kr/daumforex/y/FRX.KRWUSD.png\"}},{\"symbolCode\":\"FRX.KRWJPY\",\"date\":\"2023-02-16 15:06:51\",\"currencyCode\":\"JPY\",\"currencyName\":\"엔\",\"currencyUnit\":100,\"country\":\"일본\",\"region\":{\"korName\":\"아시아\",\"engName\":\"Asia\"},\"name\":\"일본 (KRW/JPY100)\",\"recurrenceCount\":521,\"basePrice\":958.8,\"change\":\"FALL\",\"changePrice\":0.4,\"changeRate\":0.0004170142,\"cashBuyingPrice\":975.57,\"cashSellingPrice\":942.03,\"ttBuyingPrice\":949.41,\"ttSellingPrice\":968.19,\"tcBuyingPrice\":null,\"fcSellingPrice\":null,\"exchangeCommission\":2.0268,\"usDollarRate\":0.7471,\"chartImageUrl\":{\"day\":\"https://t1.daumcdn.net/finance/chart/kr/daumforex/d/FRX.KRWJPY.png\",\"month\":\"https://t1.daumcdn.net/finance/chart/kr/daumforex/m/FRX.KRWJPY.png\",\"month3\":\"https://t1.daumcdn.net/finance/chart/kr/daumforex/m3/FRX.KRWJPY.png\",\"year\":\"https://t1.daumcdn.net/finance/chart/kr/daumforex/y/FRX.KRWJPY.png\"}},{\"symbolCode\":\"FRX.KRWCNY\",\"date\":\"2023-02-16 15:06:51\",\"currencyCode\":\"CNY\",\"currencyName\":\"위안\",\"currencyUnit\":1,\"country\":\"중국\",\"region\":{\"korName\":\"아시아\",\"engName\":\"Asia\"},\"name\":\"중국 (KRW/CNY)\",\"recurrenceCount\":521,\"basePrice\":187.05,\"change\":\"FALL\",\"changePrice\":0.39,\"changeRate\":0.0020806658,\"cashBuyingPrice\":196.4,\"cashSellingPrice\":177.7,\"ttBuyingPrice\":185.18,\"ttSellingPrice\":188.92,\"tcBuyingPrice\":null,\"fcSellingPrice\":null,\"exchangeCommission\":4.5009,\"usDollarRate\":0.1457,\"chartImageUrl\":{\"day\":\"https://t1.daumcdn.net/finance/chart/kr/daumforex/d/FRX.KRWCNY.png\",\"month\":\"https://t1.daumcdn.net/finance/chart/kr/daumforex/m/FRX.KRWCNY.png\",\"month3\":\"https://t1.daumcdn.net/finance/chart/kr/daumforex/m3/FRX.KRWCNY.png\",\"year\":\"https://t1.daumcdn.net/finance/chart/kr/daumforex/y/FRX.KRWCNY.png\"}},{\"symbolCode\":\"FRX.KRWEUR\",\"date\":\"2023-02-16 15:06:51\",\"currencyCode\":\"EUR\",\"currencyName\":\"유로\",\"currencyUnit\":1,\"country\":\"유로\",\"region\":{\"korName\":\"유럽\",\"engName\":\"Europe\"},\"name\":\"유로 (KRW/EUR)\",\"recurrenceCount\":521,\"basePrice\":1374.01,\"change\":\"FALL\",\"changePrice\":0.76,\"changeRate\":0.0005528197,\"cashBuyingPrice\":1401.35,\"cashSellingPrice\":1346.67,\"ttBuyingPrice\":1360.27,\"ttSellingPrice\":1387.75,\"tcBuyingPrice\":null,\"fcSellingPrice\":null,\"exchangeCommission\":4.349,\"usDollarRate\":1.0706,\"chartImageUrl\":{\"day\":\"https://t1.daumcdn.net/finance/chart/kr/daumforex/d/FRX.KRWEUR.png\",\"month\":\"https://t1.daumcdn.net/finance/chart/kr/daumforex/m/FRX.KRWEUR.png\",\"month3\":\"https://t1.daumcdn.net/finance/chart/kr/daumforex/m3/FRX.KRWEUR.png\",\"year\":\"https://t1.daumcdn.net/finance/chart/kr/daumforex/y/FRX.KRWEUR.png\"}},{\"symbolCode\":\"FRX.KRWGBP\",\"date\":\"2023-02-16 15:06:51\",\"currencyCode\":\"GBP\",\"currencyName\":\"파운드\",\"currencyUnit\":1,\"country\":\"영국\",\"region\":{\"korName\":\"유럽\",\"engName\":\"Europe\"},\"name\":\"영국 (KRW/GBP)\",\"recurrenceCount\":521,\"basePrice\":1545.73,\"change\":\"FALL\",\"changePrice\":1.37,\"changeRate\":0.0008855278,\"cashBuyingPrice\":1576.18,\"cashSellingPrice\":1515.28,\"ttBuyingPrice\":1530.28,\"ttSellingPrice\":1561.18,\"tcBuyingPrice\":null,\"fcSellingPrice\":null,\"exchangeCommission\":5.926,\"usDollarRate\":1.2044,\"chartImageUrl\":{\"day\":\"https://t1.daumcdn.net/finance/chart/kr/daumforex/d/FRX.KRWGBP.png\",\"month\":\"https://t1.daumcdn.net/finance/chart/kr/daumforex/m/FRX.KRWGBP.png\",\"month3\":\"https://t1.daumcdn.net/finance/chart/kr/daumforex/m3/FRX.KRWGBP.png\",\"year\":\"https://t1.daumcdn.net/finance/chart/kr/daumforex/y/FRX.KRWGBP.png\"}},{\"symbolCode\":\"FRX.KRWCHF\",\"date\":\"2023-02-16 15:06:51\",\"currencyCode\":\"CHF\",\"currencyName\":\"프랑\",\"currencyUnit\":1,\"country\":\"스위스\",\"region\":{\"korName\":\"유럽\",\"engName\":\"Europe\"},\"name\":\"스위스 (KRW/CHF)\",\"recurrenceCount\":521,\"basePrice\":1391.45,\"change\":\"FALL\",\"changePrice\":0.65,\"changeRate\":0.0004669205,\"cashBuyingPrice\":1418.86,\"cashSellingPrice\":1364.04,\"ttBuyingPrice\":1377.54,\"ttSellingPrice\":1405.36,\"tcBuyingPrice\":null,\"fcSellingPrice\":null,\"exchangeCommission\":3.007,\"usDollarRate\":1.0842,\"chartImageUrl\":{\"day\":\"https://t1.daumcdn.net/finance/chart/kr/daumforex/d/FRX.KRWCHF.png\",\"month\":\"https://t1.daumcdn.net/finance/chart/kr/daumforex/m/FRX.KRWCHF.png\",\"month3\":\"https://t1.daumcdn.net/finance/chart/kr/daumforex/m3/FRX.KRWCHF.png\",\"year\":\"https://t1.daumcdn.net/finance/chart/kr/daumforex/y/FRX.KRWCHF.png\"}},{\"symbolCode\":\"FRX.KRWCAD\",\"date\":\"2023-02-16 15:06:51\",\"currencyCode\":\"CAD\",\"currencyN'"
      ]
     },
     "execution_count": 19,
     "metadata": {},
     "output_type": "execute_result"
    }
   ],
   "source": [
    "# 403 에러는 200번대가 나오지 않으면 정상적으로 리퀘, 리스폰이 응답하지 않은 거임\n",
    "# 나는 정상적으로 요청했는데 서버 개발자가 막아놨구나 어뷰징을 막았구나 \n",
    "# 유저 에이전트를 확인해서 막는 방법? 정상적인 유저 에이전트가 아닌, 파이썬이란 유저 에이전트가 들어간 경우 막아놓는 그런...\n",
    "# 그래서 유저 에이전트를 추가해서 요청해야해. >> 데이터를 요청할 때 헤더 정보를 출력\n",
    "response.text[:5000]"
   ]
  },
  {
   "cell_type": "code",
   "execution_count": 14,
   "metadata": {},
   "outputs": [],
   "source": [
    "# colums가 22개인데 너무 많아서 ...으로 나온다 전체로 보고 싶으면?\n",
    "pd.options.display.max_columns = 30"
   ]
  },
  {
   "cell_type": "code",
   "execution_count": 15,
   "metadata": {},
   "outputs": [
    {
     "data": {
      "text/html": [
       "<div>\n",
       "<style scoped>\n",
       "    .dataframe tbody tr th:only-of-type {\n",
       "        vertical-align: middle;\n",
       "    }\n",
       "\n",
       "    .dataframe tbody tr th {\n",
       "        vertical-align: top;\n",
       "    }\n",
       "\n",
       "    .dataframe thead th {\n",
       "        text-align: right;\n",
       "    }\n",
       "</style>\n",
       "<table border=\"1\" class=\"dataframe\">\n",
       "  <thead>\n",
       "    <tr style=\"text-align: right;\">\n",
       "      <th></th>\n",
       "      <th>symbolCode</th>\n",
       "      <th>date</th>\n",
       "      <th>currencyCode</th>\n",
       "      <th>currencyName</th>\n",
       "      <th>currencyUnit</th>\n",
       "      <th>country</th>\n",
       "      <th>region</th>\n",
       "      <th>name</th>\n",
       "      <th>recurrenceCount</th>\n",
       "      <th>basePrice</th>\n",
       "      <th>change</th>\n",
       "      <th>changePrice</th>\n",
       "      <th>changeRate</th>\n",
       "      <th>cashBuyingPrice</th>\n",
       "      <th>cashSellingPrice</th>\n",
       "      <th>ttBuyingPrice</th>\n",
       "      <th>ttSellingPrice</th>\n",
       "      <th>tcBuyingPrice</th>\n",
       "      <th>fcSellingPrice</th>\n",
       "      <th>exchangeCommission</th>\n",
       "      <th>usDollarRate</th>\n",
       "      <th>chartImageUrl</th>\n",
       "    </tr>\n",
       "  </thead>\n",
       "  <tbody>\n",
       "    <tr>\n",
       "      <th>40</th>\n",
       "      <td>FRX.KRWQAR</td>\n",
       "      <td>2023-02-16 15:06:51</td>\n",
       "      <td>QAR</td>\n",
       "      <td>리얄</td>\n",
       "      <td>1</td>\n",
       "      <td>카타르</td>\n",
       "      <td>{'korName': '중동', 'engName': 'Middle East'}</td>\n",
       "      <td>카타르 (KRW/QAR)</td>\n",
       "      <td>521</td>\n",
       "      <td>351.84</td>\n",
       "      <td>FALL</td>\n",
       "      <td>0.99</td>\n",
       "      <td>0.002806</td>\n",
       "      <td>0.0</td>\n",
       "      <td>0.0</td>\n",
       "      <td>0.00</td>\n",
       "      <td>0.00</td>\n",
       "      <td>None</td>\n",
       "      <td>None</td>\n",
       "      <td>3.355</td>\n",
       "      <td>0.2741</td>\n",
       "      <td>{'day': 'https://t1.daumcdn.net/finance/chart/...</td>\n",
       "    </tr>\n",
       "    <tr>\n",
       "      <th>41</th>\n",
       "      <td>FRX.KRWTRY</td>\n",
       "      <td>2023-02-16 15:06:51</td>\n",
       "      <td>TRY</td>\n",
       "      <td>리라</td>\n",
       "      <td>1</td>\n",
       "      <td>터키</td>\n",
       "      <td>{'korName': '중동', 'engName': 'Middle East'}</td>\n",
       "      <td>터키 (KRW/TRY)</td>\n",
       "      <td>521</td>\n",
       "      <td>68.08</td>\n",
       "      <td>FALL</td>\n",
       "      <td>0.19</td>\n",
       "      <td>0.002783</td>\n",
       "      <td>0.0</td>\n",
       "      <td>0.0</td>\n",
       "      <td>67.34</td>\n",
       "      <td>68.82</td>\n",
       "      <td>None</td>\n",
       "      <td>None</td>\n",
       "      <td>26.400</td>\n",
       "      <td>0.0530</td>\n",
       "      <td>{'day': 'https://t1.daumcdn.net/finance/chart/...</td>\n",
       "    </tr>\n",
       "  </tbody>\n",
       "</table>\n",
       "</div>"
      ],
      "text/plain": [
       "    symbolCode                 date currencyCode currencyName  currencyUnit  \\\n",
       "40  FRX.KRWQAR  2023-02-16 15:06:51          QAR           리얄             1   \n",
       "41  FRX.KRWTRY  2023-02-16 15:06:51          TRY           리라             1   \n",
       "\n",
       "   country                                       region           name  \\\n",
       "40     카타르  {'korName': '중동', 'engName': 'Middle East'}  카타르 (KRW/QAR)   \n",
       "41      터키  {'korName': '중동', 'engName': 'Middle East'}   터키 (KRW/TRY)   \n",
       "\n",
       "    recurrenceCount  basePrice change  changePrice  changeRate  \\\n",
       "40              521     351.84   FALL         0.99    0.002806   \n",
       "41              521      68.08   FALL         0.19    0.002783   \n",
       "\n",
       "    cashBuyingPrice  cashSellingPrice  ttBuyingPrice  ttSellingPrice  \\\n",
       "40              0.0               0.0           0.00            0.00   \n",
       "41              0.0               0.0          67.34           68.82   \n",
       "\n",
       "   tcBuyingPrice fcSellingPrice  exchangeCommission  usDollarRate  \\\n",
       "40          None           None               3.355        0.2741   \n",
       "41          None           None              26.400        0.0530   \n",
       "\n",
       "                                        chartImageUrl  \n",
       "40  {'day': 'https://t1.daumcdn.net/finance/chart/...  \n",
       "41  {'day': 'https://t1.daumcdn.net/finance/chart/...  "
      ]
     },
     "execution_count": 15,
     "metadata": {},
     "output_type": "execute_result"
    }
   ],
   "source": [
    "df.tail(2)"
   ]
  },
  {
   "cell_type": "code",
   "execution_count": 16,
   "metadata": {},
   "outputs": [],
   "source": [
    "pd.options.display.max_rows = 1000 # 이러면 1000행이 다출력됨 물론 1000개가 넘어가면 ...으로 나온다."
   ]
  },
  {
   "cell_type": "code",
   "execution_count": null,
   "id": "ce6e602c",
   "metadata": {},
   "outputs": [],
   "source": []
  },
  {
   "cell_type": "code",
   "execution_count": null,
   "id": "f6975ff1",
   "metadata": {},
   "outputs": [],
   "source": []
  },
  {
   "cell_type": "code",
   "execution_count": null,
   "id": "823c5b8c",
   "metadata": {},
   "outputs": [],
   "source": []
  },
  {
   "cell_type": "code",
   "execution_count": null,
   "id": "11758bd2",
   "metadata": {},
   "outputs": [],
   "source": []
  }
 ],
 "metadata": {
  "kernelspec": {
   "display_name": "base",
   "language": "python",
   "name": "python3"
  },
  "language_info": {
   "codemirror_mode": {
    "name": "ipython",
    "version": 3
   },
   "file_extension": ".py",
   "mimetype": "text/x-python",
   "name": "python",
   "nbconvert_exporter": "python",
   "pygments_lexer": "ipython3",
   "version": "3.9.13"
  },
  "vscode": {
   "interpreter": {
    "hash": "f08154012ddadd8e950e6e9e035c7a7b32c136e7647e9b7c77e02eb723a8bedb"
   }
  }
 },
 "nbformat": 4,
 "nbformat_minor": 5
}
