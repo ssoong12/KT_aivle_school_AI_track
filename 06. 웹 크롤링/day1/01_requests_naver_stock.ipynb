{
 "cells": [
  {
   "cell_type": "markdown",
   "id": "a2843caf",
   "metadata": {
    "id": "a2843caf"
   },
   "source": [
    "## Web Crawing\n",
    "- 웹 페이지에서 데이터를 수집하는 방법에 대해서 학습"
   ]
  },
  {
   "cell_type": "markdown",
   "id": "193e82cc",
   "metadata": {
    "id": "193e82cc"
   },
   "source": [
    "### 웹크롤링 방법\n",
    "\n",
    "#### 웹페이지의 종류\n",
    "- 정적인 페이지 : 웹 브라우져에 화면이 한번 뜨면 이벤트에 의한 화면의 변경이 없는 페이지 \n",
    "- 동적인 페이지 : 웹 브라우져에 화면이 뜨고 이벤트가 발생하면 서버에서 데이터를 가져와 화면을 변경하는 페이지\n",
    "\n",
    "#### requests 이용\n",
    "- 받아오는 문자열에 따라 두가지 방법으로 구분\n",
    "    - json 문자열로 받아서 파싱하는 방법 : 주로 동적 페이지 크롤링할때 사용 \n",
    "    - html 문자열로 받아서 파싱하는 방법 : 주로 정적 페이지 크롤링할때 사용\n",
    "        \n",
    "#### selenium 이용\n",
    "- 브라우져를 직접 열어서 데이터를 받는 방법\n",
    "\n",
    "#### 크롤링 방법에 따른 속도\n",
    "- requests json > requests html > selenium"
   ]
  },
  {
   "cell_type": "markdown",
   "id": "c9c2b3eb",
   "metadata": {
    "id": "c9c2b3eb"
   },
   "source": [
    "### Crwaling Naver Stock Datas\n",
    "- 네이버 증권 사이트에서 주가 데이터 수집\n",
    "- 수집할 데이터 : 일별 kospi, kosdaq 주가, 일별 환율(exchange rate) 데이터\n",
    "- 데이터 수집 절차\n",
    "    - 웹서비스 분석 : url\n",
    "    - 서버에 데이터 요청 : request(url) > response : json(str)\n",
    "    - 서버에서 받은 데이터 파싱(데이터 형태를 변경) : json(str) > list, dict > DataFrame"
   ]
  },
  {
   "cell_type": "code",
   "execution_count": 1,
   "id": "77151645",
   "metadata": {},
   "outputs": [],
   "source": [
    "# 필요한 패키지 임포트\n",
    "\n",
    "import warnings\n",
    "warnings.filterwarnings('ignore') # 경고 문구 없애기\n",
    "\n",
    "import pandas as pd\n",
    "import requests\n",
    "\n"
   ]
  },
  {
   "cell_type": "markdown",
   "id": "e9946ce1",
   "metadata": {
    "id": "e9946ce1"
   },
   "source": [
    "#### 1. 웹서비스 분석 : url\n",
    "- pc 웹페이지가 복잡하면 mobile 웹페이지에서 수집"
   ]
  },
  {
   "cell_type": "code",
   "execution_count": 3,
   "id": "05f8fcb2",
   "metadata": {},
   "outputs": [
    {
     "data": {
      "text/plain": [
       "'https://m.stock.naver.com/api/index/KOSPI/price?pageSize=10&page=1'"
      ]
     },
     "execution_count": 3,
     "metadata": {},
     "output_type": "execute_result"
    }
   ],
   "source": [
    "# 어떤 url에서 가져와야 좋을지 이 과정에서 크롬 개발자 도구를 사용할 것\n",
    "\n",
    "# page, page_size = 1, 10\n",
    "# url = 'https://m.stock.naver.com/api/index/KOSPI/price?pageSize={page_size}&page={page}'\n",
    "# url\n",
    "\n",
    "page, page_size = 1, 10 \n",
    "url = f'https://m.stock.naver.com/api/index/KOSPI/price?pageSize={page_size}&page={page}' \n",
    "url"
   ]
  },
  {
   "cell_type": "markdown",
   "id": "45b9c484",
   "metadata": {
    "id": "45b9c484"
   },
   "source": [
    "#### 2. 서버에 데이터 요청 : request(url) > response : json(str)\n",
    "- response의 status code가 200이 나오는지 확인\n",
    "- 403이나 500이 나오면 request가 잘못되거나 web server에서 수집이 안되도록 설정이 된것임\n",
    "    - header 설정 또는 selenium 사용\n",
    "- 200이 나오더라도 response 안에 있는 내용을 확인 > 확인하는 방법 : response.text"
   ]
  },
  {
   "cell_type": "code",
   "execution_count": 5,
   "id": "ba8417ac",
   "metadata": {},
   "outputs": [
    {
     "data": {
      "text/plain": [
       "<Response [200]>"
      ]
     },
     "execution_count": 5,
     "metadata": {},
     "output_type": "execute_result"
    }
   ],
   "source": [
    "# JSON 포맷의 문자열 데이터로 받아올 것\n",
    "# 요청한다! 그리고 보내주는 것을 받아오는 게 리스폰스 객체\n",
    "\n",
    "response = requests.get(url)\n",
    "response\n",
    "\n",
    "# 200이 정상적으로 받아왔다는 상태 코드임"
   ]
  },
  {
   "cell_type": "code",
   "execution_count": 8,
   "id": "b357c8a3",
   "metadata": {},
   "outputs": [
    {
     "data": {
      "text/plain": [
       "'[{\"localTradedAt\":\"2023-02-16\",\"closePrice\":\"2,473.46\",\"compareToPreviousClosePrice\":\"45.56\",\"compareToPreviousPrice\":{\"code\":\"2\",\"text\":\"상승\",\"name\":\"RISING\"},\"fluctuationsRatio\":\"1.88\",\"openPrice\":\"2,444.06\",\"highPrice\":\"2,474.62\",\"lowPrice\":\"2,442.07\"},{\"localTradedAt\":\"2023-02-15\",\"closePrice\":\"2'"
      ]
     },
     "execution_count": 8,
     "metadata": {},
     "output_type": "execute_result"
    }
   ],
   "source": [
    "# 요청해서 받아오고, 이 문자열이 리스폰스 안에 들어있는데 어떤 게 들어있는지 확인하고 싶으면\n",
    "\n",
    "# response.text\n",
    "response.text[:300] # 지금은 dtype이 string\n",
    "# 그래서 df로 바꾸기 위해 파싱 과정을 거쳐야 함"
   ]
  },
  {
   "cell_type": "markdown",
   "id": "2ab0fb67",
   "metadata": {
    "id": "2ab0fb67"
   },
   "source": [
    "#### 3. 서버에서 받은 데이터 파싱(데이터 형태를 변경) : json(str) > list, dict > DataFrame"
   ]
  },
  {
   "cell_type": "code",
   "execution_count": 9,
   "id": "6e0851a3",
   "metadata": {},
   "outputs": [
    {
     "data": {
      "text/plain": [
       "requests.models.Response"
      ]
     },
     "execution_count": 9,
     "metadata": {},
     "output_type": "execute_result"
    }
   ],
   "source": [
    "# 일단 타입 확인\n",
    "type(response)\n",
    "\n",
    "\n",
    "\n",
    "\n"
   ]
  },
  {
   "cell_type": "code",
   "execution_count": 11,
   "id": "f8751333",
   "metadata": {},
   "outputs": [
    {
     "data": {
      "text/plain": [
       "[{'localTradedAt': '2023-02-16',\n",
       "  'closePrice': '2,473.46',\n",
       "  'compareToPreviousClosePrice': '45.56',\n",
       "  'compareToPreviousPrice': {'code': '2', 'text': '상승', 'name': 'RISING'},\n",
       "  'fluctuationsRatio': '1.88',\n",
       "  'openPrice': '2,444.06',\n",
       "  'highPrice': '2,474.62',\n",
       "  'lowPrice': '2,442.07'},\n",
       " {'localTradedAt': '2023-02-15',\n",
       "  'closePrice': '2,427.90',\n",
       "  'compareToPreviousClosePrice': '-37.74',\n",
       "  'compareToPreviousPrice': {'code': '5', 'text': '하락', 'name': 'FALLING'},\n",
       "  'fluctuationsRatio': '-1.53',\n",
       "  'openPrice': '2,473.09',\n",
       "  'highPrice': '2,473.44',\n",
       "  'lowPrice': '2,424.16'},\n",
       " {'localTradedAt': '2023-02-14',\n",
       "  'closePrice': '2,465.64',\n",
       "  'compareToPreviousClosePrice': '12.94',\n",
       "  'compareToPreviousPrice': {'code': '2', 'text': '상승', 'name': 'RISING'},\n",
       "  'fluctuationsRatio': '0.53',\n",
       "  'openPrice': '2,471.33',\n",
       "  'highPrice': '2,480.34',\n",
       "  'lowPrice': '2,459.83'},\n",
       " {'localTradedAt': '2023-02-13',\n",
       "  'closePrice': '2,452.70',\n",
       "  'compareToPreviousClosePrice': '-17.03',\n",
       "  'compareToPreviousPrice': {'code': '5', 'text': '하락', 'name': 'FALLING'},\n",
       "  'fluctuationsRatio': '-0.69',\n",
       "  'openPrice': '2,461.96',\n",
       "  'highPrice': '2,462.58',\n",
       "  'lowPrice': '2,440.86'},\n",
       " {'localTradedAt': '2023-02-10',\n",
       "  'closePrice': '2,469.73',\n",
       "  'compareToPreviousClosePrice': '-11.79',\n",
       "  'compareToPreviousPrice': {'code': '5', 'text': '하락', 'name': 'FALLING'},\n",
       "  'fluctuationsRatio': '-0.48',\n",
       "  'openPrice': '2,470.65',\n",
       "  'highPrice': '2,473.80',\n",
       "  'lowPrice': '2,454.74'},\n",
       " {'localTradedAt': '2023-02-09',\n",
       "  'closePrice': '2,481.52',\n",
       "  'compareToPreviousClosePrice': '-2.12',\n",
       "  'compareToPreviousPrice': {'code': '5', 'text': '하락', 'name': 'FALLING'},\n",
       "  'fluctuationsRatio': '-0.09',\n",
       "  'openPrice': '2,470.66',\n",
       "  'highPrice': '2,487.14',\n",
       "  'lowPrice': '2,466.61'},\n",
       " {'localTradedAt': '2023-02-08',\n",
       "  'closePrice': '2,483.64',\n",
       "  'compareToPreviousClosePrice': '31.93',\n",
       "  'compareToPreviousPrice': {'code': '2', 'text': '상승', 'name': 'RISING'},\n",
       "  'fluctuationsRatio': '1.30',\n",
       "  'openPrice': '2,469.42',\n",
       "  'highPrice': '2,487.35',\n",
       "  'lowPrice': '2,465.96'},\n",
       " {'localTradedAt': '2023-02-07',\n",
       "  'closePrice': '2,451.71',\n",
       "  'compareToPreviousClosePrice': '13.52',\n",
       "  'compareToPreviousPrice': {'code': '2', 'text': '상승', 'name': 'RISING'},\n",
       "  'fluctuationsRatio': '0.55',\n",
       "  'openPrice': '2,440.14',\n",
       "  'highPrice': '2,456.17',\n",
       "  'lowPrice': '2,432.40'},\n",
       " {'localTradedAt': '2023-02-06',\n",
       "  'closePrice': '2,438.19',\n",
       "  'compareToPreviousClosePrice': '-42.21',\n",
       "  'compareToPreviousPrice': {'code': '5', 'text': '하락', 'name': 'FALLING'},\n",
       "  'fluctuationsRatio': '-1.70',\n",
       "  'openPrice': '2,461.82',\n",
       "  'highPrice': '2,469.42',\n",
       "  'lowPrice': '2,438.04'},\n",
       " {'localTradedAt': '2023-02-03',\n",
       "  'closePrice': '2,480.40',\n",
       "  'compareToPreviousClosePrice': '11.52',\n",
       "  'compareToPreviousPrice': {'code': '2', 'text': '상승', 'name': 'RISING'},\n",
       "  'fluctuationsRatio': '0.47',\n",
       "  'openPrice': '2,466.54',\n",
       "  'highPrice': '2,485.08',\n",
       "  'lowPrice': '2,460.21'}]"
      ]
     },
     "execution_count": 11,
     "metadata": {},
     "output_type": "execute_result"
    }
   ],
   "source": [
    "# 리스폰스 클래스 안에는 다양한 좋은 함수들이 있음\n",
    "data = response.json() # 위에 문자열을 제이슨이란 메서드를 활용해서 리스트로 바꿔줌\n",
    "data # 리스트 안에 딕셔너리가 있는 포맷임... 딕셔너리 데이터 하나 = row 데이터 "
   ]
  },
  {
   "cell_type": "code",
   "execution_count": 12,
   "id": "df48f7ed",
   "metadata": {},
   "outputs": [
    {
     "data": {
      "text/html": [
       "<div>\n",
       "<style scoped>\n",
       "    .dataframe tbody tr th:only-of-type {\n",
       "        vertical-align: middle;\n",
       "    }\n",
       "\n",
       "    .dataframe tbody tr th {\n",
       "        vertical-align: top;\n",
       "    }\n",
       "\n",
       "    .dataframe thead th {\n",
       "        text-align: right;\n",
       "    }\n",
       "</style>\n",
       "<table border=\"1\" class=\"dataframe\">\n",
       "  <thead>\n",
       "    <tr style=\"text-align: right;\">\n",
       "      <th></th>\n",
       "      <th>localTradedAt</th>\n",
       "      <th>closePrice</th>\n",
       "      <th>compareToPreviousClosePrice</th>\n",
       "      <th>compareToPreviousPrice</th>\n",
       "      <th>fluctuationsRatio</th>\n",
       "      <th>openPrice</th>\n",
       "      <th>highPrice</th>\n",
       "      <th>lowPrice</th>\n",
       "    </tr>\n",
       "  </thead>\n",
       "  <tbody>\n",
       "    <tr>\n",
       "      <th>0</th>\n",
       "      <td>2023-02-16</td>\n",
       "      <td>2,473.46</td>\n",
       "      <td>45.56</td>\n",
       "      <td>{'code': '2', 'text': '상승', 'name': 'RISING'}</td>\n",
       "      <td>1.88</td>\n",
       "      <td>2,444.06</td>\n",
       "      <td>2,474.62</td>\n",
       "      <td>2,442.07</td>\n",
       "    </tr>\n",
       "    <tr>\n",
       "      <th>1</th>\n",
       "      <td>2023-02-15</td>\n",
       "      <td>2,427.90</td>\n",
       "      <td>-37.74</td>\n",
       "      <td>{'code': '5', 'text': '하락', 'name': 'FALLING'}</td>\n",
       "      <td>-1.53</td>\n",
       "      <td>2,473.09</td>\n",
       "      <td>2,473.44</td>\n",
       "      <td>2,424.16</td>\n",
       "    </tr>\n",
       "    <tr>\n",
       "      <th>2</th>\n",
       "      <td>2023-02-14</td>\n",
       "      <td>2,465.64</td>\n",
       "      <td>12.94</td>\n",
       "      <td>{'code': '2', 'text': '상승', 'name': 'RISING'}</td>\n",
       "      <td>0.53</td>\n",
       "      <td>2,471.33</td>\n",
       "      <td>2,480.34</td>\n",
       "      <td>2,459.83</td>\n",
       "    </tr>\n",
       "    <tr>\n",
       "      <th>3</th>\n",
       "      <td>2023-02-13</td>\n",
       "      <td>2,452.70</td>\n",
       "      <td>-17.03</td>\n",
       "      <td>{'code': '5', 'text': '하락', 'name': 'FALLING'}</td>\n",
       "      <td>-0.69</td>\n",
       "      <td>2,461.96</td>\n",
       "      <td>2,462.58</td>\n",
       "      <td>2,440.86</td>\n",
       "    </tr>\n",
       "    <tr>\n",
       "      <th>4</th>\n",
       "      <td>2023-02-10</td>\n",
       "      <td>2,469.73</td>\n",
       "      <td>-11.79</td>\n",
       "      <td>{'code': '5', 'text': '하락', 'name': 'FALLING'}</td>\n",
       "      <td>-0.48</td>\n",
       "      <td>2,470.65</td>\n",
       "      <td>2,473.80</td>\n",
       "      <td>2,454.74</td>\n",
       "    </tr>\n",
       "    <tr>\n",
       "      <th>5</th>\n",
       "      <td>2023-02-09</td>\n",
       "      <td>2,481.52</td>\n",
       "      <td>-2.12</td>\n",
       "      <td>{'code': '5', 'text': '하락', 'name': 'FALLING'}</td>\n",
       "      <td>-0.09</td>\n",
       "      <td>2,470.66</td>\n",
       "      <td>2,487.14</td>\n",
       "      <td>2,466.61</td>\n",
       "    </tr>\n",
       "    <tr>\n",
       "      <th>6</th>\n",
       "      <td>2023-02-08</td>\n",
       "      <td>2,483.64</td>\n",
       "      <td>31.93</td>\n",
       "      <td>{'code': '2', 'text': '상승', 'name': 'RISING'}</td>\n",
       "      <td>1.30</td>\n",
       "      <td>2,469.42</td>\n",
       "      <td>2,487.35</td>\n",
       "      <td>2,465.96</td>\n",
       "    </tr>\n",
       "    <tr>\n",
       "      <th>7</th>\n",
       "      <td>2023-02-07</td>\n",
       "      <td>2,451.71</td>\n",
       "      <td>13.52</td>\n",
       "      <td>{'code': '2', 'text': '상승', 'name': 'RISING'}</td>\n",
       "      <td>0.55</td>\n",
       "      <td>2,440.14</td>\n",
       "      <td>2,456.17</td>\n",
       "      <td>2,432.40</td>\n",
       "    </tr>\n",
       "    <tr>\n",
       "      <th>8</th>\n",
       "      <td>2023-02-06</td>\n",
       "      <td>2,438.19</td>\n",
       "      <td>-42.21</td>\n",
       "      <td>{'code': '5', 'text': '하락', 'name': 'FALLING'}</td>\n",
       "      <td>-1.70</td>\n",
       "      <td>2,461.82</td>\n",
       "      <td>2,469.42</td>\n",
       "      <td>2,438.04</td>\n",
       "    </tr>\n",
       "    <tr>\n",
       "      <th>9</th>\n",
       "      <td>2023-02-03</td>\n",
       "      <td>2,480.40</td>\n",
       "      <td>11.52</td>\n",
       "      <td>{'code': '2', 'text': '상승', 'name': 'RISING'}</td>\n",
       "      <td>0.47</td>\n",
       "      <td>2,466.54</td>\n",
       "      <td>2,485.08</td>\n",
       "      <td>2,460.21</td>\n",
       "    </tr>\n",
       "  </tbody>\n",
       "</table>\n",
       "</div>"
      ],
      "text/plain": [
       "  localTradedAt closePrice compareToPreviousClosePrice  \\\n",
       "0    2023-02-16   2,473.46                       45.56   \n",
       "1    2023-02-15   2,427.90                      -37.74   \n",
       "2    2023-02-14   2,465.64                       12.94   \n",
       "3    2023-02-13   2,452.70                      -17.03   \n",
       "4    2023-02-10   2,469.73                      -11.79   \n",
       "5    2023-02-09   2,481.52                       -2.12   \n",
       "6    2023-02-08   2,483.64                       31.93   \n",
       "7    2023-02-07   2,451.71                       13.52   \n",
       "8    2023-02-06   2,438.19                      -42.21   \n",
       "9    2023-02-03   2,480.40                       11.52   \n",
       "\n",
       "                           compareToPreviousPrice fluctuationsRatio openPrice  \\\n",
       "0   {'code': '2', 'text': '상승', 'name': 'RISING'}              1.88  2,444.06   \n",
       "1  {'code': '5', 'text': '하락', 'name': 'FALLING'}             -1.53  2,473.09   \n",
       "2   {'code': '2', 'text': '상승', 'name': 'RISING'}              0.53  2,471.33   \n",
       "3  {'code': '5', 'text': '하락', 'name': 'FALLING'}             -0.69  2,461.96   \n",
       "4  {'code': '5', 'text': '하락', 'name': 'FALLING'}             -0.48  2,470.65   \n",
       "5  {'code': '5', 'text': '하락', 'name': 'FALLING'}             -0.09  2,470.66   \n",
       "6   {'code': '2', 'text': '상승', 'name': 'RISING'}              1.30  2,469.42   \n",
       "7   {'code': '2', 'text': '상승', 'name': 'RISING'}              0.55  2,440.14   \n",
       "8  {'code': '5', 'text': '하락', 'name': 'FALLING'}             -1.70  2,461.82   \n",
       "9   {'code': '2', 'text': '상승', 'name': 'RISING'}              0.47  2,466.54   \n",
       "\n",
       "  highPrice  lowPrice  \n",
       "0  2,474.62  2,442.07  \n",
       "1  2,473.44  2,424.16  \n",
       "2  2,480.34  2,459.83  \n",
       "3  2,462.58  2,440.86  \n",
       "4  2,473.80  2,454.74  \n",
       "5  2,487.14  2,466.61  \n",
       "6  2,487.35  2,465.96  \n",
       "7  2,456.17  2,432.40  \n",
       "8  2,469.42  2,438.04  \n",
       "9  2,485.08  2,460.21  "
      ]
     },
     "execution_count": 12,
     "metadata": {},
     "output_type": "execute_result"
    }
   ],
   "source": [
    "# 딕셔너리 -> df \n",
    "df = pd.DataFrame(data)\n",
    "df"
   ]
  },
  {
   "cell_type": "code",
   "execution_count": 13,
   "id": "dc0d7ae6",
   "metadata": {},
   "outputs": [
    {
     "data": {
      "text/html": [
       "<div>\n",
       "<style scoped>\n",
       "    .dataframe tbody tr th:only-of-type {\n",
       "        vertical-align: middle;\n",
       "    }\n",
       "\n",
       "    .dataframe tbody tr th {\n",
       "        vertical-align: top;\n",
       "    }\n",
       "\n",
       "    .dataframe thead th {\n",
       "        text-align: right;\n",
       "    }\n",
       "</style>\n",
       "<table border=\"1\" class=\"dataframe\">\n",
       "  <thead>\n",
       "    <tr style=\"text-align: right;\">\n",
       "      <th></th>\n",
       "      <th>localTradedAt</th>\n",
       "      <th>closePrice</th>\n",
       "    </tr>\n",
       "  </thead>\n",
       "  <tbody>\n",
       "    <tr>\n",
       "      <th>0</th>\n",
       "      <td>2023-02-16</td>\n",
       "      <td>2,473.46</td>\n",
       "    </tr>\n",
       "    <tr>\n",
       "      <th>1</th>\n",
       "      <td>2023-02-15</td>\n",
       "      <td>2,427.90</td>\n",
       "    </tr>\n",
       "    <tr>\n",
       "      <th>2</th>\n",
       "      <td>2023-02-14</td>\n",
       "      <td>2,465.64</td>\n",
       "    </tr>\n",
       "    <tr>\n",
       "      <th>3</th>\n",
       "      <td>2023-02-13</td>\n",
       "      <td>2,452.70</td>\n",
       "    </tr>\n",
       "    <tr>\n",
       "      <th>4</th>\n",
       "      <td>2023-02-10</td>\n",
       "      <td>2,469.73</td>\n",
       "    </tr>\n",
       "    <tr>\n",
       "      <th>5</th>\n",
       "      <td>2023-02-09</td>\n",
       "      <td>2,481.52</td>\n",
       "    </tr>\n",
       "    <tr>\n",
       "      <th>6</th>\n",
       "      <td>2023-02-08</td>\n",
       "      <td>2,483.64</td>\n",
       "    </tr>\n",
       "    <tr>\n",
       "      <th>7</th>\n",
       "      <td>2023-02-07</td>\n",
       "      <td>2,451.71</td>\n",
       "    </tr>\n",
       "    <tr>\n",
       "      <th>8</th>\n",
       "      <td>2023-02-06</td>\n",
       "      <td>2,438.19</td>\n",
       "    </tr>\n",
       "    <tr>\n",
       "      <th>9</th>\n",
       "      <td>2023-02-03</td>\n",
       "      <td>2,480.40</td>\n",
       "    </tr>\n",
       "  </tbody>\n",
       "</table>\n",
       "</div>"
      ],
      "text/plain": [
       "  localTradedAt closePrice\n",
       "0    2023-02-16   2,473.46\n",
       "1    2023-02-15   2,427.90\n",
       "2    2023-02-14   2,465.64\n",
       "3    2023-02-13   2,452.70\n",
       "4    2023-02-10   2,469.73\n",
       "5    2023-02-09   2,481.52\n",
       "6    2023-02-08   2,483.64\n",
       "7    2023-02-07   2,451.71\n",
       "8    2023-02-06   2,438.19\n",
       "9    2023-02-03   2,480.40"
      ]
     },
     "execution_count": 13,
     "metadata": {},
     "output_type": "execute_result"
    }
   ],
   "source": [
    "# 원하는 것만 가져오기\n",
    "df = pd.DataFrame(data)[['localTradedAt', 'closePrice']]\n",
    "df"
   ]
  },
  {
   "cell_type": "markdown",
   "id": "a5806ae9",
   "metadata": {
    "id": "a5806ae9"
   },
   "source": [
    "#### 4. 함수로 만들기"
   ]
  },
  {
   "cell_type": "code",
   "execution_count": 14,
   "id": "fcc4a262",
   "metadata": {},
   "outputs": [],
   "source": [
    "# def stock_price(code, page, page_size):\n",
    "def stock_price(code = 'KOSPI', page = 1, page_size = 20): # default 설정 naver는 page 수 60개 제한 있음 지금\n",
    "    ''' This function is crawling stock price form naver. # 함수 설명\n",
    "    params: # 파라미터\n",
    "        code : str : KOSPI, KOSDAQ\n",
    "        page : int\n",
    "        page_size : int\n",
    "    return: # 함수를 실행했을 때 나오는 데이터 타입\n",
    "        type : DataFrame\n",
    "    ''' # 독스트링\n",
    "    # 1. URL\n",
    "    url = f'https://m.stock.naver.com/api/index/{code}/price?pageSize={page_size}&page={page}' \n",
    "\n",
    "    # 2. request(URL) > response : 받아지는 것은 json(str)\n",
    "    response = requests.get(url)\n",
    "    \n",
    "    # 3. json(str) > list, dict > DataFrame\n",
    "    data = response.json()\n",
    "    # 두개의 컬럼만 선택해서 리턴\n",
    "    return pd.DataFrame(data)[['localTradedAt', 'closePrice']]\n"
   ]
  },
  {
   "cell_type": "code",
   "execution_count": 17,
   "id": "a1021032",
   "metadata": {},
   "outputs": [
    {
     "data": {
      "text/html": [
       "<div>\n",
       "<style scoped>\n",
       "    .dataframe tbody tr th:only-of-type {\n",
       "        vertical-align: middle;\n",
       "    }\n",
       "\n",
       "    .dataframe tbody tr th {\n",
       "        vertical-align: top;\n",
       "    }\n",
       "\n",
       "    .dataframe thead th {\n",
       "        text-align: right;\n",
       "    }\n",
       "</style>\n",
       "<table border=\"1\" class=\"dataframe\">\n",
       "  <thead>\n",
       "    <tr style=\"text-align: right;\">\n",
       "      <th></th>\n",
       "      <th>localTradedAt</th>\n",
       "      <th>closePrice</th>\n",
       "    </tr>\n",
       "  </thead>\n",
       "  <tbody>\n",
       "    <tr>\n",
       "      <th>15</th>\n",
       "      <td>2023-01-26</td>\n",
       "      <td>738.94</td>\n",
       "    </tr>\n",
       "    <tr>\n",
       "      <th>16</th>\n",
       "      <td>2023-01-25</td>\n",
       "      <td>732.35</td>\n",
       "    </tr>\n",
       "    <tr>\n",
       "      <th>17</th>\n",
       "      <td>2023-01-20</td>\n",
       "      <td>717.97</td>\n",
       "    </tr>\n",
       "    <tr>\n",
       "      <th>18</th>\n",
       "      <td>2023-01-19</td>\n",
       "      <td>712.89</td>\n",
       "    </tr>\n",
       "    <tr>\n",
       "      <th>19</th>\n",
       "      <td>2023-01-18</td>\n",
       "      <td>711.75</td>\n",
       "    </tr>\n",
       "  </tbody>\n",
       "</table>\n",
       "</div>"
      ],
      "text/plain": [
       "   localTradedAt closePrice\n",
       "15    2023-01-26     738.94\n",
       "16    2023-01-25     732.35\n",
       "17    2023-01-20     717.97\n",
       "18    2023-01-19     712.89\n",
       "19    2023-01-18     711.75"
      ]
     },
     "execution_count": 17,
     "metadata": {},
     "output_type": "execute_result"
    }
   ],
   "source": [
    "# 1번째 페이지의 20개의 데이터를 가져오고 싶다\n",
    "df = stock_price('KOSDAQ', 1, 20)\n",
    "# df\n",
    "df.tail()"
   ]
  },
  {
   "cell_type": "code",
   "execution_count": 18,
   "id": "8fad59e1",
   "metadata": {},
   "outputs": [
    {
     "name": "stdout",
     "output_type": "stream",
     "text": [
      "Help on function stock_price in module __main__:\n",
      "\n",
      "stock_price(code, page, page_size)\n",
      "    This function is crawling stock price form naver. # 함수 설명\n",
      "    params: # 파라미터\n",
      "        code : str : KOSPI, KOSDAQ\n",
      "        page : int\n",
      "        page_size : int\n",
      "    return: # 함수를 실행했을 때 나오는 데이터 타입\n",
      "        type : DataFrame\n",
      "\n"
     ]
    }
   ],
   "source": [
    "# 독스트링 볼 수 있음 >> 함수를 어떻게 사용하는지 \n",
    "# 아니면 함수 이름 위에 마우스 호버하거나\n",
    "# 함수 이름치고 shift + tab 누르면 어떻게 쓰는지 보여줌\n",
    "help(stock_price)"
   ]
  },
  {
   "cell_type": "code",
   "execution_count": 20,
   "id": "d93018ce",
   "metadata": {},
   "outputs": [
    {
     "name": "stdout",
     "output_type": "stream",
     "text": [
      "a,b\n"
     ]
    }
   ],
   "source": [
    "print('a', 'b', sep = ',') # sep 는 공백 대신 , 넣겠다 \n",
    "# end = '역슬래쉬 t'는 개행하지 않고 탭으로 하겠다"
   ]
  },
  {
   "cell_type": "code",
   "execution_count": 21,
   "id": "3ee62341",
   "metadata": {},
   "outputs": [
    {
     "data": {
      "text/plain": [
       "requests.models.Response"
      ]
     },
     "execution_count": 21,
     "metadata": {},
     "output_type": "execute_result"
    }
   ],
   "source": [
    "type(response)"
   ]
  },
  {
   "cell_type": "code",
   "execution_count": 23,
   "id": "c88bef1a",
   "metadata": {},
   "outputs": [
    {
     "data": {
      "text/plain": [
       "['__attrs__',\n",
       " '__bool__',\n",
       " '__class__',\n",
       " '__delattr__',\n",
       " '__dict__',\n",
       " '__dir__',\n",
       " '__doc__',\n",
       " '__enter__',\n",
       " '__eq__',\n",
       " '__exit__',\n",
       " '__format__',\n",
       " '__ge__',\n",
       " '__getattribute__',\n",
       " '__getstate__',\n",
       " '__gt__',\n",
       " '__hash__',\n",
       " '__init__',\n",
       " '__init_subclass__',\n",
       " '__iter__',\n",
       " '__le__',\n",
       " '__lt__',\n",
       " '__module__',\n",
       " '__ne__',\n",
       " '__new__',\n",
       " '__nonzero__',\n",
       " '__reduce__',\n",
       " '__reduce_ex__',\n",
       " '__repr__',\n",
       " '__setattr__',\n",
       " '__setstate__',\n",
       " '__sizeof__',\n",
       " '__str__',\n",
       " '__subclasshook__',\n",
       " '__weakref__',\n",
       " '_content',\n",
       " '_content_consumed',\n",
       " '_next',\n",
       " 'apparent_encoding',\n",
       " 'close',\n",
       " 'connection',\n",
       " 'content',\n",
       " 'cookies',\n",
       " 'elapsed',\n",
       " 'encoding',\n",
       " 'headers',\n",
       " 'history',\n",
       " 'is_permanent_redirect',\n",
       " 'is_redirect',\n",
       " 'iter_content',\n",
       " 'iter_lines',\n",
       " 'json',\n",
       " 'links',\n",
       " 'next',\n",
       " 'ok',\n",
       " 'raise_for_status',\n",
       " 'raw',\n",
       " 'reason',\n",
       " 'request',\n",
       " 'status_code',\n",
       " 'text',\n",
       " 'url']"
      ]
     },
     "execution_count": 23,
     "metadata": {},
     "output_type": "execute_result"
    }
   ],
   "source": [
    "# __는 스페셜 메소드\n",
    "# 객체에서 쓸 수 있는 메소드를 보고 싶으면 dir\n",
    "dir(response)\n"
   ]
  },
  {
   "cell_type": "code",
   "execution_count": 25,
   "id": "69476164",
   "metadata": {},
   "outputs": [
    {
     "data": {
      "text/plain": [
       "['apparent_encoding',\n",
       " 'close',\n",
       " 'connection',\n",
       " 'content',\n",
       " 'cookies',\n",
       " 'elapsed',\n",
       " 'encoding',\n",
       " 'headers',\n",
       " 'history',\n",
       " 'is_permanent_redirect',\n",
       " 'is_redirect',\n",
       " 'iter_content',\n",
       " 'iter_lines',\n",
       " 'json',\n",
       " 'links',\n",
       " 'next',\n",
       " 'ok',\n",
       " 'raise_for_status',\n",
       " 'raw',\n",
       " 'reason',\n",
       " 'request',\n",
       " 'status_code',\n",
       " 'text',\n",
       " 'url']"
      ]
     },
     "execution_count": 25,
     "metadata": {},
     "output_type": "execute_result"
    }
   ],
   "source": [
    "# 스페셜 메소드를 제외하고 보고 싶을 때! \n",
    "[var for var in dir(response) if var[0] !='_']"
   ]
  },
  {
   "cell_type": "code",
   "execution_count": null,
   "id": "f407d3ce",
   "metadata": {},
   "outputs": [],
   "source": []
  },
  {
   "cell_type": "markdown",
   "id": "30b5340b",
   "metadata": {
    "id": "30b5340b"
   },
   "source": [
    "#### 5. 원달러 환율 데이터 수집 : 실습"
   ]
  },
  {
   "cell_type": "code",
   "execution_count": 39,
   "id": "46ee645e",
   "metadata": {},
   "outputs": [],
   "source": [
    "def exchange_rate(code = 'FX_USDKRW', page = 1):\n",
    "  # 1. URL 모바일, 웹 환경 상관없는데 모바일 환경이 간결해서 좀 더 쉬움\n",
    "  url = f'https://m.stock.naver.com/front-api/v1/marketIndex/prices?page={page}&category=exchange&reutersCode={code}'\n",
    "  # 2. request(URL) > response(json(str))\n",
    "  response = requests.get(url)\n",
    "  \n",
    "  \n",
    "  # 3. json(str) > List, dict > DataFrame\n",
    "  data = response.json()['result']\n",
    "  return pd.DataFrame(data)[['localTradedAt', 'closePrice']]\n",
    "  "
   ]
  },
  {
   "cell_type": "code",
   "execution_count": 58,
   "id": "367cd58a",
   "metadata": {},
   "outputs": [
    {
     "data": {
      "text/html": [
       "<div>\n",
       "<style scoped>\n",
       "    .dataframe tbody tr th:only-of-type {\n",
       "        vertical-align: middle;\n",
       "    }\n",
       "\n",
       "    .dataframe tbody tr th {\n",
       "        vertical-align: top;\n",
       "    }\n",
       "\n",
       "    .dataframe thead th {\n",
       "        text-align: right;\n",
       "    }\n",
       "</style>\n",
       "<table border=\"1\" class=\"dataframe\">\n",
       "  <thead>\n",
       "    <tr style=\"text-align: right;\">\n",
       "      <th></th>\n",
       "      <th>localTradedAt</th>\n",
       "      <th>closePrice</th>\n",
       "    </tr>\n",
       "  </thead>\n",
       "  <tbody>\n",
       "    <tr>\n",
       "      <th>0</th>\n",
       "      <td>2023-02-16</td>\n",
       "      <td>1,281.60</td>\n",
       "    </tr>\n",
       "    <tr>\n",
       "      <th>1</th>\n",
       "      <td>2023-02-15</td>\n",
       "      <td>1,289.00</td>\n",
       "    </tr>\n",
       "    <tr>\n",
       "      <th>2</th>\n",
       "      <td>2023-02-14</td>\n",
       "      <td>1,270.00</td>\n",
       "    </tr>\n",
       "    <tr>\n",
       "      <th>3</th>\n",
       "      <td>2023-02-13</td>\n",
       "      <td>1,279.00</td>\n",
       "    </tr>\n",
       "    <tr>\n",
       "      <th>4</th>\n",
       "      <td>2023-02-10</td>\n",
       "      <td>1,270.50</td>\n",
       "    </tr>\n",
       "    <tr>\n",
       "      <th>5</th>\n",
       "      <td>2023-02-09</td>\n",
       "      <td>1,259.00</td>\n",
       "    </tr>\n",
       "    <tr>\n",
       "      <th>6</th>\n",
       "      <td>2023-02-08</td>\n",
       "      <td>1,260.00</td>\n",
       "    </tr>\n",
       "    <tr>\n",
       "      <th>7</th>\n",
       "      <td>2023-02-07</td>\n",
       "      <td>1,262.00</td>\n",
       "    </tr>\n",
       "    <tr>\n",
       "      <th>8</th>\n",
       "      <td>2023-02-06</td>\n",
       "      <td>1,258.00</td>\n",
       "    </tr>\n",
       "    <tr>\n",
       "      <th>9</th>\n",
       "      <td>2023-02-03</td>\n",
       "      <td>1,251.00</td>\n",
       "    </tr>\n",
       "    <tr>\n",
       "      <th>10</th>\n",
       "      <td>2023-02-02</td>\n",
       "      <td>1,227.00</td>\n",
       "    </tr>\n",
       "    <tr>\n",
       "      <th>11</th>\n",
       "      <td>2023-02-01</td>\n",
       "      <td>1,231.50</td>\n",
       "    </tr>\n",
       "    <tr>\n",
       "      <th>12</th>\n",
       "      <td>2023-01-31</td>\n",
       "      <td>1,236.00</td>\n",
       "    </tr>\n",
       "    <tr>\n",
       "      <th>13</th>\n",
       "      <td>2023-01-30</td>\n",
       "      <td>1,230.00</td>\n",
       "    </tr>\n",
       "    <tr>\n",
       "      <th>14</th>\n",
       "      <td>2023-01-27</td>\n",
       "      <td>1,235.00</td>\n",
       "    </tr>\n",
       "    <tr>\n",
       "      <th>15</th>\n",
       "      <td>2023-01-26</td>\n",
       "      <td>1,234.50</td>\n",
       "    </tr>\n",
       "    <tr>\n",
       "      <th>16</th>\n",
       "      <td>2023-01-25</td>\n",
       "      <td>1,236.50</td>\n",
       "    </tr>\n",
       "    <tr>\n",
       "      <th>17</th>\n",
       "      <td>2023-01-20</td>\n",
       "      <td>1,240.00</td>\n",
       "    </tr>\n",
       "    <tr>\n",
       "      <th>18</th>\n",
       "      <td>2023-01-19</td>\n",
       "      <td>1,237.00</td>\n",
       "    </tr>\n",
       "    <tr>\n",
       "      <th>19</th>\n",
       "      <td>2023-01-18</td>\n",
       "      <td>1,230.00</td>\n",
       "    </tr>\n",
       "  </tbody>\n",
       "</table>\n",
       "</div>"
      ],
      "text/plain": [
       "   localTradedAt closePrice\n",
       "0     2023-02-16   1,281.60\n",
       "1     2023-02-15   1,289.00\n",
       "2     2023-02-14   1,270.00\n",
       "3     2023-02-13   1,279.00\n",
       "4     2023-02-10   1,270.50\n",
       "5     2023-02-09   1,259.00\n",
       "6     2023-02-08   1,260.00\n",
       "7     2023-02-07   1,262.00\n",
       "8     2023-02-06   1,258.00\n",
       "9     2023-02-03   1,251.00\n",
       "10    2023-02-02   1,227.00\n",
       "11    2023-02-01   1,231.50\n",
       "12    2023-01-31   1,236.00\n",
       "13    2023-01-30   1,230.00\n",
       "14    2023-01-27   1,235.00\n",
       "15    2023-01-26   1,234.50\n",
       "16    2023-01-25   1,236.50\n",
       "17    2023-01-20   1,240.00\n",
       "18    2023-01-19   1,237.00\n",
       "19    2023-01-18   1,230.00"
      ]
     },
     "execution_count": 58,
     "metadata": {},
     "output_type": "execute_result"
    }
   ],
   "source": [
    "usd_1 = exchange_rate(page = 1)\n",
    "usd_2 = exchange_rate(page = 2)\n",
    "usd_df = pd.concat([usd_1, usd_2], ignore_index=True) # ignore_index 하면 정렬됨\n",
    "usd_df"
   ]
  },
  {
   "attachments": {},
   "cell_type": "markdown",
   "id": "18120108",
   "metadata": {},
   "source": [
    "## 코스피 데이터 가져오기"
   ]
  },
  {
   "cell_type": "code",
   "execution_count": 45,
   "id": "7bb83319",
   "metadata": {},
   "outputs": [
    {
     "data": {
      "text/html": [
       "<div>\n",
       "<style scoped>\n",
       "    .dataframe tbody tr th:only-of-type {\n",
       "        vertical-align: middle;\n",
       "    }\n",
       "\n",
       "    .dataframe tbody tr th {\n",
       "        vertical-align: top;\n",
       "    }\n",
       "\n",
       "    .dataframe thead th {\n",
       "        text-align: right;\n",
       "    }\n",
       "</style>\n",
       "<table border=\"1\" class=\"dataframe\">\n",
       "  <thead>\n",
       "    <tr style=\"text-align: right;\">\n",
       "      <th></th>\n",
       "      <th>localTradedAt</th>\n",
       "      <th>closePrice</th>\n",
       "    </tr>\n",
       "  </thead>\n",
       "  <tbody>\n",
       "    <tr>\n",
       "      <th>18</th>\n",
       "      <td>2023-01-19</td>\n",
       "      <td>2,380.34</td>\n",
       "    </tr>\n",
       "    <tr>\n",
       "      <th>19</th>\n",
       "      <td>2023-01-18</td>\n",
       "      <td>2,368.32</td>\n",
       "    </tr>\n",
       "  </tbody>\n",
       "</table>\n",
       "</div>"
      ],
      "text/plain": [
       "   localTradedAt closePrice\n",
       "18    2023-01-19   2,380.34\n",
       "19    2023-01-18   2,368.32"
      ]
     },
     "execution_count": 45,
     "metadata": {},
     "output_type": "execute_result"
    }
   ],
   "source": [
    "kospi_df = stock_price('KOSPI', 1, 20)\n",
    "kospi_df.tail(2)"
   ]
  },
  {
   "attachments": {},
   "cell_type": "markdown",
   "id": "e059525d",
   "metadata": {},
   "source": [
    "## 코스닥 데이터 가져오기"
   ]
  },
  {
   "cell_type": "code",
   "execution_count": 49,
   "id": "a3b8ddfd",
   "metadata": {},
   "outputs": [
    {
     "data": {
      "text/html": [
       "<div>\n",
       "<style scoped>\n",
       "    .dataframe tbody tr th:only-of-type {\n",
       "        vertical-align: middle;\n",
       "    }\n",
       "\n",
       "    .dataframe tbody tr th {\n",
       "        vertical-align: top;\n",
       "    }\n",
       "\n",
       "    .dataframe thead th {\n",
       "        text-align: right;\n",
       "    }\n",
       "</style>\n",
       "<table border=\"1\" class=\"dataframe\">\n",
       "  <thead>\n",
       "    <tr style=\"text-align: right;\">\n",
       "      <th></th>\n",
       "      <th>localTradedAt</th>\n",
       "      <th>closePrice</th>\n",
       "    </tr>\n",
       "  </thead>\n",
       "  <tbody>\n",
       "    <tr>\n",
       "      <th>18</th>\n",
       "      <td>2022-12-21</td>\n",
       "      <td>705.70</td>\n",
       "    </tr>\n",
       "    <tr>\n",
       "      <th>19</th>\n",
       "      <td>2022-12-20</td>\n",
       "      <td>703.13</td>\n",
       "    </tr>\n",
       "  </tbody>\n",
       "</table>\n",
       "</div>"
      ],
      "text/plain": [
       "   localTradedAt closePrice\n",
       "18    2022-12-21     705.70\n",
       "19    2022-12-20     703.13"
      ]
     },
     "execution_count": 49,
     "metadata": {},
     "output_type": "execute_result"
    }
   ],
   "source": [
    "kosdaq_df = stock_price('KOSDAQ', 2, 20)\n",
    "kosdaq_df.tail(2)"
   ]
  },
  {
   "cell_type": "markdown",
   "id": "13e21944",
   "metadata": {
    "id": "13e21944"
   },
   "source": [
    "#### 6. 시각화"
   ]
  },
  {
   "attachments": {},
   "cell_type": "markdown",
   "id": "a7892271",
   "metadata": {},
   "source": [
    "### 데이터 전처리 먼저... 수치형이 아니면 시각화가 안될 수 있음\n"
   ]
  },
  {
   "cell_type": "code",
   "execution_count": 53,
   "id": "6591e91a",
   "metadata": {},
   "outputs": [
    {
     "data": {
      "text/plain": [
       "0     1,282.60\n",
       "1     1,289.00\n",
       "2     1,270.00\n",
       "3     1,279.00\n",
       "4     1,270.50\n",
       "5     1,259.00\n",
       "6     1,260.00\n",
       "7     1,262.00\n",
       "8     1,258.00\n",
       "9     1,251.00\n",
       "10    1,227.00\n",
       "11    1,231.50\n",
       "12    1,236.00\n",
       "13    1,230.00\n",
       "14    1,235.00\n",
       "15    1,234.50\n",
       "16    1,236.50\n",
       "17    1,240.00\n",
       "18    1,237.00\n",
       "19    1,230.00\n",
       "Name: closePrice, dtype: object"
      ]
     },
     "execution_count": 53,
     "metadata": {},
     "output_type": "execute_result"
    }
   ],
   "source": [
    "usd_df['closePrice'] # 콤마가 붙어서 나옴..."
   ]
  },
  {
   "attachments": {},
   "cell_type": "markdown",
   "id": "0cb5b5d5",
   "metadata": {},
   "source": [
    "내가 쓴거"
   ]
  },
  {
   "cell_type": "code",
   "execution_count": 59,
   "id": "3dd29f18",
   "metadata": {},
   "outputs": [
    {
     "data": {
      "text/plain": [
       "localTradedAt     object\n",
       "closePrice        object\n",
       "usd              float64\n",
       "dtype: object"
      ]
     },
     "execution_count": 59,
     "metadata": {},
     "output_type": "execute_result"
    }
   ],
   "source": [
    "# 데이터 전처리 : 데이터 타입 변경\n",
    "# 숫자에 , 콤마가 있으면 수치형이 아님 콤마 제거해 주자\n",
    "usd_df['usd'] = usd_df['closePrice'].apply(lambda data: float(data.replace(',', ''))) # apply 쓰면 괄호 안에 적힌 함수를 모든 요소에 적용됨: 람다 함수 >> ','를 '' 아무것도 없는걸로 바꿈\n",
    "# 콤마가 있는데 astype 쓰면 error남 근데 걍 그러지 말고 앞에 float 부여주셈\n",
    "usd_df.dtypes\n",
    "# 다시 실행하면 이미 콤마가 제거된 상태인데 한 번 더 실행해서 없애줄 수가 없어서 에러나는겨"
   ]
  },
  {
   "attachments": {},
   "cell_type": "markdown",
   "id": "e85e1bf3",
   "metadata": {},
   "source": [
    "강사님이 쓴거"
   ]
  },
  {
   "cell_type": "code",
   "execution_count": 60,
   "id": "7f23389d",
   "metadata": {},
   "outputs": [
    {
     "data": {
      "text/html": [
       "<div>\n",
       "<style scoped>\n",
       "    .dataframe tbody tr th:only-of-type {\n",
       "        vertical-align: middle;\n",
       "    }\n",
       "\n",
       "    .dataframe tbody tr th {\n",
       "        vertical-align: top;\n",
       "    }\n",
       "\n",
       "    .dataframe thead th {\n",
       "        text-align: right;\n",
       "    }\n",
       "</style>\n",
       "<table border=\"1\" class=\"dataframe\">\n",
       "  <thead>\n",
       "    <tr style=\"text-align: right;\">\n",
       "      <th></th>\n",
       "      <th>localTradedAt</th>\n",
       "      <th>closePrice</th>\n",
       "      <th>usd</th>\n",
       "    </tr>\n",
       "  </thead>\n",
       "  <tbody>\n",
       "    <tr>\n",
       "      <th>18</th>\n",
       "      <td>2023-01-19</td>\n",
       "      <td>1,237.00</td>\n",
       "      <td>1237.0</td>\n",
       "    </tr>\n",
       "    <tr>\n",
       "      <th>19</th>\n",
       "      <td>2023-01-18</td>\n",
       "      <td>1,230.00</td>\n",
       "      <td>1230.0</td>\n",
       "    </tr>\n",
       "  </tbody>\n",
       "</table>\n",
       "</div>"
      ],
      "text/plain": [
       "   localTradedAt closePrice     usd\n",
       "18    2023-01-19   1,237.00  1237.0\n",
       "19    2023-01-18   1,230.00  1230.0"
      ]
     },
     "execution_count": 60,
     "metadata": {},
     "output_type": "execute_result"
    }
   ],
   "source": [
    "# 데이터 전처리 : 데이터 타입 변경 \n",
    "usd_1 = exchange_rate(page=1) \n",
    "usd_2 = exchange_rate(page=2) \n",
    "usd_df = pd.concat([usd_1, usd_2], ignore_index=True) \n",
    "usd_df['usd'] = usd_df['closePrice'].apply(lambda data: float(data.replace(',', ''))) \n",
    "usd_df.tail(2)"
   ]
  },
  {
   "attachments": {},
   "cell_type": "markdown",
   "id": "c65973e8",
   "metadata": {},
   "source": [
    "강사님이 쓴거"
   ]
  },
  {
   "cell_type": "code",
   "execution_count": 63,
   "id": "41a373eb",
   "metadata": {},
   "outputs": [],
   "source": [
    "kospi_df, kosdaq_df = stock_price('KOSPI', 1, 20), stock_price('KOSDAQ', 1, 20)\n",
    "kospi_df['kospi'] = kospi_df['closePrice'].apply(lambda data: float(data.replace(',', ''))) \n",
    "kosdaq_df['kosdaq'] = kosdaq_df['closePrice'].apply(lambda data: float(data.replace(',', '')))"
   ]
  },
  {
   "cell_type": "code",
   "execution_count": 65,
   "id": "811bf56a",
   "metadata": {},
   "outputs": [
    {
     "data": {
      "text/plain": [
       "localTradedAt     object\n",
       "closePrice        object\n",
       "kospi            float64\n",
       "dtype: object"
      ]
     },
     "execution_count": 65,
     "metadata": {},
     "output_type": "execute_result"
    }
   ],
   "source": [
    "kospi_df.dtypes"
   ]
  },
  {
   "cell_type": "code",
   "execution_count": 64,
   "id": "1a85ae02",
   "metadata": {},
   "outputs": [
    {
     "data": {
      "text/plain": [
       "localTradedAt     object\n",
       "closePrice        object\n",
       "kosdaq           float64\n",
       "dtype: object"
      ]
     },
     "execution_count": 64,
     "metadata": {},
     "output_type": "execute_result"
    }
   ],
   "source": [
    "kosdaq_df.dtypes"
   ]
  },
  {
   "attachments": {},
   "cell_type": "markdown",
   "id": "6b406f36",
   "metadata": {},
   "source": [
    "4개의 컬럼이 있는 데이터 프레임 만들기"
   ]
  },
  {
   "cell_type": "code",
   "execution_count": 68,
   "id": "8931264a",
   "metadata": {},
   "outputs": [
    {
     "data": {
      "text/html": [
       "<div>\n",
       "<style scoped>\n",
       "    .dataframe tbody tr th:only-of-type {\n",
       "        vertical-align: middle;\n",
       "    }\n",
       "\n",
       "    .dataframe tbody tr th {\n",
       "        vertical-align: top;\n",
       "    }\n",
       "\n",
       "    .dataframe thead th {\n",
       "        text-align: right;\n",
       "    }\n",
       "</style>\n",
       "<table border=\"1\" class=\"dataframe\">\n",
       "  <thead>\n",
       "    <tr style=\"text-align: right;\">\n",
       "      <th></th>\n",
       "      <th>localTradedAt</th>\n",
       "      <th>usd</th>\n",
       "      <th>kospi</th>\n",
       "      <th>kosdaq</th>\n",
       "    </tr>\n",
       "  </thead>\n",
       "  <tbody>\n",
       "    <tr>\n",
       "      <th>18</th>\n",
       "      <td>2023-01-19</td>\n",
       "      <td>1237.0</td>\n",
       "      <td>2380.34</td>\n",
       "      <td>712.89</td>\n",
       "    </tr>\n",
       "    <tr>\n",
       "      <th>19</th>\n",
       "      <td>2023-01-18</td>\n",
       "      <td>1230.0</td>\n",
       "      <td>2368.32</td>\n",
       "      <td>711.75</td>\n",
       "    </tr>\n",
       "  </tbody>\n",
       "</table>\n",
       "</div>"
      ],
      "text/plain": [
       "   localTradedAt     usd    kospi  kosdaq\n",
       "18    2023-01-19  1237.0  2380.34  712.89\n",
       "19    2023-01-18  1230.0  2368.32  711.75"
      ]
     },
     "execution_count": 68,
     "metadata": {},
     "output_type": "execute_result"
    }
   ],
   "source": [
    "df = usd_df.copy() # 깊은 복사가 들어가는?\n",
    "df['kospi'] = kospi_df['kospi'] # 카피한 df에 열을 추가해서 거기 코스피디에프의 코스피열을 복사?\n",
    "df['kosdaq'] = kosdaq_df['kosdaq'] \n",
    "df = df.drop(columns=['closePrice'])\n",
    "df.tail(2)\n"
   ]
  },
  {
   "attachments": {},
   "cell_type": "markdown",
   "id": "e251b884",
   "metadata": {},
   "source": [
    "# 파이썬 기본 문법"
   ]
  },
  {
   "attachments": {},
   "cell_type": "markdown",
   "id": "a702cdbc",
   "metadata": {},
   "source": [
    "### 람다를 사용하는 이유, 사용하는 방법"
   ]
  },
  {
   "cell_type": "code",
   "execution_count": 69,
   "id": "9c643ec9",
   "metadata": {},
   "outputs": [],
   "source": [
    "# lambda : 파라미터와 리턴으로 이루어진 함수를 간단하게 작성하는 방법\n",
    "\n",
    "# 함수 3개 선언 > 저장공간 3칸 사용\n",
    "def plus(n1, n2) :\n",
    "  return n1 + n2\n",
    "def minus(n1, n2):\n",
    "  return n1 - n2\n",
    "def calc(func, n1, n2):\n",
    "  return func(n1, n2)"
   ]
  },
  {
   "cell_type": "code",
   "execution_count": 70,
   "id": "a8b0b992",
   "metadata": {},
   "outputs": [
    {
     "data": {
      "text/plain": [
       "3"
      ]
     },
     "execution_count": 70,
     "metadata": {},
     "output_type": "execute_result"
    }
   ],
   "source": [
    "calc(plus, 1, 2)"
   ]
  },
  {
   "cell_type": "code",
   "execution_count": 71,
   "id": "f9870735",
   "metadata": {},
   "outputs": [
    {
     "data": {
      "text/plain": [
       "3"
      ]
     },
     "execution_count": 71,
     "metadata": {},
     "output_type": "execute_result"
    }
   ],
   "source": [
    "plus_lambda = lambda n1, n2: n1 + n2 # n1, n2 : n1 + n2 >>>>> 인자 : 리턴\n",
    "plus_lambda(1, 2)"
   ]
  },
  {
   "attachments": {},
   "cell_type": "markdown",
   "id": "31f41633",
   "metadata": {},
   "source": [
    "장점은 뭘까? \n",
    "- 위에서는 저장공간 3칸을 썼음\n",
    "- 람다를 쓰면 함수가 들어가는 부분에 함수를 선언하지 않고 람다를 넣어주면 그냥 3이 나옴\n",
    "- 코드 가독성도 좋아지고\n",
    "- 저장공간 3칸 쓸걸 한칸이면 됨"
   ]
  },
  {
   "cell_type": "code",
   "execution_count": 74,
   "id": "61a6b20a",
   "metadata": {},
   "outputs": [
    {
     "data": {
      "text/plain": [
       "(3, -1)"
      ]
     },
     "execution_count": 74,
     "metadata": {},
     "output_type": "execute_result"
    }
   ],
   "source": [
    "calc(lambda n1, n2: n1+n2, 1, 2), calc(lambda n1, n2: n1 - n2, 1, 2) # 위의 칼크 함수랑 같음;; "
   ]
  },
  {
   "attachments": {},
   "cell_type": "markdown",
   "id": "f79a6286",
   "metadata": {},
   "source": [
    "# 얕은 복사와 깊은 복사"
   ]
  },
  {
   "cell_type": "code",
   "execution_count": 75,
   "id": "8c1f5472",
   "metadata": {},
   "outputs": [
    {
     "name": "stdout",
     "output_type": "stream",
     "text": [
      "[1, 2, 3] [1, 2, 3]\n",
      "[1, 4, 3] [1, 4, 3]\n"
     ]
    }
   ],
   "source": [
    "# 얕은 복사\n",
    "data1 = [1,2,3]\n",
    "data2 = data1\n",
    "print(data1, data2)\n",
    "data2[1] = 4\n",
    "print(data1, data2) # data2만 바꿨는데 data1도 바뀜.\n"
   ]
  },
  {
   "cell_type": "code",
   "execution_count": 76,
   "id": "bec43792",
   "metadata": {},
   "outputs": [
    {
     "name": "stdout",
     "output_type": "stream",
     "text": [
      "[1, 2, 3] [1, 2, 3] [1, 2, 3]\n",
      "[1, 4, 3] [1, 4, 3] [1, 2, 3]\n"
     ]
    }
   ],
   "source": [
    "# 깊은 복사 >> .copy()\n",
    "data1 = [1, 2, 3] \n",
    "data2 = data1 # 얕은 복사\n",
    "data3 = data1.copy() # 깊은 복사\n",
    "print(data1, data2, data3) \n",
    "data1[1] = 4 \n",
    "print(data1, data2, data3)"
   ]
  },
  {
   "cell_type": "code",
   "execution_count": 77,
   "id": "2d2d3f5f",
   "metadata": {},
   "outputs": [
    {
     "data": {
      "text/plain": [
       "(2115107933824, 2115107933824, 2115100627712)"
      ]
     },
     "execution_count": 77,
     "metadata": {},
     "output_type": "execute_result"
    }
   ],
   "source": [
    "# 주소값 보기\n",
    "id(data1), id(data2), id(data3)"
   ]
  },
  {
   "attachments": {},
   "cell_type": "markdown",
   "id": "e2420821",
   "metadata": {},
   "source": [
    "# 본격적인 시각화"
   ]
  },
  {
   "cell_type": "code",
   "execution_count": null,
   "id": "fb7cc058",
   "metadata": {},
   "outputs": [],
   "source": []
  },
  {
   "cell_type": "markdown",
   "id": "c1c52868",
   "metadata": {
    "id": "c1c52868"
   },
   "source": [
    "#### 7. 데이터 스케일링\n",
    "- min max scaling\n",
    "\n",
    "\n",
    "- $z = \\frac{x_i - min(x)}{max(x) - min(x)} (0 \\leqq z \\leqq 1)$\n",
    "\n",
    "\n",
    "- latex syntax : `https://jjycjnmath.tistory.com/117`"
   ]
  },
  {
   "cell_type": "code",
   "execution_count": null,
   "id": "f7ba6e27",
   "metadata": {},
   "outputs": [],
   "source": []
  },
  {
   "cell_type": "markdown",
   "id": "3d862521",
   "metadata": {
    "id": "3d862521"
   },
   "source": [
    "#### 8. 상관관계 분석\n",
    "- 피어슨 상관계수(Pearson Correlation Coefficient)\n",
    "- 두 데이터 집합의 상관도를 분석할때 사용되는 지표\n",
    "- 상관계수의 해석\n",
    "    - -1에 가까울수록 서로 반대방향으로 움직임\n",
    "    - 1에 가까울수록 서로 같은방향으로 움직임\n",
    "    - 0에 가까울수록 두 데이터는 관계가 없음"
   ]
  },
  {
   "cell_type": "code",
   "execution_count": null,
   "id": "4e51967a",
   "metadata": {},
   "outputs": [],
   "source": []
  }
 ],
 "metadata": {
  "colab": {
   "name": "01_requests_naver_stock.ipynb",
   "provenance": []
  },
  "kernelspec": {
   "display_name": "base",
   "language": "python",
   "name": "python3"
  },
  "language_info": {
   "codemirror_mode": {
    "name": "ipython",
    "version": 3
   },
   "file_extension": ".py",
   "mimetype": "text/x-python",
   "name": "python",
   "nbconvert_exporter": "python",
   "pygments_lexer": "ipython3",
   "version": "3.9.13"
  },
  "toc": {
   "base_numbering": 1,
   "nav_menu": {},
   "number_sections": false,
   "sideBar": true,
   "skip_h1_title": false,
   "title_cell": "Table of Contents",
   "title_sidebar": "Contents",
   "toc_cell": false,
   "toc_position": {},
   "toc_section_display": true,
   "toc_window_display": false
  },
  "vscode": {
   "interpreter": {
    "hash": "f08154012ddadd8e950e6e9e035c7a7b32c136e7647e9b7c77e02eb723a8bedb"
   }
  }
 },
 "nbformat": 4,
 "nbformat_minor": 5
}
