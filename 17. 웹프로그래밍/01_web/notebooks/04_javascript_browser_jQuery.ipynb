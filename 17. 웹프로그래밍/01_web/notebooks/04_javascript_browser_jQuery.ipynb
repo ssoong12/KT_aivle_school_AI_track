{
 "cells": [
  {
   "cell_type": "markdown",
   "id": "e91c2998",
   "metadata": {},
   "source": [
    "#### javascript를 이용한 element 선택\n",
    "- 아이디 : document.getElementById()\n",
    "- 클래스 : document.getElementByClassName()\n",
    "- 속성값 : document.getElementByName()\n",
    "- 태그 : document.getElementsByTagName()\n",
    "- 셀렉터 : document.querySelector()"
   ]
  },
  {
   "cell_type": "code",
   "execution_count": 9,
   "id": "a32069ab",
   "metadata": {},
   "outputs": [
    {
     "data": {
      "text/html": [
       "<input id=\"id-txt\" type=\"text\" value=\"mail_1\">\n",
       "<script>\n",
       "    var obj = document.getElementById(\"id-txt\");\n",
       "    console.log(obj.value);\n",
       "</script>\n"
      ],
      "text/plain": [
       "<IPython.core.display.HTML object>"
      ]
     },
     "metadata": {},
     "output_type": "display_data"
    }
   ],
   "source": [
    "%%html\n",
    "<input id=\"id-txt\" type=\"text\" value=\"mail_1\">\n",
    "<script>\n",
    "    var obj = document.getElementById(\"id-txt\");\n",
    "    console.log(obj.value);\n",
    "</script>"
   ]
  },
  {
   "cell_type": "code",
   "execution_count": 10,
   "id": "46e65c12",
   "metadata": {},
   "outputs": [
    {
     "data": {
      "text/html": [
       "<input class=\"class-txt\" type=\"text\" value=\"mail_2\">\n",
       "<script>\n",
       "    var obj = document.getElementsByClassName(\"class-txt\");\n",
       "    console.log(obj[0].value);\n",
       "</script>\n"
      ],
      "text/plain": [
       "<IPython.core.display.HTML object>"
      ]
     },
     "metadata": {},
     "output_type": "display_data"
    }
   ],
   "source": [
    "%%html\n",
    "<input class=\"class-txt\" type=\"text\" value=\"mail_2\">\n",
    "<script>\n",
    "    var obj = document.getElementsByClassName(\"class-txt\");\n",
    "    console.log(obj[0].value);\n",
    "</script>"
   ]
  },
  {
   "cell_type": "code",
   "execution_count": 11,
   "id": "72cceaf4",
   "metadata": {},
   "outputs": [
    {
     "data": {
      "text/html": [
       "<input type=\"text\" name=\"email\" value=\"mail_3\">\n",
       "<script>\n",
       "    var obj = document.getElementsByName(\"email\");\n",
       "    console.log(obj[0].value);\n",
       "</script>\n"
      ],
      "text/plain": [
       "<IPython.core.display.HTML object>"
      ]
     },
     "metadata": {},
     "output_type": "display_data"
    }
   ],
   "source": [
    "%%html\n",
    "<input type=\"text\" name=\"email\" value=\"mail_3\">\n",
    "<script>\n",
    "    var obj = document.getElementsByName(\"email\");\n",
    "    console.log(obj[0].value);\n",
    "</script>"
   ]
  },
  {
   "cell_type": "code",
   "execution_count": 12,
   "id": "88fa81c1",
   "metadata": {},
   "outputs": [
    {
     "data": {
      "text/html": [
       "<input type=\"text\" name=\"email\" value=\"mail_4\">\n",
       "<script>\n",
       "    var obj = document.getElementsByTagName(\"input\");\n",
       "    console.log(obj[3].value);\n",
       "</script>\n"
      ],
      "text/plain": [
       "<IPython.core.display.HTML object>"
      ]
     },
     "metadata": {},
     "output_type": "display_data"
    }
   ],
   "source": [
    "%%html\n",
    "<input type=\"text\" name=\"email\" value=\"mail_4\">\n",
    "<script>\n",
    "    var obj = document.getElementsByTagName(\"input\");\n",
    "    console.log(obj[3].value);\n",
    "</script>"
   ]
  },
  {
   "cell_type": "code",
   "execution_count": 13,
   "id": "8593daa2",
   "metadata": {},
   "outputs": [
    {
     "data": {
      "text/html": [
       "<p class=\"txt\">데이터 사이언스</p>\n",
       "<script>\n",
       "    var obj = document.querySelector(\".txt\");\n",
       "    console.log(obj);\n",
       "</script>\n"
      ],
      "text/plain": [
       "<IPython.core.display.HTML object>"
      ]
     },
     "metadata": {},
     "output_type": "display_data"
    }
   ],
   "source": [
    "%%html\n",
    "<p class=\"txt\">데이터 사이언스</p>\n",
    "<script>\n",
    "    var obj = document.querySelector(\".txt\");\n",
    "    console.log(obj);\n",
    "</script>"
   ]
  },
  {
   "cell_type": "markdown",
   "id": "9c795678",
   "metadata": {},
   "source": [
    "### jQuery\n",
    "- javascript에서 어렵게 사용하는 웹브라우져 객체들을 쉽게 사용할수 있게 만들어주는 자바스크립트 라이브러리\n",
    "- https://jquery.com/\n",
    "- 장점\n",
    "    - 이벤트 핸들링이 편하다.\n",
    "    - Dom 변경이 편하다.\n",
    "    - Ajax 통신이 편하다."
   ]
  },
  {
   "cell_type": "markdown",
   "id": "fb0f08db",
   "metadata": {},
   "source": [
    "- javascript event"
   ]
  },
  {
   "cell_type": "code",
   "execution_count": 14,
   "id": "48268434",
   "metadata": {},
   "outputs": [
    {
     "data": {
      "text/html": [
       "<button class=\"test-btn\">Click</button>\n",
       "<script>\n",
       "    var obj = document.querySelector(\".test-btn\");\n",
       "    obj.addEventListener(\"click\", function(){\n",
       "        alert(\"TEST\");\n",
       "    });\n",
       "</script>\n"
      ],
      "text/plain": [
       "<IPython.core.display.HTML object>"
      ]
     },
     "metadata": {},
     "output_type": "display_data"
    }
   ],
   "source": [
    "%%html\n",
    "<button class=\"test-btn\">Click</button>\n",
    "<script>\n",
    "    var obj = document.querySelector(\".test-btn\");\n",
    "    obj.addEventListener(\"click\", function(){\n",
    "        alert(\"TEST\");\n",
    "    });\n",
    "</script>"
   ]
  },
  {
   "cell_type": "markdown",
   "id": "138c0d94",
   "metadata": {},
   "source": [
    "- jquery event"
   ]
  },
  {
   "cell_type": "code",
   "execution_count": 15,
   "id": "65635acb",
   "metadata": {},
   "outputs": [
    {
     "data": {
      "text/html": [
       "<button class=\"test2-btn\">Click</button>\n",
       "<script src=\"https://cdnjs.cloudflare.com/ajax/libs/jquery/3.3.1/jquery.min.js\"></script>\n",
       "<script>\n",
       "    $('.test2-btn').on(\"click\", function(){\n",
       "        alert(\"jQuery TEST\");\n",
       "    });\n",
       "</script>\n"
      ],
      "text/plain": [
       "<IPython.core.display.HTML object>"
      ]
     },
     "metadata": {},
     "output_type": "display_data"
    }
   ],
   "source": [
    "%%html\n",
    "<button class=\"test2-btn\">Click</button>\n",
    "<script src=\"https://cdnjs.cloudflare.com/ajax/libs/jquery/3.6.4/jquery.min.js\"></script>\n",
    "<script>\n",
    "    $('.test2-btn').on(\"click\", function(){\n",
    "        alert(\"jQuery TEST\");\n",
    "    });\n",
    "</script>"
   ]
  },
  {
   "cell_type": "markdown",
   "id": "b1b381c2",
   "metadata": {},
   "source": [
    "- change document"
   ]
  },
  {
   "cell_type": "code",
   "execution_count": 16,
   "id": "203e378d",
   "metadata": {},
   "outputs": [
    {
     "data": {
      "text/html": [
       "<p class=\"data\">Data</p>\n",
       "<button class=\"test3-btn\">Click</button>\n",
       "<script src=\"https://cdnjs.cloudflare.com/ajax/libs/jquery/3.3.1/jquery.min.js\"></script>\n",
       "<script>\n",
       "    $('.test3-btn').on(\"click\", function(){\n",
       "        $('.data').text(\"Science\");\n",
       "    });\n",
       "</script>\n"
      ],
      "text/plain": [
       "<IPython.core.display.HTML object>"
      ]
     },
     "metadata": {},
     "output_type": "display_data"
    }
   ],
   "source": [
    "%%html\n",
    "<p class=\"data\">Data</p>\n",
    "<button class=\"test3-btn\">Click</button>\n",
    "<script src=\"https://cdnjs.cloudflare.com/ajax/libs/jquery/3.6.4/jquery.min.js\"></script>\n",
    "<script>\n",
    "    $('.test3-btn').on(\"click\", function(){\n",
    "        $('.data').text(\"Science\");\n",
    "    });\n",
    "</script>"
   ]
  },
  {
   "cell_type": "code",
   "execution_count": 17,
   "id": "a799c169",
   "metadata": {},
   "outputs": [
    {
     "data": {
      "text/html": [
       "<p class=\"data2\">Science</p>\n",
       "<button class=\"test4-btn\">Hide</button>\n",
       "<button class=\"test5-btn\">Show</button>\n",
       "<script src=\"https://cdnjs.cloudflare.com/ajax/libs/jquery/3.6.4/jquery.min.js\"></script>\n",
       "<script>\n",
       "    $('.test4-btn').on(\"click\", function(){\n",
       "        $('.data2').hide(1000);\n",
       "    });\n",
       "    $('.test5-btn').on(\"click\", function(){\n",
       "        $('.data2').show(1000);\n",
       "    });\n",
       "</script>\n"
      ],
      "text/plain": [
       "<IPython.core.display.HTML object>"
      ]
     },
     "metadata": {},
     "output_type": "display_data"
    }
   ],
   "source": [
    "%%html\n",
    "<p class=\"data2\">Science</p>\n",
    "<button class=\"test4-btn\">Hide</button>\n",
    "<button class=\"test5-btn\">Show</button>\n",
    "<script src=\"https://cdnjs.cloudflare.com/ajax/libs/jquery/3.6.4/jquery.min.js\"></script>\n",
    "<script>\n",
    "    $('.test4-btn').on(\"click\", function(){\n",
    "        $('.data2').hide(1000);\n",
    "    });\n",
    "    $('.test5-btn').on(\"click\", function(){\n",
    "        $('.data2').show(1000);\n",
    "    });\n",
    "</script>"
   ]
  },
  {
   "cell_type": "markdown",
   "id": "10856182",
   "metadata": {},
   "source": [
    "- Ajax(비동기) 통신으로 데이터 가져오기\n",
    "    - 직방 사이트의 API로 활용하여 데이터 가져오기"
   ]
  },
  {
   "cell_type": "code",
   "execution_count": 24,
   "id": "4b99b6d5",
   "metadata": {},
   "outputs": [
    {
     "data": {
      "text/html": [
       "<input type=\"text\" class=\"addr\" value=\"논현동\">\n",
       "<button class=\"get-data\">Info</button>\n",
       "<script src=\"https://cdnjs.cloudflare.com/ajax/libs/jquery/3.3.1/jquery.min.js\"></script>\n",
       "<script>\n",
       "    $('.get-data').on(\"click\", function(){\n",
       "        var addr = $('.addr').val();\n",
       "        var url = 'https://apis.zigbang.com/v2/search?leaseYn=N&q=' + addr + '&serviceType=원룸';\n",
       "        $.getJSON(url, function(result){\n",
       "            console.log(result.items[0]);\n",
       "        })\n",
       "    });\n",
       "</script>\n"
      ],
      "text/plain": [
       "<IPython.core.display.HTML object>"
      ]
     },
     "metadata": {},
     "output_type": "display_data"
    }
   ],
   "source": [
    "%%html\n",
    "<input type=\"text\" class=\"addr\" value=\"논현동\">\n",
    "<button class=\"get-data\">Info</button>\n",
    "<script src=\"https://cdnjs.cloudflare.com/ajax/libs/jquery/3.3.1/jquery.min.js\"></script>\n",
    "<script>\n",
    "    $('.get-data').on(\"click\", function(){\n",
    "        var addr = $('.addr').val();\n",
    "        var url = 'https://apis.zigbang.com/v2/search?leaseYn=N&q=' + addr + '&serviceType=원룸';\n",
    "        $.getJSON(url, function(result){\n",
    "            console.log(result.items[0]);\n",
    "        })\n",
    "    });\n",
    "</script>"
   ]
  }
 ],
 "metadata": {
  "kernelspec": {
   "display_name": "Python 3 (ipykernel)",
   "language": "python",
   "name": "python3"
  },
  "language_info": {
   "codemirror_mode": {
    "name": "ipython",
    "version": 3
   },
   "file_extension": ".py",
   "mimetype": "text/x-python",
   "name": "python",
   "nbconvert_exporter": "python",
   "pygments_lexer": "ipython3",
   "version": "3.8.5"
  }
 },
 "nbformat": 4,
 "nbformat_minor": 5
}
