{
 "cells": [
  {
   "cell_type": "markdown",
   "id": "095a78e0",
   "metadata": {},
   "source": [
    "## Javascript\n",
    "1. 변수선언 : RAM 사용하는 문법\n",
    "2. 데이터타입 : RAM 효율적으로 사용하는 문법\n",
    "3. 연산자 : CPU 사용하는 문법\n",
    "4. 조건문 : 코드를 효율적으로 사용하는 문법 : 조건에 따라 다른 코드 실행\n",
    "5. 반복문 : 코드를 효율적으로 사용하는 문법 : 특정 코드를 반복적으로 실행\n",
    "6. 함수 : 코드를 효율적으로 사용하는 문법 : 중복 코드를 묶어서 실행\n",
    "7. 객체 : 식별자 1개에 여러개의 데이터를 저장하는 문법 : 클래스, 데이터 타입 문법"
   ]
  },
  {
   "cell_type": "markdown",
   "id": "ad22cba2",
   "metadata": {},
   "source": [
    "### 개요\n",
    "- 웹브라우져에서 동작되는 동적으로 웹페이지를 바꾸고 이벤트를 처리하는 언어\n",
    "- 인터프리터, 동적타이핑, 객체지향\n",
    "- ECMAScript\n",
    "    - ECMA5, ECMA6, ECMA8 버전이 있음\n",
    "    - http://www.ecma-international.org/publications/standards/Ecma-262.htm"
   ]
  },
  {
   "cell_type": "markdown",
   "id": "3a4d4a4b",
   "metadata": {},
   "source": [
    "### 1. variable : 변수선언\n",
    "- 식별자 : 저장공간을 구분하는 문자열\n",
    "- 식별자 규칙\n",
    "    - 대소문자, 숫자, `_`, `$` 사용가능\n",
    "    - 숫자 가장 앞에 사용 X\n",
    "    - 예약어 사용 X\n",
    "- 식별자 컨벤션\n",
    "    - 상수 : UPPER_SNAKE_CASE\n",
    "    - 변수 : camelCase\n",
    "    - 함수 : camelCase\n",
    "    - 모듈 : PascalCase"
   ]
  },
  {
   "cell_type": "code",
   "execution_count": 1,
   "id": "343bd317",
   "metadata": {},
   "outputs": [],
   "source": [
    "// 식별자 1개, 데이터 1개\n",
    "var data1 = 10;\n",
    "var data2 = 'js';\n",
    "\n",
    "// 식별자 n개, 데이터 n개\n",
    "var data3 = 20, data4 = 'node';\n",
    "var data3 = 20,\n",
    "    data4 = 'node';\n",
    "\n",
    "// 식별자 n개, 데이터 1개\n",
    "var data5 = data6 = 'web';"
   ]
  },
  {
   "cell_type": "code",
   "execution_count": 2,
   "id": "1d2137c7",
   "metadata": {},
   "outputs": [
    {
     "name": "stdout",
     "output_type": "stream",
     "text": [
      "10 'js' 20 'node' 'web' 'web'\n"
     ]
    }
   ],
   "source": [
    "// console.log() : 식별자 데이터 출력\n",
    "console.log(data1, data2, data3, data4, data5, data6);"
   ]
  },
  {
   "cell_type": "markdown",
   "id": "91a59ad4",
   "metadata": {},
   "source": [
    "### 2. datatype : 데이터 타입\n",
    "- number : 숫자 데이터 타입(정수, 실수)\n",
    "- string : 문자열 데이터 타입\n",
    "- boolean : 논리값 데이터 타입\n",
    "- function : 코드 저장하는 함수 데이터 타입\n",
    "- object : 객체를 저장하는 데이터 타입"
   ]
  },
  {
   "cell_type": "code",
   "execution_count": 3,
   "id": "fd10469a",
   "metadata": {},
   "outputs": [],
   "source": [
    "var data1 = 1;\n",
    "var data2 = 'javascript';\n",
    "var data3 = true;\n",
    "var data4 = function(){ console.log('function'); };\n",
    "var data5 = {key: 'value'};"
   ]
  },
  {
   "cell_type": "code",
   "execution_count": 4,
   "id": "2eb2c8e7",
   "metadata": {},
   "outputs": [
    {
     "name": "stdout",
     "output_type": "stream",
     "text": [
      "number string boolean\n",
      "function object\n"
     ]
    }
   ],
   "source": [
    "// typeof : 함수가 아닌 명령어\n",
    "// 동적타이핑 : 데이터에 따라서 자동으로 데이터 타입 설정\n",
    "console.log(typeof data1, typeof data2, typeof data3)\n",
    "console.log(typeof data4, typeof data5)"
   ]
  },
  {
   "cell_type": "markdown",
   "id": "be6b5645",
   "metadata": {},
   "source": [
    "#### 없는 데이터의 표현\n",
    "- undefined : 선언은 되었으나 값이 할당되지 않음\n",
    "- null : 선언이 되어 값이 없음이 할당됨\n",
    "- NaN : Number 데이터 타입에서의 undefined, 0/0"
   ]
  },
  {
   "cell_type": "code",
   "execution_count": 5,
   "id": "260eb699",
   "metadata": {},
   "outputs": [
    {
     "name": "stdout",
     "output_type": "stream",
     "text": [
      "undefined undefined\n"
     ]
    }
   ],
   "source": [
    "var data = undefined;\n",
    "console.log(typeof data, data);"
   ]
  },
  {
   "cell_type": "code",
   "execution_count": 6,
   "id": "21e35f33",
   "metadata": {},
   "outputs": [
    {
     "name": "stdout",
     "output_type": "stream",
     "text": [
      "object null\n"
     ]
    }
   ],
   "source": [
    "var data = null;\n",
    "console.log(typeof data, data);"
   ]
  },
  {
   "cell_type": "code",
   "execution_count": 7,
   "id": "38ea775d",
   "metadata": {},
   "outputs": [
    {
     "name": "stdout",
     "output_type": "stream",
     "text": [
      "number NaN\n"
     ]
    }
   ],
   "source": [
    "var data = NaN;\n",
    "console.log(typeof data, data);"
   ]
  },
  {
   "cell_type": "code",
   "execution_count": 8,
   "id": "28fae264",
   "metadata": {},
   "outputs": [
    {
     "name": "stdout",
     "output_type": "stream",
     "text": [
      "false false\n"
     ]
    }
   ],
   "source": [
    "// NaN 데이터 타입은 비교연산하면 항상 NaN 출력\n",
    "console.log(NaN == NaN, NaN > NaN);"
   ]
  },
  {
   "cell_type": "markdown",
   "id": "95c7c70f",
   "metadata": {},
   "source": [
    "#### 데이터 타입의 형변환\n",
    "- Number() : 숫자 데이터 타입으로 변환\n",
    "- String() : 문자열 데이터 타입으로 변환\n",
    "- Boolean() : 논리값 데이터 타입으로 변환"
   ]
  },
  {
   "cell_type": "code",
   "execution_count": 9,
   "id": "fcd20350",
   "metadata": {},
   "outputs": [
    {
     "name": "stdout",
     "output_type": "stream",
     "text": [
      "string 1\n",
      "number boolean\n"
     ]
    }
   ],
   "source": [
    "var data1 = '1';\n",
    "var data2 = 2;\n",
    "console.log(typeof data1, data1);\n",
    "console.log(typeof Number(data1), typeof Boolean(data1));"
   ]
  },
  {
   "cell_type": "code",
   "execution_count": 10,
   "id": "00f9b839",
   "metadata": {},
   "outputs": [
    {
     "name": "stdout",
     "output_type": "stream",
     "text": [
      "12 3 12\n"
     ]
    }
   ],
   "source": [
    "console.log(data1 + data2, Number(data1) + data2, data1 + String(data2));"
   ]
  },
  {
   "cell_type": "markdown",
   "id": "57a3dacb",
   "metadata": {},
   "source": [
    "#### 묵시적 형변환\n",
    "- 여러 데이터 타입을 혼합해서 연산하면 묵시적 형변환이 발생함(파이썬은 에러발생)"
   ]
  },
  {
   "cell_type": "code",
   "execution_count": 11,
   "id": "0d945f1f",
   "metadata": {},
   "outputs": [
    {
     "name": "stdout",
     "output_type": "stream",
     "text": [
      "string number\n",
      "string\n"
     ]
    }
   ],
   "source": [
    "console.log(typeof data1, typeof data2);\n",
    "console.log(typeof (data1 + data2));"
   ]
  },
  {
   "cell_type": "code",
   "execution_count": 12,
   "id": "0fef905c",
   "metadata": {},
   "outputs": [
    {
     "name": "stdout",
     "output_type": "stream",
     "text": [
      "string number\n"
     ]
    }
   ],
   "source": [
    "// 문자 > 숫자\n",
    "console.log(typeof data1, typeof (data1 - 0));"
   ]
  },
  {
   "cell_type": "code",
   "execution_count": 13,
   "id": "3ab73ea6",
   "metadata": {},
   "outputs": [
    {
     "name": "stdout",
     "output_type": "stream",
     "text": [
      "number string\n"
     ]
    }
   ],
   "source": [
    "// 숫자 > 문자\n",
    "console.log(typeof data2, typeof ('' + data2));"
   ]
  },
  {
   "cell_type": "markdown",
   "id": "2f54a67b",
   "metadata": {},
   "source": [
    "### 3. operator : 연산자\n",
    "- 산술 : 데이터 + 데이터 = 데이터 : +, -, *, /, %, **, ++, --\n",
    "- 비교 : 데이터 + 데이터 = 논리값 : ==, ===, !=, !==, <, >, <=, >= : 조건 1개\n",
    "- 논리 : 논리값 + 논리값 = 논리값 : !, &&, || : 조건 2개 이상\n",
    "- 할당 : 변수 산술= 데이터 : 변수에 누적해서 연산\n",
    "- 삼항 : (조건) ? (참) : (거짓) : 간단한 조건문 구현"
   ]
  },
  {
   "cell_type": "code",
   "execution_count": 14,
   "id": "a943f152",
   "metadata": {},
   "outputs": [
    {
     "name": "stdout",
     "output_type": "stream",
     "text": [
      "2.75 3 64\n"
     ]
    }
   ],
   "source": [
    "// 산술연산자\n",
    "var data1 = 11, data2 = 4;\n",
    "console.log(data1 / data2, data1 % data2, data2 ** 3);"
   ]
  },
  {
   "cell_type": "code",
   "execution_count": 15,
   "id": "be89dbcb",
   "metadata": {},
   "outputs": [
    {
     "name": "stdout",
     "output_type": "stream",
     "text": [
      "5 5\n",
      "5 6\n"
     ]
    }
   ],
   "source": [
    "// ++data : +1하고 대입\n",
    "data1 = ++data2;\n",
    "console.log(data1, data2);\n",
    "// data++ : 대입하고 +1\n",
    "data1 = data2++;\n",
    "console.log(data1, data2)"
   ]
  },
  {
   "cell_type": "code",
   "execution_count": 16,
   "id": "3ab0b413",
   "metadata": {},
   "outputs": [
    {
     "name": "stdout",
     "output_type": "stream",
     "text": [
      "1 '1'\n",
      "false true false true\n"
     ]
    }
   ],
   "source": [
    "// 비교연산자\n",
    "// ===, !==: 데이터 타입까지 비교\n",
    "// ==, != : 데이터만 비교\n",
    "var data1 = 1, data2 = '1';\n",
    "console.log(data1, data2)\n",
    "console.log(data1 === data2, data1 == data2, data1 != data2, data1 !== data2)"
   ]
  },
  {
   "cell_type": "code",
   "execution_count": 17,
   "id": "8acc490b",
   "metadata": {},
   "outputs": [
    {
     "name": "stdout",
     "output_type": "stream",
     "text": [
      "false true\n"
     ]
    }
   ],
   "source": [
    "// 논리연산자\n",
    "console.log(true && false, true || false)"
   ]
  },
  {
   "cell_type": "code",
   "execution_count": 18,
   "id": "d253bcbb",
   "metadata": {},
   "outputs": [
    {
     "name": "stdout",
     "output_type": "stream",
     "text": [
      "true\n"
     ]
    }
   ],
   "source": [
    "// Quiz \n",
    "// 조건 1개 : 예금 잔고에서 인출이 가능하면 true, 불가능 하면 false 출력\n",
    "var balance = 10000;\n",
    "var withdraw = 6000;\n",
    "console.log(balance >= withdraw);"
   ]
  },
  {
   "cell_type": "code",
   "execution_count": 19,
   "id": "a1fb812b",
   "metadata": {},
   "outputs": [
    {
     "name": "stdout",
     "output_type": "stream",
     "text": [
      "true false\n",
      "false\n"
     ]
    }
   ],
   "source": [
    "// 조건 2개 : 최대 출금 금액 5000원일때,\n",
    "console.log(balance >= withdraw, withdraw <= 5000);\n",
    "console.log((balance >= withdraw) && (withdraw <= 5000));"
   ]
  },
  {
   "cell_type": "code",
   "execution_count": 20,
   "id": "2081be76",
   "metadata": {},
   "outputs": [
    {
     "name": "stdout",
     "output_type": "stream",
     "text": [
      "15\n"
     ]
    }
   ],
   "source": [
    "// 할당연산자\n",
    "var data1 = 10;\n",
    "// data1 = data1 + 5;\n",
    "data1 += + 5;\n",
    "console.log(data1);"
   ]
  },
  {
   "cell_type": "code",
   "execution_count": 21,
   "id": "7e492317",
   "metadata": {},
   "outputs": [
    {
     "name": "stdout",
     "output_type": "stream",
     "text": [
      "인출가능\n"
     ]
    }
   ],
   "source": [
    "// 삼항연산자 : (조건)?(참):(거짓)\n",
    "var balance = 10000, withdraw = 6000;\n",
    "var msg = balance >= withdraw ? '인출가능' : '인출불가';\n",
    "console.log(msg)"
   ]
  },
  {
   "cell_type": "markdown",
   "id": "aaeb45d2",
   "metadata": {},
   "source": [
    "### 4. condition : 조건문\n",
    "- if, else if, else\n",
    "- switch, case, default"
   ]
  },
  {
   "cell_type": "code",
   "execution_count": 22,
   "id": "488d87ee",
   "metadata": {},
   "outputs": [
    {
     "name": "stdout",
     "output_type": "stream",
     "text": [
      "B\n"
     ]
    }
   ],
   "source": [
    "// 학점출력 : if, else if, else\n",
    "var point = 87;\n",
    "if(point >= 90){\n",
    "    console.log('A');\n",
    "} else if(point >= 80){\n",
    "    console.log('B');\n",
    "} else if(point >= 70){\n",
    "    console.log('C');\n",
    "} else if(point >= 60){\n",
    "    console.log('D');\n",
    "} else{\n",
    "    console.log('F');\n",
    "}"
   ]
  },
  {
   "cell_type": "code",
   "execution_count": 23,
   "id": "69f2f230",
   "metadata": {},
   "outputs": [
    {
     "name": "stdout",
     "output_type": "stream",
     "text": [
      "승점 3\n"
     ]
    }
   ],
   "source": [
    "// 승점출력 : switch, case, default\n",
    "var point = '승';\n",
    "switch(point){\n",
    "    case '승':\n",
    "        console.log('승점', 3);\n",
    "        break;\n",
    "    case '무':\n",
    "        console.log('승점', 1);\n",
    "        break;\n",
    "    default:\n",
    "        console.log('승점', 0);\n",
    "}"
   ]
  },
  {
   "cell_type": "markdown",
   "id": "e6b7404c",
   "metadata": {},
   "source": [
    "### 5. loop : 반복문\n",
    "- while, for, break, continue"
   ]
  },
  {
   "cell_type": "code",
   "execution_count": 24,
   "id": "e1a35d2e",
   "metadata": {},
   "outputs": [
    {
     "name": "stdout",
     "output_type": "stream",
     "text": [
      "js\n",
      "js\n",
      "js\n"
     ]
    }
   ],
   "source": [
    "var count = 3;\n",
    "while (count > 0){\n",
    "    count -= 1;\n",
    "    console.log('js');\n",
    "}"
   ]
  },
  {
   "cell_type": "code",
   "execution_count": 25,
   "id": "4ca76a1f",
   "metadata": {},
   "outputs": [
    {
     "name": "stdout",
     "output_type": "stream",
     "text": [
      "js\n",
      "js\n",
      "js\n"
     ]
    }
   ],
   "source": [
    "for(var i = 0; i < 3; i++){\n",
    "    console.log('js');\n",
    "}"
   ]
  },
  {
   "cell_type": "code",
   "execution_count": 26,
   "id": "d71c4d35",
   "metadata": {},
   "outputs": [
    {
     "name": "stdout",
     "output_type": "stream",
     "text": [
      "0 'js'\n",
      "1 'js'\n",
      "3 'js'\n"
     ]
    }
   ],
   "source": [
    "// break, continue\n",
    "for(var i = 0; i < 5; i++){    \n",
    "    if(i === 2){\n",
    "        continue;\n",
    "    }\n",
    "    console.log(i, 'js');\n",
    "    if(i >= 3){\n",
    "        break;\n",
    "    }\n",
    "}"
   ]
  },
  {
   "cell_type": "code",
   "execution_count": 27,
   "id": "f7baf501",
   "metadata": {},
   "outputs": [
    {
     "data": {
      "text/plain": [
       "false"
      ]
     },
     "execution_count": 27,
     "metadata": {},
     "output_type": "execute_result"
    }
   ],
   "source": [
    "// 실수하기 쉬운 코드 : 부동소수점 문제\n",
    "var data1 = 0.1, data2 = 0.2;\n",
    "data1 + data2 === 0.3"
   ]
  },
  {
   "cell_type": "code",
   "execution_count": 28,
   "id": "854a1389",
   "metadata": {},
   "outputs": [
    {
     "data": {
      "text/plain": [
       "1.235"
      ]
     },
     "execution_count": 28,
     "metadata": {},
     "output_type": "execute_result"
    }
   ],
   "source": [
    "// 소수 셋째 자리에서 반올림\n",
    "Math.round(1.2345 * 1000) / 1000"
   ]
  },
  {
   "cell_type": "code",
   "execution_count": 29,
   "id": "4e958d1c",
   "metadata": {},
   "outputs": [
    {
     "data": {
      "text/plain": [
       "0.3"
      ]
     },
     "execution_count": 29,
     "metadata": {},
     "output_type": "execute_result"
    }
   ],
   "source": [
    "Math.round((data1 + data2) * 10) / 10"
   ]
  },
  {
   "cell_type": "code",
   "execution_count": 30,
   "id": "7f5bb8a0",
   "metadata": {},
   "outputs": [
    {
     "data": {
      "text/plain": [
       "true"
      ]
     },
     "execution_count": 30,
     "metadata": {},
     "output_type": "execute_result"
    }
   ],
   "source": [
    "Math.round((data1 + data2) * 10) / 10 === 0.3"
   ]
  },
  {
   "cell_type": "code",
   "execution_count": 31,
   "id": "02c14012",
   "metadata": {},
   "outputs": [
    {
     "name": "stdout",
     "output_type": "stream",
     "text": [
      "41 37 42 6 5 2\n"
     ]
    }
   ],
   "source": [
    "// 로또번호 출력 : 중복허용\n",
    "// 1 ~ 45 숫자 6개 출력\n",
    "var count = 6, lotto = '';\n",
    "for(var i = 0; i < count; i++){\n",
    "    var randomNumber = Math.ceil(Math.random() * 44) + 1;\n",
    "    lotto = lotto + randomNumber;\n",
    "    if(i !== count - 1) lotto += ' ';\n",
    "}\n",
    "console.log(lotto);"
   ]
  },
  {
   "cell_type": "markdown",
   "id": "ebe97d84",
   "metadata": {},
   "source": [
    "### 6. function : 함수\n",
    "- 중복코드를 묶어서 코드 작성 및 실행 : 코드 유지보수 증대\n",
    "- 사용법 : 함수선언(코드작성) > 함수호출(코드실행)\n",
    "- function, argument, parameter, 표현식, 선언식, hoisting, scope, 익명함수, return"
   ]
  },
  {
   "cell_type": "code",
   "execution_count": 32,
   "id": "32bb00ec",
   "metadata": {},
   "outputs": [
    {
     "name": "stdout",
     "output_type": "stream",
     "text": [
      "20 26 42 9 27 35\n",
      "js\n",
      "37 15 20 39 2 26\n"
     ]
    }
   ],
   "source": [
    "// 로또번호 출력\n",
    "var count = 6, lotto = '';\n",
    "for(var i = 0; i < count; i++){\n",
    "    var randomNumber = Math.ceil(Math.random() * 44) + 1;\n",
    "    lotto = lotto + randomNumber;\n",
    "    if(i !== count - 1) lotto += ' ';\n",
    "}\n",
    "console.log(lotto);\n",
    "\n",
    "// js 문자열 출력\n",
    "console.log('js');\n",
    "\n",
    "// 로또번호 출력\n",
    "var count = 6, lotto = '';\n",
    "for(var i = 0; i < count; i++){\n",
    "    var randomNumber = Math.ceil(Math.random() * 44) + 1;\n",
    "    lotto = lotto + randomNumber;\n",
    "    if(i !== count - 1) lotto += ' ';\n",
    "}\n",
    "console.log(lotto);"
   ]
  },
  {
   "cell_type": "code",
   "execution_count": 33,
   "id": "40b4ef73",
   "metadata": {},
   "outputs": [],
   "source": [
    "// 함수선언 : 코드작성\n",
    "function showLotto(){\n",
    "    var count = 6, lotto = '';\n",
    "    for(var i = 0; i < count; i++){\n",
    "        var randomNumber = Math.ceil(Math.random() * 44) + 1;\n",
    "        lotto = lotto + randomNumber;\n",
    "        if(i !== count - 1) lotto += ' ';\n",
    "    };\n",
    "    console.log(lotto);\n",
    "};"
   ]
  },
  {
   "cell_type": "code",
   "execution_count": 34,
   "id": "6671a539",
   "metadata": {},
   "outputs": [
    {
     "name": "stdout",
     "output_type": "stream",
     "text": [
      "9 23 19 27 5 45\n"
     ]
    }
   ],
   "source": [
    "// 함수호출 : 코드실행\n",
    "showLotto();"
   ]
  },
  {
   "cell_type": "code",
   "execution_count": 35,
   "id": "e48ec31e",
   "metadata": {},
   "outputs": [
    {
     "name": "stdout",
     "output_type": "stream",
     "text": [
      "4 31 42 11 42 39\n",
      "js\n",
      "35 40 17 7 33 2\n"
     ]
    }
   ],
   "source": [
    "function showLotto(){\n",
    "    var count = 6, lotto = '';\n",
    "    for(var i = 0; i < count; i++){\n",
    "        var randomNumber = Math.ceil(Math.random() * 44) + 1;\n",
    "        lotto = lotto + randomNumber;\n",
    "        if(i !== count - 1) lotto += ' ';\n",
    "    }\n",
    "    console.log(lotto);\n",
    "};\n",
    "\n",
    "// 로또번호 출력\n",
    "showLotto();\n",
    "\n",
    "// js 문자열 출력\n",
    "console.log('js');\n",
    "\n",
    "// 로또번호 출력\n",
    "showLotto();"
   ]
  },
  {
   "cell_type": "code",
   "execution_count": 36,
   "id": "daef3e3b",
   "metadata": {},
   "outputs": [
    {
     "name": "stdout",
     "output_type": "stream",
     "text": [
      "31 27 45 29 14 40\n",
      "13 44 16 31 15 5 24\n"
     ]
    }
   ],
   "source": [
    "// argument, parameter : 함수 호출시 함수 선언하는 코드로 데이터 전달\n",
    "function showLotto(count){\n",
    "    var lotto = '';\n",
    "    for(var i = 0; i < count; i++){\n",
    "        var randomNumber = Math.ceil(Math.random() * 44) + 1;\n",
    "        lotto = lotto + randomNumber;\n",
    "        if(i !== count - 1) lotto += ' ';\n",
    "    }\n",
    "    console.log(lotto);\n",
    "};\n",
    "\n",
    "// 로또번호 출력 : 6개 \n",
    "showLotto(6);\n",
    "\n",
    "// 로또번호 출력 : 7개\n",
    "showLotto(7);"
   ]
  },
  {
   "cell_type": "code",
   "execution_count": 37,
   "id": "b487e198",
   "metadata": {},
   "outputs": [
    {
     "data": {
      "text/plain": [
       "'function'"
      ]
     },
     "execution_count": 37,
     "metadata": {},
     "output_type": "execute_result"
    }
   ],
   "source": [
    "// 함수도 function 데이터 타입을 갖는 변수\n",
    "typeof showLotto;"
   ]
  },
  {
   "cell_type": "code",
   "execution_count": 38,
   "id": "8d22a7dd",
   "metadata": {},
   "outputs": [
    {
     "name": "stdout",
     "output_type": "stream",
     "text": [
      "3\n"
     ]
    }
   ],
   "source": [
    "// 함수선언 1 : 함수 선언식\n",
    "function plus1(n1, n2){\n",
    "    console.log(n1 + n2)\n",
    "}\n",
    "plus1(1, 2);"
   ]
  },
  {
   "cell_type": "code",
   "execution_count": 39,
   "id": "6a661b64",
   "metadata": {},
   "outputs": [
    {
     "name": "stdout",
     "output_type": "stream",
     "text": [
      "3\n"
     ]
    }
   ],
   "source": [
    "// 함수선언 2 : 함수 표현식\n",
    "var plus2 = function(n1, n2){\n",
    "    console.log(n1 + n2)\n",
    "};\n",
    "plus2(1, 2);"
   ]
  },
  {
   "cell_type": "code",
   "execution_count": 40,
   "id": "d07284db",
   "metadata": {},
   "outputs": [
    {
     "ename": "TypeError",
     "evalue": "plus3 is not a function",
     "output_type": "error",
     "traceback": [
      "evalmachine.<anonymous>:3",
      "plus3(1, 2);",
      "^",
      "",
      "TypeError: plus3 is not a function",
      "    at evalmachine.<anonymous>:3:1",
      "    at Script.runInThisContext (vm.js:122:20)",
      "    at Object.runInThisContext (vm.js:329:38)",
      "    at run ([eval]:1020:15)",
      "    at onRunRequest ([eval]:864:18)",
      "    at onMessage ([eval]:828:13)",
      "    at process.emit (events.js:198:13)",
      "    at emit (internal/child_process.js:832:12)",
      "    at process._tickCallback (internal/process/next_tick.js:63:19)"
     ]
    }
   ],
   "source": [
    "// 선언식과 표현식의 차이\n",
    "// 표현식은 함수 호출 후에 함수가 선언되면 에러 발생\n",
    "plus3(1, 2);\n",
    "\n",
    "var plus3 = function(n1, n2){\n",
    "    console.log(n1 + n2)\n",
    "};"
   ]
  },
  {
   "cell_type": "markdown",
   "id": "695c6764",
   "metadata": {},
   "source": [
    "#### hoisting : 호이스팅\n",
    "- 선언식으로 변수(함수)가 선언되면 코드의 최상단으로 올라가서 선언됨"
   ]
  },
  {
   "cell_type": "code",
   "execution_count": 41,
   "id": "a2f15dc1",
   "metadata": {},
   "outputs": [
    {
     "name": "stdout",
     "output_type": "stream",
     "text": [
      "3\n"
     ]
    }
   ],
   "source": [
    "// 선언식은 함수 호출 후에 함수가 선언되어도 함수 호출 가능\n",
    "plus4(1, 2);\n",
    "\n",
    "function plus4(n1, n2){\n",
    "    console.log(n1 + n2)\n",
    "};"
   ]
  },
  {
   "cell_type": "markdown",
   "id": "93050db8",
   "metadata": {},
   "source": [
    "#### scope : 스코프\n",
    "- 함수밖 : 전역변수 : global\n",
    "- 함수안 : 지역변수 : local\n"
   ]
  },
  {
   "cell_type": "code",
   "execution_count": 42,
   "id": "49c98369",
   "metadata": {},
   "outputs": [
    {
     "name": "stdout",
     "output_type": "stream",
     "text": [
      "20\n"
     ]
    }
   ],
   "source": [
    "var data = 10;\n",
    "function change(){\n",
    "    data = 20; // var 사용하지 않으면 전역변수로 사용\n",
    "}\n",
    "change();\n",
    "console.log(data);"
   ]
  },
  {
   "cell_type": "code",
   "execution_count": 43,
   "id": "d61650be",
   "metadata": {},
   "outputs": [
    {
     "name": "stdout",
     "output_type": "stream",
     "text": [
      "10\n"
     ]
    }
   ],
   "source": [
    "var data = 10;\n",
    "function change(){\n",
    "    var data = 20; // var 사용하면 지역변수로 선언\n",
    "}\n",
    "change();\n",
    "console.log(data);"
   ]
  },
  {
   "cell_type": "markdown",
   "id": "091cb471",
   "metadata": {},
   "source": [
    "#### anonymous function : 익명함수\n",
    "- 선언과 동시에 호출\n",
    "- 전역함수로 사용할수 없도록 선언 > 외부에서 내부의 함수나 변수 사용 불가 > 보안"
   ]
  },
  {
   "cell_type": "code",
   "execution_count": 44,
   "id": "4cef5bfb",
   "metadata": {},
   "outputs": [
    {
     "name": "stdout",
     "output_type": "stream",
     "text": [
      "-1\n"
     ]
    }
   ],
   "source": [
    "function minus1(n1, n2){\n",
    "    console.log(n1 - n2);\n",
    "}\n",
    "minus1(1, 2);"
   ]
  },
  {
   "cell_type": "code",
   "execution_count": 45,
   "id": "f59ec0b2",
   "metadata": {},
   "outputs": [
    {
     "name": "stdout",
     "output_type": "stream",
     "text": [
      "-2\n"
     ]
    }
   ],
   "source": [
    "(function minus2(n1, n2){\n",
    "    console.log(n1 - n2);\n",
    "}(2, 4));"
   ]
  },
  {
   "cell_type": "code",
   "execution_count": 46,
   "id": "dfb46085",
   "metadata": {},
   "outputs": [
    {
     "ename": "ReferenceError",
     "evalue": "minus2 is not defined",
     "output_type": "error",
     "traceback": [
      "evalmachine.<anonymous>:2",
      "minus2(4, 7);",
      "^",
      "",
      "ReferenceError: minus2 is not defined",
      "    at evalmachine.<anonymous>:2:1",
      "    at Script.runInThisContext (vm.js:122:20)",
      "    at Object.runInThisContext (vm.js:329:38)",
      "    at run ([eval]:1020:15)",
      "    at onRunRequest ([eval]:864:18)",
      "    at onMessage ([eval]:828:13)",
      "    at process.emit (events.js:198:13)",
      "    at emit (internal/child_process.js:832:12)",
      "    at process._tickCallback (internal/process/next_tick.js:63:19)"
     ]
    }
   ],
   "source": [
    "// 전역영역에서 호출 불가능\n",
    "minus2(4, 7);"
   ]
  },
  {
   "cell_type": "markdown",
   "id": "a1aede17",
   "metadata": {},
   "source": [
    "#### return\n",
    "- 코드 실행 중단\n",
    "- 함수 코드 실행 결과를 출력 및 변수에 저장"
   ]
  },
  {
   "cell_type": "code",
   "execution_count": 47,
   "id": "5dee32fb",
   "metadata": {},
   "outputs": [
    {
     "name": "stdout",
     "output_type": "stream",
     "text": [
      "3\n"
     ]
    }
   ],
   "source": [
    "function plus(n1, n2){\n",
    "    return n1 + n2;\n",
    "}\n",
    "result = plus(1, 2);\n",
    "console.log(result);"
   ]
  },
  {
   "cell_type": "code",
   "execution_count": 48,
   "id": "807125b9",
   "metadata": {},
   "outputs": [
    {
     "name": "stdout",
     "output_type": "stream",
     "text": [
      "20 30\n",
      "argument 2 : 50\n",
      "20 undefined\n",
      "argument 1 : 30\n"
     ]
    }
   ],
   "source": [
    "// javascript의 default parameter 설정\n",
    "var plus = function(n1, n2){\n",
    "    console.log(n1, n2);\n",
    "    n2 = n2 || 10;\n",
    "    return n1 + n2;\n",
    "}\n",
    "console.log('argument 2 :', plus(20, 30));\n",
    "console.log('argument 1 :', plus(20));"
   ]
  },
  {
   "cell_type": "markdown",
   "id": "b706446e",
   "metadata": {},
   "source": [
    "#### Module Pattern : 모듈패턴\n",
    "- 모듈패턴을 이용한 객체생성"
   ]
  },
  {
   "cell_type": "code",
   "execution_count": 49,
   "id": "4a0d0d79",
   "metadata": {},
   "outputs": [],
   "source": [
    "// Account 객체가 있으면 있는 객체 사용하고, 없으면 새로운 객체 생성\n",
    "var Account = Account || {};\n",
    "(function(_Account){\n",
    "    \n",
    "    var balance = 0;\n",
    "        \n",
    "    function getBalance(){\n",
    "        return balance;\n",
    "    }\n",
    "    \n",
    "    _Account.getBalance = function(){\n",
    "        console.log('getter');\n",
    "        return getBalance();\n",
    "    }\n",
    "    \n",
    "    _Account.setBalance = function(money){\n",
    "        console.log('setter', money);\n",
    "        balance = money;\n",
    "    }\n",
    "    \n",
    "    _Account.deposit = function(money){\n",
    "        balance += money;\n",
    "    }\n",
    "    \n",
    "    _Account.withdraw = function(money){\n",
    "        balance -= money;\n",
    "    }\n",
    "    \n",
    "})(Account);"
   ]
  },
  {
   "cell_type": "code",
   "execution_count": 50,
   "id": "3e94a754",
   "metadata": {},
   "outputs": [
    {
     "name": "stdout",
     "output_type": "stream",
     "text": [
      "getter\n",
      "0\n"
     ]
    }
   ],
   "source": [
    "// getter\n",
    "console.log(Account.getBalance());"
   ]
  },
  {
   "cell_type": "code",
   "execution_count": 51,
   "id": "ab2393ec",
   "metadata": {},
   "outputs": [
    {
     "name": "stdout",
     "output_type": "stream",
     "text": [
      "setter 10000\n"
     ]
    }
   ],
   "source": [
    "// setter\n",
    "Account.setBalance(10000);"
   ]
  },
  {
   "cell_type": "code",
   "execution_count": 52,
   "id": "98c2e555",
   "metadata": {},
   "outputs": [
    {
     "name": "stdout",
     "output_type": "stream",
     "text": [
      "getter\n",
      "10000\n"
     ]
    }
   ],
   "source": [
    "// getter\n",
    "console.log(Account.getBalance());"
   ]
  },
  {
   "cell_type": "code",
   "execution_count": 53,
   "id": "679ba2bf",
   "metadata": {},
   "outputs": [],
   "source": [
    "Account.withdraw(2000);"
   ]
  },
  {
   "cell_type": "code",
   "execution_count": 54,
   "id": "ebe18eb3",
   "metadata": {},
   "outputs": [
    {
     "name": "stdout",
     "output_type": "stream",
     "text": [
      "getter\n",
      "8000\n"
     ]
    }
   ],
   "source": [
    "// getter\n",
    "console.log(Account.getBalance());"
   ]
  },
  {
   "cell_type": "markdown",
   "id": "9583a32b",
   "metadata": {},
   "source": [
    "#### 7. 객체 : Object\n",
    "- Array(배열), Class(클래스) 문법"
   ]
  },
  {
   "cell_type": "code",
   "execution_count": 55,
   "id": "7b9690b7",
   "metadata": {},
   "outputs": [
    {
     "name": "stdout",
     "output_type": "stream",
     "text": [
      "object [ 1, 2, 3, 'A', 'B' ]\n"
     ]
    }
   ],
   "source": [
    "// Arrary\n",
    "var data = [1, 2, 3, 'A', 'B'];\n",
    "console.log(typeof data, data);"
   ]
  },
  {
   "cell_type": "code",
   "execution_count": 56,
   "id": "4ef86774",
   "metadata": {},
   "outputs": [
    {
     "name": "stdout",
     "output_type": "stream",
     "text": [
      "0 1\n",
      "1 2\n",
      "2 3\n",
      "3 'A'\n",
      "4 'B'\n"
     ]
    }
   ],
   "source": [
    "for(var i = 0; i < data.length; i++){\n",
    "    console.log(i, data[i]);\n",
    "}"
   ]
  },
  {
   "cell_type": "code",
   "execution_count": 57,
   "id": "fd3eb1f5",
   "metadata": {},
   "outputs": [
    {
     "name": "stdout",
     "output_type": "stream",
     "text": [
      "[ 1, 2, 3, 'A', 'B', 'C' ]\n"
     ]
    }
   ],
   "source": [
    "// array.push() : 데이터 추가\n",
    "var data = [1, 2, 3, 'A', 'B'];\n",
    "data.push('C');\n",
    "console.log(data);"
   ]
  },
  {
   "cell_type": "code",
   "execution_count": 58,
   "id": "da96488f",
   "metadata": {},
   "outputs": [
    {
     "data": {
      "text/plain": [
       "[ 13, 19, 25, 26, 36, 45 ]"
      ]
     },
     "execution_count": 58,
     "metadata": {},
     "output_type": "execute_result"
    }
   ],
   "source": [
    "function showLotto(count){\n",
    "    var lotto = [];\n",
    "    while(true){\n",
    "        var randomNumber = Math.ceil(Math.random() * 44) + 1;\n",
    "        var isNumber = false;\n",
    "        for(var i = 0; i < lotto.length; i++){\n",
    "            if(lotto[i] === randomNumber) isNumber = true;\n",
    "        }\n",
    "        if(!isNumber) lotto.push(randomNumber);\n",
    "        if(lotto.length >= count){\n",
    "            lotto.sort(function(a, b){ return a - b; });\n",
    "            break;\n",
    "        }\n",
    "    }\n",
    "    return lotto;\n",
    "};\n",
    "showLotto(6)"
   ]
  },
  {
   "cell_type": "code",
   "execution_count": 60,
   "id": "a7cf0a07",
   "metadata": {},
   "outputs": [],
   "source": [
    "// Object : 객체"
   ]
  },
  {
   "cell_type": "code",
   "execution_count": 61,
   "id": "d2467c4c",
   "metadata": {},
   "outputs": [
    {
     "name": "stdout",
     "output_type": "stream",
     "text": [
      "{ name: 'andy' }\n"
     ]
    }
   ],
   "source": [
    "// 객체 생성 1\n",
    "var obj = { name: 'andy' };\n",
    "console.log(obj);"
   ]
  },
  {
   "cell_type": "code",
   "execution_count": 65,
   "id": "7e47e1fb",
   "metadata": {},
   "outputs": [
    {
     "name": "stdout",
     "output_type": "stream",
     "text": [
      "Person { name: 'andy' }\n"
     ]
    }
   ],
   "source": [
    "// 객체 생성 2\n",
    "function Person(name) {\n",
    "    this.name = name;\n",
    "}\n",
    "var person = new Person('andy');\n",
    "console.log(person);"
   ]
  },
  {
   "cell_type": "code",
   "execution_count": 66,
   "id": "19398d68",
   "metadata": {},
   "outputs": [
    {
     "name": "stdout",
     "output_type": "stream",
     "text": [
      "object object\n"
     ]
    }
   ],
   "source": [
    "console.log(typeof obj, typeof person);"
   ]
  },
  {
   "cell_type": "code",
   "execution_count": 75,
   "id": "97086894",
   "metadata": {},
   "outputs": [
    {
     "name": "stdout",
     "output_type": "stream",
     "text": [
      "{ name: 'andy', addr: 'seoul' }\n"
     ]
    }
   ],
   "source": [
    "// 객체의 변수 추가 및 수정\n",
    "var obj = {};\n",
    "obj.name = 'andy';\n",
    "obj['addr'] = 'seoul';\n",
    "console.log(obj);"
   ]
  },
  {
   "cell_type": "code",
   "execution_count": 76,
   "id": "edccfe12",
   "metadata": {},
   "outputs": [
    {
     "name": "stdout",
     "output_type": "stream",
     "text": [
      "andy seoul\n"
     ]
    }
   ],
   "source": [
    "// 데이터 읽어오기\n",
    "console.log(obj['name'], obj.addr);"
   ]
  },
  {
   "cell_type": "code",
   "execution_count": 77,
   "id": "2761bd9b",
   "metadata": {},
   "outputs": [
    {
     "name": "stdout",
     "output_type": "stream",
     "text": [
      "3\n"
     ]
    }
   ],
   "source": [
    "// 객체에 함수 저장\n",
    "var calc = {\n",
    "    plus: function(n1, n2){\n",
    "        return n1 + n2;\n",
    "    }\n",
    "}\n",
    "console.log(calc.plus(1, 2));"
   ]
  },
  {
   "cell_type": "code",
   "execution_count": 78,
   "id": "587d7735",
   "metadata": {},
   "outputs": [
    {
     "name": "stdout",
     "output_type": "stream",
     "text": [
      "{ name: 'andy', addr: 'seoul' }\n",
      "{ name: 'andy' }\n"
     ]
    }
   ],
   "source": [
    "// 객체의 변수(함수) 삭제\n",
    "var obj = {\n",
    "    name: 'andy',\n",
    "    addr: 'seoul'\n",
    "};\n",
    "console.log(obj);\n",
    "delete obj.addr;\n",
    "console.log(obj);"
   ]
  },
  {
   "cell_type": "markdown",
   "id": "28bee446",
   "metadata": {},
   "source": [
    "#### json object\n",
    "- 웹서비스에서 데이터를 주고 받을때 주로 사용하는 데이터 포멧"
   ]
  },
  {
   "cell_type": "code",
   "execution_count": 79,
   "id": "2cffc5b6",
   "metadata": {},
   "outputs": [
    {
     "name": "stdout",
     "output_type": "stream",
     "text": [
      "object { name: 'andy', addr: 'seoul' }\n",
      "string {\"name\":\"andy\",\"addr\":\"seoul\"}\n"
     ]
    }
   ],
   "source": [
    "// 객체 > 문자열\n",
    "var obj = { name: 'andy', addr: 'seoul' };\n",
    "var json = JSON.stringify(obj);\n",
    "console.log(typeof obj, obj);\n",
    "console.log(typeof json, json);"
   ]
  },
  {
   "cell_type": "code",
   "execution_count": 80,
   "id": "83f19394",
   "metadata": {},
   "outputs": [
    {
     "name": "stdout",
     "output_type": "stream",
     "text": [
      "object { name: 'andy', addr: 'seoul' }\n"
     ]
    }
   ],
   "source": [
    "// 문자열 > 객체\n",
    "var jsonObj = JSON.parse(json);\n",
    "console.log(typeof jsonObj, jsonObj);"
   ]
  },
  {
   "cell_type": "markdown",
   "id": "24ff1267",
   "metadata": {},
   "source": [
    "#### 웹브라우져 객체\n",
    "- window : 전역객체 : 모든 전역변수를 저장하는 객체\n",
    "- location : url 데이터를 포함하는 객체\n",
    "- document : 페이지 문서에 대한 정보를 저장하는 객체"
   ]
  },
  {
   "cell_type": "code",
   "execution_count": null,
   "id": "3b73c417",
   "metadata": {},
   "outputs": [],
   "source": [
    "// 브라우져의 console 에서 실행"
   ]
  },
  {
   "cell_type": "code",
   "execution_count": null,
   "id": "50cda581",
   "metadata": {},
   "outputs": [],
   "source": [
    "// window 객체\n",
    "var data = 10;\n",
    "var plus = function(n1, n2){\n",
    "    return n1 + n2;\n",
    "}\n",
    "console.log(window.data);\n",
    "console.log(window.plus(1, 2));"
   ]
  },
  {
   "cell_type": "code",
   "execution_count": null,
   "id": "390d9841",
   "metadata": {},
   "outputs": [],
   "source": [
    "// location 객체\n",
    "location.href // 현재 페이지 URL\n",
    "location.origin // 현재 페이지 domain\n",
    "locaion.pathname // 현재 페이지 path\n",
    "location.prot // 현재 페이지 port"
   ]
  },
  {
   "cell_type": "code",
   "execution_count": null,
   "id": "689f9d00",
   "metadata": {},
   "outputs": [],
   "source": [
    "// documnet 객체\n",
    "document.title // 현재 페이지 title"
   ]
  },
  {
   "cell_type": "code",
   "execution_count": null,
   "id": "c1fd3680",
   "metadata": {},
   "outputs": [],
   "source": []
  },
  {
   "cell_type": "code",
   "execution_count": null,
   "id": "88c8b7fd",
   "metadata": {},
   "outputs": [],
   "source": []
  },
  {
   "cell_type": "code",
   "execution_count": null,
   "id": "26fe9a0f",
   "metadata": {},
   "outputs": [],
   "source": []
  },
  {
   "cell_type": "code",
   "execution_count": null,
   "id": "4f232687",
   "metadata": {},
   "outputs": [],
   "source": []
  },
  {
   "cell_type": "code",
   "execution_count": null,
   "id": "ca2f4c4b",
   "metadata": {},
   "outputs": [],
   "source": []
  },
  {
   "cell_type": "code",
   "execution_count": null,
   "id": "24b9345c",
   "metadata": {},
   "outputs": [],
   "source": []
  },
  {
   "cell_type": "code",
   "execution_count": null,
   "id": "33fed59b",
   "metadata": {},
   "outputs": [],
   "source": []
  }
 ],
 "metadata": {
  "kernelspec": {
   "display_name": "JavaScript (Node.js)",
   "language": "javascript",
   "name": "javascript"
  },
  "language_info": {
   "file_extension": ".js",
   "mimetype": "application/javascript",
   "name": "javascript",
   "version": "10.19.0"
  }
 },
 "nbformat": 4,
 "nbformat_minor": 5
}
