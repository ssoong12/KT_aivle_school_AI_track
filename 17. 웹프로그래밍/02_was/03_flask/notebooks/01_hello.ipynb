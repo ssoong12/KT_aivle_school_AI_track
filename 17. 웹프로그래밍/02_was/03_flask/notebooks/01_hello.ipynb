{
 "cells": [
  {
   "cell_type": "markdown",
   "metadata": {},
   "source": [
    "## Flask\n",
    "- flask는 경량 WSGI 웹 어플리케이션 프레임워크 입니다,\n",
    "- 빠르고 쉽게 웹 어플리케이션을 개발할수 있도록 설계되었습니다.\n",
    "- install\n",
    "    - pip install flask\n",
    "    - conda install -c anaconda flask"
   ]
  },
  {
   "cell_type": "markdown",
   "metadata": {},
   "source": [
    "프로젝트 생성"
   ]
  },
  {
   "cell_type": "code",
   "execution_count": 1,
   "metadata": {},
   "outputs": [
    {
     "name": "stdout",
     "output_type": "stream",
     "text": [
      "\u001b[01;34mhello\u001b[00m\r\n",
      "├── hello.py\r\n",
      "├── \u001b[01;34mstatic\u001b[00m\r\n",
      "└── \u001b[01;34mtemplates\u001b[00m\r\n",
      "    └── index.html\r\n",
      "\r\n",
      "2 directories, 2 files\r\n"
     ]
    }
   ],
   "source": [
    "!rm -rf hello\n",
    "!mkdir -p hello/static\n",
    "!mkdir -p hello/templates\n",
    "!touch hello/hello.py\n",
    "!touch hello/templates/index.html\n",
    "!tree hello"
   ]
  },
  {
   "cell_type": "markdown",
   "metadata": {},
   "source": [
    "- hello.py\n",
    "    - was의 app객체를 생성하는 파일\n",
    "    - route 설정 : request를 받기위한 코드 작성\n",
    "- static\n",
    "    - 자바스크립트, css, image 파일등 정적인 코드 파일을 저장\n",
    "- templates\n",
    "    - html 코드를 저장"
   ]
  },
  {
   "cell_type": "markdown",
   "metadata": {},
   "source": [
    "hello.py 작성"
   ]
  },
  {
   "cell_type": "code",
   "execution_count": 2,
   "metadata": {},
   "outputs": [
    {
     "name": "stdout",
     "output_type": "stream",
     "text": [
      "Overwriting hello/hello.py\n"
     ]
    }
   ],
   "source": [
    "%%writefile hello/hello.py\n",
    "from flask import *\n",
    "\n",
    "app = Flask(__name__)\n",
    "\n",
    "@app.route(\"/\") \n",
    "def hello():\n",
    "    return \"Hello Flask\"\n",
    "\n",
    "# returns an HTML webpage\n",
    "@app.route(\"/user/<username>\") \n",
    "def user(username):\n",
    "    return render_template('index.html', name=username)\n",
    "\n",
    "# retruns a piece of data in JSON format\n",
    "@app.route(\"/people\") \n",
    "def people():\n",
    "    people = {\"alice\": 25, \"jin\":35} \n",
    "    return jsonify(people)\n",
    "\n",
    "# run was\n",
    "app.run(debug=True)"
   ]
  },
  {
   "cell_type": "markdown",
   "metadata": {},
   "source": [
    "index.html 작성"
   ]
  },
  {
   "cell_type": "code",
   "execution_count": 3,
   "metadata": {},
   "outputs": [
    {
     "name": "stdout",
     "output_type": "stream",
     "text": [
      "Overwriting hello/templates/index.html\n"
     ]
    }
   ],
   "source": [
    "%%writefile hello/templates/index.html\n",
    "<!DOCTYPE html>\n",
    "<html>\n",
    "<head>\n",
    "    <meta charset=\"utf-8\">\n",
    "    <title>Flask Basic</title>\n",
    "</head>\n",
    "<body>\n",
    "\n",
    "    Hello {{name}}\n",
    "    \n",
    "    <button id=\"getData\">Get Data</button>\n",
    "    \n",
    "    <div class=\"result\"></div>\n",
    "    \n",
    "    <script src=\"https://cdnjs.cloudflare.com/ajax/libs/jquery/3.6.4/jquery.min.js\"></script>\n",
    "    <script type=\"text/javascript\">\n",
    "        $(document).ready(function() { \n",
    "            $(\"#getData\").click(function() {\n",
    "                $.getJSON(\"/people\", function(data) {\n",
    "                    console.log(data);\n",
    "                    var tag = \"<p>alice : \" + data.alice + \"</p>\";\n",
    "                        tag += \"<p>jin : \" + data.jin + \"</p>\";\n",
    "                    $(\".result\").html(tag);\n",
    "                })\n",
    "            }) \n",
    "        })\n",
    "    </script>\n",
    "\n",
    "</body>\n",
    "</html>"
   ]
  },
  {
   "cell_type": "markdown",
   "metadata": {},
   "source": [
    "run python code"
   ]
  },
  {
   "cell_type": "code",
   "execution_count": 4,
   "metadata": {},
   "outputs": [
    {
     "name": "stdout",
     "output_type": "stream",
     "text": [
      " * Serving Flask app 'hello'\n",
      " * Debug mode: on\n",
      "\u001b[31m\u001b[1mWARNING: This is a development server. Do not use it in a production deployment. Use a production WSGI server instead.\u001b[0m\n",
      " * Running on http://127.0.0.1:5000\n",
      "\u001b[33mPress CTRL+C to quit\u001b[0m\n",
      " * Restarting with stat\n",
      " * Debugger is active!\n",
      " * Debugger PIN: 143-203-566\n",
      "127.0.0.1 - - [27/Apr/2023 14:58:56] \"GET / HTTP/1.0\" 200 -\n",
      "127.0.0.1 - - [27/Apr/2023 14:58:56] \"\u001b[33mGET /favicon.ico HTTP/1.0\u001b[0m\" 404 -\n",
      "127.0.0.1 - - [27/Apr/2023 14:59:07] \"GET /user/kt HTTP/1.0\" 200 -\n",
      "127.0.0.1 - - [27/Apr/2023 14:59:10] \"GET /people HTTP/1.0\" 200 -\n",
      "^C\n"
     ]
    }
   ],
   "source": [
    "!python hello/hello.py"
   ]
  }
 ],
 "metadata": {
  "kernelspec": {
   "display_name": "Python 3 (ipykernel)",
   "language": "python",
   "name": "python3"
  },
  "language_info": {
   "codemirror_mode": {
    "name": "ipython",
    "version": 3
   },
   "file_extension": ".py",
   "mimetype": "text/x-python",
   "name": "python",
   "nbconvert_exporter": "python",
   "pygments_lexer": "ipython3",
   "version": "3.8.5"
  },
  "varInspector": {
   "cols": {
    "lenName": 16,
    "lenType": 16,
    "lenVar": 40
   },
   "kernels_config": {
    "python": {
     "delete_cmd_postfix": "",
     "delete_cmd_prefix": "del ",
     "library": "var_list.py",
     "varRefreshCmd": "print(var_dic_list())"
    },
    "r": {
     "delete_cmd_postfix": ") ",
     "delete_cmd_prefix": "rm(",
     "library": "var_list.r",
     "varRefreshCmd": "cat(var_dic_list()) "
    }
   },
   "types_to_exclude": [
    "module",
    "function",
    "builtin_function_or_method",
    "instance",
    "_Feature"
   ],
   "window_display": false
  }
 },
 "nbformat": 4,
 "nbformat_minor": 2
}
