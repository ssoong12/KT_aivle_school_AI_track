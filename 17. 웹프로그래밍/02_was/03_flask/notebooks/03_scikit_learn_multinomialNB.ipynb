{
 "cells": [
  {
   "cell_type": "markdown",
   "metadata": {
    "slideshow": {
     "slide_type": "slide"
    }
   },
   "source": [
    "# 텍스트 데이터 분류 모델 만들기\n",
    "\n",
    "네이버 기사 데이터를 활용하여 TfidfVectorizer와 MultinomialNB을 이용하여 분류 모델 만드는 방법을 학습합니다.\n",
    "\n",
    "- Index\n",
    "    1. 패키지 추가\n",
    "    1. 데이터 로드\n",
    "    1. 학습 데이터와 테스트 데이터 나누기\n",
    "    1. 모델 만들기 (모델 학습)\n",
    "    1. 모델 성능 확인\n",
    "    1. 모델을 사용하여 문장의 카테고리 예측하기"
   ]
  },
  {
   "cell_type": "markdown",
   "metadata": {
    "slideshow": {
     "slide_type": "slide"
    }
   },
   "source": [
    "### 1. 패키지 추가"
   ]
  },
  {
   "cell_type": "code",
   "execution_count": 14,
   "metadata": {},
   "outputs": [],
   "source": [
    "import pandas as pd\n",
    "import numpy as np\n",
    "import pickle\n",
    "from sklearn.feature_extraction.text import TfidfVectorizer\n",
    "from sklearn.model_selection import train_test_split\n",
    "from sklearn.naive_bayes import MultinomialNB\n",
    "from sklearn.pipeline import Pipeline\n",
    "from sklearn.metrics import classification_report"
   ]
  },
  {
   "cell_type": "markdown",
   "metadata": {
    "slideshow": {
     "slide_type": "slide"
    }
   },
   "source": [
    "### 2. 데이터 로드\n",
    "- Category\n",
    "    - 100 - 정치\n",
    "    - 101 - 경제\n",
    "    - 102 - 사회\n",
    "    - 103 - 생활/문화\n",
    "    - 104 - 세계\n",
    "    - 105 - IT/과학"
   ]
  },
  {
   "cell_type": "code",
   "execution_count": 16,
   "metadata": {},
   "outputs": [
    {
     "name": "stdout",
     "output_type": "stream",
     "text": [
      "1200\n"
     ]
    },
    {
     "data": {
      "text/html": [
       "<div>\n",
       "<style scoped>\n",
       "    .dataframe tbody tr th:only-of-type {\n",
       "        vertical-align: middle;\n",
       "    }\n",
       "\n",
       "    .dataframe tbody tr th {\n",
       "        vertical-align: top;\n",
       "    }\n",
       "\n",
       "    .dataframe thead th {\n",
       "        text-align: right;\n",
       "    }\n",
       "</style>\n",
       "<table border=\"1\" class=\"dataframe\">\n",
       "  <thead>\n",
       "    <tr style=\"text-align: right;\">\n",
       "      <th></th>\n",
       "      <th>title</th>\n",
       "      <th>link</th>\n",
       "      <th>category</th>\n",
       "      <th>content</th>\n",
       "    </tr>\n",
       "  </thead>\n",
       "  <tbody>\n",
       "    <tr>\n",
       "      <th>1198</th>\n",
       "      <td>S10 5G 100만·V50 30만대 팔렸다…이통사 보조금 축소 '속도조절'</td>\n",
       "      <td>https://news.naver.com/main/read.nhn?mode=LSD&amp;...</td>\n",
       "      <td>105</td>\n",
       "      <td>5G 세계 최초 상용화 후 80여일만 130만 돌파서울 광화문 KT매장에서 시민들이...</td>\n",
       "    </tr>\n",
       "    <tr>\n",
       "      <th>1199</th>\n",
       "      <td>태양광 시설로 사라진 농지면적 3년간 5618.8㏊… 여의도 20배</td>\n",
       "      <td>https://news.naver.com/main/read.nhn?mode=LSD&amp;...</td>\n",
       "      <td>105</td>\n",
       "      <td>3년 동안 태양광 사업으로 사라진 농지면적이 서울 여의도 면적의 20배에 육박한 것...</td>\n",
       "    </tr>\n",
       "  </tbody>\n",
       "</table>\n",
       "</div>"
      ],
      "text/plain": [
       "                                           title   \n",
       "1198  S10 5G 100만·V50 30만대 팔렸다…이통사 보조금 축소 '속도조절'  \\\n",
       "1199       태양광 시설로 사라진 농지면적 3년간 5618.8㏊… 여의도 20배   \n",
       "\n",
       "                                                   link  category   \n",
       "1198  https://news.naver.com/main/read.nhn?mode=LSD&...       105  \\\n",
       "1199  https://news.naver.com/main/read.nhn?mode=LSD&...       105   \n",
       "\n",
       "                                                content  \n",
       "1198  5G 세계 최초 상용화 후 80여일만 130만 돌파서울 광화문 KT매장에서 시민들이...  \n",
       "1199  3년 동안 태양광 사업으로 사라진 농지면적이 서울 여의도 면적의 20배에 육박한 것...  "
      ]
     },
     "execution_count": 16,
     "metadata": {},
     "output_type": "execute_result"
    }
   ],
   "source": [
    "article_df = pd.read_csv(\"articles_1200.csv\")\n",
    "print(len(article_df))\n",
    "article_df.tail(2)"
   ]
  },
  {
   "cell_type": "markdown",
   "metadata": {
    "slideshow": {
     "slide_type": "slide"
    }
   },
   "source": [
    "### 3. 학습 데이터와 테스트 데이터 나누기"
   ]
  },
  {
   "cell_type": "code",
   "execution_count": 17,
   "metadata": {},
   "outputs": [
    {
     "data": {
      "text/plain": [
       "(1080, 120, 1080, 120)"
      ]
     },
     "execution_count": 17,
     "metadata": {},
     "output_type": "execute_result"
    }
   ],
   "source": [
    "X_train, X_test, y_train, y_test = train_test_split(article_df.content, article_df.category, test_size=0.1, random_state=1)\n",
    "len(X_train), len(X_test), len(y_train), len(y_test)"
   ]
  },
  {
   "cell_type": "markdown",
   "metadata": {
    "slideshow": {
     "slide_type": "-"
    }
   },
   "source": [
    "### 4. 모델 만들기 (모델 학습)"
   ]
  },
  {
   "cell_type": "code",
   "execution_count": 18,
   "metadata": {},
   "outputs": [],
   "source": [
    "clf = Pipeline([\n",
    "    ('vect', TfidfVectorizer()), \n",
    "    ('clf', MultinomialNB(alpha=0.01)),\n",
    "])"
   ]
  },
  {
   "cell_type": "code",
   "execution_count": 19,
   "metadata": {},
   "outputs": [
    {
     "name": "stdout",
     "output_type": "stream",
     "text": [
      "CPU times: user 717 ms, sys: 54.9 ms, total: 772 ms\n",
      "Wall time: 818 ms\n"
     ]
    }
   ],
   "source": [
    "%%time\n",
    "model = clf.fit(X_train.values.astype(\"str\"), y_train)"
   ]
  },
  {
   "cell_type": "markdown",
   "metadata": {
    "slideshow": {
     "slide_type": "slide"
    }
   },
   "source": [
    "### 5. 모델 성능 확인"
   ]
  },
  {
   "cell_type": "code",
   "execution_count": 20,
   "metadata": {},
   "outputs": [],
   "source": [
    "y_pred = model.predict(X_test)"
   ]
  },
  {
   "cell_type": "code",
   "execution_count": 21,
   "metadata": {},
   "outputs": [
    {
     "name": "stdout",
     "output_type": "stream",
     "text": [
      "              precision    recall  f1-score   support\n",
      "\n",
      "         100       0.86      1.00      0.93        19\n",
      "         101       0.88      0.67      0.76        21\n",
      "         102       0.83      0.80      0.82        25\n",
      "         103       0.69      0.64      0.67        14\n",
      "         104       1.00      0.89      0.94        19\n",
      "         105       0.75      0.95      0.84        22\n",
      "\n",
      "    accuracy                           0.83       120\n",
      "   macro avg       0.84      0.83      0.83       120\n",
      "weighted avg       0.84      0.83      0.83       120\n",
      "\n"
     ]
    }
   ],
   "source": [
    "print(classification_report(y_test, y_pred))"
   ]
  },
  {
   "cell_type": "markdown",
   "metadata": {
    "slideshow": {
     "slide_type": "slide"
    }
   },
   "source": [
    "### 6. 모델을 사용하여 문장의 카테고리 예측하기"
   ]
  },
  {
   "cell_type": "code",
   "execution_count": 22,
   "metadata": {},
   "outputs": [],
   "source": [
    "classification_dict = {\n",
    "    100:\"정치\",\n",
    "    101:\"경제\",\n",
    "    102:\"사회\",\n",
    "    103:\"생활/문화\",\n",
    "    104:\"세계\",\n",
    "    105:\"IT/과학\",\n",
    "}"
   ]
  },
  {
   "cell_type": "code",
   "execution_count": 23,
   "metadata": {},
   "outputs": [],
   "source": [
    "with open(\"model.pkl\", \"wb\") as f:\n",
    "    pickle.dump(model, f)"
   ]
  },
  {
   "cell_type": "code",
   "execution_count": 24,
   "metadata": {},
   "outputs": [],
   "source": [
    "with open(\"model.pkl\", \"rb\") as f:\n",
    "    load_model = pickle.load(f)"
   ]
  },
  {
   "cell_type": "code",
   "execution_count": 25,
   "metadata": {},
   "outputs": [
    {
     "data": {
      "text/plain": [
       "[('정치', 0.062),\n",
       " ('경제', 0.079),\n",
       " ('사회', 0.018),\n",
       " ('생활/문화', 0.009),\n",
       " ('세계', 0.828),\n",
       " ('IT/과학', 0.005)]"
      ]
     },
     "execution_count": 25,
     "metadata": {},
     "output_type": "execute_result"
    }
   ],
   "source": [
    "proba = load_model.predict_proba([\"트럼프 미국 대통령 중국과 무역협상 타결\"])[0]\n",
    "list(zip(classification_dict.values(), np.round(proba, 3)))"
   ]
  },
  {
   "cell_type": "code",
   "execution_count": 26,
   "metadata": {},
   "outputs": [
    {
     "data": {
      "text/plain": [
       "dict_values(['정치', '경제', '사회', '생활/문화', '세계', 'IT/과학'])"
      ]
     },
     "execution_count": 26,
     "metadata": {},
     "output_type": "execute_result"
    }
   ],
   "source": [
    "classification_dict.values()"
   ]
  },
  {
   "cell_type": "code",
   "execution_count": 27,
   "metadata": {},
   "outputs": [
    {
     "data": {
      "text/plain": [
       "'세계'"
      ]
     },
     "execution_count": 27,
     "metadata": {},
     "output_type": "execute_result"
    }
   ],
   "source": [
    "category = model.predict([\"트럼프 미국 대통령 중국과 무역협상 타결\"])[0]\n",
    "classification_dict[category]"
   ]
  }
 ],
 "metadata": {
  "kernelspec": {
   "display_name": "Python 3 (ipykernel)",
   "language": "python",
   "name": "python3"
  },
  "language_info": {
   "codemirror_mode": {
    "name": "ipython",
    "version": 3
   },
   "file_extension": ".py",
   "mimetype": "text/x-python",
   "name": "python",
   "nbconvert_exporter": "python",
   "pygments_lexer": "ipython3",
   "version": "3.8.5"
  },
  "varInspector": {
   "cols": {
    "lenName": 16,
    "lenType": 16,
    "lenVar": 40
   },
   "kernels_config": {
    "python": {
     "delete_cmd_postfix": "",
     "delete_cmd_prefix": "del ",
     "library": "var_list.py",
     "varRefreshCmd": "print(var_dic_list())"
    },
    "r": {
     "delete_cmd_postfix": ") ",
     "delete_cmd_prefix": "rm(",
     "library": "var_list.r",
     "varRefreshCmd": "cat(var_dic_list()) "
    }
   },
   "types_to_exclude": [
    "module",
    "function",
    "builtin_function_or_method",
    "instance",
    "_Feature"
   ],
   "window_display": false
  }
 },
 "nbformat": 4,
 "nbformat_minor": 2
}
