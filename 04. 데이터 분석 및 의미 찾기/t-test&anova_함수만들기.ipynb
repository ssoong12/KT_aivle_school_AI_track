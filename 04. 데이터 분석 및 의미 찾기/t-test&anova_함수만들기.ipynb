{
 "cells": [
  {
   "attachments": {},
   "cell_type": "markdown",
   "metadata": {},
   "source": [
    "# 함수 만들기"
   ]
  },
  {
   "cell_type": "code",
   "execution_count": 1,
   "metadata": {},
   "outputs": [],
   "source": [
    "import pandas as pd\n",
    "import numpy as np\n",
    "import scipy.stats as spst\n",
    "import matplotlib.pyplot as plt\n",
    "import seaborn as sns\n",
    "\n",
    "# info : num -> target : num\n",
    "def draw_barplot(x:str, y:str, data:pd.DataFrame):\n",
    "\n",
    "    sns.barplot(x=x, y=y, data=data)\n",
    "    plt.grid()\n",
    "    plt.show()\n",
    "\n",
    "    test = list()\n",
    "\n",
    "    if data[x].isna().sum():\n",
    "        data = data.loc[data[x].notnull(), :]\n",
    "\n",
    "    if len(data[x].unique()) > 2:\n",
    "        for u in data[x].unique():\n",
    "            test.append(data.loc[data[x] == u, y])\n",
    "        result = spst.f_oneway(*test)\n",
    "        return print('F-score : {}, P-value : {}'.format(result[0], result[1]))\n",
    "    else:\n",
    "        for u in data[x].unique():\n",
    "            test.append(data.loc[data[x] == u, y])\n",
    "        result = spst.ttest_ind(*test)\n",
    "        return print('T-score : {}, P-value : {}'.format(result[0], result[1]))\n",
    "    \n",
    "# info : category -> target : num\n",
    "def draw_scatter(x:str, y:str, data=pd.DataFrame):\n",
    "\n",
    "    sns.jointplot(x=x, y=y, data=data)\n",
    "    plt.show()\n",
    "    \n",
    "    sns.regplot(x=x, y=y, data=data)\n",
    "    plt.show()\n",
    "\n",
    "    result = spst.pearsonr(data[x],data[y])\n",
    "\n",
    "    return print('Pearson : {}, p-value : {}'.format(result[0], result[1]))"
   ]
  }
 ],
 "metadata": {
  "kernelspec": {
   "display_name": "base",
   "language": "python",
   "name": "python3"
  },
  "language_info": {
   "codemirror_mode": {
    "name": "ipython",
    "version": 3
   },
   "file_extension": ".py",
   "mimetype": "text/x-python",
   "name": "python",
   "nbconvert_exporter": "python",
   "pygments_lexer": "ipython3",
   "version": "3.9.13"
  },
  "orig_nbformat": 4,
  "vscode": {
   "interpreter": {
    "hash": "f08154012ddadd8e950e6e9e035c7a7b32c136e7647e9b7c77e02eb723a8bedb"
   }
  }
 },
 "nbformat": 4,
 "nbformat_minor": 2
}
