{
 "cells": [
  {
   "cell_type": "markdown",
   "metadata": {},
   "source": [
    "# Chapter 1. Python Basic"
   ]
  },
  {
   "cell_type": "code",
   "execution_count": 1,
   "metadata": {},
   "outputs": [],
   "source": [
    "# !pip install Ipython\n",
    "from IPython.display import Image"
   ]
  },
  {
   "cell_type": "markdown",
   "metadata": {
    "id": "vlpGXlA-VNjF"
   },
   "source": [
    "# __1. 인덱싱(Indexing)__\n",
    "\n",
    "  - 사전적으로는 무엇인가 \"가르킨다\"를 의미합니다. \n",
    "  - 즉, 인덱싱(Indexing)은 특정한 값을 뽑아내는 역할을 합니다.\n",
    "  - 예시) x = Rome is not built in a day!"
   ]
  },
  {
   "cell_type": "code",
   "execution_count": 2,
   "metadata": {
    "id": "iMod-hw9VNjH"
   },
   "outputs": [],
   "source": [
    "x = \"Rome is not built in a day!\""
   ]
  },
  {
   "cell_type": "code",
   "execution_count": 3,
   "metadata": {},
   "outputs": [
    {
     "data": {
      "image/png": "[encoded data removed]",
      "text/plain": [
       "<IPython.core.display.Image object>"
      ]
     },
     "execution_count": 3,
     "metadata": {},
     "output_type": "execute_result"
    }
   ],
   "source": [
    "Image(\"rome.png\")"
   ]
  },
  {
   "cell_type": "code",
   "execution_count": 4,
   "metadata": {
    "id": "h5rtT40LVNjJ",
    "outputId": "c3cbdd69-988b-4193-9995-e132cd1651f8"
   },
   "outputs": [
    {
     "data": {
      "text/plain": [
       "'R'"
      ]
     },
     "execution_count": 4,
     "metadata": {},
     "output_type": "execute_result"
    }
   ],
   "source": [
    "x[0]"
   ]
  },
  {
   "cell_type": "code",
   "execution_count": 5,
   "metadata": {
    "id": "k30qXgL1VNjK",
    "outputId": "9f953b19-d325-428a-c66b-2c5743fa7666"
   },
   "outputs": [
    {
     "data": {
      "text/plain": [
       "'!'"
      ]
     },
     "execution_count": 5,
     "metadata": {},
     "output_type": "execute_result"
    }
   ],
   "source": [
    "x[-1]"
   ]
  },
  {
   "cell_type": "code",
   "execution_count": 6,
   "metadata": {
    "id": "EHtl2VbHVNjL",
    "outputId": "7b7ee4a7-6a73-42bd-9724-7a351c330adf"
   },
   "outputs": [
    {
     "data": {
      "text/plain": [
       "'a'"
      ]
     },
     "execution_count": 6,
     "metadata": {},
     "output_type": "execute_result"
    }
   ],
   "source": [
    "x[-6]"
   ]
  },
  {
   "cell_type": "code",
   "execution_count": 7,
   "metadata": {
    "id": "G2XGH4uNVNjM",
    "outputId": "8e65a55d-ba1c-4286-f000-b429a319a7cd"
   },
   "outputs": [
    {
     "data": {
      "text/plain": [
       "'l'"
      ]
     },
     "execution_count": 7,
     "metadata": {},
     "output_type": "execute_result"
    }
   ],
   "source": [
    "x[-12]"
   ]
  },
  {
   "attachments": {},
   "cell_type": "markdown",
   "metadata": {
    "id": "7bzatCU_VNjM"
   },
   "source": [
    "# __2. 슬라이싱(Slicing)__\n",
    "\n",
    "  - 사전적으로는 무엇인가 \"잘라낸다\"를 의미합니다. \n",
    "  - 아래 예시에서 원하는 단어를 뽑아내고자 할때 슬라이싱을 사용할 수 있습니다. \n",
    "  - 예시) x = Rome is not built in a day!\n",
    "  - Sliicing의 형태 : x[시작번호 : 끝번호]\n"
   ]
  },
  {
   "cell_type": "code",
   "execution_count": 8,
   "metadata": {},
   "outputs": [
    {
     "data": {
      "image/png": "[encoded data removed]",
      "text/plain": [
       "<IPython.core.display.Image object>"
      ]
     },
     "execution_count": 8,
     "metadata": {},
     "output_type": "execute_result"
    }
   ],
   "source": [
    "Image(\"rome.png\")"
   ]
  },
  {
   "cell_type": "code",
   "execution_count": 9,
   "metadata": {
    "id": "2rWB0i3GVNjN",
    "outputId": "38566857-d1a3-4173-de43-999af911a10a"
   },
   "outputs": [
    {
     "data": {
      "text/plain": [
       "'Rome'"
      ]
     },
     "execution_count": 9,
     "metadata": {},
     "output_type": "execute_result"
    }
   ],
   "source": [
    "x[0:4]"
   ]
  },
  {
   "cell_type": "code",
   "execution_count": 10,
   "metadata": {
    "id": "MsccX7unVNjO",
    "outputId": "299effcf-fa95-46e8-9a4c-9237af3856af"
   },
   "outputs": [
    {
     "data": {
      "text/plain": [
       "'built in a day!'"
      ]
     },
     "execution_count": 10,
     "metadata": {},
     "output_type": "execute_result"
    }
   ],
   "source": [
    "# 끝 번호를 삭제 한다면 ..  \n",
    "x[12:]"
   ]
  },
  {
   "cell_type": "code",
   "execution_count": 11,
   "metadata": {
    "id": "tKUzlsZ5VNjP",
    "outputId": "cae1941a-b7f6-4292-d77e-ecea4cbd84b9"
   },
   "outputs": [
    {
     "data": {
      "text/plain": [
       "'Rome is'"
      ]
     },
     "execution_count": 11,
     "metadata": {},
     "output_type": "execute_result"
    }
   ],
   "source": [
    "# 시작번호를 삭제 한다면 ..  \n",
    "x[:7]"
   ]
  },
  {
   "cell_type": "code",
   "execution_count": 12,
   "metadata": {
    "id": "C234ve61VNjP",
    "outputId": "85a35ed4-e352-4a66-9677-af3ec8e93823"
   },
   "outputs": [
    {
     "data": {
      "text/plain": [
       "'Rome is not built in a day!'"
      ]
     },
     "execution_count": 12,
     "metadata": {},
     "output_type": "execute_result"
    }
   ],
   "source": [
    "# 시작번호, 끝번호를 삭제 한다면 ..  \n",
    "x[:]"
   ]
  },
  {
   "cell_type": "code",
   "execution_count": 13,
   "metadata": {
    "id": "Q-VelyouVNjQ",
    "outputId": "999b3e2b-f578-4d41-c303-9955629fdfb5"
   },
   "outputs": [
    {
     "data": {
      "text/plain": [
       "'built in'"
      ]
     },
     "execution_count": 13,
     "metadata": {},
     "output_type": "execute_result"
    }
   ],
   "source": [
    "# 슬라이싱도 인덱싱 처럼 (-)기호를 사용할 수 있다.  \n",
    "x[12:-7]"
   ]
  },
  {
   "attachments": {},
   "cell_type": "markdown",
   "metadata": {
    "id": "Uf-LhmrjVNjR"
   },
   "source": [
    "# __3. 파이썬 자료형__\n",
    "\n",
    "- 자료형 : 프로그래밍을 할 때 쓰이는 숫자, 문자열 등 자료 형태로 사용하는 모든 것\n",
    "- 자료형은 데이터를 이해하는데 가장 기본이자 중요한 요소입니다. \n",
    "\n",
    "### <b>3-1. 자료형의 종류</b>\n",
    " - string (문자열) : 문자, 단어 등으로 구성된 문자들의 집합\n",
    "    ex)  \"Hello World\" , \"123\" , \"a\"\n",
    " - integer : 숫자형 데이터 중 정수형\n",
    "    ex)  123, -234 \n",
    " - float : 소수점이 포함된 숫자\n",
    "    ex)  1.2, -2.34"
   ]
  },
  {
   "cell_type": "markdown",
   "metadata": {
    "id": "i2r1hppGVNjR"
   },
   "source": [
    "### <b>3-2. 리스트 자료형</b>\n",
    "  - 순서대로 정리 된 항목들을 담는 구조(특정 데이터를 반복적으로 처리하는데 특화 되어 있음\n",
    "  - 리스트는 [ ]로 감싸고 각 요소는 ,로 구분한다."
   ]
  },
  {
   "cell_type": "markdown",
   "metadata": {
    "id": "EblFaQb-VNjS"
   },
   "source": [
    "#### <b>1) 리스트의 생성</b>\n",
    " - 리스트명 = [데이터, 데이터, 데이터]\n",
    " - 리스트명 = list(range(시작 값, 종료 값, 증가 or 감소)"
   ]
  },
  {
   "cell_type": "code",
   "execution_count": 14,
   "metadata": {
    "id": "6pJVKGemVNjS",
    "outputId": "043486ba-b658-41f2-904a-c6db49341e10"
   },
   "outputs": [
    {
     "data": {
      "text/plain": [
       "[1, 2, 3]"
      ]
     },
     "execution_count": 14,
     "metadata": {},
     "output_type": "execute_result"
    }
   ],
   "source": [
    "a=[1,2,3]\n",
    "a"
   ]
  },
  {
   "cell_type": "code",
   "execution_count": 15,
   "metadata": {
    "id": "LB9gOrmlVNjS",
    "outputId": "d9ab4b04-c053-4516-b439-fb91fd28c243"
   },
   "outputs": [
    {
     "data": {
      "text/plain": [
       "[1, 3, 5, 7, 9]"
      ]
     },
     "execution_count": 15,
     "metadata": {},
     "output_type": "execute_result"
    }
   ],
   "source": [
    "b=list(range(1,10,2))\n",
    "b"
   ]
  },
  {
   "cell_type": "markdown",
   "metadata": {
    "id": "SI_q07yqVNjT"
   },
   "source": [
    "#### <b>2) 리스트 관련 함수</b>\n",
    "- 리스트.append(요소) : 리스트의 끝에 요소 추가\n",
    "- 리스트.insert(인덱스, 요소) : 리스트의 특정 인덱스에 요소 추가\n",
    "- 리스트1.extend(리스트2) : 리스트1에 리스트2를 연결해 확장\n",
    "- 리스트1 + 리스트2 : 리스트1과 리스트2를 서로 병합\n",
    "- 리스트.remove(요소) : 리스트의 특정 값의 요소를 삭제\n",
    "- 리스트.count('요소') : 리스트 중 특정 값을 가진 요소의 개수를 카운트\n",
    "- 리스트.sort() : 리스트 내 요소를 오름차순으로 정렬\n",
    "- 리스트.pop(인덱스) : 리스트 중 특정 인덱스의 요소를 삭제"
   ]
  },
  {
   "cell_type": "code",
   "execution_count": 16,
   "metadata": {
    "id": "hFeLcgYkVNjT",
    "outputId": "0baf063b-dba2-4da1-8c8b-761ac8ca14f2"
   },
   "outputs": [
    {
     "data": {
      "text/plain": [
       "['red', 'green', 'blue', 'yellow']"
      ]
     },
     "execution_count": 16,
     "metadata": {},
     "output_type": "execute_result"
    }
   ],
   "source": [
    "a = ['red', 'green', 'blue']\n",
    "a.append('yellow')\n",
    "a"
   ]
  },
  {
   "cell_type": "code",
   "execution_count": 17,
   "metadata": {
    "id": "IH-rzpcDVNjT",
    "outputId": "6e9741da-cd2b-4eb2-c6d4-9eebfe88cfef"
   },
   "outputs": [
    {
     "data": {
      "text/plain": [
       "['red', 'black', 'green', 'blue', 'yellow']"
      ]
     },
     "execution_count": 17,
     "metadata": {},
     "output_type": "execute_result"
    }
   ],
   "source": [
    "a.insert(1, 'black')\n",
    "a"
   ]
  },
  {
   "cell_type": "code",
   "execution_count": 18,
   "metadata": {
    "id": "8z8BukmdVNjU",
    "outputId": "5a2a016b-37a7-44ec-fe16-ee565fb9eca6"
   },
   "outputs": [
    {
     "data": {
      "text/plain": [
       "['red', 'black', 'green', 'blue', 'yellow', 'purple', 'white']"
      ]
     },
     "execution_count": 18,
     "metadata": {},
     "output_type": "execute_result"
    }
   ],
   "source": [
    "b = ['purple', 'white']\n",
    "a.extend(b)\n",
    "a"
   ]
  },
  {
   "cell_type": "code",
   "execution_count": 19,
   "metadata": {
    "id": "LCPt8XfYVNjU",
    "outputId": "47996d11-fa91-463f-f098-a1365c4c7ca0"
   },
   "outputs": [
    {
     "name": "stdout",
     "output_type": "stream",
     "text": [
      "['red', 'black', 'green', 'blue', 'yellow', 'purple', 'white', 'purple', 'white']\n"
     ]
    }
   ],
   "source": [
    "c = a+b\n",
    "print(c)"
   ]
  },
  {
   "cell_type": "code",
   "execution_count": 20,
   "metadata": {
    "id": "rkm_AVBvVNjU",
    "outputId": "570f5b5b-7cb8-4848-967f-13116fe6a445"
   },
   "outputs": [
    {
     "data": {
      "text/plain": [
       "[10, 20, 30, 40, 50, 60, 70, 80, 100]"
      ]
     },
     "execution_count": 20,
     "metadata": {},
     "output_type": "execute_result"
    }
   ],
   "source": [
    "d = [10, 20, 30, 40, 50, 60, 70, 80, 90, 100]\n",
    "d.remove(90)\n",
    "d"
   ]
  },
  {
   "cell_type": "code",
   "execution_count": 21,
   "metadata": {
    "id": "EFNGjS7_VNjV",
    "outputId": "98a4bcf8-ff8e-4a65-8d8a-d53f7a5d6ada"
   },
   "outputs": [
    {
     "data": {
      "text/plain": [
       "3"
      ]
     },
     "execution_count": 21,
     "metadata": {},
     "output_type": "execute_result"
    }
   ],
   "source": [
    "list1 = ['a', 'bb', 'c', 'd','aaa', 'c', 'ddd', 'aaa',  'b', 'cc', 'd', 'aaa', ]\n",
    "list1.count('aaa')\n"
   ]
  },
  {
   "cell_type": "code",
   "execution_count": 22,
   "metadata": {
    "id": "HrgFAhJ2VNjV",
    "outputId": "6d073c8f-f728-4868-d607-b9a0abeab43f"
   },
   "outputs": [
    {
     "data": {
      "text/plain": [
       "[-7, 1, 3, 5, 8, 9, 11, 13]"
      ]
     },
     "execution_count": 22,
     "metadata": {},
     "output_type": "execute_result"
    }
   ],
   "source": [
    "list2 = [1, -7, 5, 8, 3, 9, 11, 13]\n",
    "list2.sort()\n",
    "list2"
   ]
  },
  {
   "cell_type": "code",
   "execution_count": 23,
   "metadata": {
    "id": "14xD_A8QVNjV",
    "outputId": "d2be0836-d2b2-474a-fb00-4c31fcc5f9c0"
   },
   "outputs": [
    {
     "data": {
      "text/plain": [
       "[13, 11, 9, 8, 5, 3, 1, -7]"
      ]
     },
     "execution_count": 23,
     "metadata": {},
     "output_type": "execute_result"
    }
   ],
   "source": [
    "list2.sort(reverse=True)\n",
    "list2"
   ]
  },
  {
   "cell_type": "code",
   "execution_count": 24,
   "metadata": {
    "id": "KX5bqvZ_VNjV",
    "outputId": "2e18f93c-0805-4b05-cef6-5d30cc27aac9"
   },
   "outputs": [
    {
     "data": {
      "text/plain": [
       "[20, 30, 40, 50, 60, 70, 80, 90, 100]"
      ]
     },
     "execution_count": 24,
     "metadata": {},
     "output_type": "execute_result"
    }
   ],
   "source": [
    "d = [10, 20, 30, 40, 50, 60, 70, 80, 90, 100]\n",
    "d.pop(0)\n",
    "d"
   ]
  },
  {
   "cell_type": "markdown",
   "metadata": {
    "id": "6xA9K9XrVNjW"
   },
   "source": [
    "### <b>3-3. 튜플(Tuple)</b>\n",
    "- 리스트와 거의 유사하고 사용법도 동일함\n",
    "- 라스트는 [ ] 으로 둘러싸지만 튜플은 ( )으로 둘러싼다.\n",
    "- 튜플에서는 리스트와 달리 요소들의 수정과 추가 불가"
   ]
  },
  {
   "cell_type": "markdown",
   "metadata": {
    "id": "aNSj9X1pVNjW"
   },
   "source": [
    "#### <b>1) 튜플 생성</b>\n",
    "- 튜플명 = ( 데이터, 데이터, 데이터, ... )\n",
    "- 튜플명 = 데이터, 데이터, 데이터, ..."
   ]
  },
  {
   "cell_type": "code",
   "execution_count": 25,
   "metadata": {
    "id": "qUnqW5JiVNjW",
    "outputId": "3954e89d-b7a3-41b4-d59f-d0d057541780"
   },
   "outputs": [
    {
     "data": {
      "text/plain": [
       "('banana', ' apple', 'kiwi')"
      ]
     },
     "execution_count": 25,
     "metadata": {},
     "output_type": "execute_result"
    }
   ],
   "source": [
    "t1 = ('banana', ' apple', 'kiwi')\n",
    "t1"
   ]
  },
  {
   "cell_type": "code",
   "execution_count": 26,
   "metadata": {
    "id": "27zTzrFdVNjW",
    "outputId": "b54380ec-78bd-432d-f929-768e3d173795"
   },
   "outputs": [
    {
     "data": {
      "text/plain": [
       "('banana', 'apple', 'kiwi')"
      ]
     },
     "execution_count": 26,
     "metadata": {},
     "output_type": "execute_result"
    }
   ],
   "source": [
    "t2 = 'banana', 'apple', 'kiwi'\n",
    "t2"
   ]
  },
  {
   "cell_type": "code",
   "execution_count": 27,
   "metadata": {
    "id": "eUYffjQdVNjX"
   },
   "outputs": [
    {
     "ename": "TypeError",
     "evalue": "'tuple' object does not support item assignment",
     "output_type": "error",
     "traceback": [
      "\u001b[1;31m---------------------------------------------------------------------------\u001b[0m",
      "\u001b[1;31mTypeError\u001b[0m                                 Traceback (most recent call last)",
      "\u001b[1;32m~\\AppData\\Local\\Temp\\ipykernel_2596\\2640758041.py\u001b[0m in \u001b[0;36m<module>\u001b[1;34m\u001b[0m\n\u001b[0;32m      1\u001b[0m \u001b[1;31m# 튜플은 변환이 불가능 하기 때문에 에러 발생\u001b[0m\u001b[1;33m\u001b[0m\u001b[1;33m\u001b[0m\u001b[0m\n\u001b[1;32m----> 2\u001b[1;33m \u001b[0mt2\u001b[0m\u001b[1;33m[\u001b[0m\u001b[1;36m0\u001b[0m\u001b[1;33m]\u001b[0m \u001b[1;33m=\u001b[0m \u001b[1;34m'watermelon'\u001b[0m\u001b[1;33m\u001b[0m\u001b[1;33m\u001b[0m\u001b[0m\n\u001b[0m",
      "\u001b[1;31mTypeError\u001b[0m: 'tuple' object does not support item assignment"
     ]
    }
   ],
   "source": [
    "# 튜플은 변환이 불가능 하기 때문에 에러 발생\n",
    "t2[0] = 'watermelon'"
   ]
  },
  {
   "cell_type": "markdown",
   "metadata": {
    "id": "tyPkvSlGVNjX"
   },
   "source": [
    "#### <b>2) 튜플의 장점</b>\n",
    "- 튜플은 반복 처리 시 리스트에 비해 근소하게나마 빠르다. (연산량이 많은 경우 약간의 성능 향상)\n",
    "- 튜플은 요소를 변경할 수 없는 특성으로 인해 딕셔너리의 키로 사용할 수 있다. (리스트는 사용 불가)\n",
    "- 튜플은 요소를 변경할 수 없기 때문에 보안을 요하는 데이터를 보호하는 장점을 가지게 된다."
   ]
  },
  {
   "cell_type": "markdown",
   "metadata": {
    "id": "BBXq_ux5VNjX"
   },
   "source": [
    "### <b>3-4. 딕셔너리(Dictionary)</b>\n",
    "- 사전이 단어와 뜻으로 구성되듯, 키(key)와 값(Value)의 쌍으로 갖는 자료형"
   ]
  },
  {
   "cell_type": "markdown",
   "metadata": {
    "id": "eSqkImChVNjX"
   },
   "source": [
    "#### <b>1) 딕셔너리 생성</b>\n",
    "- 딕셔너리명 = {key1:value1, key2:value2, key3:value3, ...}\n",
    "- 딕셔너리 key 값으로 튜플은 사용 가능 하지만 리스트는 사용불가 "
   ]
  },
  {
   "cell_type": "code",
   "execution_count": 28,
   "metadata": {
    "id": "uLtZSv2JVNjX",
    "outputId": "46d5ff69-248b-482b-8750-66fd01e56382"
   },
   "outputs": [
    {
     "data": {
      "text/plain": [
       "{'name': '안지영', 'age': 30, 'email': 'jiyoung@korea.com'}"
      ]
     },
     "execution_count": 28,
     "metadata": {},
     "output_type": "execute_result"
    }
   ],
   "source": [
    "members = {'name':'안지영', 'age':30, 'email':'jiyoung@korea.com'}\n",
    "members"
   ]
  },
  {
   "cell_type": "markdown",
   "metadata": {
    "id": "1aKd39GUVNjX"
   },
   "source": [
    "#### <b>2) 딕셔너리 관련 함수</b>\n",
    "  - keys : 딕셔너리에 key만 모아서 반환\n",
    "  - vlaues : 딕셔너리에 value만 모아서 반환\n",
    "  - items : key, value쌍을 튜플로 묶은 값을 반환\n",
    "  - clear : key,vallue 모두 지우기\n",
    "  - get : key로 value 얻기\n",
    "  - in : 해당 key가 딕셔너리 안에 있는지 조사하고자 하는 경우 사용"
   ]
  },
  {
   "cell_type": "code",
   "execution_count": 29,
   "metadata": {
    "id": "rHIQxJitVNjY",
    "outputId": "a2e125ad-b290-4bc5-ee84-fd5ff9489956"
   },
   "outputs": [
    {
     "data": {
      "text/plain": [
       "dict_keys(['name', 'age', 'email'])"
      ]
     },
     "execution_count": 29,
     "metadata": {},
     "output_type": "execute_result"
    }
   ],
   "source": [
    "members.keys()"
   ]
  },
  {
   "cell_type": "code",
   "execution_count": 30,
   "metadata": {
    "id": "j_UYO_MiVNjY",
    "outputId": "cfc4df60-a9d3-4cd0-9eb7-7db650b4c974"
   },
   "outputs": [
    {
     "data": {
      "text/plain": [
       "dict_values(['안지영', 30, 'jiyoung@korea.com'])"
      ]
     },
     "execution_count": 30,
     "metadata": {},
     "output_type": "execute_result"
    }
   ],
   "source": [
    "members.values()"
   ]
  },
  {
   "cell_type": "code",
   "execution_count": 31,
   "metadata": {
    "id": "LrKaAna6VNjY",
    "outputId": "9c8d2f2c-fedc-411f-8cec-1c5ebf37b1b8"
   },
   "outputs": [
    {
     "data": {
      "text/plain": [
       "dict_items([('name', '안지영'), ('age', 30), ('email', 'jiyoung@korea.com')])"
      ]
     },
     "execution_count": 31,
     "metadata": {},
     "output_type": "execute_result"
    }
   ],
   "source": [
    "members.items()"
   ]
  },
  {
   "cell_type": "code",
   "execution_count": 32,
   "metadata": {
    "id": "pYK3RbjxVNjY",
    "outputId": "59dfe2d9-934d-4a3e-f043-14115c510b94"
   },
   "outputs": [
    {
     "data": {
      "text/plain": [
       "'안지영'"
      ]
     },
     "execution_count": 32,
     "metadata": {},
     "output_type": "execute_result"
    }
   ],
   "source": [
    "members.get('name')"
   ]
  },
  {
   "cell_type": "code",
   "execution_count": 33,
   "metadata": {
    "id": "j3R2SASxVNjY",
    "outputId": "d16a2904-775d-4514-f8e7-294e554ee614"
   },
   "outputs": [
    {
     "data": {
      "text/plain": [
       "True"
      ]
     },
     "execution_count": 33,
     "metadata": {},
     "output_type": "execute_result"
    }
   ],
   "source": [
    "'name' in members"
   ]
  },
  {
   "cell_type": "code",
   "execution_count": 34,
   "metadata": {
    "id": "VTwsJW7FVNjZ",
    "outputId": "14289ba6-5f4d-47e5-8c9d-415d2b473c07"
   },
   "outputs": [
    {
     "data": {
      "text/plain": [
       "False"
      ]
     },
     "execution_count": 34,
     "metadata": {},
     "output_type": "execute_result"
    }
   ],
   "source": [
    "'birth' in members"
   ]
  },
  {
   "cell_type": "code",
   "execution_count": 35,
   "metadata": {
    "id": "9IXXfdluVNjZ",
    "outputId": "1642acf4-4697-4f11-faf1-b1150c3aa599"
   },
   "outputs": [
    {
     "data": {
      "text/plain": [
       "{}"
      ]
     },
     "execution_count": 35,
     "metadata": {},
     "output_type": "execute_result"
    }
   ],
   "source": [
    "members.clear()\n",
    "members"
   ]
  },
  {
   "cell_type": "markdown",
   "metadata": {
    "id": "7h17ffzUVNjZ"
   },
   "source": [
    "### <b>3-5. List, Tuple, Dictionary차이</b>\n",
    "\n",
    "| 구분 | 설명 |\n",
    "|------|---|\n",
    "|리스트(List) |순서대로 정리된 항목들을 담는 자료구조|\n",
    "|튜플(Tuple)|리스트와 비슷하지만 수정이 불가능하여 비정적인 객체를 담는데 사용|\n",
    "|딕셔너리(Dictionary)|key와 value로 구성되는 자료구조|"
   ]
  }
 ],
 "metadata": {
  "colab": {
   "collapsed_sections": [
    "vlpGXlA-VNjF",
    "7bzatCU_VNjM",
    "EblFaQb-VNjS",
    "SI_q07yqVNjT",
    "aNSj9X1pVNjW",
    "tyPkvSlGVNjX",
    "BBXq_ux5VNjX",
    "eSqkImChVNjX",
    "1aKd39GUVNjX"
   ],
   "name": "Python Basic.ipynb",
   "provenance": []
  },
  "kernelspec": {
   "display_name": "base",
   "language": "python",
   "name": "python3"
  },
  "language_info": {
   "codemirror_mode": {
    "name": "ipython",
    "version": 3
   },
   "file_extension": ".py",
   "mimetype": "text/x-python",
   "name": "python",
   "nbconvert_exporter": "python",
   "pygments_lexer": "ipython3",
   "version": "3.9.13"
  },
  "toc": {
   "base_numbering": "4",
   "nav_menu": {},
   "number_sections": true,
   "sideBar": true,
   "skip_h1_title": false,
   "title_cell": "Table of Contents",
   "title_sidebar": "Contents",
   "toc_cell": false,
   "toc_position": {
    "height": "calc(100% - 180px)",
    "left": "10px",
    "top": "150px",
    "width": "288px"
   },
   "toc_section_display": true,
   "toc_window_display": true
  },
  "vscode": {
   "interpreter": {
    "hash": "f08154012ddadd8e950e6e9e035c7a7b32c136e7647e9b7c77e02eb723a8bedb"
   }
  }
 },
 "nbformat": 4,
 "nbformat_minor": 1
}
