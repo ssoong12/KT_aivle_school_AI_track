{
  "cells": [
    {
      "cell_type": "markdown",
      "metadata": {
        "id": "peI31xdG8j0C"
      },
      "source": [
        "# Sequence Models & How to use them\n",
        "\n",
        "**학습목표**\n",
        "1. RNN, LSTM, GRU의 구조를 이해한다.\n",
        "2. 위 모델을 사용하기 위한 데이터 구조를 이해한다.\n",
        "3. 위 모든 내용을 코딩할 수 있다.\n",
        "\n",
        "-----------------\n",
        "* Thanks to : 한기영 대표님 @ Data Insight"
      ]
    },
    {
      "cell_type": "markdown",
      "metadata": {
        "id": "jnCv9u_Wy9e1"
      },
      "source": [
        "## 1.환경 및 데이터 준비"
      ]
    },
    {
      "cell_type": "markdown",
      "metadata": {
        "id": "O1uL0UIEzBPw"
      },
      "source": [
        "### Import Packages"
      ]
    },
    {
      "cell_type": "code",
      "execution_count": null,
      "metadata": {
        "id": "GVvCef6A8uv6",
        "vscode": {
          "languageId": "python"
        }
      },
      "outputs": [],
      "source": [
        "#라이브러리들을 불러오자.\n",
        "import numpy as np\n",
        "import pandas as pd\n",
        "import matplotlib.pyplot as plt\n",
        "import matplotlib as mpl\n",
        "import tensorflow as tf\n",
        "from tensorflow import keras\n",
        "from tensorflow.keras.utils import plot_model\n",
        "from sklearn.metrics import mean_squared_error"
      ]
    },
    {
      "cell_type": "markdown",
      "metadata": {
        "id": "VHy5s1OOzItm"
      },
      "source": [
        "### Data Loading"
      ]
    },
    {
      "cell_type": "code",
      "execution_count": null,
      "metadata": {
        "colab": {
          "base_uri": "https://localhost:8080/",
          "height": 363
        },
        "id": "3GgFpOB4zQ7h",
        "outputId": "55d011a0-0179-46ad-e2c5-eb3d9195198c",
        "vscode": {
          "languageId": "python"
        }
      },
      "outputs": [
        {
          "data": {
            "text/html": [
              "\n",
              "  <div id=\"df-0ef5e612-67c8-4b6b-9913-9156801eb8cf\">\n",
              "    <div class=\"colab-df-container\">\n",
              "      <div>\n",
              "<style scoped>\n",
              "    .dataframe tbody tr th:only-of-type {\n",
              "        vertical-align: middle;\n",
              "    }\n",
              "\n",
              "    .dataframe tbody tr th {\n",
              "        vertical-align: top;\n",
              "    }\n",
              "\n",
              "    .dataframe thead th {\n",
              "        text-align: right;\n",
              "    }\n",
              "</style>\n",
              "<table border=\"1\" class=\"dataframe\">\n",
              "  <thead>\n",
              "    <tr style=\"text-align: right;\">\n",
              "      <th></th>\n",
              "      <th>year</th>\n",
              "      <th>week</th>\n",
              "      <th>AvgTemp</th>\n",
              "    </tr>\n",
              "  </thead>\n",
              "  <tbody>\n",
              "    <tr>\n",
              "      <th>0</th>\n",
              "      <td>2010</td>\n",
              "      <td>1</td>\n",
              "      <td>-3.000000</td>\n",
              "    </tr>\n",
              "    <tr>\n",
              "      <th>1</th>\n",
              "      <td>2010</td>\n",
              "      <td>2</td>\n",
              "      <td>-7.500000</td>\n",
              "    </tr>\n",
              "    <tr>\n",
              "      <th>2</th>\n",
              "      <td>2010</td>\n",
              "      <td>3</td>\n",
              "      <td>-7.900000</td>\n",
              "    </tr>\n",
              "    <tr>\n",
              "      <th>3</th>\n",
              "      <td>2010</td>\n",
              "      <td>4</td>\n",
              "      <td>-2.357143</td>\n",
              "    </tr>\n",
              "    <tr>\n",
              "      <th>4</th>\n",
              "      <td>2010</td>\n",
              "      <td>5</td>\n",
              "      <td>-3.342857</td>\n",
              "    </tr>\n",
              "    <tr>\n",
              "      <th>5</th>\n",
              "      <td>2010</td>\n",
              "      <td>6</td>\n",
              "      <td>-1.800000</td>\n",
              "    </tr>\n",
              "    <tr>\n",
              "      <th>6</th>\n",
              "      <td>2010</td>\n",
              "      <td>7</td>\n",
              "      <td>-0.314286</td>\n",
              "    </tr>\n",
              "    <tr>\n",
              "      <th>7</th>\n",
              "      <td>2010</td>\n",
              "      <td>8</td>\n",
              "      <td>-2.142857</td>\n",
              "    </tr>\n",
              "    <tr>\n",
              "      <th>8</th>\n",
              "      <td>2010</td>\n",
              "      <td>9</td>\n",
              "      <td>4.400000</td>\n",
              "    </tr>\n",
              "    <tr>\n",
              "      <th>9</th>\n",
              "      <td>2010</td>\n",
              "      <td>10</td>\n",
              "      <td>7.057143</td>\n",
              "    </tr>\n",
              "  </tbody>\n",
              "</table>\n",
              "</div>\n",
              "      <button class=\"colab-df-convert\" onclick=\"convertToInteractive('df-0ef5e612-67c8-4b6b-9913-9156801eb8cf')\"\n",
              "              title=\"Convert this dataframe to an interactive table.\"\n",
              "              style=\"display:none;\">\n",
              "        \n",
              "  <svg xmlns=\"http://www.w3.org/2000/svg\" height=\"24px\"viewBox=\"0 0 24 24\"\n",
              "       width=\"24px\">\n",
              "    <path d=\"M0 0h24v24H0V0z\" fill=\"none\"/>\n",
              "    <path d=\"M18.56 5.44l.94 2.06.94-2.06 2.06-.94-2.06-.94-.94-2.06-.94 2.06-2.06.94zm-11 1L8.5 8.5l.94-2.06 2.06-.94-2.06-.94L8.5 2.5l-.94 2.06-2.06.94zm10 10l.94 2.06.94-2.06 2.06-.94-2.06-.94-.94-2.06-.94 2.06-2.06.94z\"/><path d=\"M17.41 7.96l-1.37-1.37c-.4-.4-.92-.59-1.43-.59-.52 0-1.04.2-1.43.59L10.3 9.45l-7.72 7.72c-.78.78-.78 2.05 0 2.83L4 21.41c.39.39.9.59 1.41.59.51 0 1.02-.2 1.41-.59l7.78-7.78 2.81-2.81c.8-.78.8-2.07 0-2.86zM5.41 20L4 18.59l7.72-7.72 1.47 1.35L5.41 20z\"/>\n",
              "  </svg>\n",
              "      </button>\n",
              "      \n",
              "  <style>\n",
              "    .colab-df-container {\n",
              "      display:flex;\n",
              "      flex-wrap:wrap;\n",
              "      gap: 12px;\n",
              "    }\n",
              "\n",
              "    .colab-df-convert {\n",
              "      background-color: #E8F0FE;\n",
              "      border: none;\n",
              "      border-radius: 50%;\n",
              "      cursor: pointer;\n",
              "      display: none;\n",
              "      fill: #1967D2;\n",
              "      height: 32px;\n",
              "      padding: 0 0 0 0;\n",
              "      width: 32px;\n",
              "    }\n",
              "\n",
              "    .colab-df-convert:hover {\n",
              "      background-color: #E2EBFA;\n",
              "      box-shadow: 0px 1px 2px rgba(60, 64, 67, 0.3), 0px 1px 3px 1px rgba(60, 64, 67, 0.15);\n",
              "      fill: #174EA6;\n",
              "    }\n",
              "\n",
              "    [theme=dark] .colab-df-convert {\n",
              "      background-color: #3B4455;\n",
              "      fill: #D2E3FC;\n",
              "    }\n",
              "\n",
              "    [theme=dark] .colab-df-convert:hover {\n",
              "      background-color: #434B5C;\n",
              "      box-shadow: 0px 1px 3px 1px rgba(0, 0, 0, 0.15);\n",
              "      filter: drop-shadow(0px 1px 2px rgba(0, 0, 0, 0.3));\n",
              "      fill: #FFFFFF;\n",
              "    }\n",
              "  </style>\n",
              "\n",
              "      <script>\n",
              "        const buttonEl =\n",
              "          document.querySelector('#df-0ef5e612-67c8-4b6b-9913-9156801eb8cf button.colab-df-convert');\n",
              "        buttonEl.style.display =\n",
              "          google.colab.kernel.accessAllowed ? 'block' : 'none';\n",
              "\n",
              "        async function convertToInteractive(key) {\n",
              "          const element = document.querySelector('#df-0ef5e612-67c8-4b6b-9913-9156801eb8cf');\n",
              "          const dataTable =\n",
              "            await google.colab.kernel.invokeFunction('convertToInteractive',\n",
              "                                                     [key], {});\n",
              "          if (!dataTable) return;\n",
              "\n",
              "          const docLinkHtml = 'Like what you see? Visit the ' +\n",
              "            '<a target=\"_blank\" href=https://colab.research.google.com/notebooks/data_table.ipynb>data table notebook</a>'\n",
              "            + ' to learn more about interactive tables.';\n",
              "          element.innerHTML = '';\n",
              "          dataTable['output_type'] = 'display_data';\n",
              "          await google.colab.output.renderOutput(dataTable, element);\n",
              "          const docLink = document.createElement('div');\n",
              "          docLink.innerHTML = docLinkHtml;\n",
              "          element.appendChild(docLink);\n",
              "        }\n",
              "      </script>\n",
              "    </div>\n",
              "  </div>\n",
              "  "
            ],
            "text/plain": [
              "   year  week   AvgTemp\n",
              "0  2010     1 -3.000000\n",
              "1  2010     2 -7.500000\n",
              "2  2010     3 -7.900000\n",
              "3  2010     4 -2.357143\n",
              "4  2010     5 -3.342857\n",
              "5  2010     6 -1.800000\n",
              "6  2010     7 -0.314286\n",
              "7  2010     8 -2.142857\n",
              "8  2010     9  4.400000\n",
              "9  2010    10  7.057143"
            ]
          },
          "execution_count": 2,
          "metadata": {},
          "output_type": "execute_result"
        }
      ],
      "source": [
        "data = pd.read_csv('https://raw.githubusercontent.com/DA4BAM/dataset/master/temperature.csv')\n",
        "data.head(10)"
      ]
    },
    {
      "cell_type": "code",
      "execution_count": null,
      "metadata": {
        "colab": {
          "base_uri": "https://localhost:8080/",
          "height": 206
        },
        "id": "k1q6HwBO9Txp",
        "outputId": "0500d7ff-650f-49e0-d7dd-5d7e2cbe3bf8",
        "vscode": {
          "languageId": "python"
        }
      },
      "outputs": [
        {
          "data": {
            "text/html": [
              "\n",
              "  <div id=\"df-d5043227-6f54-41f5-b2c6-9db964bac1c3\">\n",
              "    <div class=\"colab-df-container\">\n",
              "      <div>\n",
              "<style scoped>\n",
              "    .dataframe tbody tr th:only-of-type {\n",
              "        vertical-align: middle;\n",
              "    }\n",
              "\n",
              "    .dataframe tbody tr th {\n",
              "        vertical-align: top;\n",
              "    }\n",
              "\n",
              "    .dataframe thead th {\n",
              "        text-align: right;\n",
              "    }\n",
              "</style>\n",
              "<table border=\"1\" class=\"dataframe\">\n",
              "  <thead>\n",
              "    <tr style=\"text-align: right;\">\n",
              "      <th></th>\n",
              "      <th>year</th>\n",
              "      <th>week</th>\n",
              "      <th>AvgTemp</th>\n",
              "    </tr>\n",
              "  </thead>\n",
              "  <tbody>\n",
              "    <tr>\n",
              "      <th>260</th>\n",
              "      <td>2014</td>\n",
              "      <td>49</td>\n",
              "      <td>8.100000</td>\n",
              "    </tr>\n",
              "    <tr>\n",
              "      <th>261</th>\n",
              "      <td>2014</td>\n",
              "      <td>50</td>\n",
              "      <td>-4.357143</td>\n",
              "    </tr>\n",
              "    <tr>\n",
              "      <th>262</th>\n",
              "      <td>2014</td>\n",
              "      <td>51</td>\n",
              "      <td>-2.142857</td>\n",
              "    </tr>\n",
              "    <tr>\n",
              "      <th>263</th>\n",
              "      <td>2014</td>\n",
              "      <td>52</td>\n",
              "      <td>-5.542857</td>\n",
              "    </tr>\n",
              "    <tr>\n",
              "      <th>264</th>\n",
              "      <td>2014</td>\n",
              "      <td>53</td>\n",
              "      <td>-0.728571</td>\n",
              "    </tr>\n",
              "  </tbody>\n",
              "</table>\n",
              "</div>\n",
              "      <button class=\"colab-df-convert\" onclick=\"convertToInteractive('df-d5043227-6f54-41f5-b2c6-9db964bac1c3')\"\n",
              "              title=\"Convert this dataframe to an interactive table.\"\n",
              "              style=\"display:none;\">\n",
              "        \n",
              "  <svg xmlns=\"http://www.w3.org/2000/svg\" height=\"24px\"viewBox=\"0 0 24 24\"\n",
              "       width=\"24px\">\n",
              "    <path d=\"M0 0h24v24H0V0z\" fill=\"none\"/>\n",
              "    <path d=\"M18.56 5.44l.94 2.06.94-2.06 2.06-.94-2.06-.94-.94-2.06-.94 2.06-2.06.94zm-11 1L8.5 8.5l.94-2.06 2.06-.94-2.06-.94L8.5 2.5l-.94 2.06-2.06.94zm10 10l.94 2.06.94-2.06 2.06-.94-2.06-.94-.94-2.06-.94 2.06-2.06.94z\"/><path d=\"M17.41 7.96l-1.37-1.37c-.4-.4-.92-.59-1.43-.59-.52 0-1.04.2-1.43.59L10.3 9.45l-7.72 7.72c-.78.78-.78 2.05 0 2.83L4 21.41c.39.39.9.59 1.41.59.51 0 1.02-.2 1.41-.59l7.78-7.78 2.81-2.81c.8-.78.8-2.07 0-2.86zM5.41 20L4 18.59l7.72-7.72 1.47 1.35L5.41 20z\"/>\n",
              "  </svg>\n",
              "      </button>\n",
              "      \n",
              "  <style>\n",
              "    .colab-df-container {\n",
              "      display:flex;\n",
              "      flex-wrap:wrap;\n",
              "      gap: 12px;\n",
              "    }\n",
              "\n",
              "    .colab-df-convert {\n",
              "      background-color: #E8F0FE;\n",
              "      border: none;\n",
              "      border-radius: 50%;\n",
              "      cursor: pointer;\n",
              "      display: none;\n",
              "      fill: #1967D2;\n",
              "      height: 32px;\n",
              "      padding: 0 0 0 0;\n",
              "      width: 32px;\n",
              "    }\n",
              "\n",
              "    .colab-df-convert:hover {\n",
              "      background-color: #E2EBFA;\n",
              "      box-shadow: 0px 1px 2px rgba(60, 64, 67, 0.3), 0px 1px 3px 1px rgba(60, 64, 67, 0.15);\n",
              "      fill: #174EA6;\n",
              "    }\n",
              "\n",
              "    [theme=dark] .colab-df-convert {\n",
              "      background-color: #3B4455;\n",
              "      fill: #D2E3FC;\n",
              "    }\n",
              "\n",
              "    [theme=dark] .colab-df-convert:hover {\n",
              "      background-color: #434B5C;\n",
              "      box-shadow: 0px 1px 3px 1px rgba(0, 0, 0, 0.15);\n",
              "      filter: drop-shadow(0px 1px 2px rgba(0, 0, 0, 0.3));\n",
              "      fill: #FFFFFF;\n",
              "    }\n",
              "  </style>\n",
              "\n",
              "      <script>\n",
              "        const buttonEl =\n",
              "          document.querySelector('#df-d5043227-6f54-41f5-b2c6-9db964bac1c3 button.colab-df-convert');\n",
              "        buttonEl.style.display =\n",
              "          google.colab.kernel.accessAllowed ? 'block' : 'none';\n",
              "\n",
              "        async function convertToInteractive(key) {\n",
              "          const element = document.querySelector('#df-d5043227-6f54-41f5-b2c6-9db964bac1c3');\n",
              "          const dataTable =\n",
              "            await google.colab.kernel.invokeFunction('convertToInteractive',\n",
              "                                                     [key], {});\n",
              "          if (!dataTable) return;\n",
              "\n",
              "          const docLinkHtml = 'Like what you see? Visit the ' +\n",
              "            '<a target=\"_blank\" href=https://colab.research.google.com/notebooks/data_table.ipynb>data table notebook</a>'\n",
              "            + ' to learn more about interactive tables.';\n",
              "          element.innerHTML = '';\n",
              "          dataTable['output_type'] = 'display_data';\n",
              "          await google.colab.output.renderOutput(dataTable, element);\n",
              "          const docLink = document.createElement('div');\n",
              "          docLink.innerHTML = docLinkHtml;\n",
              "          element.appendChild(docLink);\n",
              "        }\n",
              "      </script>\n",
              "    </div>\n",
              "  </div>\n",
              "  "
            ],
            "text/plain": [
              "     year  week   AvgTemp\n",
              "260  2014    49  8.100000\n",
              "261  2014    50 -4.357143\n",
              "262  2014    51 -2.142857\n",
              "263  2014    52 -5.542857\n",
              "264  2014    53 -0.728571"
            ]
          },
          "execution_count": 3,
          "metadata": {},
          "output_type": "execute_result"
        }
      ],
      "source": [
        "data.tail()"
      ]
    },
    {
      "cell_type": "markdown",
      "metadata": {
        "id": "ZJOddHq2zfcU"
      },
      "source": [
        "## 2.데이터 이해"
      ]
    },
    {
      "cell_type": "markdown",
      "metadata": {
        "id": "BsF_cjfK0Y5P"
      },
      "source": [
        "### 탐색하기"
      ]
    },
    {
      "cell_type": "markdown",
      "metadata": {
        "id": "Yy3mIskWOY0z"
      },
      "source": [
        "온도의 흐름(trend)을 살펴봅시다."
      ]
    },
    {
      "cell_type": "code",
      "execution_count": null,
      "metadata": {
        "colab": {
          "base_uri": "https://localhost:8080/",
          "height": 374
        },
        "id": "jhYBDhh8HVev",
        "outputId": "6ccee420-a231-4d0a-a5b4-0c3a0c8837f9",
        "vscode": {
          "languageId": "python"
        }
      },
      "outputs": [
        {
          "data": {
            "image/png": "[encoded data removed]",
            "text/plain": [
              "<Figure size 864x432 with 1 Axes>"
            ]
          },
          "metadata": {
            "needs_background": "light"
          },
          "output_type": "display_data"
        }
      ],
      "source": [
        "plt.figure(figsize=(12, 6))\n",
        "plt.plot(data.AvgTemp)\n",
        "plt.show()"
      ]
    },
    {
      "cell_type": "markdown",
      "metadata": {
        "id": "wW0d0eGmCYJM"
      },
      "source": [
        "##3.데이터 준비"
      ]
    },
    {
      "cell_type": "markdown",
      "metadata": {
        "id": "pUTxBL4EbG3t"
      },
      "source": [
        "### 불필요한 데이터 정리 "
      ]
    },
    {
      "cell_type": "code",
      "execution_count": null,
      "metadata": {
        "colab": {
          "base_uri": "https://localhost:8080/",
          "height": 206
        },
        "id": "Jdpd5KXobKi8",
        "outputId": "7d81208b-985a-49b2-ca83-e75ca2864a0b",
        "vscode": {
          "languageId": "python"
        }
      },
      "outputs": [
        {
          "data": {
            "text/html": [
              "\n",
              "  <div id=\"df-301585b1-1e49-4ba6-87c9-77f26fc9a914\">\n",
              "    <div class=\"colab-df-container\">\n",
              "      <div>\n",
              "<style scoped>\n",
              "    .dataframe tbody tr th:only-of-type {\n",
              "        vertical-align: middle;\n",
              "    }\n",
              "\n",
              "    .dataframe tbody tr th {\n",
              "        vertical-align: top;\n",
              "    }\n",
              "\n",
              "    .dataframe thead th {\n",
              "        text-align: right;\n",
              "    }\n",
              "</style>\n",
              "<table border=\"1\" class=\"dataframe\">\n",
              "  <thead>\n",
              "    <tr style=\"text-align: right;\">\n",
              "      <th></th>\n",
              "      <th>AvgTemp</th>\n",
              "    </tr>\n",
              "  </thead>\n",
              "  <tbody>\n",
              "    <tr>\n",
              "      <th>0</th>\n",
              "      <td>-3.000000</td>\n",
              "    </tr>\n",
              "    <tr>\n",
              "      <th>1</th>\n",
              "      <td>-7.500000</td>\n",
              "    </tr>\n",
              "    <tr>\n",
              "      <th>2</th>\n",
              "      <td>-7.900000</td>\n",
              "    </tr>\n",
              "    <tr>\n",
              "      <th>3</th>\n",
              "      <td>-2.357143</td>\n",
              "    </tr>\n",
              "    <tr>\n",
              "      <th>4</th>\n",
              "      <td>-3.342857</td>\n",
              "    </tr>\n",
              "  </tbody>\n",
              "</table>\n",
              "</div>\n",
              "      <button class=\"colab-df-convert\" onclick=\"convertToInteractive('df-301585b1-1e49-4ba6-87c9-77f26fc9a914')\"\n",
              "              title=\"Convert this dataframe to an interactive table.\"\n",
              "              style=\"display:none;\">\n",
              "        \n",
              "  <svg xmlns=\"http://www.w3.org/2000/svg\" height=\"24px\"viewBox=\"0 0 24 24\"\n",
              "       width=\"24px\">\n",
              "    <path d=\"M0 0h24v24H0V0z\" fill=\"none\"/>\n",
              "    <path d=\"M18.56 5.44l.94 2.06.94-2.06 2.06-.94-2.06-.94-.94-2.06-.94 2.06-2.06.94zm-11 1L8.5 8.5l.94-2.06 2.06-.94-2.06-.94L8.5 2.5l-.94 2.06-2.06.94zm10 10l.94 2.06.94-2.06 2.06-.94-2.06-.94-.94-2.06-.94 2.06-2.06.94z\"/><path d=\"M17.41 7.96l-1.37-1.37c-.4-.4-.92-.59-1.43-.59-.52 0-1.04.2-1.43.59L10.3 9.45l-7.72 7.72c-.78.78-.78 2.05 0 2.83L4 21.41c.39.39.9.59 1.41.59.51 0 1.02-.2 1.41-.59l7.78-7.78 2.81-2.81c.8-.78.8-2.07 0-2.86zM5.41 20L4 18.59l7.72-7.72 1.47 1.35L5.41 20z\"/>\n",
              "  </svg>\n",
              "      </button>\n",
              "      \n",
              "  <style>\n",
              "    .colab-df-container {\n",
              "      display:flex;\n",
              "      flex-wrap:wrap;\n",
              "      gap: 12px;\n",
              "    }\n",
              "\n",
              "    .colab-df-convert {\n",
              "      background-color: #E8F0FE;\n",
              "      border: none;\n",
              "      border-radius: 50%;\n",
              "      cursor: pointer;\n",
              "      display: none;\n",
              "      fill: #1967D2;\n",
              "      height: 32px;\n",
              "      padding: 0 0 0 0;\n",
              "      width: 32px;\n",
              "    }\n",
              "\n",
              "    .colab-df-convert:hover {\n",
              "      background-color: #E2EBFA;\n",
              "      box-shadow: 0px 1px 2px rgba(60, 64, 67, 0.3), 0px 1px 3px 1px rgba(60, 64, 67, 0.15);\n",
              "      fill: #174EA6;\n",
              "    }\n",
              "\n",
              "    [theme=dark] .colab-df-convert {\n",
              "      background-color: #3B4455;\n",
              "      fill: #D2E3FC;\n",
              "    }\n",
              "\n",
              "    [theme=dark] .colab-df-convert:hover {\n",
              "      background-color: #434B5C;\n",
              "      box-shadow: 0px 1px 3px 1px rgba(0, 0, 0, 0.15);\n",
              "      filter: drop-shadow(0px 1px 2px rgba(0, 0, 0, 0.3));\n",
              "      fill: #FFFFFF;\n",
              "    }\n",
              "  </style>\n",
              "\n",
              "      <script>\n",
              "        const buttonEl =\n",
              "          document.querySelector('#df-301585b1-1e49-4ba6-87c9-77f26fc9a914 button.colab-df-convert');\n",
              "        buttonEl.style.display =\n",
              "          google.colab.kernel.accessAllowed ? 'block' : 'none';\n",
              "\n",
              "        async function convertToInteractive(key) {\n",
              "          const element = document.querySelector('#df-301585b1-1e49-4ba6-87c9-77f26fc9a914');\n",
              "          const dataTable =\n",
              "            await google.colab.kernel.invokeFunction('convertToInteractive',\n",
              "                                                     [key], {});\n",
              "          if (!dataTable) return;\n",
              "\n",
              "          const docLinkHtml = 'Like what you see? Visit the ' +\n",
              "            '<a target=\"_blank\" href=https://colab.research.google.com/notebooks/data_table.ipynb>data table notebook</a>'\n",
              "            + ' to learn more about interactive tables.';\n",
              "          element.innerHTML = '';\n",
              "          dataTable['output_type'] = 'display_data';\n",
              "          await google.colab.output.renderOutput(dataTable, element);\n",
              "          const docLink = document.createElement('div');\n",
              "          docLink.innerHTML = docLinkHtml;\n",
              "          element.appendChild(docLink);\n",
              "        }\n",
              "      </script>\n",
              "    </div>\n",
              "  </div>\n",
              "  "
            ],
            "text/plain": [
              "    AvgTemp\n",
              "0 -3.000000\n",
              "1 -7.500000\n",
              "2 -7.900000\n",
              "3 -2.357143\n",
              "4 -3.342857"
            ]
          },
          "execution_count": 5,
          "metadata": {},
          "output_type": "execute_result"
        }
      ],
      "source": [
        "data = data.drop(['year','week'], axis=1)\n",
        "data.head()"
      ]
    },
    {
      "cell_type": "markdown",
      "metadata": {
        "id": "bdjDoyE-t0Ms"
      },
      "source": [
        "## 4.Sequence 데이터 구조로 만들기"
      ]
    },
    {
      "cell_type": "markdown",
      "metadata": {
        "id": "zZf0MntMBpGf"
      },
      "source": [
        "내일의 기온을 예측 하려면?"
      ]
    },
    {
      "cell_type": "code",
      "execution_count": null,
      "metadata": {
        "id": "PIwBTERUZ69X",
        "vscode": {
          "languageId": "python"
        }
      },
      "outputs": [],
      "source": [
        "data = data.values  # df의 값을 np array로 넘긴다."
      ]
    },
    {
      "cell_type": "code",
      "execution_count": null,
      "metadata": {
        "colab": {
          "base_uri": "https://localhost:8080/"
        },
        "id": "Rlj6iQflqV08",
        "outputId": "22f6af42-53e7-4e0c-ff1d-9a8125967534",
        "vscode": {
          "languageId": "python"
        }
      },
      "outputs": [
        {
          "data": {
            "text/plain": [
              "(265, 1)"
            ]
          },
          "execution_count": 8,
          "metadata": {},
          "output_type": "execute_result"
        }
      ],
      "source": [
        "data.shape"
      ]
    },
    {
      "cell_type": "code",
      "execution_count": null,
      "metadata": {
        "colab": {
          "base_uri": "https://localhost:8080/"
        },
        "id": "6ptn-ht0LNj-",
        "outputId": "d3a20c18-f264-4437-a8c5-7f672b66cdee",
        "vscode": {
          "languageId": "python"
        }
      },
      "outputs": [
        {
          "name": "stdout",
          "output_type": "stream",
          "text": [
            "(244, 21, 1) (244,)\n",
            "-------------------------------\n",
            "(160, 21, 1) (160,)\n",
            "(40, 21, 1) (40,)\n",
            "(44, 21, 1) (44,)\n",
            "-------------------------------\n",
            "[ # , timestep, feature수 ] <-- 데이터의 구조 : \n"
          ]
        }
      ],
      "source": [
        "# 여기에 의미있는 기간(timestep을 지정해 봅시다.)\n",
        "timestep= 21  # 한번에 21주씩 고려하자\n",
        "\n",
        "# x의 데이터 구조를 3차원으로 만들어줘야 합니다.\n",
        "x = np.array([data[i : i + timestep] for i in range( len(data) - timestep ) ])\n",
        "y = np.array([data[i + timestep, -1] for i in range( len(data) - timestep ) ])\n",
        "\n",
        "# # 쉬운버전\n",
        "# x = []   # x를 담을 빈 공간\n",
        "# y = []   # y를 담을 빈 공간\n",
        "\n",
        "# for i in range(len(data) - timestep):\n",
        "#     x_temp = data[i:i+timestep, :]  # 21개의 시점으로 끊어, 모든 컬럼\n",
        "#     y_temp = data[i+timestep, -1]\n",
        "\n",
        "#     x.append(x_temp)\n",
        "#     y.append(y_temp)\n",
        "\n",
        "# x = np.array(X)\n",
        "# y = np.array(y)\n",
        "\n",
        "x_train, x_val, x_test = x[:160], x[160:200], x[200:]\n",
        "y_train, y_val, y_test = y[:160], y[160:200], y[200:]\n",
        "\n",
        "print(x.shape, y.shape)\n",
        "print('-------------------------------')\n",
        "print(x_train.shape, y_train.shape)\n",
        "print(x_val.shape, y_val.shape)\n",
        "print(x_test.shape, y_test.shape)\n",
        "print('-------------------------------')\n",
        "print('[ # , timestep, feature수 ] <-- 데이터의 구조 : ')"
      ]
    },
    {
      "cell_type": "markdown",
      "metadata": {
        "id": "Hp8vF8ugCYDI"
      },
      "source": [
        "데이터의 구조 : [n, timestep, feature수]"
      ]
    },
    {
      "cell_type": "markdown",
      "metadata": {
        "id": "MXch9dzmJIps"
      },
      "source": [
        "## 5.RNN 모델링"
      ]
    },
    {
      "cell_type": "markdown",
      "metadata": {
        "id": "cwaO1iuKJQnu"
      },
      "source": [
        "### [실습]무작정 RNN 모델링 수행해보기"
      ]
    },
    {
      "cell_type": "code",
      "execution_count": null,
      "metadata": {
        "colab": {
          "base_uri": "https://localhost:8080/"
        },
        "id": "bughY2_QwVYS",
        "outputId": "e8ffa098-a67e-4a88-e026-6a7f0deedd40",
        "vscode": {
          "languageId": "python"
        }
      },
      "outputs": [
        {
          "data": {
            "text/plain": [
              "((160, 21, 1), (160,))"
            ]
          },
          "execution_count": 11,
          "metadata": {},
          "output_type": "execute_result"
        }
      ],
      "source": [
        "x_train.shape, y_train.shape\n",
        "#"
      ]
    },
    {
      "cell_type": "code",
      "execution_count": null,
      "metadata": {
        "id": "eFn_U71XJWK6",
        "vscode": {
          "languageId": "python"
        }
      },
      "outputs": [],
      "source": [
        "# 1.세션클리어\n",
        "keras.backend.clear_session()\n",
        "\n",
        "# 2.Sequential 모델 선언하기\n",
        "model = keras.models.Sequential()\n",
        "\n",
        "# 3. 레이어 쌓기 SimpleRNN의 default activation은 'tanh' 입니다.\n",
        "# input_shape = [timestep, feature수]\n",
        "# simplernn의 히든스테이트 노드는 16개로 작성해 봅시다.\n",
        "\n",
        "model.add(tf.keras.layers.Input(shape=(21,1)))\n",
        "model.add(keras.layers.SimpleRNN(160, activation='tanh' ) )\n",
        "model.add(keras.layers.Dense(1, activation='linear'))\n",
        "\n",
        "# compile\n",
        "model.compile(loss = 'mae', optimizer='adam') # 'mae'는 'mse'대비 급격한 학습을 막는데 종종 사용이 된다.\n",
        "\n",
        "# 학습\n",
        "history = model.fit( x_train , y_train  , epochs = 30 , validation_data=(x_val, y_val))"
      ]
    },
    {
      "cell_type": "code",
      "execution_count": null,
      "metadata": {
        "colab": {
          "base_uri": "https://localhost:8080/",
          "height": 265
        },
        "id": "swuGX9eHftOt",
        "outputId": "2bed8808-ec4a-4b48-8e74-992631b8e9e2",
        "vscode": {
          "languageId": "python"
        }
      },
      "outputs": [
        {
          "data": {
            "image/png": "[encoded data removed]",
            "text/plain": [
              "<Figure size 432x288 with 1 Axes>"
            ]
          },
          "metadata": {
            "needs_background": "light"
          },
          "output_type": "display_data"
        }
      ],
      "source": [
        "# 학습 곡선을 그려봅시다.\n",
        "plt.plot(history.history[\"loss\"], label = 'train')\n",
        "plt.plot(history.history[\"val_loss\"], label = 'valid')\n",
        "plt.legend()\n",
        "plt.show()"
      ]
    },
    {
      "cell_type": "code",
      "execution_count": null,
      "metadata": {
        "id": "c_IiBWwTCzfH",
        "vscode": {
          "languageId": "python"
        }
      },
      "outputs": [],
      "source": [
        "from sklearn.metrics import mean_squared_error as MSE"
      ]
    },
    {
      "cell_type": "code",
      "execution_count": null,
      "metadata": {
        "colab": {
          "base_uri": "https://localhost:8080/"
        },
        "id": "u_r_Ne3pOL9W",
        "outputId": "cf14c856-eced-41ca-eb64-7aa508e08c56",
        "vscode": {
          "languageId": "python"
        }
      },
      "outputs": [
        {
          "name": "stdout",
          "output_type": "stream",
          "text": [
            "2/2 [==============================] - 0s 9ms/step\n"
          ]
        },
        {
          "data": {
            "text/plain": [
              "3.2561550350715738"
            ]
          },
          "execution_count": 20,
          "metadata": {},
          "output_type": "execute_result"
        }
      ],
      "source": [
        "# Q1. 테스트 셋에서의 RMSE를 출력하여라.\n",
        "y_pred = model.predict(x_test)\n",
        "MSE(y_test, y_pred)**0.5"
      ]
    },
    {
      "cell_type": "code",
      "execution_count": null,
      "metadata": {
        "colab": {
          "base_uri": "https://localhost:8080/"
        },
        "id": "EOkMr1bKmDOA",
        "outputId": "cb7ffb46-f2e1-4ca3-c89d-1210c07b670d",
        "vscode": {
          "languageId": "python"
        }
      },
      "outputs": [
        {
          "name": "stdout",
          "output_type": "stream",
          "text": [
            "Model: \"sequential\"\n",
            "_________________________________________________________________\n",
            " Layer (type)                Output Shape              Param #   \n",
            "=================================================================\n",
            " simple_rnn (SimpleRNN)      (None, 160)               25920     \n",
            "                                                                 \n",
            " dense (Dense)               (None, 1)                 161       \n",
            "                                                                 \n",
            "=================================================================\n",
            "Total params: 26,081\n",
            "Trainable params: 26,081\n",
            "Non-trainable params: 0\n",
            "_________________________________________________________________\n"
          ]
        }
      ],
      "source": [
        "model.summary()"
      ]
    },
    {
      "cell_type": "code",
      "execution_count": null,
      "metadata": {
        "colab": {
          "base_uri": "https://localhost:8080/",
          "height": 312
        },
        "id": "7-ZMyq4bAp0L",
        "outputId": "0a26e884-4d6c-4068-ba77-fbd8c0ad1e81",
        "vscode": {
          "languageId": "python"
        }
      },
      "outputs": [
        {
          "data": {
            "image/png": "[encoded data removed]",
            "text/plain": [
              "<IPython.core.display.Image object>"
            ]
          },
          "execution_count": 21,
          "metadata": {},
          "output_type": "execute_result"
        }
      ],
      "source": [
        "plot_model(model, show_shapes=True)"
      ]
    },
    {
      "cell_type": "markdown",
      "metadata": {
        "id": "VFgA1KefB_mN"
      },
      "source": [
        "### More Exercises\n",
        "\n",
        "1. 적절한 인풋 레이어를 구성할 것\n",
        "2. 첫번째 히든레이어 : SimpleRNN\n",
        "    * 히든스테이트 노드 16개, return_sequences=True\n",
        "3. 두번째 히든레이어 : SimpleRNN\n",
        "    * 히든스테이트 노드 32개, return_sequences=True\n",
        "4. 플래튼\n",
        "5. 회귀를 위한 적절한 아웃풋 레이어"
      ]
    },
    {
      "cell_type": "code",
      "execution_count": null,
      "metadata": {
        "colab": {
          "base_uri": "https://localhost:8080/"
        },
        "id": "mGBznclyB_mP",
        "outputId": "206a3f6e-0a2d-4b7f-97ab-a5c4c2fd0b39",
        "vscode": {
          "languageId": "python"
        }
      },
      "outputs": [
        {
          "data": {
            "text/plain": [
              "((160, 21, 1), (160,))"
            ]
          },
          "execution_count": 22,
          "metadata": {},
          "output_type": "execute_result"
        }
      ],
      "source": [
        "x_train.shape, y_train.shape"
      ]
    },
    {
      "cell_type": "code",
      "execution_count": null,
      "metadata": {
        "colab": {
          "base_uri": "https://localhost:8080/"
        },
        "id": "dDCL9EyA4eR8",
        "outputId": "eaa079c8-d4b0-4a14-bc9b-146972189fc7",
        "vscode": {
          "languageId": "python"
        }
      },
      "outputs": [
        {
          "name": "stdout",
          "output_type": "stream",
          "text": [
            "Model: \"my_first_rnn\"\n",
            "_________________________________________________________________\n",
            " Layer (type)                Output Shape              Param #   \n",
            "=================================================================\n",
            " hidden1_rnn (SimpleRNN)     (None, 21, 16)            288       \n",
            "                                                                 \n",
            " hidden2_rnn (SimpleRNN)     (None, 21, 32)            1568      \n",
            "                                                                 \n",
            " hidden3_flatten (Flatten)   (None, 672)               0         \n",
            "                                                                 \n",
            " dense (Dense)               (None, 1)                 673       \n",
            "                                                                 \n",
            "=================================================================\n",
            "Total params: 2,529\n",
            "Trainable params: 2,529\n",
            "Non-trainable params: 0\n",
            "_________________________________________________________________\n"
          ]
        }
      ],
      "source": [
        "# 1. 세션 클리어\n",
        "keras.backend.clear_session()\n",
        "\n",
        "# 2. model 선언\n",
        "model = tf.keras.models.Sequential()\n",
        "\n",
        "# 3. 레이어 쌓기\n",
        "# SimpleRNN의 default activation은 'tanh' 이다.\n",
        "# input_shape = [timestep, feature 수]\n",
        "# simplernn의 히든 스테이트 노드는 16개로 작성해 보자.\n",
        "\n",
        "model.add(keras.layers.Input(shape=(21, 1), name='input_layer')) # 인풋 레이어\n",
        "model.add(keras.layers.SimpleRNN(16, activation = 'tanh', return_sequences=True, name = 'hidden1_rnn'))\n",
        "model.add(keras.layers.SimpleRNN(32, activation = 'tanh', return_sequences=True, name = 'hidden2_rnn'))\n",
        "model.add(keras.layers.Flatten(name='hidden3_flatten'))\n",
        "model.add(keras.layers.Dense(1))\n",
        "\n",
        "# 4. model compile\n",
        "model.compile(loss='mse', optimizer='adam') # 'mse' 대비, '급격한 학습을 막는데' 종종 사용이 됨.\n",
        "\n",
        "# model 요약\n",
        "model.summary()"
      ]
    },
    {
      "cell_type": "code",
      "execution_count": null,
      "metadata": {
        "id": "5FMyVS7sEGNV",
        "vscode": {
          "languageId": "python"
        }
      },
      "outputs": [],
      "source": [
        "## 학습도 시킬 것\n",
        "hist = model.fit(x_train,y_train, epochs=100, verbose=1)\n"
      ]
    },
    {
      "cell_type": "code",
      "execution_count": null,
      "metadata": {
        "id": "Jkrcfw07AsKG",
        "vscode": {
          "languageId": "python"
        }
      },
      "outputs": [],
      "source": [
        "from sklearn"
      ]
    },
    {
      "cell_type": "code",
      "execution_count": null,
      "metadata": {
        "colab": {
          "base_uri": "https://localhost:8080/"
        },
        "id": "oqpridqjE9kR",
        "outputId": "2156426c-2ffc-4018-c782-24940b4b7f7f",
        "vscode": {
          "languageId": "python"
        }
      },
      "outputs": [
        {
          "name": "stdout",
          "output_type": "stream",
          "text": [
            "2/2 [==============================] - 0s 7ms/step\n",
            "RMSE: 2.5784491119396074\n"
          ]
        }
      ],
      "source": [
        "# Q1. 테스트 셋에서의 RMSE를 출력하여라.\n",
        "y_pred = model.predict(x_test)\n",
        "print(f'RMSE: {MSE(y_test, y_pred)**0.5}')"
      ]
    },
    {
      "cell_type": "markdown",
      "metadata": {
        "id": "aZeY_ZOUQ722"
      },
      "source": [
        "## 6.LSTM 모델링\n",
        "\n",
        "1. 적절한 인풋 레이어를 구성할 것\n",
        "2. 첫번째 히든레이어 : LSTM\n",
        "    * 히든스테이트 노드 16개, return_sequences=True\n",
        "3. 두번째 히든레이어 : LSTM\n",
        "    * 히든스테이트 노드 32개, return_sequences=True\n",
        "4. 플래튼\n",
        "5. 회귀를 위한 적절한 아웃풋 레이어\n"
      ]
    },
    {
      "cell_type": "code",
      "execution_count": null,
      "metadata": {
        "id": "HCAPYUvVE--W",
        "vscode": {
          "languageId": "python"
        }
      },
      "outputs": [],
      "source": [
        "####################\n",
        "## Your Code Here ##\n",
        "####################\n",
        "\n"
      ]
    },
    {
      "cell_type": "code",
      "execution_count": null,
      "metadata": {
        "id": "tJaqGuLME--W",
        "vscode": {
          "languageId": "python"
        }
      },
      "outputs": [],
      "source": [
        "## 학습도 시킬 것\n",
        "\n"
      ]
    },
    {
      "cell_type": "code",
      "execution_count": null,
      "metadata": {
        "id": "-RZiHyiNE--W",
        "vscode": {
          "languageId": "python"
        }
      },
      "outputs": [],
      "source": [
        "# Q1. 테스트 셋에서의 RMSE를 출력하여라.\n",
        "\n"
      ]
    },
    {
      "cell_type": "markdown",
      "metadata": {
        "id": "G6VwdMLrYJQ7"
      },
      "source": [
        "## 7.GRU 모델링\n",
        "\n",
        "\n",
        "1. 적절한 인풋 레이어를 구성할 것\n",
        "2. 첫번째 히든레이어 : GRU\n",
        "    * 히든스테이트 노드 24개, return_sequences=True\n",
        "3. 두번째 히든레이어 : GRU\n",
        "    * 히든스테이트 노드 32개\n",
        "4. 회귀를 위한 적절한 아웃풋 레이어"
      ]
    },
    {
      "cell_type": "code",
      "execution_count": null,
      "metadata": {
        "id": "Hkzh6iGKFUqE",
        "vscode": {
          "languageId": "python"
        }
      },
      "outputs": [],
      "source": [
        "####################\n",
        "## Your Code Here ##\n",
        "####################\n",
        "\n"
      ]
    },
    {
      "cell_type": "code",
      "execution_count": null,
      "metadata": {
        "id": "6i1uSUBrFUqG",
        "vscode": {
          "languageId": "python"
        }
      },
      "outputs": [],
      "source": [
        "## 학습도 시킬 것\n",
        "\n"
      ]
    },
    {
      "cell_type": "code",
      "execution_count": null,
      "metadata": {
        "id": "oTX8c--vFUqH",
        "vscode": {
          "languageId": "python"
        }
      },
      "outputs": [],
      "source": [
        "# Q1. 테스트 셋에서의 RMSE를 출력하여라.\n",
        "\n"
      ]
    }
  ],
  "metadata": {
    "colab": {
      "provenance": []
    },
    "kernelspec": {
      "display_name": "Python 3",
      "name": "python3"
    }
  },
  "nbformat": 4,
  "nbformat_minor": 0
}
