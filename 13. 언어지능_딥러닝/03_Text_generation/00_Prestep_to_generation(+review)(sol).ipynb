{
  "nbformat": 4,
  "nbformat_minor": 0,
  "metadata": {
    "colab": {
      "provenance": []
    },
    "kernelspec": {
      "name": "python3",
      "display_name": "Python 3"
    },
    "language_info": {
      "name": "python"
    },
    "accelerator": "GPU"
  },
  "cells": [
    {
      "cell_type": "markdown",
      "metadata": {
        "id": "7uiB08MStNdH"
      },
      "source": [
        "# Sentiment Analysis"
      ]
    },
    {
      "cell_type": "markdown",
      "metadata": {
        "id": "pOL735J8ty80"
      },
      "source": [
        "# Data : 네이버 영화 리뷰"
      ]
    },
    {
      "cell_type": "code",
      "metadata": {
        "id": "AAZZ5rzHt5wD"
      },
      "source": [
        "import numpy as np\n",
        "import pandas as pd"
      ],
      "execution_count": null,
      "outputs": []
    },
    {
      "cell_type": "code",
      "metadata": {
        "id": "mg7I6cqwt9zc"
      },
      "source": [
        "train_data= pd.read_table('https://raw.githubusercontent.com/e9t/nsmc/master/ratings_train.txt')\n",
        "test_data= pd.read_table('https://raw.githubusercontent.com/e9t/nsmc/master/ratings_test.txt')"
      ],
      "execution_count": null,
      "outputs": []
    },
    {
      "cell_type": "code",
      "metadata": {
        "colab": {
          "base_uri": "https://localhost:8080/",
          "height": 204
        },
        "id": "A4atB9lht-O0",
        "outputId": "7c573690-54b7-491d-faae-3ac681622895"
      },
      "source": [
        "train_data.head()"
      ],
      "execution_count": null,
      "outputs": [
        {
          "output_type": "execute_result",
          "data": {
            "text/html": [
              "\n",
              "  <div id=\"df-a19b9e57-ed26-463d-b64b-83843c8bce8f\">\n",
              "    <div class=\"colab-df-container\">\n",
              "      <div>\n",
              "<style scoped>\n",
              "    .dataframe tbody tr th:only-of-type {\n",
              "        vertical-align: middle;\n",
              "    }\n",
              "\n",
              "    .dataframe tbody tr th {\n",
              "        vertical-align: top;\n",
              "    }\n",
              "\n",
              "    .dataframe thead th {\n",
              "        text-align: right;\n",
              "    }\n",
              "</style>\n",
              "<table border=\"1\" class=\"dataframe\">\n",
              "  <thead>\n",
              "    <tr style=\"text-align: right;\">\n",
              "      <th></th>\n",
              "      <th>id</th>\n",
              "      <th>document</th>\n",
              "      <th>label</th>\n",
              "    </tr>\n",
              "  </thead>\n",
              "  <tbody>\n",
              "    <tr>\n",
              "      <th>0</th>\n",
              "      <td>9976970</td>\n",
              "      <td>아 더빙.. 진짜 짜증나네요 목소리</td>\n",
              "      <td>0</td>\n",
              "    </tr>\n",
              "    <tr>\n",
              "      <th>1</th>\n",
              "      <td>3819312</td>\n",
              "      <td>흠...포스터보고 초딩영화줄....오버연기조차 가볍지 않구나</td>\n",
              "      <td>1</td>\n",
              "    </tr>\n",
              "    <tr>\n",
              "      <th>2</th>\n",
              "      <td>10265843</td>\n",
              "      <td>너무재밓었다그래서보는것을추천한다</td>\n",
              "      <td>0</td>\n",
              "    </tr>\n",
              "    <tr>\n",
              "      <th>3</th>\n",
              "      <td>9045019</td>\n",
              "      <td>교도소 이야기구먼 ..솔직히 재미는 없다..평점 조정</td>\n",
              "      <td>0</td>\n",
              "    </tr>\n",
              "    <tr>\n",
              "      <th>4</th>\n",
              "      <td>6483659</td>\n",
              "      <td>사이몬페그의 익살스런 연기가 돋보였던 영화!스파이더맨에서 늙어보이기만 했던 커스틴 ...</td>\n",
              "      <td>1</td>\n",
              "    </tr>\n",
              "  </tbody>\n",
              "</table>\n",
              "</div>\n",
              "      <button class=\"colab-df-convert\" onclick=\"convertToInteractive('df-a19b9e57-ed26-463d-b64b-83843c8bce8f')\"\n",
              "              title=\"Convert this dataframe to an interactive table.\"\n",
              "              style=\"display:none;\">\n",
              "        \n",
              "  <svg xmlns=\"http://www.w3.org/2000/svg\" height=\"24px\"viewBox=\"0 0 24 24\"\n",
              "       width=\"24px\">\n",
              "    <path d=\"M0 0h24v24H0V0z\" fill=\"none\"/>\n",
              "    <path d=\"M18.56 5.44l.94 2.06.94-2.06 2.06-.94-2.06-.94-.94-2.06-.94 2.06-2.06.94zm-11 1L8.5 8.5l.94-2.06 2.06-.94-2.06-.94L8.5 2.5l-.94 2.06-2.06.94zm10 10l.94 2.06.94-2.06 2.06-.94-2.06-.94-.94-2.06-.94 2.06-2.06.94z\"/><path d=\"M17.41 7.96l-1.37-1.37c-.4-.4-.92-.59-1.43-.59-.52 0-1.04.2-1.43.59L10.3 9.45l-7.72 7.72c-.78.78-.78 2.05 0 2.83L4 21.41c.39.39.9.59 1.41.59.51 0 1.02-.2 1.41-.59l7.78-7.78 2.81-2.81c.8-.78.8-2.07 0-2.86zM5.41 20L4 18.59l7.72-7.72 1.47 1.35L5.41 20z\"/>\n",
              "  </svg>\n",
              "      </button>\n",
              "      \n",
              "  <style>\n",
              "    .colab-df-container {\n",
              "      display:flex;\n",
              "      flex-wrap:wrap;\n",
              "      gap: 12px;\n",
              "    }\n",
              "\n",
              "    .colab-df-convert {\n",
              "      background-color: #E8F0FE;\n",
              "      border: none;\n",
              "      border-radius: 50%;\n",
              "      cursor: pointer;\n",
              "      display: none;\n",
              "      fill: #1967D2;\n",
              "      height: 32px;\n",
              "      padding: 0 0 0 0;\n",
              "      width: 32px;\n",
              "    }\n",
              "\n",
              "    .colab-df-convert:hover {\n",
              "      background-color: #E2EBFA;\n",
              "      box-shadow: 0px 1px 2px rgba(60, 64, 67, 0.3), 0px 1px 3px 1px rgba(60, 64, 67, 0.15);\n",
              "      fill: #174EA6;\n",
              "    }\n",
              "\n",
              "    [theme=dark] .colab-df-convert {\n",
              "      background-color: #3B4455;\n",
              "      fill: #D2E3FC;\n",
              "    }\n",
              "\n",
              "    [theme=dark] .colab-df-convert:hover {\n",
              "      background-color: #434B5C;\n",
              "      box-shadow: 0px 1px 3px 1px rgba(0, 0, 0, 0.15);\n",
              "      filter: drop-shadow(0px 1px 2px rgba(0, 0, 0, 0.3));\n",
              "      fill: #FFFFFF;\n",
              "    }\n",
              "  </style>\n",
              "\n",
              "      <script>\n",
              "        const buttonEl =\n",
              "          document.querySelector('#df-a19b9e57-ed26-463d-b64b-83843c8bce8f button.colab-df-convert');\n",
              "        buttonEl.style.display =\n",
              "          google.colab.kernel.accessAllowed ? 'block' : 'none';\n",
              "\n",
              "        async function convertToInteractive(key) {\n",
              "          const element = document.querySelector('#df-a19b9e57-ed26-463d-b64b-83843c8bce8f');\n",
              "          const dataTable =\n",
              "            await google.colab.kernel.invokeFunction('convertToInteractive',\n",
              "                                                     [key], {});\n",
              "          if (!dataTable) return;\n",
              "\n",
              "          const docLinkHtml = 'Like what you see? Visit the ' +\n",
              "            '<a target=\"_blank\" href=https://colab.research.google.com/notebooks/data_table.ipynb>data table notebook</a>'\n",
              "            + ' to learn more about interactive tables.';\n",
              "          element.innerHTML = '';\n",
              "          dataTable['output_type'] = 'display_data';\n",
              "          await google.colab.output.renderOutput(dataTable, element);\n",
              "          const docLink = document.createElement('div');\n",
              "          docLink.innerHTML = docLinkHtml;\n",
              "          element.appendChild(docLink);\n",
              "        }\n",
              "      </script>\n",
              "    </div>\n",
              "  </div>\n",
              "  "
            ],
            "text/plain": [
              "         id                                           document  label\n",
              "0   9976970                                아 더빙.. 진짜 짜증나네요 목소리      0\n",
              "1   3819312                  흠...포스터보고 초딩영화줄....오버연기조차 가볍지 않구나      1\n",
              "2  10265843                                  너무재밓었다그래서보는것을추천한다      0\n",
              "3   9045019                      교도소 이야기구먼 ..솔직히 재미는 없다..평점 조정      0\n",
              "4   6483659  사이몬페그의 익살스런 연기가 돋보였던 영화!스파이더맨에서 늙어보이기만 했던 커스틴 ...      1"
            ]
          },
          "metadata": {},
          "execution_count": 3
        }
      ]
    },
    {
      "cell_type": "code",
      "metadata": {
        "id": "jeCeau9f3m8r",
        "colab": {
          "base_uri": "https://localhost:8080/",
          "height": 204
        },
        "outputId": "3bf92abd-1a59-4068-f193-63a26a96df44"
      },
      "source": [
        "test_data.head()"
      ],
      "execution_count": null,
      "outputs": [
        {
          "output_type": "execute_result",
          "data": {
            "text/html": [
              "\n",
              "  <div id=\"df-19744779-ad38-4464-bdf3-b5ff069a3544\">\n",
              "    <div class=\"colab-df-container\">\n",
              "      <div>\n",
              "<style scoped>\n",
              "    .dataframe tbody tr th:only-of-type {\n",
              "        vertical-align: middle;\n",
              "    }\n",
              "\n",
              "    .dataframe tbody tr th {\n",
              "        vertical-align: top;\n",
              "    }\n",
              "\n",
              "    .dataframe thead th {\n",
              "        text-align: right;\n",
              "    }\n",
              "</style>\n",
              "<table border=\"1\" class=\"dataframe\">\n",
              "  <thead>\n",
              "    <tr style=\"text-align: right;\">\n",
              "      <th></th>\n",
              "      <th>id</th>\n",
              "      <th>document</th>\n",
              "      <th>label</th>\n",
              "    </tr>\n",
              "  </thead>\n",
              "  <tbody>\n",
              "    <tr>\n",
              "      <th>0</th>\n",
              "      <td>6270596</td>\n",
              "      <td>굳 ㅋ</td>\n",
              "      <td>1</td>\n",
              "    </tr>\n",
              "    <tr>\n",
              "      <th>1</th>\n",
              "      <td>9274899</td>\n",
              "      <td>GDNTOPCLASSINTHECLUB</td>\n",
              "      <td>0</td>\n",
              "    </tr>\n",
              "    <tr>\n",
              "      <th>2</th>\n",
              "      <td>8544678</td>\n",
              "      <td>뭐야 이 평점들은.... 나쁘진 않지만 10점 짜리는 더더욱 아니잖아</td>\n",
              "      <td>0</td>\n",
              "    </tr>\n",
              "    <tr>\n",
              "      <th>3</th>\n",
              "      <td>6825595</td>\n",
              "      <td>지루하지는 않은데 완전 막장임... 돈주고 보기에는....</td>\n",
              "      <td>0</td>\n",
              "    </tr>\n",
              "    <tr>\n",
              "      <th>4</th>\n",
              "      <td>6723715</td>\n",
              "      <td>3D만 아니었어도 별 다섯 개 줬을텐데.. 왜 3D로 나와서 제 심기를 불편하게 하죠??</td>\n",
              "      <td>0</td>\n",
              "    </tr>\n",
              "  </tbody>\n",
              "</table>\n",
              "</div>\n",
              "      <button class=\"colab-df-convert\" onclick=\"convertToInteractive('df-19744779-ad38-4464-bdf3-b5ff069a3544')\"\n",
              "              title=\"Convert this dataframe to an interactive table.\"\n",
              "              style=\"display:none;\">\n",
              "        \n",
              "  <svg xmlns=\"http://www.w3.org/2000/svg\" height=\"24px\"viewBox=\"0 0 24 24\"\n",
              "       width=\"24px\">\n",
              "    <path d=\"M0 0h24v24H0V0z\" fill=\"none\"/>\n",
              "    <path d=\"M18.56 5.44l.94 2.06.94-2.06 2.06-.94-2.06-.94-.94-2.06-.94 2.06-2.06.94zm-11 1L8.5 8.5l.94-2.06 2.06-.94-2.06-.94L8.5 2.5l-.94 2.06-2.06.94zm10 10l.94 2.06.94-2.06 2.06-.94-2.06-.94-.94-2.06-.94 2.06-2.06.94z\"/><path d=\"M17.41 7.96l-1.37-1.37c-.4-.4-.92-.59-1.43-.59-.52 0-1.04.2-1.43.59L10.3 9.45l-7.72 7.72c-.78.78-.78 2.05 0 2.83L4 21.41c.39.39.9.59 1.41.59.51 0 1.02-.2 1.41-.59l7.78-7.78 2.81-2.81c.8-.78.8-2.07 0-2.86zM5.41 20L4 18.59l7.72-7.72 1.47 1.35L5.41 20z\"/>\n",
              "  </svg>\n",
              "      </button>\n",
              "      \n",
              "  <style>\n",
              "    .colab-df-container {\n",
              "      display:flex;\n",
              "      flex-wrap:wrap;\n",
              "      gap: 12px;\n",
              "    }\n",
              "\n",
              "    .colab-df-convert {\n",
              "      background-color: #E8F0FE;\n",
              "      border: none;\n",
              "      border-radius: 50%;\n",
              "      cursor: pointer;\n",
              "      display: none;\n",
              "      fill: #1967D2;\n",
              "      height: 32px;\n",
              "      padding: 0 0 0 0;\n",
              "      width: 32px;\n",
              "    }\n",
              "\n",
              "    .colab-df-convert:hover {\n",
              "      background-color: #E2EBFA;\n",
              "      box-shadow: 0px 1px 2px rgba(60, 64, 67, 0.3), 0px 1px 3px 1px rgba(60, 64, 67, 0.15);\n",
              "      fill: #174EA6;\n",
              "    }\n",
              "\n",
              "    [theme=dark] .colab-df-convert {\n",
              "      background-color: #3B4455;\n",
              "      fill: #D2E3FC;\n",
              "    }\n",
              "\n",
              "    [theme=dark] .colab-df-convert:hover {\n",
              "      background-color: #434B5C;\n",
              "      box-shadow: 0px 1px 3px 1px rgba(0, 0, 0, 0.15);\n",
              "      filter: drop-shadow(0px 1px 2px rgba(0, 0, 0, 0.3));\n",
              "      fill: #FFFFFF;\n",
              "    }\n",
              "  </style>\n",
              "\n",
              "      <script>\n",
              "        const buttonEl =\n",
              "          document.querySelector('#df-19744779-ad38-4464-bdf3-b5ff069a3544 button.colab-df-convert');\n",
              "        buttonEl.style.display =\n",
              "          google.colab.kernel.accessAllowed ? 'block' : 'none';\n",
              "\n",
              "        async function convertToInteractive(key) {\n",
              "          const element = document.querySelector('#df-19744779-ad38-4464-bdf3-b5ff069a3544');\n",
              "          const dataTable =\n",
              "            await google.colab.kernel.invokeFunction('convertToInteractive',\n",
              "                                                     [key], {});\n",
              "          if (!dataTable) return;\n",
              "\n",
              "          const docLinkHtml = 'Like what you see? Visit the ' +\n",
              "            '<a target=\"_blank\" href=https://colab.research.google.com/notebooks/data_table.ipynb>data table notebook</a>'\n",
              "            + ' to learn more about interactive tables.';\n",
              "          element.innerHTML = '';\n",
              "          dataTable['output_type'] = 'display_data';\n",
              "          await google.colab.output.renderOutput(dataTable, element);\n",
              "          const docLink = document.createElement('div');\n",
              "          docLink.innerHTML = docLinkHtml;\n",
              "          element.appendChild(docLink);\n",
              "        }\n",
              "      </script>\n",
              "    </div>\n",
              "  </div>\n",
              "  "
            ],
            "text/plain": [
              "        id                                           document  label\n",
              "0  6270596                                                굳 ㅋ      1\n",
              "1  9274899                               GDNTOPCLASSINTHECLUB      0\n",
              "2  8544678             뭐야 이 평점들은.... 나쁘진 않지만 10점 짜리는 더더욱 아니잖아      0\n",
              "3  6825595                   지루하지는 않은데 완전 막장임... 돈주고 보기에는....      0\n",
              "4  6723715  3D만 아니었어도 별 다섯 개 줬을텐데.. 왜 3D로 나와서 제 심기를 불편하게 하죠??      0"
            ]
          },
          "metadata": {},
          "execution_count": 4
        }
      ]
    },
    {
      "cell_type": "code",
      "metadata": {
        "colab": {
          "base_uri": "https://localhost:8080/"
        },
        "id": "3bZkXQAH3vHR",
        "outputId": "eed61c9a-d45e-49cc-923d-eed29afee2f2"
      },
      "source": [
        "len(train_data), len(test_data)"
      ],
      "execution_count": null,
      "outputs": [
        {
          "output_type": "execute_result",
          "data": {
            "text/plain": [
              "(150000, 50000)"
            ]
          },
          "metadata": {},
          "execution_count": 5
        }
      ]
    },
    {
      "cell_type": "markdown",
      "metadata": {
        "id": "FGJD-BM5uIVD"
      },
      "source": [
        "# Q1. 트레이닝 데이터를 트레이닝 셋과 벨리데이션 셋으로 분할하시오.\n",
        "\n",
        "**규칙**\n",
        "1. train : valid = 8 : 2\n",
        "2. label이 골고루 분할되어 들어가도록 stratify하게 분할한다.\n",
        "3. random state, seed 등은 2021로 통일\n",
        "4. 변수명 :\n",
        "    * x_train, x_valid\n",
        "    * y_train, y_valid\n",
        "5. test_data도, x와 y를 분리해둔다.\n",
        "    * x_test, y_test"
      ]
    },
    {
      "cell_type": "code",
      "metadata": {
        "id": "RaGu2ODQvfHT",
        "colab": {
          "base_uri": "https://localhost:8080/"
        },
        "outputId": "a073bb09-f340-49c8-d68c-6d2d63333556"
      },
      "source": [
        "####################\n",
        "## Your Code here ##\n",
        "####################\n",
        "from sklearn.model_selection import train_test_split\n",
        "\n",
        "train_data, val_data = train_test_split(train_data, test_size=0.2, random_state=2021, stratify=train_data['label'])\n",
        "train_data.reset_index(drop=True, inplace=True)\n",
        "test_data.reset_index(drop=True, inplace=True)\n",
        "val_data.reset_index(drop=True, inplace=True)\n",
        "print(train_data.shape, test_data.shape, val_data.shape)"
      ],
      "execution_count": null,
      "outputs": [
        {
          "output_type": "stream",
          "name": "stdout",
          "text": [
            "(120000, 3) (50000, 3) (30000, 3)\n"
          ]
        }
      ]
    },
    {
      "cell_type": "code",
      "source": [
        "x_train = train_data['document'].astype('str')\n",
        "x_test = test_data['document'].astype('str')\n",
        "x_valid = val_data['document'].astype('str')\n",
        "y_train = train_data['label']\n",
        "y_test = test_data['label']\n",
        "y_valid = val_data['label']"
      ],
      "metadata": {
        "id": "4ne63HmuHd9w"
      },
      "execution_count": null,
      "outputs": []
    },
    {
      "cell_type": "markdown",
      "metadata": {
        "id": "xqVny-pHvt2E"
      },
      "source": [
        "# Q2. x를 문장들이 담긴 리스트로 변환하시오.\n",
        "\n",
        "ex> ['와 이 영화 재밌음', '크아앙 울부짖었다' ,... ]"
      ]
    },
    {
      "cell_type": "code",
      "metadata": {
        "id": "WpJayx7mwq9Z"
      },
      "source": [
        "####################\n",
        "## Your Code here ##\n",
        "####################\n",
        "x_train = x_train.to_list()\n",
        "x_test = x_test.to_list()\n",
        "x_valid = x_valid.to_list()"
      ],
      "execution_count": null,
      "outputs": []
    },
    {
      "cell_type": "code",
      "source": [
        "y_train = y_train.values\n",
        "y_test = y_test.values\n",
        "y_valid = y_valid.values"
      ],
      "metadata": {
        "id": "34hIzk9lIUch"
      },
      "execution_count": null,
      "outputs": []
    },
    {
      "cell_type": "markdown",
      "metadata": {
        "id": "Q4afu64Sws0c"
      },
      "source": [
        "# Q3. X를 tokenize하고, index의 sequence로 바꾸어 내시오.\n",
        "\n",
        "**규칙**\n",
        "1. 상위 40000개 단어만 사용하기로 한다."
      ]
    },
    {
      "cell_type": "code",
      "metadata": {
        "id": "qsiXijdzw29r"
      },
      "source": [
        "####################\n",
        "## Your Code here ##\n",
        "####################\n",
        "from keras.preprocessing.text import Tokenizer\n",
        "\n",
        "max_words = 40000\n",
        "tokenizer = Tokenizer(num_words=max_words, lower=False)\n",
        "\n",
        "# Text --> Sequence\n",
        "tokenizer.fit_on_texts(x_train)\n",
        "# 위에서 설정한 토크나이즈 규칙에 따라, X_train을 토크나이징\n",
        "# X_train을 토큰화 해두고, 각 token에 index를 붙여둠\n",
        "x_train = tokenizer.texts_to_sequences(x_train) # 텍스트의 시퀀스를 index의 시퀀스로 바꿔둠\n",
        "x_test = tokenizer.texts_to_sequences(x_test) # 텍스트의 시퀀스를 index의 시퀀스로 바꿔둠\n",
        "x_valid = tokenizer.texts_to_sequences(x_valid) # 텍스트의 시퀀스를 index의 시퀀스로 바꿔둠"
      ],
      "execution_count": null,
      "outputs": []
    },
    {
      "cell_type": "markdown",
      "metadata": {
        "id": "XTRRvgRlw36T"
      },
      "source": [
        "# Q4. 문장의 길이를 통일하시오.\n",
        "\n",
        "**규칙**\n",
        "1. pad는 문장의 앞에 덧댈 것.\n",
        "2. 문장 최대 길이는 40\n"
      ]
    },
    {
      "cell_type": "code",
      "metadata": {
        "id": "P7kRki95xNbE"
      },
      "source": [
        "####################\n",
        "## Your Code here ##\n",
        "####################\n",
        "from tensorflow.keras.preprocessing.sequence import pad_sequences\n",
        "\n",
        "max_words = max_words ## 위에서 설정하길 40000\n",
        "embedding_dim = 192 ## 단어 embedding 차원\n",
        "max_len = 40 ## 문장 최대 길이"
      ],
      "execution_count": null,
      "outputs": []
    },
    {
      "cell_type": "code",
      "source": [
        "#### Pad Sequences here\n",
        "x_train = pad_sequences(x_train, maxlen=max_len)\n",
        "x_test = pad_sequences(x_test, maxlen=max_len)\n",
        "x_valid = pad_sequences(x_valid, maxlen=max_len)"
      ],
      "metadata": {
        "id": "dHMezxAbIuPS"
      },
      "execution_count": null,
      "outputs": []
    },
    {
      "cell_type": "code",
      "source": [
        "x_train = np.array(x_train)\n",
        "x_test = np.array(x_test)\n",
        "x_valid = np.array(x_valid)"
      ],
      "metadata": {
        "id": "aPRyjtUPI0rT"
      },
      "execution_count": null,
      "outputs": []
    },
    {
      "cell_type": "code",
      "source": [
        "print(x_train.shape, x_test.shape, x_valid.shape)"
      ],
      "metadata": {
        "colab": {
          "base_uri": "https://localhost:8080/"
        },
        "id": "AMjescRfI4sI",
        "outputId": "a5e866a7-7551-478a-ac62-68dd6714616b"
      },
      "execution_count": null,
      "outputs": [
        {
          "output_type": "stream",
          "name": "stdout",
          "text": [
            "(120000, 40) (50000, 40) (30000, 40)\n"
          ]
        }
      ]
    },
    {
      "cell_type": "code",
      "source": [
        "x_train[0]"
      ],
      "metadata": {
        "colab": {
          "base_uri": "https://localhost:8080/"
        },
        "id": "E9tnCQdpI8eu",
        "outputId": "9e064960-705b-421e-fa84-ad8626d377a4"
      },
      "execution_count": null,
      "outputs": [
        {
          "output_type": "execute_result",
          "data": {
            "text/plain": [
              "array([   0,    0,    0,    0,    0,    0,    0,    0,    0,    0,    0,\n",
              "          0,    0,    0,    0,    0,    0,    0,    0,    0,    0,    0,\n",
              "          0,    0,    0,    0,    0,    0,    0,    0,    0,    0,    0,\n",
              "          0,    0,    0,    0, 3034,  589,   58], dtype=int32)"
            ]
          },
          "metadata": {},
          "execution_count": 15
        }
      ]
    },
    {
      "cell_type": "markdown",
      "metadata": {
        "id": "cf1D_5tzxNvc"
      },
      "source": [
        "# Q5. X에서, 0으로만 데이터를 제거하시오."
      ]
    },
    {
      "cell_type": "code",
      "metadata": {
        "id": "kvQrLJ2FxUfb"
      },
      "source": [
        "####################\n",
        "## Your Code here ##\n",
        "####################\n",
        "not0train_idx = x_train.sum(1) > 0\n",
        "not0test_idx = x_test.sum(1) > 0\n",
        "not0valid_idx = x_valid.sum(1) > 0\n",
        "\n",
        "train_data = train_data.loc[not0train_idx].reset_index(drop=True)\n",
        "test_data = test_data.loc[not0test_idx].reset_index(drop=True)\n",
        "valid_data = val_data.loc[not0valid_idx].reset_index(drop=True)\n",
        "\n",
        "x_train = x_train[not0train_idx]\n",
        "y_train = y_train[not0train_idx]\n",
        "\n",
        "x_test = x_test[not0test_idx]\n",
        "y_test = y_test[not0test_idx]\n",
        "\n",
        "x_valid = x_valid[not0valid_idx]\n",
        "y_valid = y_valid[not0valid_idx]"
      ],
      "execution_count": null,
      "outputs": []
    },
    {
      "cell_type": "code",
      "source": [
        "print(x_train.shape, y_train.shape)"
      ],
      "metadata": {
        "colab": {
          "base_uri": "https://localhost:8080/"
        },
        "id": "uOjjodBwWOsj",
        "outputId": "10c1af75-18aa-46e5-9021-67ce7bbf1cef"
      },
      "execution_count": null,
      "outputs": [
        {
          "output_type": "stream",
          "name": "stdout",
          "text": [
            "(113151, 40) (113151,)\n"
          ]
        }
      ]
    },
    {
      "cell_type": "markdown",
      "metadata": {
        "id": "ImiggWLRxVCs"
      },
      "source": [
        "# Q6. 모델링 하시오.\n",
        "\n",
        "**규칙**\n",
        "* compile까지 마치시오.\n",
        "* 모델 구조는 아래와 같다.\n",
        "    1. Embedding layer : 임베딩 차원 192\n",
        "    2. Conv1D : 필터수 128개, 윈도우 사이즈 5, swish\n",
        "    3. Conv1D : 필터수 128개, 윈도우 사이즈 5, swish\n",
        "    4. MaxPool1D : 필터사이즈 2\n",
        "    5. Bidirectional layer :\n",
        "        * 정방향 : LSTM, 48\n",
        "        * 역방향 : LSTM, 48\n",
        "    6. Bidirectional layer :\n",
        "        * 정방향 : LSTM, 64\n",
        "        * 역방향 : GRU, 64\n",
        "    7. MaxPool1D : 필터사이즈 2\n",
        "    7. Bidirectional layer :\n",
        "        * 정방향 : GRU, 96\n",
        "        * 역방향 : LSTM, 96\n",
        "    8. Conv1D : 128개, 윈도우 사이즈 6, swish\n",
        "    9. Flatten\n",
        "    10. Fully connected, 노드 1024개, swish\n",
        "    10. 적절한 아웃풋레이어."
      ]
    },
    {
      "cell_type": "code",
      "metadata": {
        "id": "RViVXo5Bzdv0"
      },
      "source": [
        "####################\n",
        "## Your Code here ##\n",
        "####################\n",
        "import tensorflow as tf\n",
        "from tensorflow import keras\n",
        "\n",
        "from keras.layers import Dense, Flatten, Conv1D, MaxPool1D\n",
        "from keras.layers import Embedding, Bidirectional, LSTM, SimpleRNN, GRU\n",
        "\n",
        "from keras.models import Sequential"
      ],
      "execution_count": null,
      "outputs": []
    },
    {
      "cell_type": "code",
      "metadata": {
        "id": "MAr8-Wi1zer8"
      },
      "source": [
        "####################\n",
        "## Your Code here ##\n",
        "####################\n",
        "model = Sequential()\n",
        "# 1. Embedding layer : 임베딩 차원 192\n",
        "model.add(Embedding(input_dim=max_words, output_dim=192, input_length=max_len))\n",
        "# 2. Conv1D : 필터수 128개, 윈도우 사이즈 5, swish\n",
        "model.add(Conv1D(128, kernel_size=5, activation='swish'))\n",
        "# 3. Conv1D : 필터수 128개, 윈도우 사이즈 5, swish\n",
        "model.add(Conv1D(128, kernel_size=5, activation='swish'))\n",
        "# 4. MaxPool1D : 필터사이즈 2\n",
        "model.add(MaxPool1D(pool_size=2))\n",
        "# 5. Bidirectional layer :\n",
        "#     * 정방향 : LSTM, 48\n",
        "#     * 역방향 : LSTM, 48\n",
        "forward = LSTM(48, return_sequences=True)\n",
        "backward = LSTM(48, return_sequences=True, go_backwards=True)\n",
        "model.add(Bidirectional(forward, backward_layer=backward))\n",
        "# 6. Bidirectional layer :\n",
        "#     * 정방향 : LSTM, 64\n",
        "#     * 역방향 : GRU, 64\n",
        "forward = LSTM(64, return_sequences=True)\n",
        "backward = GRU(64, return_sequences=True, go_backwards=True)\n",
        "model.add(Bidirectional(forward, backward_layer=backward))\n",
        "# 7. MaxPool1D : 필터사이즈 2\n",
        "model.add(MaxPool1D(pool_size=2))\n",
        "# 7. Bidirectional layer :\n",
        "#     * 정방향 : GRU, 96\n",
        "#     * 역방향 : LSTM, 96\n",
        "forward = GRU(96, return_sequences=True)\n",
        "backward = LSTM(96, return_sequences=True, go_backwards=True)\n",
        "model.add(Bidirectional(forward, backward_layer=backward))\n",
        "# 8. Conv1D : 128개, 윈도우 사이즈 6, swish\n",
        "model.add(Conv1D(128, kernel_size=6, activation='swish'))\n",
        "# 9. Flatten\n",
        "model.add(Flatten())\n",
        "# 10. Fully connected, 노드 1024개, swish\n",
        "model.add(Dense(1024, activation='swish'))\n",
        "# 10. 적절한 아웃풋레이어.\n",
        "model.add(Dense(1, activation='sigmoid'))\n",
        "# 모델 컴파일\n",
        "model.compile(loss='binary_crossentropy', optimizer=keras.optimizers.Adam(), metrics=['accuracy'])"
      ],
      "execution_count": null,
      "outputs": []
    },
    {
      "cell_type": "code",
      "source": [
        "model.summary()"
      ],
      "metadata": {
        "colab": {
          "base_uri": "https://localhost:8080/"
        },
        "id": "Z2PQHiKQLMVp",
        "outputId": "f3073ebe-a06b-4fa3-bb25-c59935cd6a82"
      },
      "execution_count": null,
      "outputs": [
        {
          "output_type": "stream",
          "name": "stdout",
          "text": [
            "Model: \"sequential_1\"\n",
            "_________________________________________________________________\n",
            " Layer (type)                Output Shape              Param #   \n",
            "=================================================================\n",
            " embedding_1 (Embedding)     (None, 40, 192)           7680000   \n",
            "                                                                 \n",
            " conv1d_3 (Conv1D)           (None, 36, 128)           123008    \n",
            "                                                                 \n",
            " conv1d_4 (Conv1D)           (None, 32, 128)           82048     \n",
            "                                                                 \n",
            " max_pooling1d_2 (MaxPooling  (None, 16, 128)          0         \n",
            " 1D)                                                             \n",
            "                                                                 \n",
            " bidirectional_3 (Bidirectio  (None, 16, 96)           67968     \n",
            " nal)                                                            \n",
            "                                                                 \n",
            " bidirectional_4 (Bidirectio  (None, 16, 128)          72320     \n",
            " nal)                                                            \n",
            "                                                                 \n",
            " max_pooling1d_3 (MaxPooling  (None, 8, 128)           0         \n",
            " 1D)                                                             \n",
            "                                                                 \n",
            " bidirectional_5 (Bidirectio  (None, 8, 192)           151488    \n",
            " nal)                                                            \n",
            "                                                                 \n",
            " conv1d_5 (Conv1D)           (None, 3, 128)            147584    \n",
            "                                                                 \n",
            " flatten_1 (Flatten)         (None, 384)               0         \n",
            "                                                                 \n",
            " dense_2 (Dense)             (None, 1024)              394240    \n",
            "                                                                 \n",
            " dense_3 (Dense)             (None, 1)                 1025      \n",
            "                                                                 \n",
            "=================================================================\n",
            "Total params: 8,719,681\n",
            "Trainable params: 8,719,681\n",
            "Non-trainable params: 0\n",
            "_________________________________________________________________\n"
          ]
        }
      ]
    },
    {
      "cell_type": "markdown",
      "metadata": {
        "id": "RwpCecpSze9L"
      },
      "source": [
        "# Q7. Early Stopping을 이용하여 모델을 학습시키시오.\n",
        "\n",
        "**규칙**\n",
        "1. 트레이닝셋의 15%는 validation set으로 둔다.\n",
        "2. batch size는 128 ~ 512 사이로 결정한다.\n",
        "3. 10000 epochs\n",
        "2. 10 epochs 이내에 개선이 안되면 stopping\n",
        "3. 가장 성능이 좋았을 때의 가중치로 복원할 것\n"
      ]
    },
    {
      "cell_type": "code",
      "metadata": {
        "id": "E_nf7pkLzyR7",
        "colab": {
          "base_uri": "https://localhost:8080/"
        },
        "outputId": "aaff28a8-cce9-46e5-c8d0-61b158da79c2"
      },
      "source": [
        "####################\n",
        "## Your Code here ##\n",
        "####################\n",
        "from keras.callbacks import EarlyStopping\n",
        "\n",
        "es = EarlyStopping(monitor='val_loss',\n",
        "                   min_delta=0,\n",
        "                   patience=10,\n",
        "                   verbose=1)\n",
        "\n",
        "model.fit(x_train, y_train, epochs=10000, batch_size=128, # 일반적으로 이렇게 크게 주진 않는다.\n",
        "          validation_data=(x_valid, y_valid), verbose=1,\n",
        "          callbacks=[es])"
      ],
      "execution_count": null,
      "outputs": [
        {
          "output_type": "stream",
          "name": "stdout",
          "text": [
            "Epoch 1/10000\n",
            "884/884 [==============================] - 75s 72ms/step - loss: 0.4545 - accuracy: 0.7614 - val_loss: 0.3623 - val_accuracy: 0.8369\n",
            "Epoch 2/10000\n",
            "884/884 [==============================] - 60s 68ms/step - loss: 0.2640 - accuracy: 0.8910 - val_loss: 0.4158 - val_accuracy: 0.8369\n",
            "Epoch 3/10000\n",
            "884/884 [==============================] - 63s 72ms/step - loss: 0.1563 - accuracy: 0.9380 - val_loss: 0.4658 - val_accuracy: 0.8242\n",
            "Epoch 4/10000\n",
            "884/884 [==============================] - 63s 71ms/step - loss: 0.1046 - accuracy: 0.9581 - val_loss: 0.5934 - val_accuracy: 0.8136\n",
            "Epoch 5/10000\n",
            "884/884 [==============================] - 61s 68ms/step - loss: 0.0817 - accuracy: 0.9667 - val_loss: 0.7101 - val_accuracy: 0.8166\n",
            "Epoch 6/10000\n",
            "884/884 [==============================] - 60s 68ms/step - loss: 0.0691 - accuracy: 0.9706 - val_loss: 0.7623 - val_accuracy: 0.8100\n",
            "Epoch 7/10000\n",
            "884/884 [==============================] - 59s 67ms/step - loss: 0.0603 - accuracy: 0.9741 - val_loss: 0.8057 - val_accuracy: 0.8099\n",
            "Epoch 8/10000\n",
            "884/884 [==============================] - 60s 68ms/step - loss: 0.0539 - accuracy: 0.9759 - val_loss: 0.9182 - val_accuracy: 0.8100\n",
            "Epoch 9/10000\n",
            "884/884 [==============================] - 59s 66ms/step - loss: 0.0496 - accuracy: 0.9781 - val_loss: 1.0188 - val_accuracy: 0.8037\n",
            "Epoch 10/10000\n",
            "884/884 [==============================] - 59s 66ms/step - loss: 0.0460 - accuracy: 0.9791 - val_loss: 1.0730 - val_accuracy: 0.8075\n",
            "Epoch 11/10000\n",
            "884/884 [==============================] - 60s 68ms/step - loss: 0.0447 - accuracy: 0.9795 - val_loss: 1.1099 - val_accuracy: 0.8004\n",
            "Epoch 11: early stopping\n"
          ]
        },
        {
          "output_type": "execute_result",
          "data": {
            "text/plain": [
              "<keras.callbacks.History at 0x7f168cba0390>"
            ]
          },
          "metadata": {},
          "execution_count": 33
        }
      ]
    },
    {
      "cell_type": "markdown",
      "metadata": {
        "id": "9Tc-Whs8zzms"
      },
      "source": [
        "# Q8. 테스트 셋위에서 평가를 하시오.\n",
        "\n",
        "0. positive : 1, negative : 0\n",
        "1. positive로 간주하는 기준을 [ 5%, 10%, ... , 95% ] 19개로 가져간다.\n",
        "    * 예시) 두번째 기준은 positive할 확률이 10%만 넘어가도 postive하다고 간주한다.\n",
        "    * **accuracy**\n",
        "2. 각 19개 기준에 대하여, model의 sensitivity 변화를 출력한다.\n",
        "    * optional) 시각화를 하여도 좋다.\n",
        "3. 각 19개 기준에 대하여, model의 'positive' class의 precision 변화를 출력한다.\n",
        "    * optional) 시각화를 하여도 좋다.\n"
      ]
    },
    {
      "cell_type": "code",
      "source": [
        "from sklearn.metrics import accuracy_score, recall_score, precision_score"
      ],
      "metadata": {
        "id": "nAfqD-cWRclI"
      },
      "execution_count": null,
      "outputs": []
    },
    {
      "cell_type": "code",
      "source": [
        "label = ['positive' if i == 1 else 'Negative' for i in y_test]\n",
        "\n",
        "thresholds = [i * 0.05 for i in range(1, 20)]\n",
        "acc_list = []\n",
        "recall_list = []\n",
        "precision_list = []\n",
        "\n",
        "y_pred = model.predict(x_test)"
      ],
      "metadata": {
        "id": "qqdT4HIzVChk"
      },
      "execution_count": null,
      "outputs": []
    },
    {
      "cell_type": "code",
      "metadata": {
        "id": "Q1Q5sMt109pb"
      },
      "source": [
        "####################\n",
        "## Your Code here ##\n",
        "####################\n",
        "for threshold in thresholds:\n",
        "    label_pred = ['positive' if i >= threshold else 'Negative' for i in y_pred]\n",
        "    acc_list.append(accuracy_score(label, label_pred))\n",
        "    recall_list.append(recall_score(label, label_pred, pos_label='positive'))\n",
        "    precision_list.append(precision_score(label, label_pred, pos_label='positive'))"
      ],
      "execution_count": null,
      "outputs": []
    },
    {
      "cell_type": "code",
      "source": [
        "print(acc_list)\n",
        "print(recall_list)\n",
        "print(precision_list)"
      ],
      "metadata": {
        "colab": {
          "base_uri": "https://localhost:8080/"
        },
        "id": "tF5bo6KzTeFQ",
        "outputId": "e5151611-f4b3-4f20-93db-46f1d3122b1c"
      },
      "execution_count": null,
      "outputs": [
        {
          "output_type": "stream",
          "name": "stdout",
          "text": [
            "[0.7859520355039686, 0.788085687462661, 0.7896859264316805, 0.7907527524110267, 0.7914141845182214, 0.7916488862336776, 0.7929717504480669, 0.7937825381923701, 0.7939959033882393, 0.7926303661346761, 0.7915422036357429, 0.7898779551079628, 0.7870615345224887, 0.78469318084834, 0.7827728940855168, 0.780425876930955, 0.7762225825723308, 0.7714432021848596, 0.7598361355295724]\n",
            "[0.835451647183847, 0.8198937300743889, 0.8102869287991499, 0.8019553666312433, 0.7933687566418703, 0.7847821466524973, 0.7765781083953242, 0.7654835281615303, 0.748182784272051, 0.7373432518597237, 0.7273963868225293, 0.7186397449521785, 0.7066099893730075, 0.6959829968119022, 0.6862486716259298, 0.674643995749203, 0.6601487778958555, 0.6418703506907545, 0.607778958554729]\n",
            "[0.7613403060236297, 0.7720449905936037, 0.7794406280667321, 0.7856250520529691, 0.7915518045718648, 0.7970126057675704, 0.8042349005106533, 0.8127820906300777, 0.8250984436527283, 0.8305084745762712, 0.8359958962333285, 0.8396324807549044, 0.84376427592508, 0.8478148301574151, 0.8521959459459459, 0.8575210719688783, 0.861676746379626, 0.8684649450739058, 0.8757273228394684]\n"
          ]
        }
      ]
    },
    {
      "cell_type": "code",
      "source": [
        "import matplotlib.pyplot as plt\n",
        "\n",
        "plt.plot(thresholds, acc_list, label='acc')\n",
        "plt.plot(thresholds, recall_list, label='recall')\n",
        "plt.plot(thresholds, precision_list, label='precision')\n",
        "plt.xlabel('threshold')\n",
        "plt.legend()\n",
        "plt.show()"
      ],
      "metadata": {
        "colab": {
          "base_uri": "https://localhost:8080/",
          "height": 279
        },
        "id": "H15QG3N4Uh6V",
        "outputId": "0cc657de-eb7f-4555-ffe0-d6531c05f678"
      },
      "execution_count": null,
      "outputs": [
        {
          "output_type": "display_data",
          "data": {
            "image/png": "[encoded data removed]",
            "text/plain": [
              "<Figure size 432x288 with 1 Axes>"
            ]
          },
          "metadata": {
            "needs_background": "light"
          }
        }
      ]
    },
    {
      "cell_type": "markdown",
      "metadata": {
        "id": "kRmRrgyj6PrM"
      },
      "source": [
        "# Q9. 다음 텍스트가 positive할 확률을 출력하시오.\n",
        "\n",
        "\"이 영화는 명작인지, 망작인지 너무나 혼란스럽고 즐겁다.\"\n",
        "\n",
        "\n"
      ]
    },
    {
      "cell_type": "code",
      "metadata": {
        "id": "-TlSjh8w6nZA",
        "colab": {
          "base_uri": "https://localhost:8080/"
        },
        "outputId": "55c95345-52a7-4ff7-e672-d93f1412cf96"
      },
      "source": [
        "####################\n",
        "## Your Code here ##\n",
        "####################\n",
        "my_review = ['이 영화는 명작인지, 망작인지 너무나 혼란스럽고 즐겁다.']\n",
        "my_review = tokenizer.texts_to_sequences(my_review)\n",
        "my_review = pad_sequences(my_review, maxlen=max_len)\n",
        "my_review = np.array(my_review)\n",
        "\n",
        "my_pred = model.predict(my_review)\n",
        "my_review = 'positive' if my_pred[0,0] >=0.5 else 'Negative'\n",
        "print(f\"모델의 예측 : {my_review},   prob = {my_pred[0,0]*100:.2f}%\")"
      ],
      "execution_count": null,
      "outputs": [
        {
          "output_type": "stream",
          "name": "stdout",
          "text": [
            "모델의 예측 : positive,   prob = 100.00%\n"
          ]
        }
      ]
    },
    {
      "cell_type": "markdown",
      "metadata": {
        "id": "Q-KV33AoiGgZ"
      },
      "source": [
        "# Q10. 아래 주어진 문장을, 주어진 조건에 따라 분석하시오.\n",
        "\n",
        "review = '명작이지ㅋ 특히 명절때만 되면 티비에서 참 많이 해줬었는데, 웃기기도하고, 액션도 가미되었고...특히 가족같은 형제라는 주제가 안방에 잘 먹혔던거 같다.'\n",
        "\n",
        "* 루프문과 print를 이용하여 아래와 같은 방식으로 출력하시오.\n",
        "    1. positive확률 :  50%,  인풋 : '명작이지ㅋ'\n",
        "    2. positive확률 :  55%, 인풋 : '명작이지ㅋ 특히'\n",
        "    3. positive확률 : 56%, 인풋 : '명작이지ㅋ 특히 명절때만'\n",
        "    4. .....(계속 한 단어씩 증가 시키기)\n",
        "    5. positive확률 : 98%, 인풋 : '명작이지~ 같다.'\n",
        "* 인풋으로 사용한 문장과 확률은 명확히 출력되어야 한다.\n",
        "    * 나머지는 출력되지 않아도 좋다."
      ]
    },
    {
      "cell_type": "code",
      "metadata": {
        "id": "Le8LBj6XitX8",
        "colab": {
          "base_uri": "https://localhost:8080/"
        },
        "outputId": "a8379c48-b7fc-44e0-b780-b92ef4e3ce19"
      },
      "source": [
        "####################\n",
        "## Your code here ##\n",
        "####################\n",
        "review = '명작이지ㅋ 특히 명절때만 되면 티비에서 참 많이 해줬었는데, 웃기기도하고, 액션도 가미되었고...특히 가족같은 형제라는 주제가 안방에 잘 먹혔던거 같다.'\n",
        "review = review.split()\n",
        "review"
      ],
      "execution_count": null,
      "outputs": [
        {
          "output_type": "execute_result",
          "data": {
            "text/plain": [
              "['명작이지ㅋ',\n",
              " '특히',\n",
              " '명절때만',\n",
              " '되면',\n",
              " '티비에서',\n",
              " '참',\n",
              " '많이',\n",
              " '해줬었는데,',\n",
              " '웃기기도하고,',\n",
              " '액션도',\n",
              " '가미되었고...특히',\n",
              " '가족같은',\n",
              " '형제라는',\n",
              " '주제가',\n",
              " '안방에',\n",
              " '잘',\n",
              " '먹혔던거',\n",
              " '같다.']"
            ]
          },
          "metadata": {},
          "execution_count": 53
        }
      ]
    },
    {
      "cell_type": "code",
      "source": [
        "for i in range(len(review)):\n",
        "    input = review[:i+1]\n",
        "    input = [' '.join(input)]\n",
        "    new_input = input\n",
        "    input = tokenizer.texts_to_sequences(input)\n",
        "    input = pad_sequences(input, maxlen=max_len)\n",
        "    input = np.array(input)\n",
        "    output = model.predict(input)\n",
        "    output_label = 'positive' if output[0,0] >=0.5 else 'Negative'\n",
        "    print(f\"positive확률 : {output[0,0]*100:.2f}%, 인풋 : {new_input[0]}\")"
      ],
      "metadata": {
        "colab": {
          "base_uri": "https://localhost:8080/"
        },
        "id": "pBvJDZzoWm1g",
        "outputId": "079d502f-8072-42b5-b33c-489a2ce894c6"
      },
      "execution_count": null,
      "outputs": [
        {
          "output_type": "stream",
          "name": "stdout",
          "text": [
            "positive확률 : 42.41%, 인풋 : 명작이지ㅋ\n",
            "positive확률 : 72.15%, 인풋 : 명작이지ㅋ 특히\n",
            "positive확률 : 72.15%, 인풋 : 명작이지ㅋ 특히 명절때만\n",
            "positive확률 : 71.57%, 인풋 : 명작이지ㅋ 특히 명절때만 되면\n",
            "positive확률 : 31.21%, 인풋 : 명작이지ㅋ 특히 명절때만 되면 티비에서\n",
            "positive확률 : 0.03%, 인풋 : 명작이지ㅋ 특히 명절때만 되면 티비에서 참\n",
            "positive확률 : 8.63%, 인풋 : 명작이지ㅋ 특히 명절때만 되면 티비에서 참 많이\n",
            "positive확률 : 8.63%, 인풋 : 명작이지ㅋ 특히 명절때만 되면 티비에서 참 많이 해줬었는데,\n",
            "positive확률 : 99.94%, 인풋 : 명작이지ㅋ 특히 명절때만 되면 티비에서 참 많이 해줬었는데, 웃기기도하고,\n",
            "positive확률 : 99.91%, 인풋 : 명작이지ㅋ 특히 명절때만 되면 티비에서 참 많이 해줬었는데, 웃기기도하고, 액션도\n",
            "positive확률 : 100.00%, 인풋 : 명작이지ㅋ 특히 명절때만 되면 티비에서 참 많이 해줬었는데, 웃기기도하고, 액션도 가미되었고...특히\n",
            "positive확률 : 100.00%, 인풋 : 명작이지ㅋ 특히 명절때만 되면 티비에서 참 많이 해줬었는데, 웃기기도하고, 액션도 가미되었고...특히 가족같은\n",
            "positive확률 : 100.00%, 인풋 : 명작이지ㅋ 특히 명절때만 되면 티비에서 참 많이 해줬었는데, 웃기기도하고, 액션도 가미되었고...특히 가족같은 형제라는\n",
            "positive확률 : 99.99%, 인풋 : 명작이지ㅋ 특히 명절때만 되면 티비에서 참 많이 해줬었는데, 웃기기도하고, 액션도 가미되었고...특히 가족같은 형제라는 주제가\n",
            "positive확률 : 99.99%, 인풋 : 명작이지ㅋ 특히 명절때만 되면 티비에서 참 많이 해줬었는데, 웃기기도하고, 액션도 가미되었고...특히 가족같은 형제라는 주제가 안방에\n",
            "positive확률 : 99.93%, 인풋 : 명작이지ㅋ 특히 명절때만 되면 티비에서 참 많이 해줬었는데, 웃기기도하고, 액션도 가미되었고...특히 가족같은 형제라는 주제가 안방에 잘\n",
            "positive확률 : 99.93%, 인풋 : 명작이지ㅋ 특히 명절때만 되면 티비에서 참 많이 해줬었는데, 웃기기도하고, 액션도 가미되었고...특히 가족같은 형제라는 주제가 안방에 잘 먹혔던거\n",
            "positive확률 : 99.93%, 인풋 : 명작이지ㅋ 특히 명절때만 되면 티비에서 참 많이 해줬었는데, 웃기기도하고, 액션도 가미되었고...특히 가족같은 형제라는 주제가 안방에 잘 먹혔던거 같다.\n"
          ]
        }
      ]
    },
    {
      "cell_type": "code",
      "source": [],
      "metadata": {
        "id": "fAoZ3UGlW139"
      },
      "execution_count": null,
      "outputs": []
    }
  ]
}