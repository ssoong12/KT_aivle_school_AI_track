{
 "cells": [
  {
   "cell_type": "markdown",
   "id": "boxed-jamaica",
   "metadata": {},
   "source": [
    "# 안녕하세요^^ \n",
    "## AIVLE 미니프로젝트 '서울시 생활정보 기반 대중교통 수요 분석 ' 과정에 오신 여러분을 환영합니다.\n",
    "* 본 과정에서는 실제 사례와 데이터를 기반으로 문제를 해결하는 전체 과정을 자기 주도형 실습으로 진행해볼 예정입니다.\n",
    "* 앞선 교육과정을 정리하는 마음과 지금까지 배운 내용을 바탕으로 문제 해결을 해볼게요!\n",
    "* 미니 프로젝트를 통한 문제 해결 과정 'A에서 Z까지', 지금부터 시작합니다!\n",
    "\n",
    "## 개인과제\n",
    "* 데이터 구조, 분포 확인, 전처리 : 1.1_버스정류장데이터 / 1.2 유동인구데이터 / 1.3_주민등록데이터 / 1.4_업종등록데이터\n",
    "* 데이터간 관계 가설 수립 및 검증 : 1.5_데이터 분석"
   ]
  },
  {
   "cell_type": "markdown",
   "id": "ef575059",
   "metadata": {},
   "source": [
    "---"
   ]
  },
  {
   "cell_type": "markdown",
   "id": "f2bc4fa5",
   "metadata": {},
   "source": [
    "# 데이터 분석부터 먼저 시작해보겠습니다.\n",
    "## \"버스 정류장 데이터\" 를 확인해 보도록 하겠습니다"
   ]
  },
  {
   "cell_type": "code",
   "execution_count": 1,
   "id": "4c6ced42",
   "metadata": {},
   "outputs": [
    {
     "name": "stdout",
     "output_type": "stream",
     "text": [
      "Requirement already satisfied: pandas in c:\\users\\user\\anaconda3\\lib\\site-packages (1.4.4)\n",
      "Requirement already satisfied: seaborn in c:\\users\\user\\anaconda3\\lib\\site-packages (0.11.2)\n",
      "Requirement already satisfied: python-dateutil>=2.8.1 in c:\\users\\user\\appdata\\roaming\\python\\python39\\site-packages (from pandas) (2.8.2)\n",
      "Requirement already satisfied: numpy>=1.18.5 in c:\\users\\user\\anaconda3\\lib\\site-packages (from pandas) (1.21.5)\n",
      "Requirement already satisfied: pytz>=2020.1 in c:\\users\\user\\anaconda3\\lib\\site-packages (from pandas) (2022.1)\n",
      "Requirement already satisfied: matplotlib>=2.2 in c:\\users\\user\\anaconda3\\lib\\site-packages (from seaborn) (3.5.2)\n",
      "Requirement already satisfied: scipy>=1.0 in c:\\users\\user\\anaconda3\\lib\\site-packages (from seaborn) (1.9.1)\n",
      "Requirement already satisfied: fonttools>=4.22.0 in c:\\users\\user\\anaconda3\\lib\\site-packages (from matplotlib>=2.2->seaborn) (4.25.0)\n",
      "Requirement already satisfied: packaging>=20.0 in c:\\users\\user\\appdata\\roaming\\python\\python39\\site-packages (from matplotlib>=2.2->seaborn) (22.0)\n",
      "Requirement already satisfied: pillow>=6.2.0 in c:\\users\\user\\anaconda3\\lib\\site-packages (from matplotlib>=2.2->seaborn) (9.2.0)\n",
      "Requirement already satisfied: kiwisolver>=1.0.1 in c:\\users\\user\\anaconda3\\lib\\site-packages (from matplotlib>=2.2->seaborn) (1.4.2)\n",
      "Requirement already satisfied: cycler>=0.10 in c:\\users\\user\\anaconda3\\lib\\site-packages (from matplotlib>=2.2->seaborn) (0.11.0)\n",
      "Requirement already satisfied: pyparsing>=2.2.1 in c:\\users\\user\\anaconda3\\lib\\site-packages (from matplotlib>=2.2->seaborn) (3.0.9)\n",
      "Requirement already satisfied: six>=1.5 in c:\\users\\user\\appdata\\roaming\\python\\python39\\site-packages (from python-dateutil>=2.8.1->pandas) (1.16.0)\n",
      "Note: you may need to restart the kernel to use updated packages.\n"
     ]
    }
   ],
   "source": [
    "# 필요 라이브러리부터 설치합니다.\n",
    "%pip install pandas seaborn"
   ]
  },
  {
   "cell_type": "markdown",
   "id": "revolutionary-farmer",
   "metadata": {},
   "source": [
    "## 데이터 안내\n",
    "\n",
    "[기본 데이터]\n",
    "* 1.1 BUS_STATION_BOARDING_MONTH_202204.csv\n",
    "\n",
    "* 서울시 버스노선별 정류장별 승하차 인원 정보\n",
    "* https://data.seoul.go.kr/dataList/OA-12912/S/1/datasetView.do\n",
    "\n",
    "\n",
    "[추가 데이터]\n",
    "* 1.1 bus_station.csv\n",
    "\n",
    "* 서울시 버스정류장 위치정보\n",
    "* https://data.seoul.go.kr/dataList/OA-15067/S/1/datasetView.do"
   ]
  },
  {
   "cell_type": "markdown",
   "id": "matched-broad",
   "metadata": {},
   "source": [
    "---"
   ]
  },
  {
   "cell_type": "markdown",
   "id": "warming-gentleman",
   "metadata": {},
   "source": [
    "# 1.데이터 불러오기\n",
    "## 모든 미니 프로젝트의 시작은 '데이터 불러오기' 부터라고 할 수 있습니다.\n",
    "+ KeyPoint : 불러오고자 하는 데이터에 따라 자유롭게 변수로 지정할 수 있다."
   ]
  },
  {
   "cell_type": "markdown",
   "id": "measured-administration",
   "metadata": {},
   "source": [
    "###  데이터 프레임을 불러오고 변수로 저장(여기서는 CSV 기준으로 진행)\n",
    "* csv : pd.read_csv(\"파일이름. csv\")\n",
    "* txt : pd.read_csv(\"파일이름. csv\", sep=\"구분자\")\n",
    "* xlsx : pd.read_excel('파일이름.xlsx')\n",
    "* pickle : pd.read_pickle(\"파일이름.pkl\") <br>\n",
    " [참고] pickle은 파이썬의 모든 객체를 파일로 저장할 수 있는 방법으로 DataFrame,List,Dict 등 모든 객체 저장 가능(특히 sklearn라이브러리를 통해 모델을 학습시키고, 저장할 때 많이 사용)"
   ]
  },
  {
   "cell_type": "markdown",
   "id": "vocational-animal",
   "metadata": {},
   "source": [
    "#### [실습문제1] 데이터 로딩\n",
    "* Pandas 라이브러리를 활용해서 '1.1 BUS_STATION_BOARDING_MONTH_202204.csv'파일을 'bus_station' 변수에 저장하세요.\n",
    "    * 데이터 파일 로딩시 참고 사항 \n",
    "        * 구분자(sep)는 ',' 입니다\n",
    "        * cp949 인코더를 사용해 주세요"
   ]
  },
  {
   "cell_type": "code",
   "execution_count": 2,
   "id": "0bd83ddf",
   "metadata": {},
   "outputs": [],
   "source": [
    "import sys\n",
    "import numpy as np\n",
    "import pandas as pd"
   ]
  },
  {
   "cell_type": "code",
   "execution_count": 4,
   "id": "saving-slope",
   "metadata": {},
   "outputs": [
    {
     "data": {
      "text/html": [
       "<div>\n",
       "<style scoped>\n",
       "    .dataframe tbody tr th:only-of-type {\n",
       "        vertical-align: middle;\n",
       "    }\n",
       "\n",
       "    .dataframe tbody tr th {\n",
       "        vertical-align: top;\n",
       "    }\n",
       "\n",
       "    .dataframe thead th {\n",
       "        text-align: right;\n",
       "    }\n",
       "</style>\n",
       "<table border=\"1\" class=\"dataframe\">\n",
       "  <thead>\n",
       "    <tr style=\"text-align: right;\">\n",
       "      <th></th>\n",
       "      <th>사용일자</th>\n",
       "      <th>노선번호</th>\n",
       "      <th>노선명</th>\n",
       "      <th>버스정류장ARS번호</th>\n",
       "      <th>역명</th>\n",
       "      <th>승차총승객수</th>\n",
       "      <th>하차총승객수</th>\n",
       "      <th>등록일자</th>\n",
       "    </tr>\n",
       "  </thead>\n",
       "  <tbody>\n",
       "    <tr>\n",
       "      <th>0</th>\n",
       "      <td>20220401</td>\n",
       "      <td>2112</td>\n",
       "      <td>2112번(면목동~성북동)</td>\n",
       "      <td>06243</td>\n",
       "      <td>장안동삼성쉐르빌아파트</td>\n",
       "      <td>31</td>\n",
       "      <td>156</td>\n",
       "      <td>20220404</td>\n",
       "    </tr>\n",
       "    <tr>\n",
       "      <th>1</th>\n",
       "      <td>20220401</td>\n",
       "      <td>2112</td>\n",
       "      <td>2112번(면목동~성북동)</td>\n",
       "      <td>06242</td>\n",
       "      <td>새서울병원</td>\n",
       "      <td>46</td>\n",
       "      <td>153</td>\n",
       "      <td>20220404</td>\n",
       "    </tr>\n",
       "    <tr>\n",
       "      <th>2</th>\n",
       "      <td>20220401</td>\n",
       "      <td>2112</td>\n",
       "      <td>2112번(면목동~성북동)</td>\n",
       "      <td>06238</td>\n",
       "      <td>장안동근린공원</td>\n",
       "      <td>11</td>\n",
       "      <td>80</td>\n",
       "      <td>20220404</td>\n",
       "    </tr>\n",
       "    <tr>\n",
       "      <th>3</th>\n",
       "      <td>20220401</td>\n",
       "      <td>2112</td>\n",
       "      <td>2112번(면목동~성북동)</td>\n",
       "      <td>06309</td>\n",
       "      <td>휘경공고휘경주공아파트</td>\n",
       "      <td>56</td>\n",
       "      <td>65</td>\n",
       "      <td>20220404</td>\n",
       "    </tr>\n",
       "    <tr>\n",
       "      <th>4</th>\n",
       "      <td>20220401</td>\n",
       "      <td>100</td>\n",
       "      <td>100번(하계동~용산구청)</td>\n",
       "      <td>11428</td>\n",
       "      <td>한성여객종점</td>\n",
       "      <td>9</td>\n",
       "      <td>5</td>\n",
       "      <td>20220404</td>\n",
       "    </tr>\n",
       "    <tr>\n",
       "      <th>5</th>\n",
       "      <td>20220401</td>\n",
       "      <td>101</td>\n",
       "      <td>101번(화계사~동대문)</td>\n",
       "      <td>09005</td>\n",
       "      <td>수유시장.성신여대미아캠퍼스앞</td>\n",
       "      <td>264</td>\n",
       "      <td>201</td>\n",
       "      <td>20220404</td>\n",
       "    </tr>\n",
       "    <tr>\n",
       "      <th>6</th>\n",
       "      <td>20220401</td>\n",
       "      <td>101</td>\n",
       "      <td>101번(화계사~동대문)</td>\n",
       "      <td>09007</td>\n",
       "      <td>미아역.신일중고</td>\n",
       "      <td>197</td>\n",
       "      <td>120</td>\n",
       "      <td>20220404</td>\n",
       "    </tr>\n",
       "    <tr>\n",
       "      <th>7</th>\n",
       "      <td>20220401</td>\n",
       "      <td>105</td>\n",
       "      <td>105번(상계동~서울역)</td>\n",
       "      <td>06426</td>\n",
       "      <td>청량리수산시장</td>\n",
       "      <td>157</td>\n",
       "      <td>114</td>\n",
       "      <td>20220404</td>\n",
       "    </tr>\n",
       "    <tr>\n",
       "      <th>8</th>\n",
       "      <td>20220401</td>\n",
       "      <td>105</td>\n",
       "      <td>105번(상계동~서울역)</td>\n",
       "      <td>06018</td>\n",
       "      <td>청량리역환승센터</td>\n",
       "      <td>226</td>\n",
       "      <td>181</td>\n",
       "      <td>20220404</td>\n",
       "    </tr>\n",
       "    <tr>\n",
       "      <th>9</th>\n",
       "      <td>20220401</td>\n",
       "      <td>142</td>\n",
       "      <td>142번(도봉동~고속터미널)</td>\n",
       "      <td>01231</td>\n",
       "      <td>종로구민회관.창신동두산아파트</td>\n",
       "      <td>180</td>\n",
       "      <td>323</td>\n",
       "      <td>20220404</td>\n",
       "    </tr>\n",
       "  </tbody>\n",
       "</table>\n",
       "</div>"
      ],
      "text/plain": [
       "       사용일자  노선번호              노선명 버스정류장ARS번호               역명  승차총승객수  \\\n",
       "0  20220401  2112   2112번(면목동~성북동)      06243      장안동삼성쉐르빌아파트      31   \n",
       "1  20220401  2112   2112번(면목동~성북동)      06242            새서울병원      46   \n",
       "2  20220401  2112   2112번(면목동~성북동)      06238          장안동근린공원      11   \n",
       "3  20220401  2112   2112번(면목동~성북동)      06309      휘경공고휘경주공아파트      56   \n",
       "4  20220401   100   100번(하계동~용산구청)      11428           한성여객종점       9   \n",
       "5  20220401   101    101번(화계사~동대문)      09005  수유시장.성신여대미아캠퍼스앞     264   \n",
       "6  20220401   101    101번(화계사~동대문)      09007         미아역.신일중고     197   \n",
       "7  20220401   105    105번(상계동~서울역)      06426          청량리수산시장     157   \n",
       "8  20220401   105    105번(상계동~서울역)      06018         청량리역환승센터     226   \n",
       "9  20220401   142  142번(도봉동~고속터미널)      01231  종로구민회관.창신동두산아파트     180   \n",
       "\n",
       "   하차총승객수      등록일자  \n",
       "0     156  20220404  \n",
       "1     153  20220404  \n",
       "2      80  20220404  \n",
       "3      65  20220404  \n",
       "4       5  20220404  \n",
       "5     201  20220404  \n",
       "6     120  20220404  \n",
       "7     114  20220404  \n",
       "8     181  20220404  \n",
       "9     323  20220404  "
      ]
     },
     "execution_count": 4,
     "metadata": {},
     "output_type": "execute_result"
    }
   ],
   "source": [
    "# 아래에 실습코드를 작성하고 결과를 확인합니다.\n",
    "# 데이터 불러오기\n",
    "path = '데이터/1.1 BUS_STATION_BOARDING_MONTH_202204.csv'\n",
    "bus_station = pd.read_csv(path, encoding = 'cp949')\n",
    "\n",
    "bus_station.head(10)"
   ]
  },
  {
   "cell_type": "code",
   "execution_count": 6,
   "id": "funny-subcommittee",
   "metadata": {},
   "outputs": [
    {
     "data": {
      "text/plain": [
       "(1169878, 8)"
      ]
     },
     "execution_count": 6,
     "metadata": {},
     "output_type": "execute_result"
    }
   ],
   "source": [
    "# 데이터 프레임의 Shape을 확인합니다.\n",
    "bus_station.shape\n",
    "# (1169878, 8) >> 1169878행, 8열"
   ]
  },
  {
   "cell_type": "markdown",
   "id": "73396b42",
   "metadata": {},
   "source": [
    "---"
   ]
  },
  {
   "cell_type": "markdown",
   "id": "annoying-trout",
   "metadata": {},
   "source": [
    "# 2.기본 정보 확인 및 클렌징\n",
    "\n",
    "+ 데이터 클렌징 : 결측치, 이상치 등을 제거하여 데이터 분석 결과가 왜곡 되는 문제를 방지하기 위한 정제 과정"
   ]
  },
  {
   "cell_type": "markdown",
   "id": "romantic-johnson",
   "metadata": {},
   "source": [
    "#### [실습문제2] 기본 정보 확인하기\n",
    "* 'bus_station' 데이터의 정보를 확인해보세요.\n",
    "* 'describe', 'info', 'head' 등 전부 활용해 보겠습니다."
   ]
  },
  {
   "cell_type": "code",
   "execution_count": 12,
   "id": "7343fadf",
   "metadata": {},
   "outputs": [
    {
     "data": {
      "text/html": [
       "<div>\n",
       "<style scoped>\n",
       "    .dataframe tbody tr th:only-of-type {\n",
       "        vertical-align: middle;\n",
       "    }\n",
       "\n",
       "    .dataframe tbody tr th {\n",
       "        vertical-align: top;\n",
       "    }\n",
       "\n",
       "    .dataframe thead th {\n",
       "        text-align: right;\n",
       "    }\n",
       "</style>\n",
       "<table border=\"1\" class=\"dataframe\">\n",
       "  <thead>\n",
       "    <tr style=\"text-align: right;\">\n",
       "      <th></th>\n",
       "      <th>사용일자</th>\n",
       "      <th>승차총승객수</th>\n",
       "      <th>하차총승객수</th>\n",
       "      <th>등록일자</th>\n",
       "    </tr>\n",
       "  </thead>\n",
       "  <tbody>\n",
       "    <tr>\n",
       "      <th>count</th>\n",
       "      <td>1.169878e+06</td>\n",
       "      <td>1.169878e+06</td>\n",
       "      <td>1.169878e+06</td>\n",
       "      <td>1.169878e+06</td>\n",
       "    </tr>\n",
       "    <tr>\n",
       "      <th>mean</th>\n",
       "      <td>2.022042e+07</td>\n",
       "      <td>1.108042e+02</td>\n",
       "      <td>1.082804e+02</td>\n",
       "      <td>2.022043e+07</td>\n",
       "    </tr>\n",
       "    <tr>\n",
       "      <th>std</th>\n",
       "      <td>8.661492e+00</td>\n",
       "      <td>1.554787e+02</td>\n",
       "      <td>1.420829e+02</td>\n",
       "      <td>2.667754e+01</td>\n",
       "    </tr>\n",
       "    <tr>\n",
       "      <th>min</th>\n",
       "      <td>2.022040e+07</td>\n",
       "      <td>0.000000e+00</td>\n",
       "      <td>0.000000e+00</td>\n",
       "      <td>2.022040e+07</td>\n",
       "    </tr>\n",
       "    <tr>\n",
       "      <th>25%</th>\n",
       "      <td>2.022041e+07</td>\n",
       "      <td>1.800000e+01</td>\n",
       "      <td>2.100000e+01</td>\n",
       "      <td>2.022041e+07</td>\n",
       "    </tr>\n",
       "    <tr>\n",
       "      <th>50%</th>\n",
       "      <td>2.022042e+07</td>\n",
       "      <td>6.300000e+01</td>\n",
       "      <td>6.800000e+01</td>\n",
       "      <td>2.022042e+07</td>\n",
       "    </tr>\n",
       "    <tr>\n",
       "      <th>75%</th>\n",
       "      <td>2.022042e+07</td>\n",
       "      <td>1.460000e+02</td>\n",
       "      <td>1.450000e+02</td>\n",
       "      <td>2.022043e+07</td>\n",
       "    </tr>\n",
       "    <tr>\n",
       "      <th>max</th>\n",
       "      <td>2.022043e+07</td>\n",
       "      <td>3.990000e+03</td>\n",
       "      <td>3.615000e+03</td>\n",
       "      <td>2.022050e+07</td>\n",
       "    </tr>\n",
       "  </tbody>\n",
       "</table>\n",
       "</div>"
      ],
      "text/plain": [
       "               사용일자        승차총승객수        하차총승객수          등록일자\n",
       "count  1.169878e+06  1.169878e+06  1.169878e+06  1.169878e+06\n",
       "mean   2.022042e+07  1.108042e+02  1.082804e+02  2.022043e+07\n",
       "std    8.661492e+00  1.554787e+02  1.420829e+02  2.667754e+01\n",
       "min    2.022040e+07  0.000000e+00  0.000000e+00  2.022040e+07\n",
       "25%    2.022041e+07  1.800000e+01  2.100000e+01  2.022041e+07\n",
       "50%    2.022042e+07  6.300000e+01  6.800000e+01  2.022042e+07\n",
       "75%    2.022042e+07  1.460000e+02  1.450000e+02  2.022043e+07\n",
       "max    2.022043e+07  3.990000e+03  3.615000e+03  2.022050e+07"
      ]
     },
     "execution_count": 12,
     "metadata": {},
     "output_type": "execute_result"
    }
   ],
   "source": [
    "# 아래에 실습코드를 작성하고 결과를 확인합니다.\n",
    "bus_station.describe()"
   ]
  },
  {
   "cell_type": "code",
   "execution_count": 14,
   "id": "7f77b32f",
   "metadata": {},
   "outputs": [
    {
     "name": "stdout",
     "output_type": "stream",
     "text": [
      "<class 'pandas.core.frame.DataFrame'>\n",
      "RangeIndex: 1169878 entries, 0 to 1169877\n",
      "Data columns (total 8 columns):\n",
      " #   Column      Non-Null Count    Dtype \n",
      "---  ------      --------------    ----- \n",
      " 0   사용일자        1169878 non-null  int64 \n",
      " 1   노선번호        1169878 non-null  object\n",
      " 2   노선명         1169878 non-null  object\n",
      " 3   버스정류장ARS번호  1169878 non-null  object\n",
      " 4   역명          1169878 non-null  object\n",
      " 5   승차총승객수      1169878 non-null  int64 \n",
      " 6   하차총승객수      1169878 non-null  int64 \n",
      " 7   등록일자        1169878 non-null  int64 \n",
      "dtypes: int64(4), object(4)\n",
      "memory usage: 71.4+ MB\n"
     ]
    }
   ],
   "source": [
    "# 아래에 실습코드를 작성하고 결과를 확인합니다.\n",
    "bus_station.info()"
   ]
  },
  {
   "cell_type": "code",
   "execution_count": 15,
   "id": "demographic-battery",
   "metadata": {},
   "outputs": [
    {
     "data": {
      "text/html": [
       "<div>\n",
       "<style scoped>\n",
       "    .dataframe tbody tr th:only-of-type {\n",
       "        vertical-align: middle;\n",
       "    }\n",
       "\n",
       "    .dataframe tbody tr th {\n",
       "        vertical-align: top;\n",
       "    }\n",
       "\n",
       "    .dataframe thead th {\n",
       "        text-align: right;\n",
       "    }\n",
       "</style>\n",
       "<table border=\"1\" class=\"dataframe\">\n",
       "  <thead>\n",
       "    <tr style=\"text-align: right;\">\n",
       "      <th></th>\n",
       "      <th>사용일자</th>\n",
       "      <th>노선번호</th>\n",
       "      <th>노선명</th>\n",
       "      <th>버스정류장ARS번호</th>\n",
       "      <th>역명</th>\n",
       "      <th>승차총승객수</th>\n",
       "      <th>하차총승객수</th>\n",
       "      <th>등록일자</th>\n",
       "    </tr>\n",
       "  </thead>\n",
       "  <tbody>\n",
       "    <tr>\n",
       "      <th>0</th>\n",
       "      <td>20220401</td>\n",
       "      <td>2112</td>\n",
       "      <td>2112번(면목동~성북동)</td>\n",
       "      <td>06243</td>\n",
       "      <td>장안동삼성쉐르빌아파트</td>\n",
       "      <td>31</td>\n",
       "      <td>156</td>\n",
       "      <td>20220404</td>\n",
       "    </tr>\n",
       "    <tr>\n",
       "      <th>1</th>\n",
       "      <td>20220401</td>\n",
       "      <td>2112</td>\n",
       "      <td>2112번(면목동~성북동)</td>\n",
       "      <td>06242</td>\n",
       "      <td>새서울병원</td>\n",
       "      <td>46</td>\n",
       "      <td>153</td>\n",
       "      <td>20220404</td>\n",
       "    </tr>\n",
       "    <tr>\n",
       "      <th>2</th>\n",
       "      <td>20220401</td>\n",
       "      <td>2112</td>\n",
       "      <td>2112번(면목동~성북동)</td>\n",
       "      <td>06238</td>\n",
       "      <td>장안동근린공원</td>\n",
       "      <td>11</td>\n",
       "      <td>80</td>\n",
       "      <td>20220404</td>\n",
       "    </tr>\n",
       "    <tr>\n",
       "      <th>3</th>\n",
       "      <td>20220401</td>\n",
       "      <td>2112</td>\n",
       "      <td>2112번(면목동~성북동)</td>\n",
       "      <td>06309</td>\n",
       "      <td>휘경공고휘경주공아파트</td>\n",
       "      <td>56</td>\n",
       "      <td>65</td>\n",
       "      <td>20220404</td>\n",
       "    </tr>\n",
       "    <tr>\n",
       "      <th>4</th>\n",
       "      <td>20220401</td>\n",
       "      <td>100</td>\n",
       "      <td>100번(하계동~용산구청)</td>\n",
       "      <td>11428</td>\n",
       "      <td>한성여객종점</td>\n",
       "      <td>9</td>\n",
       "      <td>5</td>\n",
       "      <td>20220404</td>\n",
       "    </tr>\n",
       "  </tbody>\n",
       "</table>\n",
       "</div>"
      ],
      "text/plain": [
       "       사용일자  노선번호             노선명 버스정류장ARS번호           역명  승차총승객수  하차총승객수  \\\n",
       "0  20220401  2112  2112번(면목동~성북동)      06243  장안동삼성쉐르빌아파트      31     156   \n",
       "1  20220401  2112  2112번(면목동~성북동)      06242        새서울병원      46     153   \n",
       "2  20220401  2112  2112번(면목동~성북동)      06238      장안동근린공원      11      80   \n",
       "3  20220401  2112  2112번(면목동~성북동)      06309  휘경공고휘경주공아파트      56      65   \n",
       "4  20220401   100  100번(하계동~용산구청)      11428       한성여객종점       9       5   \n",
       "\n",
       "       등록일자  \n",
       "0  20220404  \n",
       "1  20220404  \n",
       "2  20220404  \n",
       "3  20220404  \n",
       "4  20220404  "
      ]
     },
     "execution_count": 15,
     "metadata": {},
     "output_type": "execute_result"
    }
   ],
   "source": [
    "# 아래에 실습코드를 작성하고 결과를 확인합니다.\n",
    "bus_station.head()"
   ]
  },
  {
   "cell_type": "code",
   "execution_count": 6,
   "id": "940a114a",
   "metadata": {},
   "outputs": [],
   "source": [
    "# 아래에 실습코드를 작성하고 결과를 확인합니다.\n"
   ]
  },
  {
   "cell_type": "markdown",
   "id": "7888898f",
   "metadata": {},
   "source": [
    "#### [실습문제3] 위 데이터에서 버스정류장 위치를 구 별로 구분 하고 싶습니다.\n",
    "\n",
    "* 'bus_station' 데이터의 정보를 확인해보세요.\n",
    "\n",
    "* 어떻게 해야 할까요?? (tip! 버스정류장ARS번호의 앞 두자리가 구를 의미합니다.)\n",
    "\n",
    "* '자치구' column을 추가하여 정류장이 위치한 구 이름을 등록해주세요.\n"
   ]
  },
  {
   "cell_type": "code",
   "execution_count": 7,
   "id": "98e2fc76",
   "metadata": {},
   "outputs": [],
   "source": [
    "# bus_station에서 버스정류장ARS번호의 정보를 확인해보세요.\n"
   ]
  },
  {
   "cell_type": "code",
   "execution_count": 8,
   "id": "056437b2",
   "metadata": {},
   "outputs": [],
   "source": [
    "# 버스정류장 ARS 번호의 앞자리 2개로 새로 컬럼 생성합니다\n"
   ]
  },
  {
   "cell_type": "markdown",
   "id": "1e97c502",
   "metadata": {},
   "source": [
    "* 버스정류장 ARS 번호 - 01~25까지 앞 숫자 두개가 위치한 구를 의미\n",
    "    01. 종로구\n",
    "    02. 중구\n",
    "    03. 용산구\n",
    "    04. 성동구\n",
    "    05. 광진구\n",
    "    06. 동대문구\n",
    "    07. 중랑구\n",
    "    08. 성북구\n",
    "    09. 강북구\n",
    "    10. 도봉구\n",
    "    11. 노원구\n",
    "    12. 은평구\n",
    "    13. 서대문구\n",
    "    14. 마포구\n",
    "    15. 양천구\n",
    "    16. 강서구\n",
    "    17. 구로구\n",
    "    18. 금천구\n",
    "    19. 영등포구\n",
    "    20. 동작구\n",
    "    21. 관악구\n",
    "    22. 서초구\n",
    "    23. 강남구\n",
    "    24. 송파구\n",
    "    25. 강동구"
   ]
  },
  {
   "cell_type": "code",
   "execution_count": 7,
   "id": "e43cdae0",
   "metadata": {},
   "outputs": [],
   "source": [
    "# 구 코드를 구 이름으로 변환합니다\n"
   ]
  },
  {
   "cell_type": "code",
   "execution_count": 10,
   "id": "b118545e",
   "metadata": {},
   "outputs": [],
   "source": [
    "# 아래에 실습코드를 작성하고 결과를 확인합니다. (head, tail 등)\n"
   ]
  },
  {
   "cell_type": "markdown",
   "id": "0606db26",
   "metadata": {},
   "source": [
    "#### [실습문제4] 결측치를 처리 합시다 \n",
    "\n"
   ]
  },
  {
   "cell_type": "code",
   "execution_count": 12,
   "id": "915f766b",
   "metadata": {},
   "outputs": [],
   "source": [
    "# (가상기점),(가상종점)때문에 ARS번호가 '~'로 나오는 곳이 있습니다 확인해볼까요?\n"
   ]
  },
  {
   "cell_type": "code",
   "execution_count": 12,
   "id": "f516f562",
   "metadata": {},
   "outputs": [],
   "source": [
    "# NaN 값을 제거 하겠습니다\n"
   ]
  },
  {
   "cell_type": "code",
   "execution_count": 13,
   "id": "3e9342f9",
   "metadata": {},
   "outputs": [],
   "source": [
    "# 다시 bus_station의 정보를 확인해볼까요?\n"
   ]
  },
  {
   "cell_type": "code",
   "execution_count": 14,
   "id": "ae560474",
   "metadata": {},
   "outputs": [],
   "source": [
    "# 버스정류장ARS번호의 type을 변경해볼까요?\n"
   ]
  },
  {
   "cell_type": "markdown",
   "id": "003322b3",
   "metadata": {},
   "source": [
    "#### [실습문제5] 구별로 버스정류장이 몇 개 있는지 궁금합니다\n",
    "\n",
    "* 구별로 버스 정류장의 개수를 확인해 주세요\n"
   ]
  },
  {
   "cell_type": "code",
   "execution_count": 14,
   "id": "7b63abb7",
   "metadata": {},
   "outputs": [],
   "source": [
    "# nunique로 고유값의 갯수만 확인해볼게요\n"
   ]
  },
  {
   "cell_type": "code",
   "execution_count": 15,
   "id": "3c63d951",
   "metadata": {},
   "outputs": [],
   "source": [
    "# 강남구와 서초구에 500 개가 넘는 버스정류장이 있다는데, 확인해봅시다.\n"
   ]
  },
  {
   "cell_type": "code",
   "execution_count": 16,
   "id": "0753a1e1",
   "metadata": {},
   "outputs": [],
   "source": [
    "# 서울의 버스 정류장 데이터만 포함하고 있는 csv 파일 입니다 (서울 공공데이터 포탈)\n",
    "# https://data.seoul.go.kr/dataList/OA-15067/S/1/datasetView.do\n"
   ]
  },
  {
   "cell_type": "code",
   "execution_count": 17,
   "id": "3d26be88",
   "metadata": {},
   "outputs": [],
   "source": [
    "# 서울의 버스정류장 데이터의 정보를 확인해보세요.\n"
   ]
  },
  {
   "cell_type": "code",
   "execution_count": 20,
   "id": "e2291dc7",
   "metadata": {},
   "outputs": [],
   "source": [
    "# 데이터를 자세히 살펴볼까요?\n"
   ]
  },
  {
   "cell_type": "code",
   "execution_count": 19,
   "id": "e4f35a67",
   "metadata": {},
   "outputs": [],
   "source": [
    "# 아까 전에 네이버 지도로 확인했던 정류장ARS번호를 찾아볼까요?\n"
   ]
  },
  {
   "cell_type": "code",
   "execution_count": 21,
   "id": "d607bf62",
   "metadata": {},
   "outputs": [],
   "source": [
    "# 데이터의 컬럼명을 바꿔볼까요? (to 버스정류장ARS번호)\n"
   ]
  },
  {
   "cell_type": "code",
   "execution_count": 22,
   "id": "2e8214ec",
   "metadata": {},
   "outputs": [],
   "source": [
    "# 서울시 버스정류장 데이터와 bus_station을 합쳐볼까요? \n"
   ]
  },
  {
   "cell_type": "code",
   "execution_count": 21,
   "id": "4bcb5acf",
   "metadata": {},
   "outputs": [],
   "source": [
    "# 합쳐진 데이터를 확인해볼까요?\n"
   ]
  },
  {
   "cell_type": "code",
   "execution_count": 22,
   "id": "62dbb217",
   "metadata": {},
   "outputs": [],
   "source": [
    "# 구 별로 버스 정류장의 개수를 확인해 주세요\n"
   ]
  },
  {
   "cell_type": "code",
   "execution_count": 23,
   "id": "1fa4277b",
   "metadata": {},
   "outputs": [],
   "source": [
    "# 버스정류장ARS번호 갯수를 확인해볼까요?\n"
   ]
  },
  {
   "cell_type": "markdown",
   "id": "33564b09",
   "metadata": {},
   "source": [
    "#### [실습문제6] 구 별로 버스 노선이 몇 개나 지나가는지 궁금합니다.\n",
    "\n",
    "* 구별로 버스 노선의 개수를 확인해 주세요"
   ]
  },
  {
   "cell_type": "code",
   "execution_count": 24,
   "id": "5588cb7f",
   "metadata": {},
   "outputs": [],
   "source": [
    "# 아래에 실습코드를 작성하고 결과를 확인합니다.\n"
   ]
  },
  {
   "cell_type": "markdown",
   "id": "3666e46c",
   "metadata": {},
   "source": [
    "#### [실습문제7] 각 구별로 승차 총 승객수, 하차 총 승객수를 알아봅시다\n",
    "\n",
    "* groupby 를 활용해 봅시다."
   ]
  },
  {
   "cell_type": "code",
   "execution_count": 25,
   "id": "1cdd246f",
   "metadata": {},
   "outputs": [],
   "source": [
    "# 아래에 실습코드를 작성하고 결과를 확인합니다.\n"
   ]
  },
  {
   "cell_type": "markdown",
   "id": "a3dcb6d4",
   "metadata": {},
   "source": [
    "#### [실습문제8] 각 구별로 승차 평균 승객수, 하차 평균 승객수를 알아봅시다"
   ]
  },
  {
   "cell_type": "code",
   "execution_count": 26,
   "id": "40f73cc8",
   "metadata": {},
   "outputs": [],
   "source": [
    "# 아래에 실습코드를 작성하고 결과를 확인합니다.\n"
   ]
  },
  {
   "cell_type": "markdown",
   "id": "7f329891",
   "metadata": {},
   "source": [
    "#### [실습문제9] 데이터 프레임을 합쳐보겠습니다. "
   ]
  },
  {
   "cell_type": "code",
   "execution_count": 27,
   "id": "dc284dfd",
   "metadata": {},
   "outputs": [],
   "source": [
    "# 네 개 파일을 합쳐볼까요\n",
    "\n",
    "# seoul_bus_station_ARS\n",
    "# seoul_bus_station_line\n",
    "# seoul_bus_station_sum\n",
    "# seoul_bus_station_mean\n",
    "\n"
   ]
  },
  {
   "cell_type": "code",
   "execution_count": 28,
   "id": "0f4a0eca",
   "metadata": {},
   "outputs": [],
   "source": [
    "# column 이름을 바꿔주겠습니다.\n"
   ]
  },
  {
   "cell_type": "code",
   "execution_count": 29,
   "id": "470c3d5d",
   "metadata": {},
   "outputs": [],
   "source": [
    "# 아래에 실습코드를 작성하고 결과를 확인합니다.\n"
   ]
  },
  {
   "cell_type": "code",
   "execution_count": 30,
   "id": "97d0cc3f",
   "metadata": {},
   "outputs": [],
   "source": [
    "# 해당 데이터프레임을 'df_seoul_bus_station.csv' 파일로 저장하세요.\n"
   ]
  },
  {
   "cell_type": "markdown",
   "id": "602b8bae",
   "metadata": {},
   "source": [
    "---"
   ]
  },
  {
   "cell_type": "markdown",
   "id": "southeast-integration",
   "metadata": {},
   "source": [
    "# 3.데이터 분석하기\n",
    "+ KeyPoint : 데이터의 형태를 살펴보고 다양한 분석기법을 통해 모델링에 적합하도록 정제요소를 선별할 수 있다.\n",
    "  * 데이터들의 패턴 탐색\n",
    "  * 변수들간의 관계 파악"
   ]
  },
  {
   "cell_type": "code",
   "execution_count": 73,
   "id": "194ae01d",
   "metadata": {},
   "outputs": [],
   "source": [
    "import seaborn as sns\n",
    "import matplotlib.pyplot as plt\n",
    "\n",
    "# 시각화 한글폰트 설정\n",
    "# 맑은 고딕\n",
    "\n",
    "plt.rc('font', family='Malgun Gothic')\n",
    "sns.set(font=\"Malgun Gothic\",#\"NanumGothicCoding\", \n",
    "        rc={\"axes.unicode_minus\":False}, # 마이너스 부호 깨짐 현상 해결\n",
    "        style='darkgrid')\n",
    "\n",
    "# scipy\n",
    "import scipy.stats as spst  "
   ]
  },
  {
   "cell_type": "markdown",
   "id": "material-complex",
   "metadata": {},
   "source": [
    "#### [실습문제10] 데이터 분포 알아보기\n",
    "* 다양한 변수를 기준으로 그래프를 그려보고 인사이트를 도출해보세요."
   ]
  },
  {
   "cell_type": "code",
   "execution_count": 31,
   "id": "2a610ade",
   "metadata": {},
   "outputs": [],
   "source": [
    "# 아래에 실습코드를 작성하고 결과를 확인합니다.\n"
   ]
  },
  {
   "cell_type": "code",
   "execution_count": 75,
   "id": "d731dbb0",
   "metadata": {},
   "outputs": [],
   "source": [
    "# 아래에 실습코드를 작성하고 결과를 확인합니다.\n"
   ]
  },
  {
   "cell_type": "code",
   "execution_count": 76,
   "id": "86892a60",
   "metadata": {},
   "outputs": [],
   "source": [
    "# 위 차트를 통해 알게된 사실을 정리해봅시다.\n",
    "# 1. \n",
    "# 2.\n",
    "# 3."
   ]
  },
  {
   "cell_type": "markdown",
   "id": "ca567b34",
   "metadata": {},
   "source": [
    "---"
   ]
  }
 ],
 "metadata": {
  "kernelspec": {
   "display_name": "Python 3",
   "language": "python",
   "name": "python3"
  },
  "language_info": {
   "codemirror_mode": {
    "name": "ipython",
    "version": 3
   },
   "file_extension": ".py",
   "mimetype": "text/x-python",
   "name": "python",
   "nbconvert_exporter": "python",
   "pygments_lexer": "ipython3",
   "version": "3.9.13"
  },
  "vscode": {
   "interpreter": {
    "hash": "f08154012ddadd8e950e6e9e035c7a7b32c136e7647e9b7c77e02eb723a8bedb"
   }
  }
 },
 "nbformat": 4,
 "nbformat_minor": 5
}
