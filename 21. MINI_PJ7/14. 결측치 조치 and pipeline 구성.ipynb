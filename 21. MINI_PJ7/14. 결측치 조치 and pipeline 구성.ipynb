{
 "cells": [
  {
   "attachments": {},
   "cell_type": "markdown",
   "metadata": {
    "id": "gFjB5Wz3lX3x"
   },
   "source": [
    "# 결측치 조치 및 pipeline 구성"
   ]
  },
  {
   "attachments": {},
   "cell_type": "markdown",
   "metadata": {
    "id": "gvFaKcmP1cwc"
   },
   "source": [
    "## 1.환경준비 "
   ]
  },
  {
   "attachments": {},
   "cell_type": "markdown",
   "metadata": {
    "id": "zWYL7Ojt1i_I"
   },
   "source": [
    "### (1) 라이브러리, 함수 불러오기 "
   ]
  },
  {
   "cell_type": "code",
   "execution_count": null,
   "metadata": {
    "id": "0d2934eb-098d-4480-8818-9147e3e8eb13"
   },
   "outputs": [],
   "source": [
    "import pandas as pd\n",
    "import numpy as np\n",
    "import matplotlib.pyplot as plt\n",
    "import seaborn as sns\n",
    "\n",
    "from sklearn.model_selection import train_test_split\n",
    "from sklearn.impute import SimpleImputer, KNNImputer\n",
    "from sklearn.preprocessing import MinMaxScaler, StandardScaler"
   ]
  },
  {
   "attachments": {},
   "cell_type": "markdown",
   "metadata": {
    "id": "kxg4SHQ91lMZ"
   },
   "source": [
    "### (2) 데이터 불러오기"
   ]
  },
  {
   "cell_type": "code",
   "execution_count": null,
   "metadata": {
    "id": "29715899-12f6-440a-81b0-a3bb48996b30"
   },
   "outputs": [],
   "source": [
    "data = pd.read_csv('https://bit.ly/3FsgwkJ')\n",
    "data.head()"
   ]
  },
  {
   "cell_type": "code",
   "execution_count": null,
   "metadata": {
    "id": "gJdWeUogDsus"
   },
   "outputs": [],
   "source": [
    "data.info()"
   ]
  },
  {
   "attachments": {},
   "cell_type": "markdown",
   "metadata": {
    "id": "egZo5D-FEXSY"
   },
   "source": [
    "* test set 분리하기"
   ]
  },
  {
   "cell_type": "code",
   "execution_count": null,
   "metadata": {
    "id": "H4cUOsU2EZ2t"
   },
   "outputs": [],
   "source": [
    "data0, test = train_test_split(data, test_size = 20, random_state = 20)\n",
    "data0.shape, test.shape"
   ]
  },
  {
   "cell_type": "code",
   "execution_count": null,
   "metadata": {
    "id": "Voh_OLEO6ugY"
   },
   "outputs": [],
   "source": [
    "test"
   ]
  },
  {
   "attachments": {},
   "cell_type": "markdown",
   "metadata": {
    "id": "ebk_wcdx1zkK"
   },
   "source": [
    "## 2.데이터 전처리"
   ]
  },
  {
   "attachments": {},
   "cell_type": "markdown",
   "metadata": {
    "id": "XDfKLZPE4dvx"
   },
   "source": [
    "### (1) 불필요한 데이터 처리\n",
    "* 불필요한 정보를 제외시킵시다.\n",
    "    * Unique value (식별자) 는 모델링에서 제외시킵니다."
   ]
  },
  {
   "cell_type": "code",
   "execution_count": null,
   "metadata": {
    "id": "TCTLYGFX4uUo"
   },
   "outputs": [],
   "source": [
    "drop_cols = ['PassengerId','Ticket','Name']\n",
    "data1 = data0.drop(drop_cols, axis = 1)\n",
    "data1.head()"
   ]
  },
  {
   "attachments": {},
   "cell_type": "markdown",
   "metadata": {
    "id": "S8r-vNb9FfrA"
   },
   "source": [
    "### (2) NaN 조치1"
   ]
  },
  {
   "attachments": {},
   "cell_type": "markdown",
   "metadata": {
    "id": "qTyGGcvZrxwe"
   },
   "source": [
    "**1) 결측치 조회하기**\n",
    "* 결측치를 조회해 봅시다.\n",
    "* 어떻게 해결하는게 좋을까요? 해결 방법에 따라 적용 시점이 달라집니다."
   ]
  },
  {
   "cell_type": "code",
   "execution_count": null,
   "metadata": {
    "id": "70bRwbjnFtx9"
   },
   "outputs": [],
   "source": [
    "temp1 = pd.DataFrame(data1.isna().sum())\n",
    "temp2 = pd.DataFrame(data1.isna().sum()/data1.shape[0])\n",
    "temp3 = pd.concat([temp1, temp2], axis =1 )\n",
    "temp3.columns = ['NaN 건수', 'NaN 비율']\n",
    "temp3"
   ]
  },
  {
   "attachments": {},
   "cell_type": "markdown",
   "metadata": {
    "id": "AsLub4RRr4do"
   },
   "source": [
    "* 시각화"
   ]
  },
  {
   "cell_type": "code",
   "execution_count": null,
   "metadata": {
    "id": "ZoI6WYknr5j7"
   },
   "outputs": [],
   "source": [
    "plt.figure(figsize = (8,5))\n",
    "sns.heatmap(data0.isna())\n",
    "plt.show()"
   ]
  },
  {
   "attachments": {},
   "cell_type": "markdown",
   "metadata": {
    "id": "aEWh_8hyGlKr"
   },
   "source": [
    "* 어떻게 조치하는게 좋을까요?\n",
    "    * 삭제 \n",
    "        * 행 : 이 시점에 수행(필수)\n",
    "        * 열 : 이 시점에 수행(권장), 가변수화 전까지 수행\n",
    "    * 채우기\n",
    "        * 단일값 : 범주 - 가변수화 전까지 수행, 숫자 - 스케일링 전까지\n",
    "        * 추정값 : 스케일링 이후"
   ]
  },
  {
   "attachments": {},
   "cell_type": "markdown",
   "metadata": {
    "id": "-lUCrpFhNNEA"
   },
   "source": [
    "* 어떻게 조치 방법에 따라 처리 시점이 달라집니다.\n",
    "    * Embarked는 최빈값으로 **지금** 채우고\n",
    "    * Age는 KNNImputer로 **가변수화 후에** 채우겠습니다.\n",
    "\n",
    "* NaN 행 삭제를 결정한다면...\n",
    "    * 운영에서 NaN이 들어오면 그 역시 버리겠다는 의미 입니다. \n",
    "        * 그래도 괜찮다면...\n",
    "        * 그러나 괜찮은 상황은 별로 없을 겁니다."
   ]
  },
  {
   "attachments": {},
   "cell_type": "markdown",
   "metadata": {
    "id": "CgO0c86iKNqi"
   },
   "source": [
    "**2) 삭제**"
   ]
  },
  {
   "cell_type": "code",
   "execution_count": null,
   "metadata": {
    "id": "o8_1NmGIGxtq"
   },
   "outputs": [],
   "source": [
    "# 열 삭제(이후에는 불필요한 데이터 처리와 함께 코드를 수행합니다.)\n",
    "drop_cols = ['Cabin']\n",
    "data1 = data1.drop(drop_cols, axis = 1)\n",
    "data1.head()"
   ]
  },
  {
   "attachments": {},
   "cell_type": "markdown",
   "metadata": {
    "id": "eQUZVdFJKPpC"
   },
   "source": [
    "**3) 채우기 : 단일값**"
   ]
  },
  {
   "attachments": {},
   "cell_type": "markdown",
   "metadata": {
    "id": "PElk3hStrtIC"
   },
   "source": [
    "* SimpleImputer \n",
    "\n",
    "https://scikit-learn.org/stable/modules/generated/sklearn.impute.SimpleImputer.html"
   ]
  },
  {
   "cell_type": "code",
   "execution_count": null,
   "metadata": {
    "id": "GInY3s9VGxrS"
   },
   "outputs": [],
   "source": [
    "# 범주형 변수 : 최빈값으로 채우기\n",
    "simpute_cols = ['Embarked']\n",
    "\n",
    "# imputer 선언\n",
    "s_imputer = SimpleImputer(strategy = 'most_frequent')\n",
    "\n",
    "# fitting 및 적용\n",
    "data1[simpute_cols] = s_imputer.fit_transform(data1[simpute_cols])\n",
    "data1.isna().sum()"
   ]
  },
  {
   "attachments": {},
   "cell_type": "markdown",
   "metadata": {
    "id": "IsoBRQLesRD8"
   },
   "source": [
    "**4) 실습**\n",
    "* data1을 temp로 복사한 후에 temp['Age'] 에 대해서 평균으로 채워 봅시다."
   ]
  },
  {
   "cell_type": "code",
   "execution_count": null,
   "metadata": {
    "id": "soExVLsZsRD9"
   },
   "outputs": [],
   "source": [
    "temp = data1.copy()"
   ]
  },
  {
   "cell_type": "code",
   "execution_count": null,
   "metadata": {
    "id": "lS3n0lHlsRD9"
   },
   "outputs": [],
   "source": [
    "\n",
    "\n",
    "# imputer 선언\n",
    "temp_imputer = SimpleImputer(strategy =     )\n",
    "\n",
    "# fitting 및 적용\n",
    "      = temp_imputer.   ()\n",
    "temp.isna().sum()"
   ]
  },
  {
   "attachments": {},
   "cell_type": "markdown",
   "metadata": {
    "id": "WS3xPbXr7ALa"
   },
   "source": [
    "### (3) Feature Engineering\n",
    "* family 변수를 추가하려고 합니다. 가족과 관련된 변수가 SibSp, Parch 입니다. 이 둘을 더하고 자기(1)까지 포함시켜서 가족 수 변수를 만듭시다.\n",
    "* 그리고, SibSp, Parch 는 제거합니다."
   ]
  },
  {
   "cell_type": "code",
   "execution_count": null,
   "metadata": {
    "id": "kjH_JllN7Tyh"
   },
   "outputs": [],
   "source": [
    "data1['Family'] = data1['SibSp'] + data1['Parch'] + 1\n",
    "data1.drop(['SibSp', 'Parch'], axis = 1, inplace = True)\n",
    "data1.head()"
   ]
  },
  {
   "attachments": {},
   "cell_type": "markdown",
   "metadata": {
    "id": "NJtEw33yEGHv"
   },
   "source": [
    "### (4) 가변수화"
   ]
  },
  {
   "cell_type": "code",
   "execution_count": null,
   "metadata": {
    "collapsed": true,
    "id": "FlJjfxAzNQ-Z",
    "jupyter": {
     "outputs_hidden": true
    },
    "tags": []
   },
   "outputs": [],
   "source": [
    "cat = {'Sex':[\"female\", \"male\"]\n",
    "       , 'Embarked':[\"C\", \"Q\", \"S\"]\n",
    "       , 'Pclass':[1,2,3]}\n",
    "\n",
    "for k, v in cat.items():\n",
    "    data1[k] = pd.Categorical(data1[k], categories=v, ordered=False)\n",
    "\n",
    "data1.info()"
   ]
  },
  {
   "cell_type": "code",
   "execution_count": null,
   "metadata": {
    "id": "gXuRrHDMd-p8"
   },
   "outputs": [],
   "source": [
    "data1 = pd.get_dummies(data1, columns =cat.keys(), drop_first = True)"
   ]
  },
  {
   "attachments": {},
   "cell_type": "markdown",
   "metadata": {
    "id": "3Fq2110K5jzZ"
   },
   "source": [
    "### (5) 데이터 분할"
   ]
  },
  {
   "attachments": {},
   "cell_type": "markdown",
   "metadata": {
    "id": "PtSEkpMXj7Gr"
   },
   "source": [
    "* x, y 분할"
   ]
  },
  {
   "cell_type": "code",
   "execution_count": null,
   "metadata": {
    "id": "2bc62c05-b3ca-4e7f-a6b5-61d2efd4d309",
    "tags": []
   },
   "outputs": [],
   "source": [
    "target = 'Survived'\n",
    "x = data1.drop(target, axis = 1)\n",
    "y = data1.loc[:, target]"
   ]
  },
  {
   "attachments": {},
   "cell_type": "markdown",
   "metadata": {
    "id": "SJ72dPUwbKO3"
   },
   "source": [
    "* train, val 분할"
   ]
  },
  {
   "cell_type": "code",
   "execution_count": null,
   "metadata": {
    "id": "5b45c3c2-bc9d-4c5e-87b0-fd182d76fefd"
   },
   "outputs": [],
   "source": [
    "x_train, x_val, y_train, y_val = train_test_split(x, y, test_size = .3, random_state = 20)"
   ]
  },
  {
   "attachments": {},
   "cell_type": "markdown",
   "metadata": {
    "id": "CS15WVnCbd47"
   },
   "source": [
    "### (6) 스케일링\n",
    "\n",
    "* 스케일링이 분포를 변환시키는 것은 아닙니다.\n",
    "    * MinMaxScaler\n",
    "    * StandardScaler\n",
    "* 스케일링에 따라 성능에 차이가 조금 날 수는 있지만, 성능을 향상시키는 일반적인 방법은 아닙니다.\n",
    "* 스케일링을 데이터프레임 전체에 적용하고 나면 결과는 np.array로 나옵니다.\n",
    "    * 그대로 모델링할 수도 있고, 다시 데이터프레임으로 변환해도 좋습니다."
   ]
  },
  {
   "attachments": {},
   "cell_type": "markdown",
   "metadata": {
    "id": "yOpzSrsxQs_k"
   },
   "source": [
    "* scaler 생성 및 train에 적용"
   ]
  },
  {
   "cell_type": "code",
   "execution_count": null,
   "metadata": {
    "id": "oxUbw2UN-n1V"
   },
   "outputs": [],
   "source": [
    "x_cols = list(x_train)\n",
    "x_cols"
   ]
  },
  {
   "cell_type": "code",
   "execution_count": null,
   "metadata": {
    "id": "08672af9-07c0-4030-80b6-4eb2d8590f87"
   },
   "outputs": [],
   "source": [
    "# 선언\n",
    "scaler = MinMaxScaler()\n",
    "\n",
    "# fitting & 적용\n",
    "x_train_s = scaler.fit_transform(x_train)\n",
    "\n",
    "# (옵션) 데이터프레임 변환\n",
    "x_train_s = pd.DataFrame(x_train_s, columns = x_cols)"
   ]
  },
  {
   "attachments": {},
   "cell_type": "markdown",
   "metadata": {
    "id": "pBFGCYp1nfmz"
   },
   "source": [
    "* val에 적용"
   ]
  },
  {
   "cell_type": "code",
   "execution_count": null,
   "metadata": {
    "id": "5zBcHvLtnfm0"
   },
   "outputs": [],
   "source": [
    "# validation 적용\n",
    "x_val_s = scaler.transform(x_val)\n",
    "\n",
    "# (옵션) 데이터프레임 변환\n",
    "x_val_s = pd.DataFrame(x_val_s, columns = x_cols)"
   ]
  },
  {
   "attachments": {},
   "cell_type": "markdown",
   "metadata": {
    "id": "oIpHRXv4blvU"
   },
   "source": [
    "### (7) NaN 조치2"
   ]
  },
  {
   "attachments": {},
   "cell_type": "markdown",
   "metadata": {
    "id": "--vlRElYbsEn"
   },
   "source": [
    "* KNNImputer\n",
    "https://scikit-learn.org/stable/modules/generated/sklearn.impute.KNNImputer.html"
   ]
  },
  {
   "cell_type": "code",
   "execution_count": null,
   "metadata": {
    "id": "MvX_sF9Dn9Sj"
   },
   "outputs": [],
   "source": [
    "from sklearn.impute import KNNImputer"
   ]
  },
  {
   "cell_type": "code",
   "execution_count": null,
   "metadata": {
    "id": "7ff0bbbf-2562-4e26-91e0-bf3c43acc95f"
   },
   "outputs": [],
   "source": [
    "# 선언하기\n",
    "k_imputer = \n",
    "\n",
    "# fitting & 적용하기\n",
    "x_train_s = k_imputer.  (  )\n",
    "x_train_s = pd.DataFrame(x_train_s, columns = x_cols)"
   ]
  },
  {
   "cell_type": "code",
   "execution_count": null,
   "metadata": {
    "id": "bRekSl2gTODS"
   },
   "outputs": [],
   "source": [
    "x_train_s.isna().sum()"
   ]
  },
  {
   "attachments": {},
   "cell_type": "markdown",
   "metadata": {
    "id": "kDFEgZ0umuzU"
   },
   "source": [
    "* validation set에 적용하기"
   ]
  },
  {
   "cell_type": "code",
   "execution_count": null,
   "metadata": {
    "id": "pZZQbC97mvKw"
   },
   "outputs": [],
   "source": [
    "# validation 적용\n",
    "x_val_s = k_imputer.   (  )\n",
    "x_val_s = pd.DataFrame(x_val_s, columns = x_cols)"
   ]
  },
  {
   "cell_type": "code",
   "execution_count": null,
   "metadata": {
    "id": "I0oWcHTlTj2u"
   },
   "outputs": [],
   "source": [
    "x_val_s.isna().sum()"
   ]
  },
  {
   "attachments": {},
   "cell_type": "markdown",
   "metadata": {
    "id": "hgFT3Apj-74k"
   },
   "source": [
    "-----------------"
   ]
  },
  {
   "attachments": {},
   "cell_type": "markdown",
   "metadata": {
    "id": "bJEUJ7NNBrDC"
   },
   "source": [
    "## 3.모델링"
   ]
  },
  {
   "attachments": {},
   "cell_type": "markdown",
   "metadata": {
    "id": "AWxpQ0G8B2S0"
   },
   "source": [
    "### (1) 모델생성"
   ]
  },
  {
   "cell_type": "code",
   "execution_count": null,
   "metadata": {
    "id": "1Kfch4imB1qA"
   },
   "outputs": [],
   "source": [
    "from sklearn.tree import DecisionTreeClassifier\n",
    "from sklearn.metrics import *"
   ]
  },
  {
   "cell_type": "code",
   "execution_count": null,
   "metadata": {
    "id": "w2o06RReB1nH"
   },
   "outputs": [],
   "source": [
    "model = DecisionTreeClassifier(max_depth = 5)\n",
    "model.fit(x_train_s, y_train)"
   ]
  },
  {
   "attachments": {},
   "cell_type": "markdown",
   "metadata": {
    "id": "2_70MpmbCI0E"
   },
   "source": [
    "### (2) 검증"
   ]
  },
  {
   "cell_type": "code",
   "execution_count": null,
   "metadata": {
    "id": "WGMfHWQtB1kU"
   },
   "outputs": [],
   "source": [
    "pred = model.predict(x_val_s)"
   ]
  },
  {
   "cell_type": "code",
   "execution_count": null,
   "metadata": {
    "id": "1H7nhtKUCNaO"
   },
   "outputs": [],
   "source": [
    "print(confusion_matrix(y_val, pred))\n",
    "print(classification_report(y_val, pred))"
   ]
  },
  {
   "attachments": {},
   "cell_type": "markdown",
   "metadata": {
    "id": "exk5tsLfodSO"
   },
   "source": [
    "## 4.실습 : Data Pipeline 정리\n",
    "* 모델이 운영환경에 배포되었다고 가정합니다.\n",
    "* 이제 pipeline을 구성해 봅시다.\n",
    "* 운영에서 new data가 주어졌을 때, 어떤 절차로 파이프라인을 구성해야 할까요?"
   ]
  },
  {
   "cell_type": "code",
   "execution_count": null,
   "metadata": {
    "id": "668cb59f-069b-497a-8680-e07e22455bd7"
   },
   "outputs": [],
   "source": [
    "# new data : test\n",
    "test"
   ]
  },
  {
   "attachments": {},
   "cell_type": "markdown",
   "metadata": {
    "id": "oD0iVH-n-BJ6"
   },
   "source": [
    "### (1) 전처리 코드 정리\n",
    "* 전처리 단계에서 수행한 코드들을 아래 하나의 셀에 다 붙여 넣어봅시다.\n",
    "* 조회용 코드는 포함시키지 않습니다. "
   ]
  },
  {
   "attachments": {},
   "cell_type": "markdown",
   "metadata": {
    "id": "HwWovHNAWbbs"
   },
   "source": [
    "#### 1) 코드 그대로 붙이기"
   ]
  },
  {
   "cell_type": "code",
   "execution_count": null,
   "metadata": {
    "id": "1QpLeR-tUVFf"
   },
   "outputs": [],
   "source": [
    "# (1)불필요한 변수 삭제\n",
    "\n",
    "\n",
    "\n",
    "# (2) NaN 조치\n",
    "# 열 삭제\n",
    "\n",
    "\n",
    "\n",
    "# 최빈값으로 채우기\n",
    "\n",
    "\n",
    "\n",
    "\n",
    "# (3) FE\n",
    "\n",
    "\n",
    "\n",
    "\n",
    "# (4) 가변수화\n",
    "\n",
    "\n",
    "\n",
    "\n",
    "# (5) 데이터분할\n",
    "\n",
    "\n",
    "\n",
    "# (6) 스케일링\n",
    "\n",
    "\n",
    "\n",
    "# (7) NaN 조치2 : KNNImputer\n",
    "\n",
    "\n"
   ]
  },
  {
   "attachments": {},
   "cell_type": "markdown",
   "metadata": {
    "id": "ydblyEPGWgls"
   },
   "source": [
    "#### 2) 코드 정리\n",
    "* 붙인 후에 새로운 데이터(x)가 들어와서 적용되는 과정을 머리로 그리면서 코드를 정리해 봅시다.\n",
    "    * 동일한 작업 합치기\n",
    "    * 새로운 데이터에 적용하는 부분만 필요. (train 데이터로 fitting 하는 부분은 제거)"
   ]
  },
  {
   "cell_type": "code",
   "execution_count": null,
   "metadata": {},
   "outputs": [],
   "source": [
    "# 데이터와 상관 없이 미리 정의 되어야 할 코드\n",
    "\n"
   ]
  },
  {
   "cell_type": "code",
   "execution_count": null,
   "metadata": {
    "id": "WNuLG1wZWfsf"
   },
   "outputs": [],
   "source": [
    "# 새로운 데이터가 들어왔을 때 처리되는 절차 코드\n",
    "\n",
    "# (1)불필요한 변수 삭제\n",
    "\n",
    "\n",
    "# (2) NaN 조치\n",
    "\n",
    "\n",
    "# (3) FE\n",
    "\n",
    "\n",
    "# (4) 가변수화\n",
    "\n",
    "\n",
    "# (6) 스케일링\n",
    "\n",
    "\n",
    "# (7) NaN 조치2 : KNNImputer\n",
    "\n"
   ]
  },
  {
   "attachments": {},
   "cell_type": "markdown",
   "metadata": {
    "id": "JRmmImzQZPra"
   },
   "source": [
    "#### 3) test 데이터로 확인하기\n",
    "* 새로운 데이터란 운영환경에서 주여진 데이터라는 의미입니다.\n",
    "* 그러므로 Label(target)이 없는 상태 입니다.\n",
    "* test에서 Label을 제거한 후에 전처리 함수를 수행해 봅시다."
   ]
  },
  {
   "cell_type": "code",
   "execution_count": null,
   "metadata": {
    "id": "14kJzn9TZXUX"
   },
   "outputs": [],
   "source": [
    "temp0 = test.drop(target, axis =1)\n",
    "\n",
    "# (1)불필요한 변수 삭제\n",
    "\n",
    "\n",
    "# (2) NaN 조치\n",
    "\n",
    "\n",
    "# (3) FE\n",
    "\n",
    "\n",
    "# (4) 가변수화\n",
    "\n",
    "\n",
    "# (6) 스케일링\n",
    "\n",
    "\n",
    "# (7) NaN 조치2 : KNNImputer\n",
    "\n"
   ]
  },
  {
   "attachments": {},
   "cell_type": "markdown",
   "metadata": {
    "id": "ktCKmlWn_uFx"
   },
   "source": [
    "### (2) 전처리 함수 생성 및 테스트"
   ]
  },
  {
   "attachments": {},
   "cell_type": "markdown",
   "metadata": {
    "id": "WcXNpgsY-NLD"
   },
   "source": [
    "#### 1) 전처리 함수로 만들기\n",
    "* 정리된 코드를 복사해 놓고 함수로 만들어 봅시다.\n",
    "    * 입력으로 필요한 것은?\n",
    "    * 무엇을 출력해야 할까요?"
   ]
  },
  {
   "cell_type": "code",
   "execution_count": null,
   "metadata": {
    "id": "_x4wiPV0_XbQ"
   },
   "outputs": [],
   "source": [
    "def preprocessing(     ) :\n",
    "    # input : data, s_imputer, cat, scaler, k_imputer\n",
    "    # output : 전처리된 데이터셋\n",
    "\n",
    "    # (1)불필요한 변수 삭제\n",
    "\n",
    "\n",
    "    # (2) NaN 조치\n",
    "\n",
    "\n",
    "    # (3) FE\n",
    "\n",
    "\n",
    "    # (4) 가변수화\n",
    "\n",
    "\n",
    "    # (6) 스케일링\n",
    "\n",
    "\n",
    "    # (7) NaN 조치2 : KNNImputer\n",
    "\n",
    "\n",
    "    return x_test"
   ]
  },
  {
   "attachments": {},
   "cell_type": "markdown",
   "metadata": {
    "id": "ZyFe0AHdYbGI"
   },
   "source": [
    "#### 2) 함수 적용\n",
    "* x_test 만들기 : test에서 y(target) 제외하기"
   ]
  },
  {
   "cell_type": "code",
   "execution_count": null,
   "metadata": {},
   "outputs": [],
   "source": [
    "test.head()"
   ]
  },
  {
   "cell_type": "code",
   "execution_count": null,
   "metadata": {
    "id": "mby_zYhXDaIs"
   },
   "outputs": [],
   "source": [
    "temp0 = test.drop(target, axis =1)\n",
    "\n",
    "x_test = preprocessing(    )\n",
    "x_test.head()"
   ]
  },
  {
   "attachments": {},
   "cell_type": "markdown",
   "metadata": {
    "id": "0xZffeX2TAUn"
   },
   "source": [
    "#### 3) 예측\n",
    "* x_test 로 예측결과를 뽑습니다."
   ]
  },
  {
   "cell_type": "code",
   "execution_count": null,
   "metadata": {
    "id": "FIWjnTLdZ8R6"
   },
   "outputs": [],
   "source": [
    "model.predict(x_test)"
   ]
  },
  {
   "attachments": {},
   "cell_type": "markdown",
   "metadata": {
    "id": "PtaNPlVwaBvp"
   },
   "source": [
    "## 5.저장하기\n",
    "* joblib을 이용하여 저장합니다.\n",
    "* 새로운 세션(새로운 주피터노트북 파일)에서 새로운 데이터를 전처리 + 예측하고자 할 때 어떤 것들이 필요할까요?"
   ]
  },
  {
   "cell_type": "code",
   "execution_count": null,
   "metadata": {
    "id": "WmjSP7z9bCEE"
   },
   "outputs": [],
   "source": [
    "import joblib"
   ]
  },
  {
   "attachments": {},
   "cell_type": "markdown",
   "metadata": {
    "id": "Mmf9h_WTcBcK"
   },
   "source": [
    "### (1) 데이터"
   ]
  },
  {
   "attachments": {},
   "cell_type": "markdown",
   "metadata": {
    "id": "e96JjR46cciQ"
   },
   "source": [
    "* test 데이터"
   ]
  },
  {
   "cell_type": "code",
   "execution_count": null,
   "metadata": {
    "id": "jHjUKDDKcP4h"
   },
   "outputs": [],
   "source": [
    "joblib.dump(test, 'test.pkl')"
   ]
  },
  {
   "attachments": {},
   "cell_type": "markdown",
   "metadata": {
    "id": "oZCny85jYlGb"
   },
   "source": [
    "* x_column name"
   ]
  },
  {
   "cell_type": "code",
   "execution_count": null,
   "metadata": {
    "id": "2NLd8GGjfGZc"
   },
   "outputs": [],
   "source": [
    "# x column name\n",
    "joblib.dump(x_cols, 'x_cols.pkl')"
   ]
  },
  {
   "attachments": {},
   "cell_type": "markdown",
   "metadata": {
    "id": "TbQtm8FtYagi"
   },
   "source": [
    "* categoriy 설정"
   ]
  },
  {
   "cell_type": "code",
   "execution_count": null,
   "metadata": {
    "id": "X6wzK-5HYawH"
   },
   "outputs": [],
   "source": [
    "joblib.dump(cat, 'category_dict.pkl')"
   ]
  },
  {
   "attachments": {},
   "cell_type": "markdown",
   "metadata": {
    "id": "NwLKGEspcI7N"
   },
   "source": [
    "### (2) fitting된 함수들"
   ]
  },
  {
   "cell_type": "code",
   "execution_count": null,
   "metadata": {
    "id": "LchM5UfjcITo"
   },
   "outputs": [],
   "source": [
    "# s_imputer, scaler, k_imputer\n",
    "joblib.dump(s_imputer, 's_imputer.pkl')\n",
    "joblib.dump(scaler, 'scaler.pkl')\n",
    "joblib.dump(k_imputer, 'k_imputer.pkl')"
   ]
  },
  {
   "cell_type": "code",
   "execution_count": null,
   "metadata": {
    "id": "RV4TzUVCcibp"
   },
   "outputs": [],
   "source": [
    "# 모델\n",
    "joblib.dump(model, 'model.pkl')"
   ]
  },
  {
   "attachments": {},
   "cell_type": "markdown",
   "metadata": {
    "id": "_IxhG_l0ceyQ"
   },
   "source": [
    "### (3) 함수\n",
    "* 모듈로 저장하기(.py 파일)"
   ]
  },
  {
   "cell_type": "code",
   "execution_count": null,
   "metadata": {
    "id": "JixJDWB_ccsf"
   },
   "outputs": [],
   "source": [
    "%%writefile preprocess.py\n",
    "\n",
    "import pandas as pd\n",
    "import numpy as np\n",
    "\n",
    "def preprocessing(data, s_imputer, scaler, k_imputer, x_cols) :\n",
    "\n",
    "    drop_cols = ['PassengerId','Ticket','Name', 'Cabin']\n",
    "    data1 = data.drop(drop_cols, axis = 1)\n",
    "\n",
    "    # 칼럼추가\n",
    "    data1['Family'] = data1['SibSp'] + data1['Parch'] + 1\n",
    "    data1.drop(['SibSp', 'Parch'], axis = 1, inplace = True)\n",
    "\n",
    "    # NaN 조치 : 범주형 변수 최빈값으로 채우기\n",
    "    s_impute_cols = ['Embarked']\n",
    "    data1[s_impute_cols] = s_imputer.transform(data1[s_impute_cols])\n",
    "\n",
    "    # 가변수화\n",
    "    cat = {'Sex':[\"female\", \"male\"]\n",
    "        , 'Embarked':[\"C\", \"Q\", \"S\"]\n",
    "        , 'Pclass':[1,2,3]}\n",
    "\n",
    "    for k, v in cat.items():\n",
    "        data1[k] = pd.Categorical(data1[k], categories=v, ordered=False)\n",
    "\n",
    "    data1 = pd.get_dummies(data1, columns =cat.keys(), drop_first = 1)\n",
    "\n",
    "    # 스케일링\n",
    "    data1_s = scaler.transform(data1)\n",
    "\n",
    "    # NaN 조치\n",
    "    data1_s = k_imputer.transform(data1_s)\n",
    "    data1_s = pd.DataFrame(data1_s, columns = x_cols)\n",
    "    \n",
    "    return data1_s"
   ]
  },
  {
   "cell_type": "code",
   "execution_count": null,
   "metadata": {
    "id": "6XkVUwV9c1lx"
   },
   "outputs": [],
   "source": []
  }
 ],
 "metadata": {
  "colab": {
   "provenance": [],
   "toc_visible": true
  },
  "kernelspec": {
   "display_name": "Python 3 (ipykernel)",
   "language": "python",
   "name": "python3"
  },
  "language_info": {
   "codemirror_mode": {
    "name": "ipython",
    "version": 3
   },
   "file_extension": ".py",
   "mimetype": "text/x-python",
   "name": "python",
   "nbconvert_exporter": "python",
   "pygments_lexer": "ipython3",
   "version": "3.10.11"
  }
 },
 "nbformat": 4,
 "nbformat_minor": 4
}
