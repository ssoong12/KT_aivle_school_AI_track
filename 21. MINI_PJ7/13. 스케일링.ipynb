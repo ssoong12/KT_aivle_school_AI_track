{
 "cells": [
  {
   "attachments": {},
   "cell_type": "markdown",
   "metadata": {
    "id": "NtrU1-NV4-Yw"
   },
   "source": [
    "# 스케일링(Scaling)\n",
    "\n",
    "* 다음의 내용을 설명합니다.\n",
    "    * 표준화와 정규화 차이\n",
    "    * 스케일링 한 데이터와 안한 데이터 knn 성능 차이"
   ]
  },
  {
   "attachments": {},
   "cell_type": "markdown",
   "metadata": {
    "id": "gIN5d51gtker"
   },
   "source": [
    "## 1.환경준비"
   ]
  },
  {
   "attachments": {},
   "cell_type": "markdown",
   "metadata": {
    "id": "98K82DAxvX6I"
   },
   "source": [
    "### (1) 라이브러리 로딩"
   ]
  },
  {
   "cell_type": "code",
   "execution_count": null,
   "metadata": {
    "id": "GVvCef6A8uv6"
   },
   "outputs": [],
   "source": [
    "import pandas as pd\n",
    "import numpy as np\n",
    "import matplotlib.pyplot as plt\n",
    "import seaborn as sns\n",
    "\n",
    "from sklearn.model_selection import train_test_split\n",
    "from sklearn.metrics import *\n",
    "from sklearn.preprocessing import StandardScaler, MinMaxScaler\n",
    "from sklearn.neighbors import KNeighborsRegressor"
   ]
  },
  {
   "attachments": {},
   "cell_type": "markdown",
   "metadata": {
    "id": "6wuqykgvviCc"
   },
   "source": [
    "### (2) 데이터로딩"
   ]
  },
  {
   "cell_type": "code",
   "execution_count": null,
   "metadata": {
    "id": "Vqr7zY5r8uwC"
   },
   "outputs": [],
   "source": [
    "path = 'https://raw.githubusercontent.com/DA4BAM/dataset/master/boston.csv'\n",
    "data = pd.read_csv(path)\n",
    "data.head()"
   ]
  },
  {
   "attachments": {},
   "cell_type": "markdown",
   "metadata": {
    "id": "W07fwF8zeix4"
   },
   "source": [
    "|\t변수\t|\t설명\t|\n",
    "|----|----|\n",
    "|\tmedv\t|\t타운별 집값(중위수), **Target**\t|\n",
    "|\tcrim\t|\t범죄율\t|\n",
    "|\tzn\t|\t25,000 평방피트를 초과 거주지역 비율\t|\n",
    "|\tindus\t|\t비소매상업지역 면적 비율\t|\n",
    "|\tchas\t|\t찰스강변 위치(범주 : 강변1, 아니면 0)\t|\n",
    "|\tnox\t|\t일산화질소 농도\t|\n",
    "|\trm\t|\t주택당 방 수\t|\n",
    "|\tage\t|\t1940년 이전에 건축된 주택의 비율\t|\n",
    "|\tdis\t|\t직업센터의 거리\t|\n",
    "|\trad\t|\t방사형 고속도로까지의 거리\t|\n",
    "|\ttax\t|\t재산세율\t|\n",
    "|\tptratio\t|\t학생/교사 비율\t|\n",
    "|\tblack\t|\t인구 중 흑인 비율\t|\n",
    "|\tlstat\t|\t인구 중 하위 계층 비율\t|\n"
   ]
  },
  {
   "attachments": {},
   "cell_type": "markdown",
   "metadata": {
    "id": "tYkL0yPi5lob"
   },
   "source": [
    "## 2.데이터 전처리"
   ]
  },
  {
   "cell_type": "code",
   "execution_count": null,
   "metadata": {
    "id": "9Ptvfka1rmAK"
   },
   "outputs": [],
   "source": [
    "target = 'medv'\n",
    "x = data.drop(target, axis = 1)\n",
    "y = data.loc[:, target]\n",
    "\n",
    "x_train, x_val, y_train, y_val = train_test_split(x, y, test_size=.2\n",
    "                                                  , random_state = 20)"
   ]
  },
  {
   "attachments": {},
   "cell_type": "markdown",
   "metadata": {
    "id": "ybXddIF5rmAK"
   },
   "source": [
    "## 3.스케일링"
   ]
  },
  {
   "attachments": {},
   "cell_type": "markdown",
   "metadata": {
    "id": "xhRCEYWC537B"
   },
   "source": [
    "### (1) 정규화(Normalization)"
   ]
  },
  {
   "cell_type": "code",
   "execution_count": null,
   "metadata": {
    "id": "DLVTuIZhrmAK"
   },
   "outputs": [],
   "source": [
    "scaler = MinMaxScaler()\n",
    "x_train_n = scaler.fit_transform(x_train)\n",
    "x_val_n = scaler.transform(x_val)\n",
    "\n",
    "# 데이터프레임으로 변환하는 이유는 .describe() 메소드를 사용하기 위함 입니다.\n",
    "x_train_n = pd.DataFrame(x_train_n, columns = list(x_train))\n",
    "x_val_n = pd.DataFrame(x_val_n, columns = list(x_val))"
   ]
  },
  {
   "attachments": {},
   "cell_type": "markdown",
   "metadata": {
    "id": "xc_oYoLU595n"
   },
   "source": [
    "### (2) 표준화(Standardization)"
   ]
  },
  {
   "cell_type": "code",
   "execution_count": null,
   "metadata": {
    "id": "GrzgggOL595o"
   },
   "outputs": [],
   "source": [
    "scaler = StandardScaler()\n",
    "x_train_s = scaler.fit_transform(x_train)\n",
    "x_val_s = scaler.transform(x_val)\n",
    "\n",
    "x_train_s = pd.DataFrame(x_train_s, columns = list(x_train))\n",
    "x_val_s = pd.DataFrame(x_val_s, columns = list(x_val))"
   ]
  },
  {
   "attachments": {},
   "cell_type": "markdown",
   "metadata": {
    "id": "wj79uUDB6aMl"
   },
   "source": [
    "## 4.표준화 vs 정규화"
   ]
  },
  {
   "attachments": {},
   "cell_type": "markdown",
   "metadata": {
    "id": "caUjlesF6cuZ"
   },
   "source": [
    "### (1) 원본과 스케일링 된 데이터 비교하기\n",
    "* 위 결과에서 특별히 crim, tax, nox만 살펴보겠습니다."
   ]
  },
  {
   "cell_type": "code",
   "execution_count": null,
   "metadata": {
    "id": "fGvRHqNH64ZW"
   },
   "outputs": [],
   "source": [
    "features = ['crim', 'tax', 'nox']"
   ]
  },
  {
   "attachments": {},
   "cell_type": "markdown",
   "metadata": {
    "id": "wInLayvl7VMu"
   },
   "source": [
    "* 원본 데이터"
   ]
  },
  {
   "cell_type": "code",
   "execution_count": null,
   "metadata": {
    "id": "JwPSk4cc6gch"
   },
   "outputs": [],
   "source": [
    "# 원본데이터에서 crim, tax, nox만 뽑아서 기초통계량을 살펴보겠습니다.\n",
    "# .T는 transpose 메소드로, 행과 열의 위치를 바꾸는 일을 합니다. \n",
    "x_train[features].describe().T"
   ]
  },
  {
   "attachments": {},
   "cell_type": "markdown",
   "metadata": {
    "id": "2exOWyOE7iFu"
   },
   "source": [
    "* 정규화 데이터 기초통계량\n",
    "\n",
    "세 변수의 min은 0, max은 1로 변환되었습니다."
   ]
  },
  {
   "cell_type": "code",
   "execution_count": null,
   "metadata": {
    "id": "tkPA4Z7t6j_i"
   },
   "outputs": [],
   "source": [
    "x_train_n[features].describe().T"
   ]
  },
  {
   "attachments": {},
   "cell_type": "markdown",
   "metadata": {
    "id": "DEugjwI67skS"
   },
   "source": [
    "* 표준화 데이터 기초통계량\n",
    "\n",
    "평균은 거의 0, 표준편차는 거의 1 입니다."
   ]
  },
  {
   "cell_type": "code",
   "execution_count": null,
   "metadata": {
    "id": "onBMHoVR6ls2"
   },
   "outputs": [],
   "source": [
    "x_train_s[features].describe().T"
   ]
  },
  {
   "attachments": {},
   "cell_type": "markdown",
   "metadata": {
    "id": "c4DdBCTI5llh"
   },
   "source": [
    "* 스케일링은 분포의 모양 자체를 바꾸지는 않습니다."
   ]
  },
  {
   "attachments": {},
   "cell_type": "markdown",
   "metadata": {
    "id": "Oe7Hskc88SOD"
   },
   "source": [
    "* crim"
   ]
  },
  {
   "cell_type": "code",
   "execution_count": null,
   "metadata": {
    "id": "MgVGkQJ28T3M"
   },
   "outputs": [],
   "source": [
    "var = 'crim'\n",
    "\n",
    "plt.figure(figsize = (15,5))\n",
    "plt.subplot(1,3,1)\n",
    "plt.title('Original')\n",
    "sns.kdeplot(x_train[var])\n",
    "plt.grid()\n",
    "\n",
    "plt.subplot(1,3,2)\n",
    "plt.title('Normalization')\n",
    "sns.kdeplot(x_train_n[var])\n",
    "plt.grid()\n",
    "\n",
    "plt.subplot(1,3,3)\n",
    "plt.title('Standardization')\n",
    "sns.kdeplot(x_train_s[var])\n",
    "plt.grid()\n",
    "\n",
    "plt.tight_layout()\n",
    "plt.show()"
   ]
  },
  {
   "attachments": {},
   "cell_type": "markdown",
   "metadata": {
    "id": "Q0rej9dx85TF"
   },
   "source": [
    "* tax"
   ]
  },
  {
   "cell_type": "code",
   "execution_count": null,
   "metadata": {
    "id": "xKrAeci185TF"
   },
   "outputs": [],
   "source": [
    "var = 'tax'\n",
    "\n",
    "plt.figure(figsize = (15,5))\n",
    "plt.subplot(1,3,1)\n",
    "plt.title('Original')\n",
    "sns.kdeplot(x_train[var])\n",
    "plt.grid()\n",
    "\n",
    "plt.subplot(1,3,2)\n",
    "plt.title('Normalization')\n",
    "sns.kdeplot(x_train_n[var])\n",
    "plt.grid()\n",
    "\n",
    "plt.subplot(1,3,3)\n",
    "plt.title('Standardization')\n",
    "sns.kdeplot(x_train_s[var])\n",
    "plt.grid()\n",
    "\n",
    "plt.tight_layout()\n",
    "plt.show()"
   ]
  },
  {
   "attachments": {},
   "cell_type": "markdown",
   "metadata": {
    "id": "vOoTgUnl89GV"
   },
   "source": [
    "* nox"
   ]
  },
  {
   "cell_type": "code",
   "execution_count": null,
   "metadata": {
    "id": "Un_4ku6h89GV"
   },
   "outputs": [],
   "source": [
    "var = 'nox'\n",
    "\n",
    "plt.figure(figsize = (15,5))\n",
    "plt.subplot(1,3,1)\n",
    "plt.title('Original')\n",
    "sns.kdeplot(x_train[var])\n",
    "plt.grid()\n",
    "\n",
    "plt.subplot(1,3,2)\n",
    "plt.title('Normalization')\n",
    "sns.kdeplot(x_train_n[var])\n",
    "plt.grid()\n",
    "\n",
    "plt.subplot(1,3,3)\n",
    "plt.title('Standardization')\n",
    "sns.kdeplot(x_train_s[var])\n",
    "plt.grid()\n",
    "\n",
    "plt.tight_layout()\n",
    "plt.show()\n"
   ]
  },
  {
   "attachments": {},
   "cell_type": "markdown",
   "metadata": {
    "id": "a-LONAxl9EQV"
   },
   "source": [
    "### (2) 모델링 성능 비교\n",
    "\n",
    "* 원본, 정규화, 표준화 데이터셋에 대해서\n",
    "* k값을 증가시켜가며 모델생성, 예측, MAE 평가를 수행한 후\n",
    "* 이를 그래프로 그려 보았습니다."
   ]
  },
  {
   "cell_type": "code",
   "execution_count": null,
   "metadata": {
    "id": "Rf9T-sFk9PyJ"
   },
   "outputs": [],
   "source": [
    "k_vals = list(range(1,50))\n",
    "r1, r2, r3 = [],[],[]\n",
    "\n",
    "for k in k_vals : \n",
    "    # 모델선언\n",
    "    m1 = KNeighborsRegressor(n_neighbors = k)\n",
    "    m2 = KNeighborsRegressor(n_neighbors = k)\n",
    "    m3 = KNeighborsRegressor(n_neighbors = k)\n",
    "\n",
    "    # 학습(각 데이터로 학습하기)\n",
    "    m1.fit(x_train, y_train)\n",
    "    m2.fit(x_train_n, y_train)\n",
    "    m3.fit(x_train_s, y_train)\n",
    "\n",
    "    # 예측\n",
    "    p1 = m1.predict(x_val)\n",
    "    p2 = m2.predict(x_val_n)\n",
    "    p3 = m3.predict(x_val_s)\n",
    "\n",
    "    # 성능평가\n",
    "    r1.append(mean_absolute_error(y_val, p1))\n",
    "    r2.append(mean_absolute_error(y_val, p2))\n",
    "    r3.append(mean_absolute_error(y_val, p3))\n"
   ]
  },
  {
   "cell_type": "code",
   "execution_count": null,
   "metadata": {
    "id": "KxViyocj-Fyi"
   },
   "outputs": [],
   "source": [
    "plt.figure(figsize = (10,6))\n",
    "plt.plot(k_vals, r1, marker = '.', label = 'Original')\n",
    "plt.plot(k_vals, r2, marker = '.', label = 'Normalization')\n",
    "plt.plot(k_vals, r3, marker = '.', label = 'Standardization')\n",
    "\n",
    "plt.xlabel('k(n_neighbors)')\n",
    "plt.ylabel('mean absolute error')\n",
    "plt.grid()\n",
    "plt.legend()\n",
    "plt.show()"
   ]
  },
  {
   "attachments": {},
   "cell_type": "markdown",
   "metadata": {
    "id": "yH1cxKAXoJpo"
   },
   "source": [
    "## 5.실습\n",
    "* 원본데이터와 스케일링 된 두 데이터에 대해서 SVM으로 모델링을 수행하고 성능을 비교해 봅시다.\n",
    "* 4 - (2) 코드와 같이\n",
    "    * C 를 조금씩 조절하며 성능비교를 합시다.\n",
    "        * 범위 : 0.01 ~ 10"
   ]
  },
  {
   "cell_type": "code",
   "execution_count": null,
   "metadata": {
    "id": "G0BNXGX0oKnI"
   },
   "outputs": [],
   "source": [
    "from sklearn.svm import SVR"
   ]
  },
  {
   "cell_type": "code",
   "execution_count": null,
   "metadata": {},
   "outputs": [],
   "source": [
    "np.linspace(0.01, 10, 100)"
   ]
  },
  {
   "cell_type": "code",
   "execution_count": null,
   "metadata": {
    "id": "ObT0eY2foJgZ"
   },
   "outputs": [],
   "source": [
    "c_values = np.linspace(0.01, 10, 100)\n",
    "r1, r2, r3 = [],[],[]\n",
    "\n",
    "for c in c_values : \n",
    "    # 모델선언\n",
    "    m1 = \n",
    "    m2 = \n",
    "    m3 = \n",
    "\n",
    "    # 학습(각 데이터로 학습하기)\n",
    "    m1.fit( , )\n",
    "    m2.fit( , )\n",
    "    m3.fit( , )\n",
    "\n",
    "    # 예측\n",
    "    p1 = \n",
    "    p2 = \n",
    "    p3 = \n",
    "\n",
    "    # 성능평가\n",
    "    r1.append(mean_absolute_error(y_val, p1))\n",
    "    r2.append(mean_absolute_error(y_val, p2))\n",
    "    r3.append(mean_absolute_error(y_val, p3))\n"
   ]
  },
  {
   "cell_type": "code",
   "execution_count": null,
   "metadata": {
    "id": "CYrnr8OuoJUA"
   },
   "outputs": [],
   "source": [
    "plt.figure(figsize = (10,6))\n",
    "plt.plot(c_values, r1, marker = '.', label = 'Original')\n",
    "plt.plot(c_values, r2, marker = '.', label = 'Normalization')\n",
    "plt.plot(c_values, r3, marker = '.', label = 'Standardization')\n",
    "\n",
    "plt.xlabel('k(n_neighbors)')\n",
    "plt.ylabel('mean absolute error')\n",
    "plt.grid()\n",
    "plt.legend()\n",
    "plt.show()"
   ]
  },
  {
   "cell_type": "code",
   "execution_count": null,
   "metadata": {
    "id": "lqHoL2upW6vd"
   },
   "outputs": [],
   "source": []
  },
  {
   "cell_type": "code",
   "execution_count": null,
   "metadata": {
    "id": "eBtQhSq8W6sE"
   },
   "outputs": [],
   "source": []
  }
 ],
 "metadata": {
  "colab": {
   "provenance": [],
   "toc_visible": true
  },
  "kernelspec": {
   "display_name": "Python 3 (ipykernel)",
   "language": "python",
   "name": "python3"
  },
  "language_info": {
   "codemirror_mode": {
    "name": "ipython",
    "version": 3
   },
   "file_extension": ".py",
   "mimetype": "text/x-python",
   "name": "python",
   "nbconvert_exporter": "python",
   "pygments_lexer": "ipython3",
   "version": "3.10.9"
  }
 },
 "nbformat": 4,
 "nbformat_minor": 4
}
