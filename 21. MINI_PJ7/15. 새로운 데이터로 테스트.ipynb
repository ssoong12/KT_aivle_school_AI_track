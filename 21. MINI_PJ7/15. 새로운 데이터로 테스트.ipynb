{
 "cells": [
  {
   "attachments": {},
   "cell_type": "markdown",
   "id": "wo-iPN8Y1V5r",
   "metadata": {
    "id": "wo-iPN8Y1V5r"
   },
   "source": [
    "# 새로운 데이터로 테스트"
   ]
  },
  {
   "attachments": {},
   "cell_type": "markdown",
   "id": "gvFaKcmP1cwc",
   "metadata": {
    "id": "gvFaKcmP1cwc"
   },
   "source": [
    "## 1.환경준비 "
   ]
  },
  {
   "attachments": {},
   "cell_type": "markdown",
   "id": "zWYL7Ojt1i_I",
   "metadata": {
    "id": "zWYL7Ojt1i_I"
   },
   "source": [
    "### (1) 라이브러리, 함수 불러오기 "
   ]
  },
  {
   "cell_type": "code",
   "execution_count": null,
   "id": "0d2934eb-098d-4480-8818-9147e3e8eb13",
   "metadata": {
    "id": "0d2934eb-098d-4480-8818-9147e3e8eb13"
   },
   "outputs": [],
   "source": [
    "import pandas as pd\n",
    "import numpy as np\n",
    "import joblib"
   ]
  },
  {
   "attachments": {},
   "cell_type": "markdown",
   "id": "kxg4SHQ91lMZ",
   "metadata": {
    "id": "kxg4SHQ91lMZ"
   },
   "source": [
    "### (2) 전처리 결과물 불러오기"
   ]
  },
  {
   "attachments": {},
   "cell_type": "markdown",
   "id": "XMsSersxfPmI",
   "metadata": {
    "id": "XMsSersxfPmI"
   },
   "source": [
    "#### 1) 데이터\n",
    "* test\n",
    "* x_cols\n",
    "* cat"
   ]
  },
  {
   "cell_type": "code",
   "execution_count": null,
   "id": "29715899-12f6-440a-81b0-a3bb48996b30",
   "metadata": {
    "id": "29715899-12f6-440a-81b0-a3bb48996b30"
   },
   "outputs": [],
   "source": [
    "test = joblib.load('test.pkl')\n",
    "x_cols = joblib.load('x_cols.pkl')\n",
    "cat = joblib.load('category_dict.pkl')"
   ]
  },
  {
   "attachments": {},
   "cell_type": "markdown",
   "id": "Br53nAw4gNAD",
   "metadata": {
    "id": "Br53nAw4gNAD"
   },
   "source": [
    "#### 2) fitting된 함수\n",
    "* s_imputer, scaler, s_imputer"
   ]
  },
  {
   "cell_type": "code",
   "execution_count": null,
   "id": "gJdWeUogDsus",
   "metadata": {
    "id": "gJdWeUogDsus"
   },
   "outputs": [],
   "source": [
    "s_imputer = joblib.load('s_imputer.pkl')\n",
    "scaler = joblib.load('scaler.pkl')\n",
    "k_imputer = joblib.load('k_imputer.pkl')"
   ]
  },
  {
   "attachments": {},
   "cell_type": "markdown",
   "id": "fBIago1NgCMj",
   "metadata": {
    "id": "fBIago1NgCMj"
   },
   "source": [
    "* model"
   ]
  },
  {
   "cell_type": "code",
   "execution_count": null,
   "id": "iv-u0-UedqiB",
   "metadata": {
    "id": "iv-u0-UedqiB"
   },
   "outputs": [],
   "source": [
    "model = joblib.load('model.pkl')"
   ]
  },
  {
   "attachments": {},
   "cell_type": "markdown",
   "id": "2lEZHYPZgi88",
   "metadata": {
    "id": "2lEZHYPZgi88"
   },
   "source": [
    "#### 3) 전처리 함수 로딩"
   ]
  },
  {
   "cell_type": "code",
   "execution_count": null,
   "id": "FmJjCqIFglzT",
   "metadata": {
    "id": "FmJjCqIFglzT"
   },
   "outputs": [],
   "source": [
    "from preprocess import preprocessing"
   ]
  },
  {
   "attachments": {},
   "cell_type": "markdown",
   "id": "7qaGBAsUfwq2",
   "metadata": {
    "id": "7qaGBAsUfwq2"
   },
   "source": [
    "## 2.Test!\n",
    "* test 에서 label 제거\n",
    "* preprocessing 함수에 넣고 전처리\n",
    "* model로 예측하기"
   ]
  },
  {
   "cell_type": "code",
   "execution_count": null,
   "id": "3_GpRiw5gtwH",
   "metadata": {
    "id": "3_GpRiw5gtwH"
   },
   "outputs": [],
   "source": []
  },
  {
   "cell_type": "code",
   "execution_count": null,
   "id": "kg9IFmdNd1Du",
   "metadata": {
    "id": "kg9IFmdNd1Du"
   },
   "outputs": [],
   "source": []
  }
 ],
 "metadata": {
  "colab": {
   "provenance": [],
   "toc_visible": true
  },
  "kernelspec": {
   "display_name": "Python 3 (ipykernel)",
   "language": "python",
   "name": "python3"
  },
  "language_info": {
   "codemirror_mode": {
    "name": "ipython",
    "version": 3
   },
   "file_extension": ".py",
   "mimetype": "text/x-python",
   "name": "python",
   "nbconvert_exporter": "python",
   "pygments_lexer": "ipython3",
   "version": "3.10.9"
  }
 },
 "nbformat": 4,
 "nbformat_minor": 5
}
