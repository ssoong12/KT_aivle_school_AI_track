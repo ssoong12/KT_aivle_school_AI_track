{
 "cells": [
  {
   "attachments": {},
   "cell_type": "markdown",
   "metadata": {
    "id": "cVB9pY-v8uv5"
   },
   "source": [
    "# 모델 로딩 from mlflow\n",
    "\n",
    "----\n",
    "* 다루는 내용\n",
    "    * 모델 불러오기\n",
    "    * 특정 버전, 최근 버전 불러오기\n",
    "    * 운영 모델 불러오기\n",
    "----"
   ]
  },
  {
   "attachments": {},
   "cell_type": "markdown",
   "metadata": {
    "id": "qTa9LlwZD_aa"
   },
   "source": [
    "## 1. 환경준비"
   ]
  },
  {
   "attachments": {},
   "cell_type": "markdown",
   "metadata": {
    "id": "gIN5d51gtker"
   },
   "source": [
    "### (1) 라이브러리 Import"
   ]
  },
  {
   "attachments": {},
   "cell_type": "markdown",
   "metadata": {
    "id": "9jloJ7meLSvl"
   },
   "source": [
    "* 라이브러리 로딩"
   ]
  },
  {
   "cell_type": "code",
   "execution_count": 1,
   "metadata": {
    "id": "GVvCef6A8uv6",
    "tags": []
   },
   "outputs": [],
   "source": [
    "import pandas as pd\n",
    "import numpy as np\n",
    "import matplotlib.pyplot as plt\n",
    "import seaborn as sns\n",
    "\n",
    "import mlflow"
   ]
  },
  {
   "attachments": {},
   "cell_type": "markdown",
   "metadata": {
    "id": "ay8X_Yy-LSvm"
   },
   "source": [
    "### (2) 데이터 불러오기"
   ]
  },
  {
   "attachments": {},
   "cell_type": "markdown",
   "metadata": {
    "id": "lZoMs28MEi_n"
   },
   "source": [
    "* 카시트 판매량 데이터"
   ]
  },
  {
   "attachments": {},
   "cell_type": "markdown",
   "metadata": {
    "id": "zk45NDTSEoBh"
   },
   "source": [
    "|\t변수명\t|\t설명\t|\t구분\t|\n",
    "|----|----|----|\n",
    "|\t**Sales** \t|\t **각 지역 판매량(단위 : 1000개)**\t|\t**Target**\t|\n",
    "|\tCompPrice \t|\t지역별 경쟁사 판매가격(달러)\t|\tfeature\t|\n",
    "|\tIncome \t|\t가구당 평균 소득액(1000달러)\t|\tfeature\t|\n",
    "|\tAdvertising \t|\t 각 지역, 회사의 광고 예산(1000달러)\t|\tfeature\t|\n",
    "|\tPopulation \t|\t 지역 인구수(단위 : 1000명)\t|\tfeature\t|\n",
    "|\tPrice \t|\t 자사 지역별 판매가격(달러)\t|\tfeature\t|\n",
    "|\tShelveLoc \t|\t 진열상태(범주 : Bad, Medium, Good)\t|\tfeature\t|\n",
    "|\tAge \t|\t 지역 인구의 평균 연령\t|\tfeature\t|\n",
    "|\tEducation \t|\t 교육수준(범주 : 10~18)\t|\tfeature\t|\n",
    "|\tUrban \t|\t 매장이 도심에 있는지 여부(범주 : Yes, No)\t|\tfeature\t|\n",
    "|\tUS \t|\t 매장이 미국에 있는지 여부(범주 : Yes, No)\t|\tfeature\t|\n"
   ]
  },
  {
   "attachments": {},
   "cell_type": "markdown",
   "metadata": {
    "id": "KF3g3YrNAQLV"
   },
   "source": [
    "* 데이터 경로 : https://raw.githubusercontent.com/DA4BAM/dataset/master/Carseats.csv"
   ]
  },
  {
   "cell_type": "code",
   "execution_count": 2,
   "metadata": {
    "id": "fiiwGWqgEaa5",
    "tags": []
   },
   "outputs": [
    {
     "data": {
      "text/html": [
       "<div>\n",
       "<style scoped>\n",
       "    .dataframe tbody tr th:only-of-type {\n",
       "        vertical-align: middle;\n",
       "    }\n",
       "\n",
       "    .dataframe tbody tr th {\n",
       "        vertical-align: top;\n",
       "    }\n",
       "\n",
       "    .dataframe thead th {\n",
       "        text-align: right;\n",
       "    }\n",
       "</style>\n",
       "<table border=\"1\" class=\"dataframe\">\n",
       "  <thead>\n",
       "    <tr style=\"text-align: right;\">\n",
       "      <th></th>\n",
       "      <th>Sales</th>\n",
       "      <th>CompPrice</th>\n",
       "      <th>Income</th>\n",
       "      <th>Advertising</th>\n",
       "      <th>Population</th>\n",
       "      <th>Price</th>\n",
       "      <th>ShelveLoc</th>\n",
       "      <th>Age</th>\n",
       "      <th>Education</th>\n",
       "      <th>Urban</th>\n",
       "      <th>US</th>\n",
       "    </tr>\n",
       "  </thead>\n",
       "  <tbody>\n",
       "    <tr>\n",
       "      <th>10</th>\n",
       "      <td>9.01</td>\n",
       "      <td>121</td>\n",
       "      <td>78</td>\n",
       "      <td>9</td>\n",
       "      <td>150</td>\n",
       "      <td>100</td>\n",
       "      <td>Bad</td>\n",
       "      <td>26</td>\n",
       "      <td>10</td>\n",
       "      <td>No</td>\n",
       "      <td>Yes</td>\n",
       "    </tr>\n",
       "    <tr>\n",
       "      <th>382</th>\n",
       "      <td>4.95</td>\n",
       "      <td>121</td>\n",
       "      <td>28</td>\n",
       "      <td>19</td>\n",
       "      <td>315</td>\n",
       "      <td>121</td>\n",
       "      <td>Medium</td>\n",
       "      <td>66</td>\n",
       "      <td>14</td>\n",
       "      <td>Yes</td>\n",
       "      <td>Yes</td>\n",
       "    </tr>\n",
       "    <tr>\n",
       "      <th>374</th>\n",
       "      <td>9.44</td>\n",
       "      <td>131</td>\n",
       "      <td>47</td>\n",
       "      <td>7</td>\n",
       "      <td>90</td>\n",
       "      <td>118</td>\n",
       "      <td>Medium</td>\n",
       "      <td>47</td>\n",
       "      <td>12</td>\n",
       "      <td>Yes</td>\n",
       "      <td>Yes</td>\n",
       "    </tr>\n",
       "    <tr>\n",
       "      <th>196</th>\n",
       "      <td>4.10</td>\n",
       "      <td>130</td>\n",
       "      <td>28</td>\n",
       "      <td>6</td>\n",
       "      <td>410</td>\n",
       "      <td>133</td>\n",
       "      <td>Bad</td>\n",
       "      <td>72</td>\n",
       "      <td>16</td>\n",
       "      <td>Yes</td>\n",
       "      <td>Yes</td>\n",
       "    </tr>\n",
       "    <tr>\n",
       "      <th>47</th>\n",
       "      <td>4.38</td>\n",
       "      <td>126</td>\n",
       "      <td>98</td>\n",
       "      <td>0</td>\n",
       "      <td>173</td>\n",
       "      <td>108</td>\n",
       "      <td>Bad</td>\n",
       "      <td>55</td>\n",
       "      <td>16</td>\n",
       "      <td>Yes</td>\n",
       "      <td>No</td>\n",
       "    </tr>\n",
       "  </tbody>\n",
       "</table>\n",
       "</div>"
      ],
      "text/plain": [
       "     Sales  CompPrice  Income  Advertising  Population  Price ShelveLoc  Age   \n",
       "10    9.01        121      78            9         150    100       Bad   26  \\\n",
       "382   4.95        121      28           19         315    121    Medium   66   \n",
       "374   9.44        131      47            7          90    118    Medium   47   \n",
       "196   4.10        130      28            6         410    133       Bad   72   \n",
       "47    4.38        126      98            0         173    108       Bad   55   \n",
       "\n",
       "     Education Urban   US  \n",
       "10          10    No  Yes  \n",
       "382         14   Yes  Yes  \n",
       "374         12   Yes  Yes  \n",
       "196         16   Yes  Yes  \n",
       "47          16   Yes   No  "
      ]
     },
     "execution_count": 2,
     "metadata": {},
     "output_type": "execute_result"
    }
   ],
   "source": [
    "path = 'https://raw.githubusercontent.com/DA4BAM/dataset/master/Carseats.csv'\n",
    "carseat = pd.read_csv(path)\n",
    "test = carseat.sample(5, random_state = 20)\n",
    "test"
   ]
  },
  {
   "attachments": {},
   "cell_type": "markdown",
   "metadata": {
    "id": "pcf-5u15ZYqG",
    "tags": []
   },
   "source": [
    "## 2. 전처리 및 추적 준비"
   ]
  },
  {
   "attachments": {},
   "cell_type": "markdown",
   "metadata": {
    "id": "-N_y_wtxcYvv"
   },
   "source": [
    "### (1) 데이터 전처리"
   ]
  },
  {
   "attachments": {},
   "cell_type": "markdown",
   "metadata": {
    "id": "dp279ZAVcYvv",
    "tags": []
   },
   "source": [
    "* 데이터 준비"
   ]
  },
  {
   "cell_type": "code",
   "execution_count": 3,
   "metadata": {
    "id": "nIqNS4utcYvw"
   },
   "outputs": [],
   "source": [
    "target = 'Sales'\n",
    "x = test.drop(target, axis=1)"
   ]
  },
  {
   "attachments": {},
   "cell_type": "markdown",
   "metadata": {
    "id": "Caf9vsxemDj6"
   },
   "source": [
    "* 가변수화"
   ]
  },
  {
   "cell_type": "code",
   "execution_count": 4,
   "metadata": {
    "id": "w1Ga5GKJLSvq"
   },
   "outputs": [],
   "source": [
    "cat_cols = {'ShelveLoc':['Bad','Medium','Good']\n",
    "            , 'Education':[10,11,12,13,14,15,16,17,18]\n",
    "            , 'US':['No','Yes']\n",
    "            , 'Urban':['No','Yes']}"
   ]
  },
  {
   "cell_type": "code",
   "execution_count": 5,
   "metadata": {
    "id": "8ZcBHLh7Rmcy"
   },
   "outputs": [],
   "source": [
    "for var, values in cat_cols.items():\n",
    "    x[var] = pd.Categorical(x[var], categories = values)\n",
    "\n",
    "x = pd.get_dummies(x, columns = cat_cols.keys(), drop_first = True)    "
   ]
  },
  {
   "cell_type": "code",
   "execution_count": 6,
   "metadata": {
    "id": "y_qGCse6LSvq"
   },
   "outputs": [
    {
     "data": {
      "text/html": [
       "<div>\n",
       "<style scoped>\n",
       "    .dataframe tbody tr th:only-of-type {\n",
       "        vertical-align: middle;\n",
       "    }\n",
       "\n",
       "    .dataframe tbody tr th {\n",
       "        vertical-align: top;\n",
       "    }\n",
       "\n",
       "    .dataframe thead th {\n",
       "        text-align: right;\n",
       "    }\n",
       "</style>\n",
       "<table border=\"1\" class=\"dataframe\">\n",
       "  <thead>\n",
       "    <tr style=\"text-align: right;\">\n",
       "      <th></th>\n",
       "      <th>CompPrice</th>\n",
       "      <th>Income</th>\n",
       "      <th>Advertising</th>\n",
       "      <th>Population</th>\n",
       "      <th>Price</th>\n",
       "      <th>Age</th>\n",
       "      <th>ShelveLoc_Medium</th>\n",
       "      <th>ShelveLoc_Good</th>\n",
       "      <th>Education_11</th>\n",
       "      <th>Education_12</th>\n",
       "      <th>Education_13</th>\n",
       "      <th>Education_14</th>\n",
       "      <th>Education_15</th>\n",
       "      <th>Education_16</th>\n",
       "      <th>Education_17</th>\n",
       "      <th>Education_18</th>\n",
       "      <th>US_Yes</th>\n",
       "      <th>Urban_Yes</th>\n",
       "    </tr>\n",
       "  </thead>\n",
       "  <tbody>\n",
       "    <tr>\n",
       "      <th>10</th>\n",
       "      <td>121</td>\n",
       "      <td>78</td>\n",
       "      <td>9</td>\n",
       "      <td>150</td>\n",
       "      <td>100</td>\n",
       "      <td>26</td>\n",
       "      <td>False</td>\n",
       "      <td>False</td>\n",
       "      <td>False</td>\n",
       "      <td>False</td>\n",
       "      <td>False</td>\n",
       "      <td>False</td>\n",
       "      <td>False</td>\n",
       "      <td>False</td>\n",
       "      <td>False</td>\n",
       "      <td>False</td>\n",
       "      <td>True</td>\n",
       "      <td>False</td>\n",
       "    </tr>\n",
       "    <tr>\n",
       "      <th>382</th>\n",
       "      <td>121</td>\n",
       "      <td>28</td>\n",
       "      <td>19</td>\n",
       "      <td>315</td>\n",
       "      <td>121</td>\n",
       "      <td>66</td>\n",
       "      <td>True</td>\n",
       "      <td>False</td>\n",
       "      <td>False</td>\n",
       "      <td>False</td>\n",
       "      <td>False</td>\n",
       "      <td>True</td>\n",
       "      <td>False</td>\n",
       "      <td>False</td>\n",
       "      <td>False</td>\n",
       "      <td>False</td>\n",
       "      <td>True</td>\n",
       "      <td>True</td>\n",
       "    </tr>\n",
       "    <tr>\n",
       "      <th>374</th>\n",
       "      <td>131</td>\n",
       "      <td>47</td>\n",
       "      <td>7</td>\n",
       "      <td>90</td>\n",
       "      <td>118</td>\n",
       "      <td>47</td>\n",
       "      <td>True</td>\n",
       "      <td>False</td>\n",
       "      <td>False</td>\n",
       "      <td>True</td>\n",
       "      <td>False</td>\n",
       "      <td>False</td>\n",
       "      <td>False</td>\n",
       "      <td>False</td>\n",
       "      <td>False</td>\n",
       "      <td>False</td>\n",
       "      <td>True</td>\n",
       "      <td>True</td>\n",
       "    </tr>\n",
       "    <tr>\n",
       "      <th>196</th>\n",
       "      <td>130</td>\n",
       "      <td>28</td>\n",
       "      <td>6</td>\n",
       "      <td>410</td>\n",
       "      <td>133</td>\n",
       "      <td>72</td>\n",
       "      <td>False</td>\n",
       "      <td>False</td>\n",
       "      <td>False</td>\n",
       "      <td>False</td>\n",
       "      <td>False</td>\n",
       "      <td>False</td>\n",
       "      <td>False</td>\n",
       "      <td>True</td>\n",
       "      <td>False</td>\n",
       "      <td>False</td>\n",
       "      <td>True</td>\n",
       "      <td>True</td>\n",
       "    </tr>\n",
       "    <tr>\n",
       "      <th>47</th>\n",
       "      <td>126</td>\n",
       "      <td>98</td>\n",
       "      <td>0</td>\n",
       "      <td>173</td>\n",
       "      <td>108</td>\n",
       "      <td>55</td>\n",
       "      <td>False</td>\n",
       "      <td>False</td>\n",
       "      <td>False</td>\n",
       "      <td>False</td>\n",
       "      <td>False</td>\n",
       "      <td>False</td>\n",
       "      <td>False</td>\n",
       "      <td>True</td>\n",
       "      <td>False</td>\n",
       "      <td>False</td>\n",
       "      <td>False</td>\n",
       "      <td>True</td>\n",
       "    </tr>\n",
       "  </tbody>\n",
       "</table>\n",
       "</div>"
      ],
      "text/plain": [
       "     CompPrice  Income  Advertising  Population  Price  Age  ShelveLoc_Medium   \n",
       "10         121      78            9         150    100   26             False  \\\n",
       "382        121      28           19         315    121   66              True   \n",
       "374        131      47            7          90    118   47              True   \n",
       "196        130      28            6         410    133   72             False   \n",
       "47         126      98            0         173    108   55             False   \n",
       "\n",
       "     ShelveLoc_Good  Education_11  Education_12  Education_13  Education_14   \n",
       "10            False         False         False         False         False  \\\n",
       "382           False         False         False         False          True   \n",
       "374           False         False          True         False         False   \n",
       "196           False         False         False         False         False   \n",
       "47            False         False         False         False         False   \n",
       "\n",
       "     Education_15  Education_16  Education_17  Education_18  US_Yes  Urban_Yes  \n",
       "10          False         False         False         False    True      False  \n",
       "382         False         False         False         False    True       True  \n",
       "374         False         False         False         False    True       True  \n",
       "196         False          True         False         False    True       True  \n",
       "47          False          True         False         False   False       True  "
      ]
     },
     "execution_count": 6,
     "metadata": {},
     "output_type": "execute_result"
    }
   ],
   "source": [
    "x"
   ]
  },
  {
   "attachments": {},
   "cell_type": "markdown",
   "metadata": {
    "id": "l5S86AkHLSvr"
   },
   "source": [
    "### (2) Tracking 준비\n",
    "* mlflow uri를 setting 해야 모델 로딩도 가능합니다."
   ]
  },
  {
   "cell_type": "code",
   "execution_count": 7,
   "metadata": {
    "id": "VlwdVjUTLSvr"
   },
   "outputs": [],
   "source": [
    "mlflow_uri = \"sqlite:///mlflow.db\"\n",
    "mlflow.set_tracking_uri(mlflow_uri)"
   ]
  },
  {
   "attachments": {},
   "cell_type": "markdown",
   "metadata": {
    "id": "iCTwulQHyHyc",
    "tags": []
   },
   "source": [
    "## 3. model loading"
   ]
  },
  {
   "attachments": {},
   "cell_type": "markdown",
   "metadata": {
    "id": "VTxrd6RkLSvr",
    "tags": []
   },
   "source": [
    "* 각 버전별 불러오기"
   ]
  },
  {
   "cell_type": "code",
   "execution_count": 8,
   "metadata": {
    "id": "fJ1Ut8LILSvr",
    "tags": []
   },
   "outputs": [],
   "source": [
    "# 버전으로 가져오기\n",
    "model_uri = \"models:/CarSeat/1\" \n",
    "model1 = mlflow.sklearn.load_model(model_uri)\n",
    "\n",
    "# 최신버전으로 가져오기\n",
    "model_uri = \"models:/CarSeat/latest\" \n",
    "model2 = mlflow.sklearn.load_model(model_uri)\n",
    "\n",
    "# 운영중인 버전 가져오기\n",
    "model_uri = \"models:/CarSeat/production\" \n",
    "model3 = mlflow.sklearn.load_model(model_uri)"
   ]
  },
  {
   "cell_type": "code",
   "execution_count": 9,
   "metadata": {
    "id": "05mW-YLPLSvs"
   },
   "outputs": [
    {
     "data": {
      "text/plain": [
       "array([8.0903, 6.9888, 7.0077, 4.1923, 5.8295])"
      ]
     },
     "execution_count": 9,
     "metadata": {},
     "output_type": "execute_result"
    }
   ],
   "source": [
    "model1.predict(x)"
   ]
  },
  {
   "cell_type": "code",
   "execution_count": 10,
   "metadata": {
    "id": "tfcvS4Q-LSvs"
   },
   "outputs": [
    {
     "data": {
      "text/plain": [
       "array([8.38283529, 6.66174308, 7.52758103, 2.66492697, 5.87916672])"
      ]
     },
     "execution_count": 10,
     "metadata": {},
     "output_type": "execute_result"
    }
   ],
   "source": [
    "model2.predict(x)"
   ]
  },
  {
   "cell_type": "code",
   "execution_count": 11,
   "metadata": {
    "id": "_l9y-StgLSvs"
   },
   "outputs": [
    {
     "data": {
      "text/plain": [
       "array([8.38283529, 6.66174308, 7.52758103, 2.66492697, 5.87916672])"
      ]
     },
     "execution_count": 11,
     "metadata": {},
     "output_type": "execute_result"
    }
   ],
   "source": [
    "model3.predict(x)"
   ]
  },
  {
   "attachments": {},
   "cell_type": "markdown",
   "metadata": {},
   "source": [
    "- 모델이 다 다르니까 결과도 다 다르다."
   ]
  },
  {
   "attachments": {},
   "cell_type": "markdown",
   "metadata": {
    "id": "kZFCigmcK-XF"
   },
   "source": [
    "## 4. 실습\n",
    "* 실습을 해 봅시다."
   ]
  },
  {
   "cell_type": "code",
   "execution_count": null,
   "metadata": {
    "id": "fF4KUYncNJ9T"
   },
   "outputs": [],
   "source": [
    "import joblib"
   ]
  },
  {
   "attachments": {},
   "cell_type": "markdown",
   "metadata": {
    "id": "U6-zchjMK-XG"
   },
   "source": [
    "### (1) 데이터 준비"
   ]
  },
  {
   "attachments": {},
   "cell_type": "markdown",
   "metadata": {
    "id": "ncRx1xdgK-XG"
   },
   "source": [
    "* 데이터 로딩"
   ]
  },
  {
   "cell_type": "code",
   "execution_count": null,
   "metadata": {
    "id": "a3EUxB9oK-XG"
   },
   "outputs": [],
   "source": [
    "x_test = joblib.load('x_test.pkl')\n",
    "x_test_s = joblib.load('x_test_s.pkl')\n",
    "y_test = joblib.load('y_test.pkl')"
   ]
  },
  {
   "attachments": {},
   "cell_type": "markdown",
   "metadata": {
    "id": "aLjh6887K-XG"
   },
   "source": [
    "| 칼럼명 | 설명 | | 값 의미 |  \n",
    "|-----|-----|-----|-----|\n",
    "|\tCreditability\t|\tCreditability(Target)\t|\t향후 신용도\t|\t0 : Bad, 1 : Good\t|\n",
    "|\tAccountBalance\t|\tAccount Balance\t|\t은행잔고\t|\t1: No account, 2 : None (No balance), 3 : Some Balance\t|\n",
    "|\tCreditDuration\t|\tDuration of Credit (month)\t|\t신청한 대출기간(월)\t|\t숫자\t|\n",
    "|\tPayment\t|\tPayment Status of Previous Credit\t|\t과거 대출 납입 상태\t|\t0 : 연체, 1 : 기타신용, 2 : 완납, 3 : 정상 대출상환 중 |\n",
    "|\tPurpose\t|\tPurpose\t|\t신청한 대출목적\t|\t1 : New Car , 2 : Used Car , 3 : Furniture , 4 : TV , 5 : Appliances , 6 : Repair , 8 : Vacation , 9 :Retraining , 10 : Business , 0 : Other\t|\n",
    "|\tCreditAmount\t|\tCredit Amount($)\t|\t신청한 대출금액\t|\t\t|\n",
    "|\tEmployment\t|\tLength of current employment(Month)\t|\t현 직업 근무 기간\t|\t1: Unemployed,  2: <1 Year,  3: [1, 4),  4: [4, 7),  5: Above 7\t|\n",
    "|\tSexMarital\t|\tSex & Marital Status\t|\t성별 & 결혼상태\t|\t1: Male, Divorced, 2: Male, Single , 3: Male, Married/Widowed , 4: Female\t|\n",
    "|\tCurrentAddress\t|\tDuration in Current address\t|\t현 거주지 거주기간\t|\t1: <1 Year , 2: [1, 4) , 3: [4, 7) , 4: Above 7\t|\n",
    "|\tMostValuable\t|\tMost valuable available asset\t|\t가장 가치있는 자산\t|\t1: None , 2: Car , 3: Life Insurance , 4: Real Estate\t|\n",
    "|\tAge\t|\tAge (years)\t|\t나이\t|\t\t|\n",
    "|\tAppartmentType\t|\tType of apartment\t|\t주거환경\t|\t1: free apartment, 2: Rented, 3: Owned\t|\n",
    "|\tNoCredits\t|\tNo of Credits at this Bank\t|\t현재 총 대출 건수\t|\t1 : one, 2 : 2 ~ 3, 3 : 4 ~ 5, 4 : 6 ~\t|\n",
    "|\tOccupation\t|\tOccupation\t|\t직업\t|\t1: Unemployed, unskilled, 2: Unskilled Permanent Resident, 3: Skilled, 4: Executive\t|\n"
   ]
  },
  {
   "attachments": {},
   "cell_type": "markdown",
   "metadata": {
    "id": "slwwIuqHK-XI"
   },
   "source": [
    "### (2) mlflow ui 모델 관리\n",
    "* 성능을 비교하고 가장 성능이 좋은 모델을 production으로 지정"
   ]
  },
  {
   "attachments": {},
   "cell_type": "markdown",
   "metadata": {
    "id": "eOJ27DgXOZbw"
   },
   "source": [
    "### (3) production 모델 로딩"
   ]
  },
  {
   "cell_type": "code",
   "execution_count": null,
   "metadata": {
    "id": "7U9jWhI1K-XI"
   },
   "outputs": [],
   "source": [
    "model_uri = \"  \" \n",
    "model_credit = mlflow."
   ]
  },
  {
   "attachments": {},
   "cell_type": "markdown",
   "metadata": {
    "id": "CSa7M1mzLSvs",
    "tags": []
   },
   "source": [
    "### (4) 테스트 데이터로 예측하기"
   ]
  },
  {
   "cell_type": "code",
   "execution_count": null,
   "metadata": {
    "id": "nvpKwtk2Ohh9"
   },
   "outputs": [],
   "source": [
    "model_credit.predict(   )"
   ]
  }
 ],
 "metadata": {
  "colab": {
   "provenance": [],
   "toc_visible": true
  },
  "kernelspec": {
   "display_name": "Python 3 (ipykernel)",
   "language": "python",
   "name": "python3"
  },
  "language_info": {
   "codemirror_mode": {
    "name": "ipython",
    "version": 3
   },
   "file_extension": ".py",
   "mimetype": "text/x-python",
   "name": "python",
   "nbconvert_exporter": "python",
   "pygments_lexer": "ipython3",
   "version": "3.10.11"
  },
  "toc-autonumbering": false
 },
 "nbformat": 4,
 "nbformat_minor": 4
}
