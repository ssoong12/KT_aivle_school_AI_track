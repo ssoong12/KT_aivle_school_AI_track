{
 "cells": [
  {
   "cell_type": "markdown",
   "metadata": {},
   "source": [
    "# **미니프로젝트 4차 1대1 문의 내용 유형 분류기**\n",
    "# 단계3 : Text classification\n",
    "\n",
    "### 문제 정의\n",
    "> 1:1 문의 내용 분류 문제<br>\n",
    "> 1. 문의 내용 분석\n",
    "> 2. 문의 내용 분류 모델 성능 평가\n",
    "### 학습 데이터\n",
    "> * 1:1 문의 내용 데이터 : train.csv\n",
    "\n",
    "### 변수 소개\n",
    "> * text : 문의 내용\n",
    "> * label : 문의 유형\n",
    "\n",
    "### References\n",
    "> * Machine Learning\n",
    ">> * [sklearn-tutorial](https://scikit-learn.org/stable/tutorial/text_analytics/working_with_text_data.html)\n",
    "> * Deep Learning\n",
    ">> * [Google Tutorial](https://developers.google.com/machine-learning/guides/text-classification)\n",
    ">> * [Tensorflow Tutorial](https://www.tensorflow.org/tutorials/keras/text_classification)\n",
    ">> * [Keras-tutorial](https://keras.io/examples/nlp/text_classification_from_scratch/)\n",
    ">> * [BERT-tutorial](https://www.tensorflow.org/text/guide/bert_preprocessing_guide)"
   ]
  },
  {
   "cell_type": "markdown",
   "metadata": {
    "id": "FlRWJB2w6Ip6"
   },
   "source": [
    "## 1. 개발 환경 설정"
   ]
  },
  {
   "cell_type": "markdown",
   "metadata": {},
   "source": [
    "### 1-1. 라이브러리 설치"
   ]
  },
  {
   "cell_type": "code",
   "execution_count": null,
   "metadata": {},
   "outputs": [],
   "source": [
    "# 필요 라이브러리부터 설치할께요.\n",
    "!pip install konlpy pandas seaborn gensim wordcloud python-mecab-ko wget"
   ]
  },
  {
   "cell_type": "markdown",
   "metadata": {},
   "source": [
    "### 1-2. 라이브러리 import"
   ]
  },
  {
   "cell_type": "code",
   "execution_count": 1,
   "metadata": {},
   "outputs": [],
   "source": [
    "from mecab import MeCab\n",
    "import numpy as np\n",
    "import matplotlib.pyplot as plt\n",
    "import seaborn as sns\n",
    "import wget,os\n",
    "from IPython.display import display\n",
    "import matplotlib.pyplot as plt\n",
    "import pandas as pd\n",
    "import matplotlib.font_manager as fm\n",
    "import matplotlib.pyplot as plt\n",
    "import tensorflow as tf\n",
    "import nltk\n",
    "import wget,os"
   ]
  },
  {
   "cell_type": "markdown",
   "metadata": {},
   "source": [
    "### 1-3. 한글 글꼴 설정(Windows)"
   ]
  },
  {
   "cell_type": "code",
   "execution_count": null,
   "metadata": {},
   "outputs": [],
   "source": [
    "if not os.path.exists(\"malgun.ttf\"): \n",
    "    wget.download(\"https://www.wfonts.com/download/data/2016/06/13/malgun-gothic/malgun.ttf\")\n",
    "if 'malgun' not in fm.fontManager.findfont(\"Malgun Gothic\"):\n",
    "    fm.fontManager.addfont(\"malgun.ttf\")\n",
    "if plt.rcParams['font.family']!= [\"Malgun Gothic\"]:\n",
    "    plt.rcParams['font.family']= [font for font in fm.fontManager.ttflist if 'malgun.ttf' in font.fname][-1].name\n",
    "plt.rcParams['axes.unicode_minus'] = False #한글 폰트 사용시 마이너스 폰트 깨짐 해결\n",
    "assert plt.rcParams['font.family'] == [\"Malgun Gothic\"], \"한글 폰트가 설정되지 않았습니다.\"\n",
    "FONT_PATH = \"malgun.ttf\""
   ]
  },
  {
   "cell_type": "code",
   "execution_count": null,
   "metadata": {},
   "outputs": [],
   "source": [
    "!sudo apt-get install -y fonts-nanum"
   ]
  },
  {
   "cell_type": "markdown",
   "metadata": {},
   "source": [
    "### 1-4. 자바 경로 설정(Windows)"
   ]
  },
  {
   "cell_type": "code",
   "execution_count": null,
   "metadata": {},
   "outputs": [],
   "source": [
    "os.environ['JAVA_HOME'] = \"C:\\Program Files\\Java\\jdk-19\""
   ]
  },
  {
   "cell_type": "markdown",
   "metadata": {},
   "source": [
    "### 1-3. 한글 글꼴 설정(Colab)"
   ]
  },
  {
   "cell_type": "code",
   "execution_count": null,
   "metadata": {},
   "outputs": [],
   "source": [
    "!sudo apt-get install -y fonts-nanum"
   ]
  },
  {
   "cell_type": "code",
   "execution_count": null,
   "metadata": {},
   "outputs": [],
   "source": [
    "FONT_PATH = '/usr/share/fonts/truetype/nanum/NanumGothic.ttf'\n",
    "font_name = fm.FontProperties(fname=FONT_PATH, size=10).get_name()\n",
    "print(font_name)\n",
    "plt.rcParams['font.family']=font_name\n",
    "assert plt.rcParams['font.family'] == [font_name], \"한글 폰트가 설정되지 않았습니다.\""
   ]
  },
  {
   "cell_type": "markdown",
   "metadata": {},
   "source": [
    "### 1-4. 구글드라이브 연결(Colab)"
   ]
  },
  {
   "cell_type": "code",
   "execution_count": null,
   "metadata": {},
   "outputs": [],
   "source": [
    "from google.colab import drive\n",
    "drive.mount('/content/drive')"
   ]
  },
  {
   "cell_type": "markdown",
   "metadata": {},
   "source": [
    "## 2. 전처리한 데이터 불러오기\n",
    "* 1, 2일차에 전처리한 데이터를 불러옵니다.\n",
    "* sparse data에 대해서는 scipy.sparse.load_npz 활용"
   ]
  },
  {
   "cell_type": "code",
   "execution_count": null,
   "metadata": {},
   "outputs": [],
   "source": []
  },
  {
   "cell_type": "markdown",
   "metadata": {},
   "source": [
    "## 3. Machine Learning(N-grams)\n",
    "* N-gram으로 전처리한 데이터를 이용하여 3개 이상의 Machine Learning 모델 학습 및 성능 분석\n",
    "> * [sklearn-tutorial](https://scikit-learn.org/stable/tutorial/text_analytics/working_with_text_data.html)"
   ]
  },
  {
   "cell_type": "markdown",
   "metadata": {},
   "source": [
    "### 3-1. Model 1"
   ]
  },
  {
   "cell_type": "code",
   "execution_count": null,
   "metadata": {},
   "outputs": [],
   "source": []
  },
  {
   "cell_type": "markdown",
   "metadata": {},
   "source": [
    "### 3-2. Model 2"
   ]
  },
  {
   "cell_type": "code",
   "execution_count": null,
   "metadata": {},
   "outputs": [],
   "source": []
  },
  {
   "cell_type": "markdown",
   "metadata": {},
   "source": [
    "### 3-3. Model 3"
   ]
  },
  {
   "cell_type": "code",
   "execution_count": null,
   "metadata": {},
   "outputs": [],
   "source": []
  },
  {
   "cell_type": "markdown",
   "metadata": {},
   "source": [
    "### 3-4. Hyperparameter Tuning(Optional) \n",
    "* Manual Search, Grid search, Bayesian Optimization, TPE...\n",
    "> * [grid search tutorial sklearn](https://scikit-learn.org/stable/modules/grid_search.html)\n",
    "> * [optuna tutorial](https://optuna.org/#code_examples)\n",
    "> * [ray-tune tutorial](https://docs.ray.io/en/latest/tune/examples/tune-sklearn.html)"
   ]
  },
  {
   "cell_type": "code",
   "execution_count": null,
   "metadata": {},
   "outputs": [],
   "source": []
  },
  {
   "cell_type": "markdown",
   "metadata": {},
   "source": [
    "## 4. Deep Learning(Sequence)\n",
    "* Sequence로 전처리한 데이터를 이용하여 DNN, 1-D CNN, LSTM 등 3가지 이상의 deep learning 모델 학습 및 성능 분석\n",
    "> * [Google Tutorial](https://developers.google.com/machine-learning/guides/text-classification)\n",
    "> * [Tensorflow Tutorial](https://www.tensorflow.org/tutorials/keras/text_classification)\n",
    "> * [Keras-tutorial](https://keras.io/examples/nlp/text_classification_from_scratch/)"
   ]
  },
  {
   "cell_type": "markdown",
   "metadata": {},
   "source": [
    "### 4-1. DNN"
   ]
  },
  {
   "cell_type": "code",
   "execution_count": null,
   "metadata": {},
   "outputs": [],
   "source": []
  },
  {
   "cell_type": "markdown",
   "metadata": {},
   "source": [
    "### 4-2. 1-D CNN"
   ]
  },
  {
   "cell_type": "code",
   "execution_count": null,
   "metadata": {},
   "outputs": [],
   "source": []
  },
  {
   "cell_type": "markdown",
   "metadata": {},
   "source": [
    "### 4-3. LSTM"
   ]
  },
  {
   "cell_type": "code",
   "execution_count": null,
   "metadata": {},
   "outputs": [],
   "source": []
  },
  {
   "cell_type": "markdown",
   "metadata": {},
   "source": [
    "## 5. Using pre-trained model(Optional)\n",
    "* 한국어 pre-trained model로 fine tuning 및 성능 분석\n",
    "> * [BERT-tutorial](https://www.tensorflow.org/text/guide/bert_preprocessing_guide)\n",
    "> * [HuggingFace-Korean](https://huggingface.co/models?language=korean)"
   ]
  },
  {
   "cell_type": "code",
   "execution_count": null,
   "metadata": {},
   "outputs": [],
   "source": []
  }
 ],
 "metadata": {
  "colab": {
   "provenance": []
  },
  "kernelspec": {
   "display_name": "Python 3",
   "language": "python",
   "name": "python3"
  },
  "language_info": {
   "codemirror_mode": {
    "name": "ipython",
    "version": 3
   },
   "file_extension": ".py",
   "mimetype": "text/x-python",
   "name": "python",
   "nbconvert_exporter": "python",
   "pygments_lexer": "ipython3",
   "version": "3.8.8"
  }
 },
 "nbformat": 4,
 "nbformat_minor": 1
}
